{
 "cells": [
  {
   "cell_type": "code",
   "execution_count": 4,
   "id": "a358813c",
   "metadata": {},
   "outputs": [
    {
     "name": "stdout",
     "output_type": "stream",
     "text": [
      "8160.0\n"
     ]
    }
   ],
   "source": [
    "# Question 1:\n",
    "initial_investment = 400\n",
    "interest_rate = 0.02\n",
    "compunded_per_year = 1\n",
    "number_years = 20\n",
    "amount = initial_investment * (1+interest_rate/compunded_per_year)**compunded_per_year*number_years\n",
    "print(amount)"
   ]
  },
  {
   "cell_type": "code",
   "execution_count": 5,
   "id": "6742b9a3",
   "metadata": {},
   "outputs": [
    {
     "name": "stdout",
     "output_type": "stream",
     "text": [
      "159.0\n"
     ]
    }
   ],
   "source": [
    "# Question 3:\n",
    "initial_investment = 300\n",
    "interest_rate = 0.06\n",
    "compunded_per_year = 1\n",
    "number_years = 0.5\n",
    "amount = initial_investment * (1+interest_rate/compunded_per_year)**compunded_per_year*number_years\n",
    "print(amount)"
   ]
  },
  {
   "cell_type": "code",
   "execution_count": 13,
   "id": "9a1606a7",
   "metadata": {},
   "outputs": [
    {
     "name": "stdout",
     "output_type": "stream",
     "text": [
      "120.4\n"
     ]
    }
   ],
   "source": [
    "# Question 2:\n",
    "initial_investment = 140\n",
    "interest_rate = 0.14\n",
    "number_years = 1\n",
    "amount = initial_investment * (interest_rate * number_years)\n",
    "print(initial_investment-amount)"
   ]
  },
  {
   "cell_type": "code",
   "execution_count": 9,
   "id": "034cfc01",
   "metadata": {
    "scrolled": true
   },
   "outputs": [
    {
     "name": "stdout",
     "output_type": "stream",
     "text": [
      "975.0\n"
     ]
    }
   ],
   "source": [
    "# Question 4:\n",
    "two_weeks = 850*0.03 + 120* 0.10\n",
    "print(two_weeks * 26)"
   ]
  },
  {
   "cell_type": "code",
   "execution_count": 18,
   "id": "13c6f16b",
   "metadata": {},
   "outputs": [
    {
     "name": "stdout",
     "output_type": "stream",
     "text": [
      "1288.05\n"
     ]
    }
   ],
   "source": [
    "# Question 6: \n",
    "initial_investment = 1385\n",
    "interest_rate = 0.07\n",
    "number_weeks = 1\n",
    "amount = initial_investment * (interest_rate * number_weeks)\n",
    "print(initial_investment-amount)"
   ]
  },
  {
   "cell_type": "code",
   "execution_count": 23,
   "id": "9fe134d7",
   "metadata": {},
   "outputs": [
    {
     "name": "stdout",
     "output_type": "stream",
     "text": [
      "12.5\n"
     ]
    }
   ],
   "source": [
    "# Question 5:\n",
    "print(50/400 * 100)"
   ]
  },
  {
   "cell_type": "code",
   "execution_count": null,
   "id": "7c6a9b2e",
   "metadata": {},
   "outputs": [],
   "source": []
  }
 ],
 "metadata": {
  "kernelspec": {
   "display_name": "Python 3 (ipykernel)",
   "language": "python",
   "name": "python3"
  },
  "language_info": {
   "codemirror_mode": {
    "name": "ipython",
    "version": 3
   },
   "file_extension": ".py",
   "mimetype": "text/x-python",
   "name": "python",
   "nbconvert_exporter": "python",
   "pygments_lexer": "ipython3",
   "version": "3.9.12"
  }
 },
 "nbformat": 4,
 "nbformat_minor": 5
}
