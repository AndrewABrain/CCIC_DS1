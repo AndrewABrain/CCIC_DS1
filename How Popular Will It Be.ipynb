{
 "cells": [
  {
   "cell_type": "code",
   "execution_count": 1,
   "id": "ea12c793",
   "metadata": {},
   "outputs": [],
   "source": [
    "import pandas as pd\n",
    "import seaborn as sns\n",
    "import random"
   ]
  },
  {
   "cell_type": "code",
   "execution_count": 2,
   "id": "e58b3208",
   "metadata": {},
   "outputs": [],
   "source": [
    "df = pd.read_csv(\"Spotify - Data.csv\")"
   ]
  },
  {
   "cell_type": "code",
   "execution_count": 3,
   "id": "5d975f55",
   "metadata": {},
   "outputs": [
    {
     "name": "stdout",
     "output_type": "stream",
     "text": [
      "<class 'pandas.core.frame.DataFrame'>\n",
      "RangeIndex: 2000 entries, 0 to 1999\n",
      "Data columns (total 16 columns):\n",
      " #   Column            Non-Null Count  Dtype  \n",
      "---  ------            --------------  -----  \n",
      " 0   artist            2000 non-null   object \n",
      " 1   song              2000 non-null   object \n",
      " 2   duration          2000 non-null   int64  \n",
      " 3   year              2000 non-null   int64  \n",
      " 4   popularity        2000 non-null   int64  \n",
      " 5   danceability      2000 non-null   float64\n",
      " 6   energy            2000 non-null   float64\n",
      " 7   key               2000 non-null   int64  \n",
      " 8   loudness          2000 non-null   float64\n",
      " 9   mode              2000 non-null   int64  \n",
      " 10  speechiness       2000 non-null   float64\n",
      " 11  acousticness      2000 non-null   float64\n",
      " 12  instrumentalness  2000 non-null   float64\n",
      " 13  liveness          2000 non-null   float64\n",
      " 14  valence           2000 non-null   float64\n",
      " 15  tempo             2000 non-null   float64\n",
      "dtypes: float64(9), int64(5), object(2)\n",
      "memory usage: 250.1+ KB\n"
     ]
    }
   ],
   "source": [
    "df.info()"
   ]
  },
  {
   "cell_type": "code",
   "execution_count": 4,
   "id": "cbdbb557",
   "metadata": {
    "scrolled": true
   },
   "outputs": [
    {
     "data": {
      "text/plain": [
       "False"
      ]
     },
     "execution_count": 4,
     "metadata": {},
     "output_type": "execute_result"
    }
   ],
   "source": [
    "df.isnull().values.any()"
   ]
  },
  {
   "cell_type": "code",
   "execution_count": 5,
   "id": "d3f49618",
   "metadata": {},
   "outputs": [],
   "source": [
    "df = df.drop(columns = ['artist', 'song'])"
   ]
  },
  {
   "cell_type": "code",
   "execution_count": 6,
   "id": "05d94cdb",
   "metadata": {},
   "outputs": [],
   "source": [
    "corr = df.corr()"
   ]
  },
  {
   "cell_type": "code",
   "execution_count": 7,
   "id": "dd17019e",
   "metadata": {},
   "outputs": [],
   "source": [
    "for column in corr:\n",
    "    if not(abs(corr['popularity'][column]) > 0.02):\n",
    "        df = df.drop(columns = column)"
   ]
  },
  {
   "cell_type": "code",
   "execution_count": 8,
   "id": "f8726b22",
   "metadata": {
    "scrolled": true
   },
   "outputs": [
    {
     "data": {
      "text/html": [
       "<div>\n",
       "<style scoped>\n",
       "    .dataframe tbody tr th:only-of-type {\n",
       "        vertical-align: middle;\n",
       "    }\n",
       "\n",
       "    .dataframe tbody tr th {\n",
       "        vertical-align: top;\n",
       "    }\n",
       "\n",
       "    .dataframe thead th {\n",
       "        text-align: right;\n",
       "    }\n",
       "</style>\n",
       "<table border=\"1\" class=\"dataframe\">\n",
       "  <thead>\n",
       "    <tr style=\"text-align: right;\">\n",
       "      <th></th>\n",
       "      <th>duration</th>\n",
       "      <th>popularity</th>\n",
       "      <th>loudness</th>\n",
       "      <th>mode</th>\n",
       "      <th>speechiness</th>\n",
       "      <th>acousticness</th>\n",
       "      <th>instrumentalness</th>\n",
       "    </tr>\n",
       "  </thead>\n",
       "  <tbody>\n",
       "    <tr>\n",
       "      <th>0</th>\n",
       "      <td>211160</td>\n",
       "      <td>77</td>\n",
       "      <td>-5.444</td>\n",
       "      <td>0</td>\n",
       "      <td>0.0437</td>\n",
       "      <td>0.3000</td>\n",
       "      <td>0.000018</td>\n",
       "    </tr>\n",
       "    <tr>\n",
       "      <th>1</th>\n",
       "      <td>167066</td>\n",
       "      <td>79</td>\n",
       "      <td>-4.918</td>\n",
       "      <td>1</td>\n",
       "      <td>0.0488</td>\n",
       "      <td>0.0103</td>\n",
       "      <td>0.000000</td>\n",
       "    </tr>\n",
       "    <tr>\n",
       "      <th>2</th>\n",
       "      <td>250546</td>\n",
       "      <td>66</td>\n",
       "      <td>-9.007</td>\n",
       "      <td>1</td>\n",
       "      <td>0.0290</td>\n",
       "      <td>0.1730</td>\n",
       "      <td>0.000000</td>\n",
       "    </tr>\n",
       "    <tr>\n",
       "      <th>3</th>\n",
       "      <td>224493</td>\n",
       "      <td>78</td>\n",
       "      <td>-4.063</td>\n",
       "      <td>0</td>\n",
       "      <td>0.0466</td>\n",
       "      <td>0.0263</td>\n",
       "      <td>0.000013</td>\n",
       "    </tr>\n",
       "    <tr>\n",
       "      <th>4</th>\n",
       "      <td>200560</td>\n",
       "      <td>65</td>\n",
       "      <td>-4.806</td>\n",
       "      <td>0</td>\n",
       "      <td>0.0516</td>\n",
       "      <td>0.0408</td>\n",
       "      <td>0.001040</td>\n",
       "    </tr>\n",
       "    <tr>\n",
       "      <th>...</th>\n",
       "      <td>...</td>\n",
       "      <td>...</td>\n",
       "      <td>...</td>\n",
       "      <td>...</td>\n",
       "      <td>...</td>\n",
       "      <td>...</td>\n",
       "      <td>...</td>\n",
       "    </tr>\n",
       "    <tr>\n",
       "      <th>1995</th>\n",
       "      <td>181026</td>\n",
       "      <td>79</td>\n",
       "      <td>-5.065</td>\n",
       "      <td>0</td>\n",
       "      <td>0.0588</td>\n",
       "      <td>0.0427</td>\n",
       "      <td>0.000000</td>\n",
       "    </tr>\n",
       "    <tr>\n",
       "      <th>1996</th>\n",
       "      <td>178426</td>\n",
       "      <td>78</td>\n",
       "      <td>-5.707</td>\n",
       "      <td>1</td>\n",
       "      <td>0.1570</td>\n",
       "      <td>0.1170</td>\n",
       "      <td>0.000021</td>\n",
       "    </tr>\n",
       "    <tr>\n",
       "      <th>1997</th>\n",
       "      <td>200593</td>\n",
       "      <td>69</td>\n",
       "      <td>-8.635</td>\n",
       "      <td>1</td>\n",
       "      <td>0.1090</td>\n",
       "      <td>0.0669</td>\n",
       "      <td>0.000000</td>\n",
       "    </tr>\n",
       "    <tr>\n",
       "      <th>1998</th>\n",
       "      <td>171029</td>\n",
       "      <td>75</td>\n",
       "      <td>-7.513</td>\n",
       "      <td>1</td>\n",
       "      <td>0.0656</td>\n",
       "      <td>0.4500</td>\n",
       "      <td>0.000002</td>\n",
       "    </tr>\n",
       "    <tr>\n",
       "      <th>1999</th>\n",
       "      <td>215280</td>\n",
       "      <td>85</td>\n",
       "      <td>-3.497</td>\n",
       "      <td>1</td>\n",
       "      <td>0.0395</td>\n",
       "      <td>0.1920</td>\n",
       "      <td>0.002440</td>\n",
       "    </tr>\n",
       "  </tbody>\n",
       "</table>\n",
       "<p>2000 rows × 7 columns</p>\n",
       "</div>"
      ],
      "text/plain": [
       "      duration  popularity  loudness  mode  speechiness  acousticness  \\\n",
       "0       211160          77    -5.444     0       0.0437        0.3000   \n",
       "1       167066          79    -4.918     1       0.0488        0.0103   \n",
       "2       250546          66    -9.007     1       0.0290        0.1730   \n",
       "3       224493          78    -4.063     0       0.0466        0.0263   \n",
       "4       200560          65    -4.806     0       0.0516        0.0408   \n",
       "...        ...         ...       ...   ...          ...           ...   \n",
       "1995    181026          79    -5.065     0       0.0588        0.0427   \n",
       "1996    178426          78    -5.707     1       0.1570        0.1170   \n",
       "1997    200593          69    -8.635     1       0.1090        0.0669   \n",
       "1998    171029          75    -7.513     1       0.0656        0.4500   \n",
       "1999    215280          85    -3.497     1       0.0395        0.1920   \n",
       "\n",
       "      instrumentalness  \n",
       "0             0.000018  \n",
       "1             0.000000  \n",
       "2             0.000000  \n",
       "3             0.000013  \n",
       "4             0.001040  \n",
       "...                ...  \n",
       "1995          0.000000  \n",
       "1996          0.000021  \n",
       "1997          0.000000  \n",
       "1998          0.000002  \n",
       "1999          0.002440  \n",
       "\n",
       "[2000 rows x 7 columns]"
      ]
     },
     "execution_count": 8,
     "metadata": {},
     "output_type": "execute_result"
    }
   ],
   "source": [
    "df"
   ]
  },
  {
   "cell_type": "code",
   "execution_count": 9,
   "id": "b10dce08",
   "metadata": {},
   "outputs": [],
   "source": [
    "def normalizingData (df):\n",
    "    minMaxList = {}\n",
    "    for column in df:\n",
    "        minMaxList[column] = [df[column].max(), df[column].min()]\n",
    "        df[column] = (df[column] - df[column].min()) / (df[column].max() - df[column].min())  \n",
    "    return df, minMaxList"
   ]
  },
  {
   "cell_type": "code",
   "execution_count": 10,
   "id": "f10499e3",
   "metadata": {},
   "outputs": [],
   "source": [
    "df, minMaxList = normalizingData (df)"
   ]
  },
  {
   "cell_type": "code",
   "execution_count": 11,
   "id": "dcea8a96",
   "metadata": {},
   "outputs": [],
   "source": [
    "def testTrainSplit (df):\n",
    "    df = df.sample(frac = 1, ignore_index=True)\n",
    "    length = len(df.index)\n",
    "    splitPoint = round(length * 0.70)\n",
    "    training = df.iloc[:splitPoint, :]\n",
    "    testing = df.iloc[splitPoint:, :]\n",
    "    return training, testing"
   ]
  },
  {
   "cell_type": "code",
   "execution_count": 12,
   "id": "83c2e5f7",
   "metadata": {},
   "outputs": [],
   "source": [
    "training, testing = testTrainSplit (df)"
   ]
  },
  {
   "cell_type": "code",
   "execution_count": 13,
   "id": "627da3cb",
   "metadata": {
    "scrolled": true
   },
   "outputs": [],
   "source": [
    "def trainMRModel(trainDF, iterations):\n",
    "    modelA = [0.5, 0.5, 0.5, 0.5, 0.5, 0.5, 0.5]\n",
    "    \n",
    "    distanceA = calculateDistance(trainDF, modelA)\n",
    "    print(\"First model - weights: \", modelA, \" distance: \", distanceA)\n",
    "  \n",
    "    modelB = modelA[:] \n",
    "  \n",
    "    for i in range(iterations):\n",
    "        modelB = take_best_step(trainDF, modelB)\n",
    "  \n",
    "    distanceB = calculateDistance(trainDF, modelB)\n",
    "    print(\"Final model - weights: \", modelB, \" distance: \", distanceB)\n",
    "    return modelB"
   ]
  },
  {
   "cell_type": "code",
   "execution_count": 14,
   "id": "3a3e9432",
   "metadata": {},
   "outputs": [],
   "source": [
    "def take_random_step(model):\n",
    "    return [model[0] + (random.uniform(0, 1) - 0.5), model[1] + (random.uniform(0, 1) - 0.5), model[2] + (random.uniform(0, 1) - 0.5), model[3] + (random.uniform(0, 1) - 0.5), model[4] + (random.uniform(0, 1) - 0.5), model[5] + (random.uniform(0, 1) - 0.5), model[6] + (random.uniform(0, 1) - 0.5)]\n",
    "\n",
    "def take_best_step(trainDF, model):\n",
    "    old_distance = calculateDistance(trainDF, model)\n",
    "    for i in range(50): \n",
    "        new_model = take_random_step(model)\n",
    "        new_distance = calculateDistance(trainDF, new_model)\n",
    "        if new_distance < old_distance:\n",
    "            return new_model\n",
    "    return model\n",
    "\n",
    "def calculateDistance(trainDF, model):\n",
    "    sum = 0\n",
    "    for i in range(len(trainDF.index)):\n",
    "        duration = trainDF.iat[i, 0]\n",
    "        loudness = trainDF.iat[i, 2]\n",
    "        instrumentalness = trainDF.iat[i, 6]\n",
    "        mode = trainDF.iat[i, 3]\n",
    "        speechiness = trainDF.iat[i, 4]\n",
    "        acousticness = trainDF.iat[i, 5]\n",
    "        popularity = trainDF.iat[i, 1]\n",
    "        \n",
    "\n",
    "    \n",
    "        a = model[0]\n",
    "        b = model[1]\n",
    "        c = model[2]\n",
    "        d = model[3]\n",
    "        e = model[4]\n",
    "        f = model[5]\n",
    "        g = model[6]\n",
    "\n",
    "        numerator = abs((a * duration) + (b * loudness) + (c * instrumentalness) + (d * mode) + (e * speechiness) + (f * acousticness) + (-1 * popularity) + g)\n",
    "        denominator = ((a**2) + (b**2) + (c**2) + (d**2) + (e**2) + (f**2) + (-1**2))**0.5\n",
    "        distance = numerator / denominator\n",
    "        sum = sum + distance\n",
    " \n",
    "    return sum"
   ]
  },
  {
   "cell_type": "code",
   "execution_count": 15,
   "id": "b10f6a45",
   "metadata": {},
   "outputs": [
    {
     "name": "stdout",
     "output_type": "stream",
     "text": [
      "First model - weights:  [0.5, 0.5, 0.5, 0.5, 0.5, 0.5, 0.5]  distance:  1545.6125753166243\n",
      "Final model - weights:  [0.13405679712864327, 0.1492793575281286, 0.12663816114003335, -0.05718258910090357, -0.035298996590933274, 0.12739527157388297, 0.6187123431072269]  distance:  (1.4364963838664216e-14-234.59766274922146j)\n"
     ]
    }
   ],
   "source": [
    "modelB = trainMRModel(training, 100)"
   ]
  },
  {
   "cell_type": "code",
   "execution_count": 16,
   "id": "c169c48f",
   "metadata": {},
   "outputs": [],
   "source": [
    "def MSE (df, model):\n",
    "    sum = 0\n",
    "    a = model[0]\n",
    "    b = model[1]\n",
    "    c = model[2]\n",
    "    d = model[3]\n",
    "    e = model[4]\n",
    "    f = model[5]\n",
    "    g = model[6]\n",
    "    for row in range (len(df.index)):\n",
    "        duration = df.iat[row, 0]\n",
    "        loudness = df.iat[row, 2]\n",
    "        instrumentalness = df.iat[row, 6]\n",
    "        mode = df.iat[row, 3]\n",
    "        speechiness = df.iat[row, 4]\n",
    "        acousticness = df.iat[row, 5]\n",
    "        \n",
    "        prediction = (a * duration) + (b * loudness) + (c * instrumentalness) + (d * mode) + (e * speechiness) + (f * acousticness) + g\n",
    "        \n",
    "        sum = ((prediction - df.iat[row, 1])**2) + sum\n",
    "    return sum/len(df.index)"
   ]
  },
  {
   "cell_type": "code",
   "execution_count": 17,
   "id": "1d1ae14a",
   "metadata": {},
   "outputs": [],
   "source": [
    "MSE = MSE (testing, modelB)"
   ]
  },
  {
   "cell_type": "code",
   "execution_count": 18,
   "id": "cf12ae32",
   "metadata": {},
   "outputs": [
    {
     "data": {
      "text/plain": [
       "0.06256244971967988"
      ]
     },
     "execution_count": 18,
     "metadata": {},
     "output_type": "execute_result"
    }
   ],
   "source": [
    "MSE"
   ]
  },
  {
   "cell_type": "code",
   "execution_count": 19,
   "id": "dadadcaf",
   "metadata": {},
   "outputs": [],
   "source": [
    "RMSE = MSE**0.5"
   ]
  },
  {
   "cell_type": "code",
   "execution_count": 20,
   "id": "fe45a534",
   "metadata": {
    "scrolled": true
   },
   "outputs": [
    {
     "data": {
      "text/plain": [
       "0.2501248682551974"
      ]
     },
     "execution_count": 20,
     "metadata": {},
     "output_type": "execute_result"
    }
   ],
   "source": [
    "RMSE"
   ]
  },
  {
   "cell_type": "code",
   "execution_count": 21,
   "id": "d8383118",
   "metadata": {},
   "outputs": [],
   "source": [
    "example = {'duration':[168602], 'popularity':[0], 'loudness':[-5.692], 'mode':[1], 'speechiness':[0.0493], 'acousticness':[0.299], 'instrumentalness':[0.0]}"
   ]
  },
  {
   "cell_type": "code",
   "execution_count": 22,
   "id": "1bb7447a",
   "metadata": {},
   "outputs": [],
   "source": [
    "example = pd.DataFrame.from_dict(example)"
   ]
  },
  {
   "cell_type": "code",
   "execution_count": 23,
   "id": "0bb7ec74",
   "metadata": {},
   "outputs": [
    {
     "data": {
      "text/html": [
       "<div>\n",
       "<style scoped>\n",
       "    .dataframe tbody tr th:only-of-type {\n",
       "        vertical-align: middle;\n",
       "    }\n",
       "\n",
       "    .dataframe tbody tr th {\n",
       "        vertical-align: top;\n",
       "    }\n",
       "\n",
       "    .dataframe thead th {\n",
       "        text-align: right;\n",
       "    }\n",
       "</style>\n",
       "<table border=\"1\" class=\"dataframe\">\n",
       "  <thead>\n",
       "    <tr style=\"text-align: right;\">\n",
       "      <th></th>\n",
       "      <th>duration</th>\n",
       "      <th>popularity</th>\n",
       "      <th>loudness</th>\n",
       "      <th>mode</th>\n",
       "      <th>speechiness</th>\n",
       "      <th>acousticness</th>\n",
       "      <th>instrumentalness</th>\n",
       "    </tr>\n",
       "  </thead>\n",
       "  <tbody>\n",
       "    <tr>\n",
       "      <th>0</th>\n",
       "      <td>168602</td>\n",
       "      <td>0</td>\n",
       "      <td>-5.692</td>\n",
       "      <td>1</td>\n",
       "      <td>0.0493</td>\n",
       "      <td>0.299</td>\n",
       "      <td>0.0</td>\n",
       "    </tr>\n",
       "  </tbody>\n",
       "</table>\n",
       "</div>"
      ],
      "text/plain": [
       "   duration  popularity  loudness  mode  speechiness  acousticness  \\\n",
       "0    168602           0    -5.692     1       0.0493         0.299   \n",
       "\n",
       "   instrumentalness  \n",
       "0               0.0  "
      ]
     },
     "execution_count": 23,
     "metadata": {},
     "output_type": "execute_result"
    }
   ],
   "source": [
    "example"
   ]
  },
  {
   "cell_type": "code",
   "execution_count": 24,
   "id": "64c8e094",
   "metadata": {},
   "outputs": [],
   "source": [
    "def normalizeExample (df, minMaxList):\n",
    "    for column in df:\n",
    "        df[column] = (df[column] - minMaxList[column][1]) / (minMaxList[column][0] - minMaxList[column][1])  \n",
    "    return df"
   ]
  },
  {
   "cell_type": "code",
   "execution_count": 25,
   "id": "46e91fc2",
   "metadata": {},
   "outputs": [],
   "source": [
    "example = normalizeExample (example, minMaxList)"
   ]
  },
  {
   "cell_type": "code",
   "execution_count": 26,
   "id": "8d412c33",
   "metadata": {},
   "outputs": [],
   "source": [
    "def prediction (df, model):\n",
    "    duration = df.iat[0, 0]\n",
    "    loudness = df.iat[0, 2]\n",
    "    instrumentalness = df.iat[0, 6]\n",
    "    mode = df.iat[0, 3]\n",
    "    speechiness = df.iat[0, 4]\n",
    "    acousticness = df.iat[0, 5]\n",
    "    \n",
    "    a = model[0]\n",
    "    b = model[1]\n",
    "    c = model[2]\n",
    "    d = model[3]\n",
    "    e = model[4]\n",
    "    f = model[5]\n",
    "    g = model[6]\n",
    "    predictedValue = (a * duration) + (b * loudness) + (c * mode) + (d * speechiness) + (e * acousticness) + (f* instrumentalness) + g\n",
    "    df['popularity'][0] = predictedValue\n",
    "    \n",
    "    return df"
   ]
  },
  {
   "cell_type": "code",
   "execution_count": 27,
   "id": "c6ac7701",
   "metadata": {},
   "outputs": [],
   "source": [
    "example = prediction (example, modelB)"
   ]
  },
  {
   "cell_type": "code",
   "execution_count": 28,
   "id": "938bd17c",
   "metadata": {},
   "outputs": [],
   "source": [
    "def denormalizeData (df, minMaxList):\n",
    "    for column in df:\n",
    "        df[column] = (df[column] * (minMaxList[column][0] - minMaxList[column][1])) + minMaxList[column][1]   \n",
    "    return df"
   ]
  },
  {
   "cell_type": "code",
   "execution_count": 29,
   "id": "482bc545",
   "metadata": {},
   "outputs": [],
   "source": [
    "example = denormalizeData (example, minMaxList)"
   ]
  },
  {
   "cell_type": "code",
   "execution_count": 30,
   "id": "8e4dd439",
   "metadata": {},
   "outputs": [
    {
     "data": {
      "text/html": [
       "<div>\n",
       "<style scoped>\n",
       "    .dataframe tbody tr th:only-of-type {\n",
       "        vertical-align: middle;\n",
       "    }\n",
       "\n",
       "    .dataframe tbody tr th {\n",
       "        vertical-align: top;\n",
       "    }\n",
       "\n",
       "    .dataframe thead th {\n",
       "        text-align: right;\n",
       "    }\n",
       "</style>\n",
       "<table border=\"1\" class=\"dataframe\">\n",
       "  <thead>\n",
       "    <tr style=\"text-align: right;\">\n",
       "      <th></th>\n",
       "      <th>duration</th>\n",
       "      <th>popularity</th>\n",
       "      <th>loudness</th>\n",
       "      <th>mode</th>\n",
       "      <th>speechiness</th>\n",
       "      <th>acousticness</th>\n",
       "      <th>instrumentalness</th>\n",
       "    </tr>\n",
       "  </thead>\n",
       "  <tbody>\n",
       "    <tr>\n",
       "      <th>0</th>\n",
       "      <td>168602.0</td>\n",
       "      <td>76.651286</td>\n",
       "      <td>-5.692</td>\n",
       "      <td>1.0</td>\n",
       "      <td>0.0493</td>\n",
       "      <td>0.299</td>\n",
       "      <td>0.0</td>\n",
       "    </tr>\n",
       "  </tbody>\n",
       "</table>\n",
       "</div>"
      ],
      "text/plain": [
       "   duration  popularity  loudness  mode  speechiness  acousticness  \\\n",
       "0  168602.0   76.651286    -5.692   1.0       0.0493         0.299   \n",
       "\n",
       "   instrumentalness  \n",
       "0               0.0  "
      ]
     },
     "execution_count": 30,
     "metadata": {},
     "output_type": "execute_result"
    }
   ],
   "source": [
    "example"
   ]
  },
  {
   "cell_type": "code",
   "execution_count": 50,
   "id": "769f4ee9",
   "metadata": {},
   "outputs": [],
   "source": [
    "import numpy as np\n",
    "import sklearn\n",
    "from sklearn import preprocessing, svm\n",
    "from sklearn.model_selection import train_test_split\n",
    "from sklearn.linear_model import LinearRegression"
   ]
  },
  {
   "cell_type": "code",
   "execution_count": 51,
   "id": "ce679c22",
   "metadata": {},
   "outputs": [],
   "source": [
    "df = pd.read_csv(\"Spotify - Data.csv\")"
   ]
  },
  {
   "cell_type": "code",
   "execution_count": 52,
   "id": "9b8b764e",
   "metadata": {},
   "outputs": [],
   "source": [
    "df = df.drop(columns = ['artist', 'song'])"
   ]
  },
  {
   "cell_type": "code",
   "execution_count": 53,
   "id": "36a0b952",
   "metadata": {},
   "outputs": [],
   "source": [
    "df.fillna(method ='ffill', inplace = True)"
   ]
  },
  {
   "cell_type": "code",
   "execution_count": 54,
   "id": "d6ef5cc0",
   "metadata": {},
   "outputs": [],
   "source": [
    "df.dropna(inplace = True)"
   ]
  },
  {
   "cell_type": "code",
   "execution_count": 55,
   "id": "2c438352",
   "metadata": {},
   "outputs": [],
   "source": [
    "df, minMaxList = normalizingData (df)"
   ]
  },
  {
   "cell_type": "code",
   "execution_count": 56,
   "id": "33e1105c",
   "metadata": {},
   "outputs": [],
   "source": [
    "features = ['duration', 'loudness', 'mode', 'speechiness', 'acousticness', 'instrumentalness']"
   ]
  },
  {
   "cell_type": "code",
   "execution_count": 57,
   "id": "92866d40",
   "metadata": {},
   "outputs": [],
   "source": [
    "X = df[features]\n",
    "y = df['popularity']"
   ]
  },
  {
   "cell_type": "code",
   "execution_count": 58,
   "id": "678283e9",
   "metadata": {},
   "outputs": [],
   "source": [
    "X_train, X_test, y_train, y_test = train_test_split(X, y, test_size = 0.3)"
   ]
  },
  {
   "cell_type": "code",
   "execution_count": 59,
   "id": "338b69ae",
   "metadata": {},
   "outputs": [],
   "source": [
    "X = sklearn.preprocessing.normalize(X)"
   ]
  },
  {
   "cell_type": "code",
   "execution_count": 60,
   "id": "6f5d50db",
   "metadata": {},
   "outputs": [],
   "source": [
    "y = sklearn.preprocessing.normalize([y])"
   ]
  },
  {
   "cell_type": "code",
   "execution_count": 61,
   "id": "f7b58133",
   "metadata": {},
   "outputs": [],
   "source": [
    "regr = LinearRegression()"
   ]
  },
  {
   "cell_type": "code",
   "execution_count": 62,
   "id": "dbb07c66",
   "metadata": {},
   "outputs": [
    {
     "data": {
      "text/plain": [
       "LinearRegression()"
      ]
     },
     "execution_count": 62,
     "metadata": {},
     "output_type": "execute_result"
    }
   ],
   "source": [
    "regr.fit(X_train, y_train)"
   ]
  },
  {
   "cell_type": "code",
   "execution_count": 63,
   "id": "8f30e75a",
   "metadata": {},
   "outputs": [
    {
     "name": "stdout",
     "output_type": "stream",
     "text": [
      "0.5265321546802264\n"
     ]
    }
   ],
   "source": [
    "print(regr.intercept_)"
   ]
  },
  {
   "cell_type": "code",
   "execution_count": 64,
   "id": "2c04f8b5",
   "metadata": {},
   "outputs": [
    {
     "name": "stdout",
     "output_type": "stream",
     "text": [
      "[ 0.11899099  0.14631809 -0.00921855  0.05338777  0.02206409 -0.13015106]\n"
     ]
    }
   ],
   "source": [
    "print(regr.coef_)"
   ]
  },
  {
   "cell_type": "code",
   "execution_count": 65,
   "id": "619dec68",
   "metadata": {},
   "outputs": [],
   "source": [
    "y_pred = regr.predict(X_test)"
   ]
  },
  {
   "cell_type": "code",
   "execution_count": 66,
   "id": "1e49e74c",
   "metadata": {},
   "outputs": [],
   "source": [
    "MSE = sklearn.metrics.mean_squared_error(y_test, y_pred)"
   ]
  },
  {
   "cell_type": "code",
   "execution_count": 67,
   "id": "0d5c7018",
   "metadata": {},
   "outputs": [
    {
     "data": {
      "text/plain": [
       "0.0638201168930191"
      ]
     },
     "execution_count": 67,
     "metadata": {},
     "output_type": "execute_result"
    }
   ],
   "source": [
    "MSE"
   ]
  },
  {
   "cell_type": "code",
   "execution_count": 68,
   "id": "dac3e38d",
   "metadata": {},
   "outputs": [],
   "source": [
    "RMSE = MSE**0.5"
   ]
  },
  {
   "cell_type": "code",
   "execution_count": 69,
   "id": "d4f501ab",
   "metadata": {},
   "outputs": [
    {
     "data": {
      "text/plain": [
       "0.25262643743879837"
      ]
     },
     "execution_count": 69,
     "metadata": {},
     "output_type": "execute_result"
    }
   ],
   "source": [
    "RMSE"
   ]
  }
 ],
 "metadata": {
  "kernelspec": {
   "display_name": "Python 3 (ipykernel)",
   "language": "python",
   "name": "python3"
  },
  "language_info": {
   "codemirror_mode": {
    "name": "ipython",
    "version": 3
   },
   "file_extension": ".py",
   "mimetype": "text/x-python",
   "name": "python",
   "nbconvert_exporter": "python",
   "pygments_lexer": "ipython3",
   "version": "3.9.13"
  }
 },
 "nbformat": 4,
 "nbformat_minor": 5
}
