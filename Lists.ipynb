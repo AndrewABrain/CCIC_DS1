{
 "cells": [
  {
   "cell_type": "code",
   "execution_count": 3,
   "id": "57a6b26b",
   "metadata": {},
   "outputs": [],
   "source": [
    "foods = [\"Rice\",\"Cheese & Crackers\",\"Spam Musubi\", \"Sushi\"]\n",
    "foods[0] = \"Celery\"\n",
    "foods[len(foods)-1] = \"PB&J\""
   ]
  },
  {
   "cell_type": "code",
   "execution_count": 10,
   "id": "78d9deea",
   "metadata": {},
   "outputs": [
    {
     "name": "stdout",
     "output_type": "stream",
     "text": [
      "4.2\n"
     ]
    }
   ],
   "source": [
    "student_data =[[\"Studet\", \"Height\", \"Weight\", \"Age\"], \n",
    "              [\"Ellie\", 4.6, 60, 10], \n",
    "              [\"Sofia\", 4.9, 75, 11], \n",
    "              [\"Jesus\", 5.0, 80, 10], \n",
    "              [\"Jamal\", 4.2, 45, 10], \n",
    "              [\"Poppy\", 5.1, 80, 11]]\n",
    "print(student_data[4][1])"
   ]
  },
  {
   "cell_type": "code",
   "execution_count": null,
   "id": "c2ebafe0",
   "metadata": {},
   "outputs": [],
   "source": []
  },
  {
   "cell_type": "code",
   "execution_count": null,
   "id": "58a68caf",
   "metadata": {},
   "outputs": [],
   "source": []
  }
 ],
 "metadata": {
  "kernelspec": {
   "display_name": "Python 3 (ipykernel)",
   "language": "python",
   "name": "python3"
  },
  "language_info": {
   "codemirror_mode": {
    "name": "ipython",
    "version": 3
   },
   "file_extension": ".py",
   "mimetype": "text/x-python",
   "name": "python",
   "nbconvert_exporter": "python",
   "pygments_lexer": "ipython3",
   "version": "3.9.12"
  }
 },
 "nbformat": 4,
 "nbformat_minor": 5
}
