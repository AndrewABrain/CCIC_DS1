{
 "cells": [
  {
   "cell_type": "code",
   "execution_count": 1,
   "id": "fb120cba",
   "metadata": {},
   "outputs": [
    {
     "name": "stdout",
     "output_type": "stream",
     "text": [
      "Hello, world! My name is Andrew!\n"
     ]
    }
   ],
   "source": [
    "print(\"Hello, world! My name is Andrew!\")"
   ]
  },
  {
   "cell_type": "code",
   "execution_count": 13,
   "id": "3a0e1c45",
   "metadata": {},
   "outputs": [
    {
     "name": "stdout",
     "output_type": "stream",
     "text": [
      "|@@@|  |@@@|   |@@@|\n",
      "|@@@|__|@@@|   |@@@|\n",
      "|@@@@@@@@@@|        \n",
      "|@@@@@@@@@@|   |@@@|\n",
      "|@@@|  |@@@|   |@@@|\n",
      "|@@@|  |@@@|   |@@@|\n",
      " _____________________\n",
      " |                   |\n",
      " |    ___     ___    | \n",
      " |   |@@@|   |@@@|   |\n",
      " |   |@@@|   |@@@|   |\n",
      " |                   |\n",
      " |_                 _|\n",
      " | |_             _| |\n",
      " |   |___________|   |\n",
      " |                   |\n",
      " |_________ _________|\n",
      "           |\n",
      "           |\n",
      "           |\n",
      "___________|________________\n",
      "           |\n",
      "           |\n",
      "           |\n",
      "           |\n",
      "          _|_\n",
      "         |   |\n",
      "        _i   i_\n",
      "       |       |\n",
      "      _i        i_\n",
      "     |           |\n"
     ]
    }
   ],
   "source": [
    "print(\"|@@@|  |@@@|   |@@@|\")\n",
    "print(\"|@@@|__|@@@|   |@@@|\")\n",
    "print(\"|@@@@@@@@@@|        \")\n",
    "print(\"|@@@@@@@@@@|   |@@@|\")\n",
    "print(\"|@@@|  |@@@|   |@@@|\")\n",
    "print(\"|@@@|  |@@@|   |@@@|\")\n",
    "\n",
    "print(\" _____________________\")\n",
    "print(\" |                   |\")\n",
    "print(\" |    ___     ___    | \")\n",
    "print(\" |   |@@@|   |@@@|   |\")\n",
    "print(\" |   |@@@|   |@@@|   |\")\n",
    "print(\" |                   |\")\n",
    "print(\" |_                 _|\")\n",
    "print(\" | |_             _| |\")\n",
    "print(\" |   |___________|   |\")\n",
    "print(\" |                   |\")\n",
    "print(\" |_________ _________|\")\n",
    "print(\"           |\")\n",
    "print(\"           |\")\n",
    "print(\"           |\")\n",
    "print(\"___________|________________\")\n",
    "print(\"           |\")\n",
    "print(\"           |\")\n",
    "print(\"           |\")\n",
    "print(\"           |\")\n",
    "print(\"          _|_\")\n",
    "print(\"         |   |\")\n",
    "print(\"        _i   i_\")\n",
    "print(\"       |       |\")\n",
    "print(\"      _i        i_\")\n",
    "print(\"     |           |\")"
   ]
  },
  {
   "cell_type": "code",
   "execution_count": null,
   "id": "28a233fc",
   "metadata": {},
   "outputs": [],
   "source": []
  }
 ],
 "metadata": {
  "kernelspec": {
   "display_name": "Python 3 (ipykernel)",
   "language": "python",
   "name": "python3"
  },
  "language_info": {
   "codemirror_mode": {
    "name": "ipython",
    "version": 3
   },
   "file_extension": ".py",
   "mimetype": "text/x-python",
   "name": "python",
   "nbconvert_exporter": "python",
   "pygments_lexer": "ipython3",
   "version": "3.9.12"
  }
 },
 "nbformat": 4,
 "nbformat_minor": 5
}
