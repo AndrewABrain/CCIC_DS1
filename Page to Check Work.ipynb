{
 "cells": [
  {
   "cell_type": "code",
   "execution_count": 2,
   "id": "893b205b",
   "metadata": {},
   "outputs": [
    {
     "name": "stdout",
     "output_type": "stream",
     "text": [
      "A\n",
      "E\n"
     ]
    }
   ],
   "source": [
    "# 9/20/2022\n",
    "list = [[\"A\", \"B\", \"D\", \"C\" \"E\", \"S\", \"L\", \"M\", \"E\", \"R\", \"T\"],[\"Spindt\", \"Bowen\"]]\n",
    "for letter in list [0]:\n",
    "    if letter == \"A\" or letter == \"U\" or letter == \"I\" or letter == \"E\" or letter == \"O\":\n",
    "        print(letter)"
   ]
  },
  {
   "cell_type": "code",
   "execution_count": null,
   "id": "a0e5c1b9",
   "metadata": {},
   "outputs": [],
   "source": [
    "# 9/20/2022\n",
    "powers = [[1,2,3],[4,5,6]]\n",
    "idx = 0\n",
    "for row in powers:\n",
    "    for num in row:\n",
    "        row[idx] = row[idx] ** row[idx]\n",
    "    idx = idx + 1\n",
    "\n",
    "print (powers)"
   ]
  },
  {
   "cell_type": "code",
   "execution_count": null,
   "id": "ebf7e950",
   "metadata": {},
   "outputs": [],
   "source": [
    "# 9/22/2022\n",
    "word = input(\"give a word.\")\n",
    "for character in word:\n",
    "    print (character)"
   ]
  },
  {
   "cell_type": "code",
   "execution_count": 1,
   "id": "caeaea7a",
   "metadata": {},
   "outputs": [
    {
     "name": "stdout",
     "output_type": "stream",
     "text": [
      "2\n"
     ]
    }
   ],
   "source": [
    "# 9/26/2022\n",
    "list = [1, 3, 1]\n",
    "x = list.count(1)\n",
    "print(x)"
   ]
  },
  {
   "cell_type": "code",
   "execution_count": 6,
   "id": "2e2ec4cf",
   "metadata": {},
   "outputs": [
    {
     "name": "stdout",
     "output_type": "stream",
     "text": [
      "UACG\n"
     ]
    }
   ],
   "source": [
    "# 9/28/2022\n",
    "def transcribe(DNA):\n",
    "    RNA = \"\"\n",
    "    for letter in DNA:\n",
    "        if letter == \"A\":\n",
    "            RNA = RNA + \"U\"\n",
    "        elif letter == \"T\":\n",
    "            RNA = RNA + \"A\"\n",
    "        elif letter == \"G\":\n",
    "            RNA = RNA + \"C\"\n",
    "        else:\n",
    "            RNA = RNA + \"G\"\n",
    "    return RNA\n",
    "        \n",
    "DNA = \"ATGC\"\n",
    "print(transcribe(DNA))"
   ]
  },
  {
   "cell_type": "code",
   "execution_count": 14,
   "id": "de07d67d",
   "metadata": {},
   "outputs": [
    {
     "name": "stdout",
     "output_type": "stream",
     "text": [
      "['d', 'f', 'g', 'h', 'i', 'j']\n"
     ]
    }
   ],
   "source": [
    "def get_missing_letter (given_letters, alphabet, missing_letters):\n",
    "    for letter in alphabet:\n",
    "        if letter not in given_letters:\n",
    "            missing_letters.append(letter)\n",
    "    return missing_letters \n",
    "\n",
    "given_letters = \"abce\"\n",
    "# alphabet would have every letter in the alphabet\n",
    "alphabet = [\"a\", \"b\", \"c\", \"d\", \"e\", \"f\", \"g\", \"h\", \"i\", \"j\"]\n",
    "missing_letters = []\n",
    "print (get_missing_letter(given_letters, alphabet, missing_letters))"
   ]
  },
  {
   "cell_type": "code",
   "execution_count": 26,
   "id": "83fafdcb",
   "metadata": {},
   "outputs": [
    {
     "name": "stdout",
     "output_type": "stream",
     "text": [
      "[0, 1, 1, 1, 2, 2, 2, 3, 3, 4, 6, 6, 8, 8, 9, 12, 12, 12, 13, 14, 15, 17, 18, 19, 21, 21, 22, 23, 25, 26, 29, 31, 33, 35, 36, 39, 40, 40, 40, 41, 44, 44, 45, 46, 46, 47, 47, 48, 49, 51, 51, 55, 57, 58, 58, 63, 64, 64, 65, 67, 68, 68, 69, 70, 70, 70, 71, 74, 74, 75, 76, 77, 77, 77, 78, 78, 81, 81, 82, 82, 83, 83, 86, 87, 87, 88, 89, 89, 91, 91, 91, 91, 92, 92, 92, 93, 93, 94, 94, 94, 100]\n"
     ]
    }
   ],
   "source": [
    "# 9/30/2022\n",
    "def cocktail_sort (list):\n",
    "    length = len(list)\n",
    "    swapped = True\n",
    "    start = 0\n",
    "    end = length - 1\n",
    "    while swapped == True:\n",
    "        swapped = False\n",
    "        \n",
    "        for i in range (start, end):\n",
    "            if list[i] > list[i+1]:\n",
    "                list[i], list[i+1] = list[i+1], list[i]\n",
    "                swapped = True\n",
    "    \n",
    "        if swapped == False:\n",
    "            break\n",
    "        \n",
    "        swapped = False\n",
    "        \n",
    "        end = end - 1\n",
    "        \n",
    "        for i in range (end-1, start-1, -1):\n",
    "            if list[i] > list[i+1]:\n",
    "                list[i], list[i+1] = list[i+1], list[i]\n",
    "                swapped = True\n",
    "        \n",
    "        start = start + 1\n",
    "    return list\n",
    "    \n",
    "def random_list (list):\n",
    "    x = 0 \n",
    "    import random\n",
    "    while x <= 100:   \n",
    "        list.append(random.randrange(0, 101))\n",
    "        x = x + 1\n",
    "\n",
    "list = []\n",
    "random_list(list)\n",
    "print(cocktail_sort(list))"
   ]
  },
  {
   "cell_type": "code",
   "execution_count": 1,
   "id": "e895219f",
   "metadata": {},
   "outputs": [
    {
     "ename": "NameError",
     "evalue": "name 'swap' is not defined",
     "output_type": "error",
     "traceback": [
      "\u001b[1;31m---------------------------------------------------------------------------\u001b[0m",
      "\u001b[1;31mNameError\u001b[0m                                 Traceback (most recent call last)",
      "Input \u001b[1;32mIn [1]\u001b[0m, in \u001b[0;36m<cell line: 2>\u001b[1;34m()\u001b[0m\n\u001b[0;32m      1\u001b[0m \u001b[38;5;28mlist\u001b[39m \u001b[38;5;241m=\u001b[39m [\u001b[38;5;241m1\u001b[39m, \u001b[38;5;241m2\u001b[39m]\n\u001b[1;32m----> 2\u001b[0m \u001b[43mswap\u001b[49m(\u001b[38;5;28mlist\u001b[39m[\u001b[38;5;241m0\u001b[39m], \u001b[38;5;28mlist\u001b[39m[\u001b[38;5;241m1\u001b[39m])\n\u001b[0;32m      3\u001b[0m \u001b[38;5;28mprint\u001b[39m (\u001b[38;5;28mlist\u001b[39m)\n",
      "\u001b[1;31mNameError\u001b[0m: name 'swap' is not defined"
     ]
    }
   ],
   "source": [
    "list = [1, 2]\n",
    "swap(list[0], list[1])\n",
    "print (list)"
   ]
  },
  {
   "cell_type": "code",
   "execution_count": null,
   "id": "3a91c200",
   "metadata": {},
   "outputs": [],
   "source": []
  }
 ],
 "metadata": {
  "kernelspec": {
   "display_name": "Python 3 (ipykernel)",
   "language": "python",
   "name": "python3"
  },
  "language_info": {
   "codemirror_mode": {
    "name": "ipython",
    "version": 3
   },
   "file_extension": ".py",
   "mimetype": "text/x-python",
   "name": "python",
   "nbconvert_exporter": "python",
   "pygments_lexer": "ipython3",
   "version": "3.9.12"
  }
 },
 "nbformat": 4,
 "nbformat_minor": 5
}
