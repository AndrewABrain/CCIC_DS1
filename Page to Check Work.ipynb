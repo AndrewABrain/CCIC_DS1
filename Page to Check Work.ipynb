{
 "cells": [
  {
   "cell_type": "code",
   "execution_count": 1,
   "id": "893b205b",
   "metadata": {
    "scrolled": true
   },
   "outputs": [
    {
     "name": "stdout",
     "output_type": "stream",
     "text": [
      "A\n",
      "E\n"
     ]
    }
   ],
   "source": [
    "# 9/20/2022\n",
    "list = [[\"A\", \"B\", \"D\", \"C\" \"E\", \"S\", \"L\", \"M\", \"E\", \"R\", \"T\"],[\"Spindt\", \"Bowen\"]]\n",
    "for letter in list [0]:\n",
    "    if letter == \"A\" or letter == \"U\" or letter == \"I\" or letter == \"E\" or letter == \"O\":\n",
    "        print(letter)"
   ]
  },
  {
   "cell_type": "code",
   "execution_count": null,
   "id": "a0e5c1b9",
   "metadata": {
    "scrolled": true
   },
   "outputs": [],
   "source": [
    "# 9/20/2022\n",
    "powers = [[1,2,3],[4,5,6]]\n",
    "idx = 0\n",
    "for row in powers:\n",
    "    for num in row:\n",
    "        row[idx] = row[idx] ** row[idx]\n",
    "    idx = idx + 1\n",
    "\n",
    "print (powers)"
   ]
  },
  {
   "cell_type": "code",
   "execution_count": null,
   "id": "ebf7e950",
   "metadata": {
    "scrolled": true
   },
   "outputs": [],
   "source": [
    "# 9/22/2022\n",
    "word = input(\"give a word.\")\n",
    "for character in word:\n",
    "    print (character)"
   ]
  },
  {
   "cell_type": "code",
   "execution_count": null,
   "id": "caeaea7a",
   "metadata": {
    "scrolled": true
   },
   "outputs": [],
   "source": [
    "# 9/26/2022\n",
    "list = [1, 3, 1]\n",
    "x = list.count(1)\n",
    "print(x)"
   ]
  },
  {
   "cell_type": "code",
   "execution_count": null,
   "id": "2e2ec4cf",
   "metadata": {
    "scrolled": true
   },
   "outputs": [],
   "source": [
    "# 9/28/2022\n",
    "def transcribe(DNA):\n",
    "    RNA = \"\"\n",
    "    for letter in DNA:\n",
    "        if letter == \"A\":\n",
    "            RNA = RNA + \"U\"\n",
    "        elif letter == \"T\":\n",
    "            RNA = RNA + \"A\"\n",
    "        elif letter == \"G\":\n",
    "            RNA = RNA + \"C\"\n",
    "        else:\n",
    "            RNA = RNA + \"G\"\n",
    "    return RNA\n",
    "        \n",
    "DNA = \"ATGC\"\n",
    "print(transcribe(DNA))"
   ]
  },
  {
   "cell_type": "code",
   "execution_count": 1,
   "id": "de07d67d",
   "metadata": {
    "scrolled": true
   },
   "outputs": [
    {
     "name": "stdout",
     "output_type": "stream",
     "text": [
      "['d', 'f', 'g', 'h', 'i', 'j']\n"
     ]
    }
   ],
   "source": [
    "def get_missing_letter (given_letters, alphabet, missing_letters):\n",
    "    for letter in alphabet:\n",
    "        if letter not in given_letters:\n",
    "            missing_letters.append(letter)\n",
    "    return missing_letters \n",
    "\n",
    "given_letters = \"abce\"\n",
    "# alphabet would have every letter in the alphabet\n",
    "alphabet = [\"a\", \"b\", \"c\", \"d\", \"e\", \"f\", \"g\", \"h\", \"i\", \"j\"]\n",
    "missing_letters = []\n",
    "print (get_missing_letter(given_letters, alphabet, missing_letters))"
   ]
  },
  {
   "cell_type": "code",
   "execution_count": 10,
   "id": "472fff0e",
   "metadata": {
    "scrolled": true
   },
   "outputs": [
    {
     "name": "stdout",
     "output_type": "stream",
     "text": [
      "741\n",
      "11843\n"
     ]
    }
   ],
   "source": [
    "# 10/13/2022\n",
    "import tracemalloc\n",
    "import random\n",
    "\n",
    "# better version\n",
    "temp = random.sample (range(-1000000, 1000000), 2 ** 1)\n",
    "tracemalloc.start()\n",
    "x1, y1 = tracemalloc.get_traced_memory()\n",
    "# call function goes here in replace of sort\n",
    "temp.sort()\n",
    "x2, y2 = tracemalloc.get_traced_memory()\n",
    "tracemalloc.stop()\n",
    "print (y2 - y1)\n",
    "\n",
    "temp = random.sample (range(-1000000, 1000000), 2 ** 1)\n",
    "tracemalloc.start()\n",
    "temp.sort()\n",
    "x1, y1 = tracemalloc.get_traced_memory()\n",
    "tracemalloc.stop()\n",
    "print (y1)"
   ]
  }
 ],
 "metadata": {
  "kernelspec": {
   "display_name": "Python 3 (ipykernel)",
   "language": "python",
   "name": "python3"
  },
  "language_info": {
   "codemirror_mode": {
    "name": "ipython",
    "version": 3
   },
   "file_extension": ".py",
   "mimetype": "text/x-python",
   "name": "python",
   "nbconvert_exporter": "python",
   "pygments_lexer": "ipython3",
   "version": "3.9.12"
  }
 },
 "nbformat": 4,
 "nbformat_minor": 5
}
