{
 "cells": [
  {
   "cell_type": "code",
   "execution_count": 19,
   "id": "e498b361",
   "metadata": {},
   "outputs": [
    {
     "name": "stdout",
     "output_type": "stream",
     "text": [
      "0\n",
      "1\n",
      "2\n",
      "3\n",
      "4\n",
      "5\n",
      "1\n",
      "2\n",
      "3\n",
      "4\n",
      "2\n",
      "3\n",
      "[37, 45, 46, 50, 77, 82, 84]\n"
     ]
    }
   ],
   "source": [
    "def cocktail_sort (list):\n",
    "    length = len(list)\n",
    "    swapped = True\n",
    "    start = 0\n",
    "    end = length - 1\n",
    "    while swapped == True:\n",
    "        swapped = False\n",
    "        \n",
    "        for i in range (start, end):\n",
    "            if list[i] > list[i+1]:\n",
    "                list[i], list[i+1] = list[i+1], list[i]\n",
    "                swapped = True\n",
    "    \n",
    "        if swapped == False:\n",
    "            break\n",
    "        \n",
    "        swapped = False\n",
    "        \n",
    "        end = end - 1\n",
    "        \n",
    "        for i in range (end-1, start-1, -1):\n",
    "            if list[i] > list[i+1]:\n",
    "                list[i], list[i+1] = list[i+1], list[i]\n",
    "                swapped = True\n",
    "        \n",
    "        start = start + 1\n",
    "    return list\n",
    "    \n",
    "def random_list (list):\n",
    "    x = 0 \n",
    "    import random\n",
    "    while x <= 100:   \n",
    "        list.append(random.randrange(0, 101))\n",
    "        x = x + 1\n",
    "\n",
    "list = []\n",
    "random_list(list)\n",
    "print(cocktail_sort(list))"
   ]
  },
  {
   "cell_type": "code",
   "execution_count": null,
   "id": "f2e45ca3",
   "metadata": {},
   "outputs": [],
   "source": []
  }
 ],
 "metadata": {
  "kernelspec": {
   "display_name": "Python 3 (ipykernel)",
   "language": "python",
   "name": "python3"
  },
  "language_info": {
   "codemirror_mode": {
    "name": "ipython",
    "version": 3
   },
   "file_extension": ".py",
   "mimetype": "text/x-python",
   "name": "python",
   "nbconvert_exporter": "python",
   "pygments_lexer": "ipython3",
   "version": "3.9.12"
  }
 },
 "nbformat": 4,
 "nbformat_minor": 5
}
