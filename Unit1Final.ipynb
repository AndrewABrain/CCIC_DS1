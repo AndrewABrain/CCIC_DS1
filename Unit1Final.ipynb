{
 "cells": [
  {
   "cell_type": "code",
   "execution_count": 49,
   "id": "c6db7cf6",
   "metadata": {
    "scrolled": true
   },
   "outputs": [
    {
     "name": "stdout",
     "output_type": "stream",
     "text": [
      "[-927905, -886688, -881793, -694749, -661256, -591019, -515392, -394380, -385891, -204348, -198745, -172835, -109383, -76316, 9397, 102840, 131669, 234534, 434625, 494314, 513755, 617629, 626959, 632509, 771794, 810853, 820654, 838021, 865273, 921356, 925175, 974865]\n",
      "0.0\n"
     ]
    }
   ],
   "source": [
    "def cocktail_sort (list):\n",
    "    length = len(list)\n",
    "    swapped = True\n",
    "    start = 0\n",
    "    end = length - 1\n",
    "    while swapped == True:\n",
    "        swapped = False\n",
    "        \n",
    "        for i in range (start, end):\n",
    "            if list[i] > list[i+1]:\n",
    "                list[i], list[i+1] = list[i+1], list[i]\n",
    "                swapped = True\n",
    "    \n",
    "        if swapped == False:\n",
    "            break\n",
    "        \n",
    "        swapped = False\n",
    "        \n",
    "        end = end - 1\n",
    "        \n",
    "        for i in range (end-1, start-1, -1):\n",
    "            if list[i] > list[i+1]:\n",
    "                list[i], list[i+1] = list[i+1], list[i]\n",
    "                swapped = True\n",
    "        \n",
    "        start = start + 1\n",
    "    return list\n",
    "    \n",
    "def random_list (list):\n",
    "    counter = 0 \n",
    "    import random\n",
    "    while counter < 32:   \n",
    "        list.append(random.randrange(-1000000, 1000000))\n",
    "        counter = counter + 1\n",
    "\n",
    "list = []\n",
    "random_list(list) \n",
    "import time\n",
    "x = time.time()\n",
    "print(cocktail_sort(list))\n",
    "y = time.time()\n",
    "print (y-x)"
   ]
  },
  {
   "cell_type": "code",
   "execution_count": null,
   "id": "267a2998",
   "metadata": {},
   "outputs": [],
   "source": []
  }
 ],
 "metadata": {
  "kernelspec": {
   "display_name": "Python 3 (ipykernel)",
   "language": "python",
   "name": "python3"
  },
  "language_info": {
   "codemirror_mode": {
    "name": "ipython",
    "version": 3
   },
   "file_extension": ".py",
   "mimetype": "text/x-python",
   "name": "python",
   "nbconvert_exporter": "python",
   "pygments_lexer": "ipython3",
   "version": "3.9.12"
  }
 },
 "nbformat": 4,
 "nbformat_minor": 5
}
