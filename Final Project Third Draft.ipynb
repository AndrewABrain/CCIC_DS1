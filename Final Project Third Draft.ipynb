{
 "cells": [
  {
   "cell_type": "code",
   "execution_count": 1,
   "id": "edd1e91d",
   "metadata": {},
   "outputs": [],
   "source": [
    "import pandas as pd\n",
    "import seaborn as sns\n",
    "import requests as rs"
   ]
  },
  {
   "cell_type": "code",
   "execution_count": 2,
   "id": "96b5d58f",
   "metadata": {},
   "outputs": [],
   "source": [
    "url = \"https://api.themoviedb.org/3/movie/500/reviews?api_key=87983fbe976988a9e22330ebf030a1ae&language=en-US&page=1\""
   ]
  },
  {
   "cell_type": "code",
   "execution_count": 3,
   "id": "fbba8ded",
   "metadata": {},
   "outputs": [],
   "source": [
    "movieInformation = rs.get(url)\n",
    "movieInformation = movieInformation.json()"
   ]
  },
  {
   "cell_type": "code",
   "execution_count": 4,
   "id": "1696a5b3",
   "metadata": {},
   "outputs": [
    {
     "name": "stdout",
     "output_type": "stream",
     "text": [
      "{'id': 500, 'page': 1, 'results': [{'author': 'talisencrw', 'author_details': {'name': '', 'username': 'talisencrw', 'avatar_path': '/https://www.gravatar.com/avatar/cbcc9350415274a3c68399bd37ca3ebc.jpg', 'rating': 10.0}, 'content': \"This unique take on the heist-film-gone-wrong was excellent--stylish and intelligently made, yet very funny and inexpensive. Tarantino's accolades from giving American cinema the resuscitation it needed mirrors what has happened, at least since the 70's, with Martin Scorsese's 'Mean Streets', both in terms of entertaining violence and usage of music in the scoring of films. I greatly thank Harvey Keitel for taking a chance on Tarantino back then--It paid off in spades.\", 'created_at': '2016-05-14T19:05:28.853Z', 'id': '573776f8c3a36805ab001040', 'updated_at': '2021-06-23T15:57:47.688Z', 'url': 'https://www.themoviedb.org/review/573776f8c3a36805ab001040'}, {'author': 'Wuchak', 'author_details': {'name': '', 'username': 'Wuchak', 'avatar_path': '/4KVM1VkqmXLOuwj1jjaSdxbvBDk.jpg', 'rating': 4.0}, 'content': 'The cuss-oriented squabbles of lowlife crooks for 99 minutes (and no women)\\r\\n\\t\\r\\nRELEASED IN 1992 and written/directed by Quentin Tarantino, \"Reservoir Dogs” is a crime drama/thriller about a diamond heist gone disastrously wrong in Los Angeles wherein the surviving thugs bicker back-and-forth in a warehouse about which of their members is a police informant. The main thieves are played by Harvey Keitel, Tim Roth, Steve Buscemi, Michael Madsen and Chris Penn while Lawrence Tierney appears as the old salt mastermind.\\r\\n\\r\\nThis was Tarantino’s first feature film, costing only $1,200,000, and it has quirky glimmerings of future greatness, as seen in “Pulp Fiction” (1994), “Jackie Brown” (1997), “Kill Bill” (2003/2004), “Inglourious Basterds” (2009) and “Django Unchained” (2012), but “Reservoir” didn’t work for me. It’s hampered by a low-budget vibe, which I can handle, but not the uninteresting lowlife characters, their self-made conundrum, their interminably dull dialogue and the one-dimensional setting where about 80% of the story takes place in an old warehouse, not to mention no females in the main cast.\\r\\n\\r\\nStill, it’s interesting to observe Tarantino’s first serious stab at filmmaking and it has its moments of genuine entertainment. It’s a lesson on humble beginnings, which shows potential while not being up to snuff.\\r\\n\\r\\nTHE FILM RUNS 1 hour, 39 minutes and was shot in Los Angeles & Burbank.\\r\\n\\r\\nGRADE: C-', 'created_at': '2018-06-04T17:12:13.041Z', 'id': '5b1572ed0e0a262dd600b601', 'updated_at': '2021-06-23T15:58:09.282Z', 'url': 'https://www.themoviedb.org/review/5b1572ed0e0a262dd600b601'}], 'total_pages': 1, 'total_results': 2}\n"
     ]
    }
   ],
   "source": [
    "print(movieInformation)"
   ]
  }
 ],
 "metadata": {
  "kernelspec": {
   "display_name": "Python 3 (ipykernel)",
   "language": "python",
   "name": "python3"
  },
  "language_info": {
   "codemirror_mode": {
    "name": "ipython",
    "version": 3
   },
   "file_extension": ".py",
   "mimetype": "text/x-python",
   "name": "python",
   "nbconvert_exporter": "python",
   "pygments_lexer": "ipython3",
   "version": "3.9.12"
  }
 },
 "nbformat": 4,
 "nbformat_minor": 5
}
