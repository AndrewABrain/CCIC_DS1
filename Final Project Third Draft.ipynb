{
 "cells": [
  {
   "cell_type": "code",
   "execution_count": 1,
   "id": "edd1e91d",
   "metadata": {},
   "outputs": [],
   "source": [
    "import pandas as pd\n",
    "import seaborn as sns\n",
    "import requests as rs"
   ]
  },
  {
   "cell_type": "code",
   "execution_count": 2,
   "id": "b101fb2a",
   "metadata": {},
   "outputs": [],
   "source": [
    "avengersEndgame = pd.read_csv('Avengers Endgame.csv')\n",
    "forrestGump = pd.read_csv('Forrest Gump.csv')\n",
    "johnWickChapterThree = pd.read_csv('John Wick Chapter 3.csv')\n",
    "joker = pd.read_csv('Joker.csv')\n",
    "morbius = pd.read_csv('Morbius.csv')\n",
    "pulpFiction = pd.read_csv('Pulp Fiction.csv')\n",
    "spiderManNoWayHome = pd.read_csv('SpiderMan No Way Home.csv')\n",
    "theAvengers = pd.read_csv('The Avengers.csv')\n",
    "theDarkKnight = pd.read_csv('The Dark Knight.csv')\n",
    "thorRagnarok = pd.read_csv('Thor Ragnarok.csv')"
   ]
  },
  {
   "cell_type": "code",
   "execution_count": 3,
   "id": "5754f9f8",
   "metadata": {},
   "outputs": [],
   "source": [
    "df = pd.concat([avengersEndgame, forrestGump, johnWickChapterThree, joker, morbius, pulpFiction, spiderManNoWayHome, theAvengers, theDarkKnight, thorRagnarok], ignore_index=True)"
   ]
  },
  {
   "cell_type": "code",
   "execution_count": 4,
   "id": "d7a1518a",
   "metadata": {},
   "outputs": [],
   "source": [
    "df = df.drop(columns = ['Date of Review', 'User', 'Usefulness Vote', 'Total Votes'])"
   ]
  },
  {
   "cell_type": "code",
   "execution_count": 5,
   "id": "44f37c79",
   "metadata": {},
   "outputs": [],
   "source": [
    "df = df.rename(columns = {\"User's Rating out of 10\":\"Rating\"})"
   ]
  },
  {
   "cell_type": "code",
   "execution_count": 6,
   "id": "c9cbd97d",
   "metadata": {},
   "outputs": [
    {
     "data": {
      "text/plain": [
       "True"
      ]
     },
     "execution_count": 6,
     "metadata": {},
     "output_type": "execute_result"
    }
   ],
   "source": [
    "df.isnull().values.any()"
   ]
  },
  {
   "cell_type": "code",
   "execution_count": 7,
   "id": "b0140b65",
   "metadata": {},
   "outputs": [],
   "source": [
    "df.dropna(inplace = True)"
   ]
  },
  {
   "cell_type": "code",
   "execution_count": 8,
   "id": "490fa3a5",
   "metadata": {},
   "outputs": [
    {
     "name": "stdout",
     "output_type": "stream",
     "text": [
      "<class 'pandas.core.frame.DataFrame'>\n",
      "Int64Index: 47062 entries, 0 to 47062\n",
      "Data columns (total 3 columns):\n",
      " #   Column        Non-Null Count  Dtype \n",
      "---  ------        --------------  ----- \n",
      " 0   Rating        47062 non-null  object\n",
      " 1   Review Title  47062 non-null  object\n",
      " 2   Review        47062 non-null  object\n",
      "dtypes: object(3)\n",
      "memory usage: 1.4+ MB\n"
     ]
    }
   ],
   "source": [
    "df.info()"
   ]
  },
  {
   "cell_type": "code",
   "execution_count": 9,
   "id": "af2022dc",
   "metadata": {},
   "outputs": [],
   "source": [
    "df['Review'] = df['Review'].astype(str)"
   ]
  },
  {
   "cell_type": "code",
   "execution_count": 10,
   "id": "9520392d",
   "metadata": {},
   "outputs": [],
   "source": [
    "df['Review Title'] = df['Review Title'].astype(str)"
   ]
  },
  {
   "cell_type": "code",
   "execution_count": 11,
   "id": "f9e4fb44",
   "metadata": {},
   "outputs": [],
   "source": [
    "df['Rating'] = df['Rating'].str.strip()"
   ]
  },
  {
   "cell_type": "code",
   "execution_count": 12,
   "id": "d8072b7a",
   "metadata": {},
   "outputs": [],
   "source": [
    "df = df[df.Rating != \"Was this review helpful?  Sign in to vote.\"]"
   ]
  },
  {
   "cell_type": "code",
   "execution_count": 13,
   "id": "581a1af2",
   "metadata": {},
   "outputs": [
    {
     "data": {
      "text/plain": [
       "False"
      ]
     },
     "execution_count": 13,
     "metadata": {},
     "output_type": "execute_result"
    }
   ],
   "source": [
    "df.isnull().values.any()"
   ]
  },
  {
   "cell_type": "code",
   "execution_count": 14,
   "id": "6182e3d6",
   "metadata": {},
   "outputs": [],
   "source": [
    "df['Rating'] = df['Rating'].astype(int)"
   ]
  },
  {
   "cell_type": "code",
   "execution_count": 15,
   "id": "5d3d5cca",
   "metadata": {},
   "outputs": [],
   "source": [
    "def testTrainSplit (df):\n",
    "    length = len(df.index)\n",
    "    splitPoint = round(length * 0.70)\n",
    "    training = df.iloc[:splitPoint, :]\n",
    "    testing = df.iloc[splitPoint:, :]\n",
    "    return training, testing"
   ]
  },
  {
   "cell_type": "code",
   "execution_count": 16,
   "id": "1e80dee9",
   "metadata": {},
   "outputs": [],
   "source": [
    "training, testing = testTrainSplit (df)"
   ]
  }
 ],
 "metadata": {
  "kernelspec": {
   "display_name": "Python 3 (ipykernel)",
   "language": "python",
   "name": "python3"
  },
  "language_info": {
   "codemirror_mode": {
    "name": "ipython",
    "version": 3
   },
   "file_extension": ".py",
   "mimetype": "text/x-python",
   "name": "python",
   "nbconvert_exporter": "python",
   "pygments_lexer": "ipython3",
   "version": "3.9.12"
  }
 },
 "nbformat": 4,
 "nbformat_minor": 5
}
