{
 "cells": [
  {
   "cell_type": "code",
   "execution_count": 1,
   "id": "edd1e91d",
   "metadata": {},
   "outputs": [],
   "source": [
    "import pandas as pd\n",
    "import seaborn as sns\n",
    "import requests as rs"
   ]
  },
  {
   "cell_type": "code",
   "execution_count": 2,
   "id": "b101fb2a",
   "metadata": {},
   "outputs": [],
   "source": [
    "avengersEndgame = pd.read_csv('Avengers Endgame.csv')\n",
    "forrestGump = pd.read_csv('Forrest Gump.csv')\n",
    "johnWickChapterThree = pd.read_csv('John Wick Chapter 3.csv')\n",
    "joker = pd.read_csv('Joker.csv')\n",
    "morbius = pd.read_csv('Morbius.csv')\n",
    "pulpFiction = pd.read_csv('Pulp Fiction.csv')\n",
    "spiderManNoWayHome = pd.read_csv('SpiderMan No Way Home.csv')\n",
    "theAvengers = pd.read_csv('The Avengers.csv')\n",
    "theDarkKnight = pd.read_csv('The Dark Knight.csv')\n",
    "thorRagnarok = pd.read_csv('Thor Ragnarok.csv')"
   ]
  },
  {
   "cell_type": "code",
   "execution_count": 3,
   "id": "5754f9f8",
   "metadata": {},
   "outputs": [],
   "source": [
    "df = pd.concat([avengersEndgame, forrestGump, johnWickChapterThree, joker, morbius, pulpFiction, spiderManNoWayHome, theAvengers, theDarkKnight, thorRagnarok])"
   ]
  },
  {
   "cell_type": "code",
   "execution_count": 4,
   "id": "d7a1518a",
   "metadata": {},
   "outputs": [],
   "source": [
    "df = df.drop(columns = ['Date of Review', 'User', 'Usefulness Vote', 'Total Votes'])"
   ]
  }
 ],
 "metadata": {
  "kernelspec": {
   "display_name": "Python 3 (ipykernel)",
   "language": "python",
   "name": "python3"
  },
  "language_info": {
   "codemirror_mode": {
    "name": "ipython",
    "version": 3
   },
   "file_extension": ".py",
   "mimetype": "text/x-python",
   "name": "python",
   "nbconvert_exporter": "python",
   "pygments_lexer": "ipython3",
   "version": "3.9.12"
  }
 },
 "nbformat": 4,
 "nbformat_minor": 5
}
