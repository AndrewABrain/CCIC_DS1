{
 "cells": [
  {
   "cell_type": "code",
   "execution_count": 1,
   "id": "edd1e91d",
   "metadata": {},
   "outputs": [],
   "source": [
    "import pandas as pd\n",
    "import seaborn as sns\n",
    "import time"
   ]
  },
  {
   "cell_type": "code",
   "execution_count": 2,
   "id": "b101fb2a",
   "metadata": {},
   "outputs": [],
   "source": [
    "avengersEndgame = pd.read_csv('Avengers Endgame.csv')\n",
    "forrestGump = pd.read_csv('Forrest Gump.csv')\n",
    "johnWickChapterThree = pd.read_csv('John Wick Chapter 3.csv')\n",
    "joker = pd.read_csv('Joker.csv')\n",
    "morbius = pd.read_csv('Morbius.csv')\n",
    "pulpFiction = pd.read_csv('Pulp Fiction.csv')\n",
    "spiderManNoWayHome = pd.read_csv('SpiderMan No Way Home.csv')\n",
    "theAvengers = pd.read_csv('The Avengers.csv')\n",
    "theDarkKnight = pd.read_csv('The Dark Knight.csv')\n",
    "thorRagnarok = pd.read_csv('Thor Ragnarok.csv')"
   ]
  },
  {
   "cell_type": "code",
   "execution_count": 3,
   "id": "5754f9f8",
   "metadata": {},
   "outputs": [],
   "source": [
    "df = pd.concat([avengersEndgame, forrestGump, johnWickChapterThree, joker, morbius, pulpFiction, spiderManNoWayHome, theAvengers, theDarkKnight, thorRagnarok], ignore_index=True)"
   ]
  },
  {
   "cell_type": "code",
   "execution_count": 4,
   "id": "d7a1518a",
   "metadata": {},
   "outputs": [],
   "source": [
    "df = df.drop(columns = ['Date of Review', 'User', 'Usefulness Vote', 'Total Votes'])"
   ]
  },
  {
   "cell_type": "code",
   "execution_count": 5,
   "id": "44f37c79",
   "metadata": {},
   "outputs": [],
   "source": [
    "df = df.rename(columns = {\"User's Rating out of 10\":\"Rating\"})"
   ]
  },
  {
   "cell_type": "code",
   "execution_count": 6,
   "id": "c9cbd97d",
   "metadata": {},
   "outputs": [
    {
     "data": {
      "text/plain": [
       "True"
      ]
     },
     "execution_count": 6,
     "metadata": {},
     "output_type": "execute_result"
    }
   ],
   "source": [
    "df.isnull().values.any()"
   ]
  },
  {
   "cell_type": "code",
   "execution_count": 7,
   "id": "b0140b65",
   "metadata": {},
   "outputs": [],
   "source": [
    "df.dropna(inplace = True)"
   ]
  },
  {
   "cell_type": "code",
   "execution_count": 8,
   "id": "490fa3a5",
   "metadata": {},
   "outputs": [
    {
     "name": "stdout",
     "output_type": "stream",
     "text": [
      "<class 'pandas.core.frame.DataFrame'>\n",
      "Int64Index: 47062 entries, 0 to 47062\n",
      "Data columns (total 3 columns):\n",
      " #   Column        Non-Null Count  Dtype \n",
      "---  ------        --------------  ----- \n",
      " 0   Rating        47062 non-null  object\n",
      " 1   Review Title  47062 non-null  object\n",
      " 2   Review        47062 non-null  object\n",
      "dtypes: object(3)\n",
      "memory usage: 1.4+ MB\n"
     ]
    }
   ],
   "source": [
    "df.info()"
   ]
  },
  {
   "cell_type": "code",
   "execution_count": 9,
   "id": "af2022dc",
   "metadata": {},
   "outputs": [],
   "source": [
    "df['Review'] = df['Review'].astype(str)"
   ]
  },
  {
   "cell_type": "code",
   "execution_count": 10,
   "id": "9520392d",
   "metadata": {},
   "outputs": [],
   "source": [
    "df['Review Title'] = df['Review Title'].astype(str)"
   ]
  },
  {
   "cell_type": "code",
   "execution_count": 11,
   "id": "f9e4fb44",
   "metadata": {},
   "outputs": [],
   "source": [
    "df['Rating'] = df['Rating'].str.strip()"
   ]
  },
  {
   "cell_type": "code",
   "execution_count": 12,
   "id": "d8072b7a",
   "metadata": {},
   "outputs": [],
   "source": [
    "df = df[df.Rating != \"Was this review helpful?  Sign in to vote.\"]"
   ]
  },
  {
   "cell_type": "code",
   "execution_count": 13,
   "id": "42aa9289",
   "metadata": {},
   "outputs": [],
   "source": [
    "df['Rating'] = df['Rating'].astype(int)"
   ]
  },
  {
   "cell_type": "code",
   "execution_count": 14,
   "id": "581a1af2",
   "metadata": {},
   "outputs": [
    {
     "data": {
      "text/plain": [
       "False"
      ]
     },
     "execution_count": 14,
     "metadata": {},
     "output_type": "execute_result"
    }
   ],
   "source": [
    "df.isnull().values.any()"
   ]
  },
  {
   "cell_type": "code",
   "execution_count": 15,
   "id": "fc6c3a7d",
   "metadata": {
    "scrolled": true
   },
   "outputs": [
    {
     "name": "stdout",
     "output_type": "stream",
     "text": [
      "<class 'pandas.core.frame.DataFrame'>\n",
      "Int64Index: 45780 entries, 0 to 47062\n",
      "Data columns (total 3 columns):\n",
      " #   Column        Non-Null Count  Dtype \n",
      "---  ------        --------------  ----- \n",
      " 0   Rating        45780 non-null  int32 \n",
      " 1   Review Title  45780 non-null  object\n",
      " 2   Review        45780 non-null  object\n",
      "dtypes: int32(1), object(2)\n",
      "memory usage: 1.2+ MB\n"
     ]
    }
   ],
   "source": [
    "df.info()"
   ]
  },
  {
   "cell_type": "code",
   "execution_count": 16,
   "id": "d53c107b",
   "metadata": {},
   "outputs": [],
   "source": [
    "df.reset_index(drop=True, inplace=True)"
   ]
  },
  {
   "cell_type": "code",
   "execution_count": 17,
   "id": "06ae0395",
   "metadata": {
    "scrolled": true
   },
   "outputs": [
    {
     "data": {
      "text/html": [
       "<div>\n",
       "<style scoped>\n",
       "    .dataframe tbody tr th:only-of-type {\n",
       "        vertical-align: middle;\n",
       "    }\n",
       "\n",
       "    .dataframe tbody tr th {\n",
       "        vertical-align: top;\n",
       "    }\n",
       "\n",
       "    .dataframe thead th {\n",
       "        text-align: right;\n",
       "    }\n",
       "</style>\n",
       "<table border=\"1\" class=\"dataframe\">\n",
       "  <thead>\n",
       "    <tr style=\"text-align: right;\">\n",
       "      <th></th>\n",
       "      <th>Rating</th>\n",
       "      <th>Review Title</th>\n",
       "      <th>Review</th>\n",
       "    </tr>\n",
       "  </thead>\n",
       "  <tbody>\n",
       "    <tr>\n",
       "      <th>0</th>\n",
       "      <td>4</td>\n",
       "      <td>The writers got carried away, the directors ov...</td>\n",
       "      <td>I've just come from watching Endgame and I mus...</td>\n",
       "    </tr>\n",
       "    <tr>\n",
       "      <th>1</th>\n",
       "      <td>4</td>\n",
       "      <td>Time travel is such a lazy way to write stories</td>\n",
       "      <td>Only a month or so back I was talking to a fri...</td>\n",
       "    </tr>\n",
       "    <tr>\n",
       "      <th>2</th>\n",
       "      <td>3</td>\n",
       "      <td>Overrated and full of filler</td>\n",
       "      <td>Continuity? 350M budget and no one looking ove...</td>\n",
       "    </tr>\n",
       "    <tr>\n",
       "      <th>3</th>\n",
       "      <td>3</td>\n",
       "      <td>downbeat, overblown &amp; so so long. Cuts all you...</td>\n",
       "      <td>Maybe I would have enjoyed this more if I were...</td>\n",
       "    </tr>\n",
       "    <tr>\n",
       "      <th>4</th>\n",
       "      <td>8</td>\n",
       "      <td>Not as good as infinity war but a great movie</td>\n",
       "      <td>Rating: 8.6Not as good as Infinity war pacing-...</td>\n",
       "    </tr>\n",
       "  </tbody>\n",
       "</table>\n",
       "</div>"
      ],
      "text/plain": [
       "   Rating                                       Review Title  \\\n",
       "0       4  The writers got carried away, the directors ov...   \n",
       "1       4    Time travel is such a lazy way to write stories   \n",
       "2       3                       Overrated and full of filler   \n",
       "3       3  downbeat, overblown & so so long. Cuts all you...   \n",
       "4       8      Not as good as infinity war but a great movie   \n",
       "\n",
       "                                              Review  \n",
       "0  I've just come from watching Endgame and I mus...  \n",
       "1  Only a month or so back I was talking to a fri...  \n",
       "2  Continuity? 350M budget and no one looking ove...  \n",
       "3  Maybe I would have enjoyed this more if I were...  \n",
       "4  Rating: 8.6Not as good as Infinity war pacing-...  "
      ]
     },
     "execution_count": 17,
     "metadata": {},
     "output_type": "execute_result"
    }
   ],
   "source": [
    "df.head()"
   ]
  },
  {
   "cell_type": "code",
   "execution_count": 18,
   "id": "fa7955f0",
   "metadata": {},
   "outputs": [],
   "source": [
    "def fixPunctuation (allTexts):\n",
    "    allTexts = allTexts.replace(\".\", \" . \")\n",
    "    allTexts = allTexts.replace(\",\", \" , \")\n",
    "    allTexts = allTexts.replace(\"?\", \" ? \")\n",
    "    allTexts = allTexts.replace(\"!\", \" ! \")\n",
    "    allTexts = allTexts.replace(\":\", \" : \")\n",
    "    allTexts = allTexts.replace(\";\", \" ; \")\n",
    "    allTexts = allTexts.replace(\"/\", \" / \")\n",
    "    allTexts = allTexts.replace(\")\", \" ) \")\n",
    "    allTexts = allTexts.replace(\"(\", \" ( \")\n",
    "    allTexts = allTexts.replace(\"'\", \" ' \")\n",
    "    allTexts = allTexts.replace(\"'\", \" ' \")\n",
    "    \n",
    "    \n",
    "    return allTexts"
   ]
  },
  {
   "cell_type": "code",
   "execution_count": 19,
   "id": "c1984e07",
   "metadata": {},
   "outputs": [],
   "source": [
    "def breakUpDF (df, allTexts):\n",
    "    end = len(df) - 1\n",
    "    listOfDF = []\n",
    "    for i in range(round(end)):\n",
    "        tempDF = df[i:i+1]\n",
    "        tempDF = pd.concat([tempDF, allTexts], axis=1)\n",
    "        listOfDF.append(tempDF)\n",
    "    return listOfDF"
   ]
  },
  {
   "cell_type": "code",
   "execution_count": 20,
   "id": "3e5cb2b1",
   "metadata": {},
   "outputs": [],
   "source": [
    "def makeColumns (df):\n",
    "    allTexts = \"\"\n",
    "    reviewTitle = ' '.join(df[\"Review Title\"])\n",
    "    review = ' '.join(df[\"Review\"])\n",
    "    allTexts = reviewTitle + \" \" + review\n",
    "    \n",
    "    allTexts = allTexts.lower()\n",
    "    \n",
    "    allTexts = fixPunctuation (allTexts)\n",
    "        \n",
    "    allTexts = allTexts.split()\n",
    "    \n",
    "    allTexts = list(set(allTexts))\n",
    "    \n",
    "    allTexts = {allTexts[i]: [] for i in range(len(allTexts))}\n",
    "    \n",
    "    allTexts = pd.DataFrame.from_dict(allTexts)\n",
    "    \n",
    "    splitPoint = round(len(df)/2)\n",
    "    firstHalf = df[:splitPoint]\n",
    "    secondHalf = df[splitPoint:]\n",
    "    \n",
    "    print(\"wait...\")\n",
    "    time.sleep(100)\n",
    "    \n",
    "    firstHalf = breakUpDF (firstHalf, allTexts)\n",
    "    \n",
    "    print(\"wait...\")\n",
    "    time.sleep(100)\n",
    "    \n",
    "    secondHalf = breakUpDF (secondHalf, allTexts)\n",
    "    \n",
    "    print(\"wait...\")\n",
    "    time.sleep(100)\n",
    "    \n",
    "    listOfDF = firstHalf + secondHalf\n",
    "    \n",
    "    return listOfDF"
   ]
  },
  {
   "cell_type": "code",
   "execution_count": 21,
   "id": "0ad2d9ea",
   "metadata": {
    "scrolled": false
   },
   "outputs": [
    {
     "name": "stdout",
     "output_type": "stream",
     "text": [
      "wait...\n",
      "wait...\n",
      "Unexpected exception formatting exception. Falling back to standard exception\n"
     ]
    },
    {
     "name": "stderr",
     "output_type": "stream",
     "text": [
      "Traceback (most recent call last):\n",
      "  File \"C:\\Users\\yello\\anaconda3\\lib\\site-packages\\IPython\\core\\interactiveshell.py\", line 3369, in run_code\n",
      "    exec(code_obj, self.user_global_ns, self.user_ns)\n",
      "  File \"C:\\Users\\yello\\AppData\\Local\\Temp\\ipykernel_1512\\2900267065.py\", line 1, in <cell line: 1>\n",
      "    listOfDF = makeColumns (df)\n",
      "  File \"C:\\Users\\yello\\AppData\\Local\\Temp\\ipykernel_1512\\4038513681.py\", line 31, in makeColumns\n",
      "    secondHalf = breakUpDF (secondHalf, allTexts)\n",
      "  File \"C:\\Users\\yello\\AppData\\Local\\Temp\\ipykernel_1512\\2513195564.py\", line 6, in breakUpDF\n",
      "    tempDF = pd.concat([tempDF, allTexts], axis=1)\n",
      "  File \"C:\\Users\\yello\\anaconda3\\lib\\site-packages\\pandas\\util\\_decorators.py\", line 311, in wrapper\n",
      "    return func(*args, **kwargs)\n",
      "  File \"C:\\Users\\yello\\anaconda3\\lib\\site-packages\\pandas\\core\\reshape\\concat.py\", line 347, in concat\n",
      "    op = _Concatenator(\n",
      "  File \"C:\\Users\\yello\\anaconda3\\lib\\site-packages\\pandas\\core\\reshape\\concat.py\", line 542, in __init__\n",
      "    self.new_axes = self._get_new_axes()\n",
      "  File \"C:\\Users\\yello\\anaconda3\\lib\\site-packages\\pandas\\core\\reshape\\concat.py\", line 612, in _get_new_axes\n",
      "    return [\n",
      "  File \"C:\\Users\\yello\\anaconda3\\lib\\site-packages\\pandas\\core\\reshape\\concat.py\", line 613, in <listcomp>\n",
      "    self._get_concat_axis if i == self.bm_axis else self._get_comb_axis(i)\n",
      "  File \"pandas\\_libs\\properties.pyx\", line 37, in pandas._libs.properties.CachedProperty.__get__\n",
      "  File \"C:\\Users\\yello\\anaconda3\\lib\\site-packages\\pandas\\core\\reshape\\concat.py\", line 668, in _get_concat_axis\n",
      "    concat_axis = _concat_indexes(indexes)\n",
      "  File \"C:\\Users\\yello\\anaconda3\\lib\\site-packages\\pandas\\core\\reshape\\concat.py\", line 686, in _concat_indexes\n",
      "    return indexes[0].append(indexes[1:])\n",
      "  File \"C:\\Users\\yello\\anaconda3\\lib\\site-packages\\pandas\\core\\indexes\\base.py\", line 5120, in append\n",
      "    return self._concat(to_concat, name)\n",
      "  File \"C:\\Users\\yello\\anaconda3\\lib\\site-packages\\pandas\\core\\indexes\\base.py\", line 5134, in _concat\n",
      "    return Index._with_infer(result, name=name)\n",
      "  File \"C:\\Users\\yello\\anaconda3\\lib\\site-packages\\pandas\\core\\indexes\\base.py\", line 680, in _with_infer\n",
      "    result = cls(*args, **kwargs)\n",
      "  File \"C:\\Users\\yello\\anaconda3\\lib\\site-packages\\pandas\\core\\indexes\\base.py\", line 494, in __new__\n",
      "    arr = _maybe_cast_data_without_dtype(\n",
      "  File \"C:\\Users\\yello\\anaconda3\\lib\\site-packages\\pandas\\core\\indexes\\base.py\", line 7124, in _maybe_cast_data_without_dtype\n",
      "    result = lib.maybe_convert_objects(\n",
      "  File \"pandas\\_libs\\lib.pyx\", line 2468, in pandas._libs.lib.maybe_convert_objects\n",
      "numpy.core._exceptions._ArrayMemoryError: Unable to allocate 614. KiB for an array with shape (78540,) and data type timedelta64[ns]\n",
      "\n",
      "During handling of the above exception, another exception occurred:\n",
      "\n",
      "Traceback (most recent call last):\n",
      "  File \"C:\\Users\\yello\\anaconda3\\lib\\site-packages\\IPython\\core\\interactiveshell.py\", line 1982, in showtraceback\n",
      "    stb = self.InteractiveTB.structured_traceback(\n",
      "  File \"C:\\Users\\yello\\anaconda3\\lib\\site-packages\\IPython\\core\\ultratb.py\", line 1118, in structured_traceback\n",
      "    return FormattedTB.structured_traceback(\n",
      "  File \"C:\\Users\\yello\\anaconda3\\lib\\site-packages\\IPython\\core\\ultratb.py\", line 1012, in structured_traceback\n",
      "    return VerboseTB.structured_traceback(\n",
      "  File \"C:\\Users\\yello\\anaconda3\\lib\\site-packages\\IPython\\core\\ultratb.py\", line 865, in structured_traceback\n",
      "    formatted_exception = self.format_exception_as_a_whole(etype, evalue, etb, number_of_lines_of_context,\n",
      "  File \"C:\\Users\\yello\\anaconda3\\lib\\site-packages\\IPython\\core\\ultratb.py\", line 818, in format_exception_as_a_whole\n",
      "    frames.append(self.format_record(r))\n",
      "  File \"C:\\Users\\yello\\anaconda3\\lib\\site-packages\\IPython\\core\\ultratb.py\", line 736, in format_record\n",
      "    result += ''.join(_format_traceback_lines(frame_info.lines, Colors, self.has_colors, lvals))\n",
      "  File \"C:\\Users\\yello\\anaconda3\\lib\\site-packages\\IPython\\core\\ultratb.py\", line 155, in _format_traceback_lines\n",
      "    line = stack_line.render(pygmented=has_colors).rstrip('\\n') + '\\n'\n",
      "  File \"C:\\Users\\yello\\anaconda3\\lib\\site-packages\\stack_data\\core.py\", line 360, in render\n",
      "    start_line, lines = self.frame_info._pygmented_scope_lines\n",
      "  File \"C:\\Users\\yello\\anaconda3\\lib\\site-packages\\stack_data\\utils.py\", line 145, in cached_property_wrapper\n",
      "    value = obj.__dict__[self.func.__name__] = self.func(obj)\n",
      "  File \"C:\\Users\\yello\\anaconda3\\lib\\site-packages\\stack_data\\core.py\", line 780, in _pygmented_scope_lines\n",
      "    lines = _pygmented_with_ranges(formatter, code, ranges)\n",
      "  File \"C:\\Users\\yello\\anaconda3\\lib\\site-packages\\stack_data\\utils.py\", line 165, in _pygmented_with_ranges\n",
      "    return pygments.highlight(code, lexer, formatter).splitlines()\n",
      "  File \"C:\\Users\\yello\\anaconda3\\lib\\site-packages\\pygments\\__init__.py\", line 82, in highlight\n",
      "    return format(lex(code, lexer), formatter, outfile)\n",
      "  File \"C:\\Users\\yello\\anaconda3\\lib\\site-packages\\pygments\\__init__.py\", line 61, in format\n",
      "    formatter.format(tokens, realoutfile)\n",
      "  File \"C:\\Users\\yello\\anaconda3\\lib\\site-packages\\pygments\\formatters\\terminal256.py\", line 250, in format\n",
      "    return Formatter.format(self, tokensource, outfile)\n",
      "  File \"C:\\Users\\yello\\anaconda3\\lib\\site-packages\\pygments\\formatter.py\", line 94, in format\n",
      "    return self.format_unencoded(tokensource, outfile)\n",
      "  File \"C:\\Users\\yello\\anaconda3\\lib\\site-packages\\pygments\\formatters\\terminal256.py\", line 256, in format_unencoded\n",
      "    for ttype, value in tokensource:\n",
      "  File \"C:\\Users\\yello\\anaconda3\\lib\\site-packages\\stack_data\\utils.py\", line 158, in get_tokens\n",
      "    for ttype, value in super().get_tokens(text):\n",
      "  File \"C:\\Users\\yello\\anaconda3\\lib\\site-packages\\pygments\\lexer.py\", line 187, in streamer\n",
      "    for _, t, v in self.get_tokens_unprocessed(text):\n",
      "  File \"C:\\Users\\yello\\anaconda3\\lib\\site-packages\\pygments\\lexer.py\", line 629, in get_tokens_unprocessed\n",
      "    m = rexmatch(text, pos)\n",
      "MemoryError\n"
     ]
    }
   ],
   "source": [
    "listOfDF = makeColumns (df)"
   ]
  },
  {
   "cell_type": "code",
   "execution_count": null,
   "id": "b9af3ecc",
   "metadata": {},
   "outputs": [],
   "source": [
    "len(df)"
   ]
  },
  {
   "cell_type": "code",
   "execution_count": null,
   "id": "967795a9",
   "metadata": {},
   "outputs": [],
   "source": [
    "copy = listOfDF"
   ]
  },
  {
   "cell_type": "code",
   "execution_count": null,
   "id": "b65d156e",
   "metadata": {},
   "outputs": [],
   "source": [
    "listOfDF = listOfDF + copy"
   ]
  },
  {
   "cell_type": "code",
   "execution_count": null,
   "id": "7ee2d3aa",
   "metadata": {},
   "outputs": [],
   "source": [
    "len(listOfDF)"
   ]
  },
  {
   "cell_type": "code",
   "execution_count": null,
   "id": "5cfdaf81",
   "metadata": {},
   "outputs": [],
   "source": [
    "listOfDF[0]"
   ]
  },
  {
   "cell_type": "code",
   "execution_count": null,
   "id": "a8dd0b4f",
   "metadata": {},
   "outputs": [],
   "source": [
    "#import re\n",
    "#lists = re.findall(r'[^\\w\\s,]', df)\n",
    "#lists = list(set(lists))"
   ]
  },
  {
   "cell_type": "code",
   "execution_count": null,
   "id": "4d8fd60d",
   "metadata": {
    "scrolled": false
   },
   "outputs": [],
   "source": [
    "#string = []\n",
    "#for value in lists:\n",
    "#    string.append(\"allTexts = allTexts.replace('\"+ value + \"', ' \" + value + \" ')\")"
   ]
  },
  {
   "cell_type": "code",
   "execution_count": null,
   "id": "1c44ac57",
   "metadata": {},
   "outputs": [],
   "source": [
    "#allTexts = list(set(allTexts))"
   ]
  },
  {
   "cell_type": "code",
   "execution_count": null,
   "id": "5567d90b",
   "metadata": {},
   "outputs": [],
   "source": [
    "#ombine all text done\n",
    "#eperate text by different words \n",
    "#ocus on seperating puncuation\n",
    "#ix emojis\n",
    "\n",
    "#ut all words as a columns for df "
   ]
  },
  {
   "cell_type": "code",
   "execution_count": null,
   "id": "9949d490",
   "metadata": {},
   "outputs": [],
   "source": [
    "def assignValuesToColumns (df, allTexts):\n",
    "    for row in range(len(df.index)):\n",
    "        allTexts[\"Review Rating\"][row] = df[\"Rating\"][row]\n",
    "        \n",
    "        wordsForRow = df[\"Review Title\"][row] + \" \" + df[\"Review\"][row]\n",
    "    \n",
    "        wordsForRow = wordsForRow.lower()\n",
    "    \n",
    "        wordsForRow = fixPunctuation (wordsForRow)\n",
    "        \n",
    "        wordsForRow = wordsForRow.split()\n",
    "         \n",
    "        unrepeatedWords = list(set(wordsForRow))\n",
    "        \n",
    "        for word in unrepeatedWords:\n",
    "            #allTexts.iloc[row, df.columns.get_loc(word)] = wordsForRow.count(word)\n",
    "            allTexts[word][row] = wordsForRow.count(word)\n",
    "        \n",
    "        allTexts[\"Review Rating\"][row+1] = 0 \n",
    "    \n",
    "    allTexts = allTexts.fillna(0)\n",
    "    \n",
    "    return allTexts"
   ]
  },
  {
   "cell_type": "code",
   "execution_count": null,
   "id": "0a9b0337",
   "metadata": {},
   "outputs": [],
   "source": [
    "df = assignValuesToColumns (df, allTexts)"
   ]
  },
  {
   "cell_type": "code",
   "execution_count": null,
   "id": "e01a7e9d",
   "metadata": {
    "scrolled": true
   },
   "outputs": [],
   "source": [
    "df"
   ]
  },
  {
   "cell_type": "code",
   "execution_count": null,
   "id": "6b1b3f69",
   "metadata": {},
   "outputs": [],
   "source": [
    "go through every writing\n",
    "seperate the words\n",
    "count repeated words\n",
    "add number of word to column\n",
    "save as own csv if it gets too complicated"
   ]
  },
  {
   "cell_type": "code",
   "execution_count": null,
   "id": "47fc8d51",
   "metadata": {},
   "outputs": [],
   "source": []
  },
  {
   "cell_type": "code",
   "execution_count": null,
   "id": "5d3d5cca",
   "metadata": {},
   "outputs": [],
   "source": [
    "def testTrainSplit (df):\n",
    "    df = df.sample(frac = 1, ignore_index=True)\n",
    "    length = len(df.index)\n",
    "    splitPoint = round(length * 0.70)\n",
    "    training = df.iloc[:splitPoint, :]\n",
    "    testing = df.iloc[splitPoint:, :]\n",
    "    return training, testing"
   ]
  },
  {
   "cell_type": "code",
   "execution_count": null,
   "id": "1e80dee9",
   "metadata": {},
   "outputs": [],
   "source": [
    "training, testing = testTrainSplit (df)"
   ]
  },
  {
   "cell_type": "code",
   "execution_count": null,
   "id": "4e685fa5",
   "metadata": {},
   "outputs": [],
   "source": [
    "training.reset_index(drop=True, inplace=True)"
   ]
  },
  {
   "cell_type": "code",
   "execution_count": null,
   "id": "25f32cff",
   "metadata": {},
   "outputs": [],
   "source": [
    "testing.reset_index(drop=True, inplace=True)"
   ]
  },
  {
   "cell_type": "code",
   "execution_count": null,
   "id": "1c3be89c",
   "metadata": {},
   "outputs": [],
   "source": [
    "allTexts = {allTexts[i]: [None] for i in range(len(allTexts))}\n",
    "    \n",
    "    print(len(allTexts))\n",
    "    \n",
    "    #memoryUsageTrack = solveMemoryUsageProblem (len(allTexts))\n",
    "    \n",
    "    allTexts = pd.DataFrame(allTexts)\n",
    "    \n",
    "    #df = concatinateDF (df, allTexts, memoryUsageTrack)\n",
    "    \n",
    "    df = concatinateDF([df, allTexts])\n",
    "    \n",
    "    print(len(allTexts))\n",
    "    \n",
    "    #df = pd.concat([df, allTexts], ignore_index=True)"
   ]
  }
 ],
 "metadata": {
  "kernelspec": {
   "display_name": "Python 3 (ipykernel)",
   "language": "python",
   "name": "python3"
  },
  "language_info": {
   "codemirror_mode": {
    "name": "ipython",
    "version": 3
   },
   "file_extension": ".py",
   "mimetype": "text/x-python",
   "name": "python",
   "nbconvert_exporter": "python",
   "pygments_lexer": "ipython3",
   "version": "3.9.12"
  }
 },
 "nbformat": 4,
 "nbformat_minor": 5
}
