{
 "cells": [
  {
   "cell_type": "code",
   "execution_count": 1,
   "id": "5c5cff52",
   "metadata": {},
   "outputs": [],
   "source": [
    "import pandas as pd\n",
    "import seaborn as sns"
   ]
  },
  {
   "cell_type": "code",
   "execution_count": 2,
   "id": "0bd4e927",
   "metadata": {},
   "outputs": [],
   "source": [
    "df = pd.read_csv('SATData - SATData.csv')"
   ]
  },
  {
   "cell_type": "code",
   "execution_count": 3,
   "id": "39e99102",
   "metadata": {},
   "outputs": [
    {
     "name": "stdout",
     "output_type": "stream",
     "text": [
      "<class 'pandas.core.frame.DataFrame'>\n",
      "RangeIndex: 1000 entries, 0 to 999\n",
      "Data columns (total 3 columns):\n",
      " #   Column      Non-Null Count  Dtype  \n",
      "---  ------      --------------  -----  \n",
      " 0   Unnamed: 0  1000 non-null   int64  \n",
      " 1   GPA         1000 non-null   float64\n",
      " 2   SAT         1000 non-null   int64  \n",
      "dtypes: float64(1), int64(2)\n",
      "memory usage: 23.6 KB\n"
     ]
    }
   ],
   "source": [
    "df.info()"
   ]
  },
  {
   "cell_type": "code",
   "execution_count": 4,
   "id": "bd40cd20",
   "metadata": {},
   "outputs": [],
   "source": [
    "df = df.drop(df.columns[[0]], axis = 1)"
   ]
  },
  {
   "cell_type": "code",
   "execution_count": 5,
   "id": "a5ae3244",
   "metadata": {},
   "outputs": [],
   "source": [
    "def testTrainSplit (df):\n",
    "    df = df.sample(frac=1)\n",
    "    length = len(df.index)\n",
    "    splitPoint = round(length * 0.70)\n",
    "    training = df.iloc[:splitPoint, :]\n",
    "    testing = df.iloc[splitPoint:, :]\n",
    "    return training, testing"
   ]
  },
  {
   "cell_type": "code",
   "execution_count": 6,
   "id": "9f47bf16",
   "metadata": {},
   "outputs": [
    {
     "data": {
      "text/plain": [
       "(     GPA   SAT\n",
       " 470  2.9   930\n",
       " 880  3.8  1100\n",
       " 738  2.5   990\n",
       " 509  2.5   530\n",
       " 339  4.0   870\n",
       " ..   ...   ...\n",
       " 973  3.0  1160\n",
       " 766  3.0  1090\n",
       " 295  2.9  1150\n",
       " 857  2.3   810\n",
       " 703  3.5  1160\n",
       " \n",
       " [700 rows x 2 columns],\n",
       "      GPA   SAT\n",
       " 860  4.0  1290\n",
       " 930  3.0   910\n",
       " 659  2.2  1100\n",
       " 456  2.9   860\n",
       " 983  3.0  1100\n",
       " ..   ...   ...\n",
       " 717  2.6   840\n",
       " 842  3.1   880\n",
       " 76   2.8   750\n",
       " 78   3.3  1010\n",
       " 736  2.6   970\n",
       " \n",
       " [300 rows x 2 columns])"
      ]
     },
     "execution_count": 6,
     "metadata": {},
     "output_type": "execute_result"
    }
   ],
   "source": [
    "testTrainSplit (df)"
   ]
  },
  {
   "cell_type": "code",
   "execution_count": 7,
   "id": "190d604b",
   "metadata": {
    "scrolled": true
   },
   "outputs": [
    {
     "ename": "NameError",
     "evalue": "name 'training' is not defined",
     "output_type": "error",
     "traceback": [
      "\u001b[1;31m---------------------------------------------------------------------------\u001b[0m",
      "\u001b[1;31mNameError\u001b[0m                                 Traceback (most recent call last)",
      "Input \u001b[1;32mIn [7]\u001b[0m, in \u001b[0;36m<cell line: 1>\u001b[1;34m()\u001b[0m\n\u001b[1;32m----> 1\u001b[0m \u001b[43mtraining\u001b[49m\u001b[38;5;241m.\u001b[39minfo()\n",
      "\u001b[1;31mNameError\u001b[0m: name 'training' is not defined"
     ]
    }
   ],
   "source": [
    "training.info()"
   ]
  },
  {
   "cell_type": "code",
   "execution_count": null,
   "id": "11a3f4fc",
   "metadata": {},
   "outputs": [],
   "source": [
    "testing.info()"
   ]
  },
  {
   "cell_type": "code",
   "execution_count": null,
   "id": "cb592870",
   "metadata": {
    "scrolled": true
   },
   "outputs": [],
   "source": [
    "df.corr(method='pearson', min_periods=1)"
   ]
  },
  {
   "cell_type": "code",
   "execution_count": null,
   "id": "301a511f",
   "metadata": {},
   "outputs": [],
   "source": [
    "sns.regplot(x=df[''], y=df['rating'])"
   ]
  }
 ],
 "metadata": {
  "kernelspec": {
   "display_name": "Python 3 (ipykernel)",
   "language": "python",
   "name": "python3"
  },
  "language_info": {
   "codemirror_mode": {
    "name": "ipython",
    "version": 3
   },
   "file_extension": ".py",
   "mimetype": "text/x-python",
   "name": "python",
   "nbconvert_exporter": "python",
   "pygments_lexer": "ipython3",
   "version": "3.9.12"
  }
 },
 "nbformat": 4,
 "nbformat_minor": 5
}
