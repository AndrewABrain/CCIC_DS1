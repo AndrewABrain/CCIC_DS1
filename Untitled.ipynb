{
 "cells": [
  {
   "cell_type": "code",
   "execution_count": 1,
   "id": "b8493a93",
   "metadata": {},
   "outputs": [],
   "source": [
    "import requests as rs"
   ]
  },
  {
   "cell_type": "code",
   "execution_count": 2,
   "id": "72ac364d",
   "metadata": {},
   "outputs": [],
   "source": [
    "# ps = 194\n",
    "# pn = 51"
   ]
  },
  {
   "cell_type": "code",
   "execution_count": 3,
   "id": "819254c9",
   "metadata": {},
   "outputs": [],
   "source": [
    "# url = \"https://api.nal.usda.gov/fdc/v1/foods/list?&pageSize=194&pageNumber=51&api_key=7huFqm7LkUN5o0b6PHEabJdwkgoh4vzTDOP9GOBp\""
   ]
  },
  {
   "cell_type": "code",
   "execution_count": 4,
   "id": "1e0b0cd5",
   "metadata": {},
   "outputs": [],
   "source": [
    "# response = rs.get(url)"
   ]
  },
  {
   "cell_type": "code",
   "execution_count": 5,
   "id": "85a82a50",
   "metadata": {},
   "outputs": [],
   "source": [
    "#print(response)"
   ]
  },
  {
   "cell_type": "code",
   "execution_count": 6,
   "id": "3727def2",
   "metadata": {
    "scrolled": true
   },
   "outputs": [],
   "source": [
    "# response = response.json()"
   ]
  },
  {
   "cell_type": "code",
   "execution_count": 7,
   "id": "9e19719c",
   "metadata": {
    "scrolled": true
   },
   "outputs": [],
   "source": [
    "# print(response)"
   ]
  },
  {
   "cell_type": "code",
   "execution_count": 8,
   "id": "e615ba8b",
   "metadata": {},
   "outputs": [],
   "source": [
    "# x = response[0]\n",
    "# y = len(response)\n",
    "# print(y)"
   ]
  },
  {
   "cell_type": "code",
   "execution_count": 9,
   "id": "e776135d",
   "metadata": {},
   "outputs": [],
   "source": [
    "# num_food = 0\n",
    "# for food in response:\n",
    "#     num_food = num_food + 1\n",
    "# print(num_food)"
   ]
  },
  {
   "cell_type": "code",
   "execution_count": 10,
   "id": "4ef4c790",
   "metadata": {},
   "outputs": [],
   "source": [
    "def requestAllFood ():\n",
    "    pageNum = 1\n",
    "    foods = []\n",
    "    while True:\n",
    "        url = \"https://api.nal.usda.gov/fdc/v1/foods/list?&pageSize=200&api_key=7huFqm7LkUN5o0b6PHEabJdwkgoh4vzTDOP9GOBp&pageNumber=\" + str(pageNum)\n",
    "        req = rs.get(url)\n",
    "        if not req.ok:\n",
    "            break\n",
    "        foods = foods + req.json()\n",
    "        pageNum = pageNum + 1\n",
    "    return foods"
   ]
  },
  {
   "cell_type": "code",
   "execution_count": 13,
   "id": "0a0beb38",
   "metadata": {},
   "outputs": [],
   "source": [
    "listOfFoods = requestAllFood()"
   ]
  },
  {
   "cell_type": "code",
   "execution_count": 14,
   "id": "9c63e79f",
   "metadata": {},
   "outputs": [
    {
     "name": "stdout",
     "output_type": "stream",
     "text": [
      "10000\n"
     ]
    }
   ],
   "source": [
    "print(len(listOfFoods))"
   ]
  },
  {
   "cell_type": "code",
   "execution_count": 16,
   "id": "a864da93",
   "metadata": {},
   "outputs": [
    {
     "name": "stdout",
     "output_type": "stream",
     "text": [
      "{'fdcId': 2353623, 'description': 'A Low-Starch and High-Fiber Diet Intervention Impacts the Microbial Community of Raw Bovine Milk', 'dataType': 'Experimental', 'publicationDate': '2022-10-28', 'foodNutrients': []}\n"
     ]
    }
   ],
   "source": [
    "x = 1000\n",
    "print(listOfFoods[x])"
   ]
  }
 ],
 "metadata": {
  "kernelspec": {
   "display_name": "Python 3 (ipykernel)",
   "language": "python",
   "name": "python3"
  },
  "language_info": {
   "codemirror_mode": {
    "name": "ipython",
    "version": 3
   },
   "file_extension": ".py",
   "mimetype": "text/x-python",
   "name": "python",
   "nbconvert_exporter": "python",
   "pygments_lexer": "ipython3",
   "version": "3.9.12"
  }
 },
 "nbformat": 4,
 "nbformat_minor": 5
}
