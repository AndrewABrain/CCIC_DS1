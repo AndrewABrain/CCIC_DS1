{
 "cells": [
  {
   "cell_type": "code",
   "execution_count": 24,
   "id": "5e4af6fa",
   "metadata": {},
   "outputs": [
    {
     "name": "stdout",
     "output_type": "stream",
     "text": [
      "The percentage of kids who used the Bottom Right Pair is:\n",
      "44.680851063829785\n",
      "The percentage of kids who used the Bottom Left Pair is:\n",
      "14.893617021276595\n",
      "The percentage of kids who used the Top Right Pair is:\n",
      "40.42553191489361\n"
     ]
    }
   ],
   "source": [
    "pair_machines_used = [[\"Bottom Right Pair\", \"Bottom Left Pair\", \"Top Right Pair\"],\n",
    "                      [21,                   7,             19]]\n",
    "total_usage = pair_machines_used[1][0] + pair_machines_used[1][1] + pair_machines_used[1][2]\n",
    "percentage = (pair_machines_used[1][0] / total_usage) * 100\n",
    "print (\"The percentage of kids who used the \" + pair_machines_used[0][0] + \" is:\")\n",
    "print (percentage)\n",
    "percentage = (pair_machines_used[1][1] / total_usage) * 100\n",
    "print (\"The percentage of kids who used the \" + pair_machines_used[0][1] + \" is:\")\n",
    "print (percentage)\n",
    "percentage = (pair_machines_used[1][2] / total_usage) * 100\n",
    "print (\"The percentage of kids who used the \" + pair_machines_used[0][2] + \" is:\")\n",
    "print (percentage)"
   ]
  },
  {
   "cell_type": "code",
   "execution_count": null,
   "id": "ce0388fa",
   "metadata": {},
   "outputs": [],
   "source": []
  }
 ],
 "metadata": {
  "kernelspec": {
   "display_name": "Python 3 (ipykernel)",
   "language": "python",
   "name": "python3"
  },
  "language_info": {
   "codemirror_mode": {
    "name": "ipython",
    "version": 3
   },
   "file_extension": ".py",
   "mimetype": "text/x-python",
   "name": "python",
   "nbconvert_exporter": "python",
   "pygments_lexer": "ipython3",
   "version": "3.9.12"
  }
 },
 "nbformat": 4,
 "nbformat_minor": 5
}
