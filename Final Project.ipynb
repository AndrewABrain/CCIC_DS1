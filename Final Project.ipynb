{
 "cells": [
  {
   "cell_type": "code",
   "execution_count": 1,
   "id": "c3ce7cac",
   "metadata": {},
   "outputs": [],
   "source": [
    "import pandas as pd\n",
    "import seaborn as sns"
   ]
  },
  {
   "cell_type": "code",
   "execution_count": 2,
   "id": "88c347e7",
   "metadata": {},
   "outputs": [],
   "source": [
    "def makeAndCleanDF ():\n",
    "    avengersEndgame = pd.read_csv('Avengers Endgame.csv')\n",
    "    forrestGump = pd.read_csv('Forrest Gump.csv')\n",
    "    johnWickChapterThree = pd.read_csv('John Wick Chapter 3.csv')\n",
    "    joker = pd.read_csv('Joker.csv')\n",
    "    morbius = pd.read_csv('Morbius.csv')\n",
    "    pulpFiction = pd.read_csv('Pulp Fiction.csv')\n",
    "    spiderManNoWayHome = pd.read_csv('SpiderMan No Way Home.csv')\n",
    "    theAvengers = pd.read_csv('The Avengers.csv')\n",
    "    theDarkKnight = pd.read_csv('The Dark Knight.csv')\n",
    "    thorRagnarok = pd.read_csv('Thor Ragnarok.csv')\n",
    "    df = pd.concat([avengersEndgame, forrestGump, johnWickChapterThree, joker, morbius, pulpFiction, spiderManNoWayHome, theAvengers, theDarkKnight, thorRagnarok], ignore_index=True)\n",
    "    df = df.rename(columns = {\"User's Rating out of 10\":\"Rating\", \"Usefulness Vote\": \"Usefulness\", \"Total Votes\": \"Total\"})\n",
    "    df.dropna(inplace = True)\n",
    "    df['Review'] = df['Review'].astype(str)\n",
    "    df['Review Title'] = df['Review Title'].astype(str)\n",
    "    df['Rating'] = df['Rating'].str.strip()\n",
    "    df = df[df.Rating != \"Was this review helpful?  Sign in to vote.\"]\n",
    "    df['Rating'] = df['Rating'].astype(int)\n",
    "    return df"
   ]
  },
  {
   "cell_type": "code",
   "execution_count": 3,
   "id": "7a8b9336",
   "metadata": {},
   "outputs": [],
   "source": [
    "df = makeAndCleanDF ()"
   ]
  },
  {
   "cell_type": "code",
   "execution_count": 4,
   "id": "b9ff10c5",
   "metadata": {},
   "outputs": [],
   "source": [
    "def getDFTwo ():\n",
    "    partOne = pd.read_json('part-01.json')\n",
    "    partTwo = pd.read_json('part-02.json')\n",
    "    partThree = pd.read_json('part-03.json')\n",
    "    partFour = pd.read_json('part-04.json')\n",
    "    partFive = pd.read_json('part-05.json')\n",
    "    partSix = pd.read_json('part-06.json')\n",
    "    sample = pd.read_json('sample.json')\n",
    "    \n",
    "    df2 = pd.concat([partOne, partTwo, partThree, partFour, partFive, partSix, sample], ignore_index=True)\n",
    "    \n",
    "    return df2"
   ]
  },
  {
   "cell_type": "code",
   "execution_count": 5,
   "id": "8028da5d",
   "metadata": {
    "scrolled": true
   },
   "outputs": [],
   "source": [
    "df2 = getDFTwo()"
   ]
  },
  {
   "cell_type": "code",
   "execution_count": 6,
   "id": "18eda479",
   "metadata": {},
   "outputs": [],
   "source": [
    "def addOtherDataToDataFrame (df, df2):\n",
    "    df2.dropna(inplace = True)\n",
    "    df2.reset_index(drop=True, inplace=True)\n",
    "    helpfulness = []\n",
    "    for row in range(len(df2)):\n",
    "        helpful = df2[\"helpful\"][row]\n",
    "        template = {\"Usefulness\": helpful[0], \"Total\":helpful[1]}\n",
    "        helpfulness.append(template)\n",
    "    helpfulness = pd.DataFrame.from_dict(helpfulness)\n",
    "    df2 = pd.concat([df2, helpfulness], axis=1)\n",
    "    df2[['review_summary', 'review_detail', 'Usefulness', 'Total']] = df2[['review_summary', 'review_detail', 'Usefulness', 'Total']].astype(str)\n",
    "    df2[['Usefulness', 'Total']] = df2[['Usefulness', 'Total']].replace(\",\",\"\", regex=True)\n",
    "    df2[['Usefulness', 'Total']] = df2[['Usefulness', 'Total']].astype(float)\n",
    "    df2 = df2.drop(axis = 1, columns = ['review_id', 'movie', 'spoiler_tag', 'helpful'])\n",
    "    df2 = df2.rename(columns = {\"reviewer\":\"User\", \"rating\":\"Rating\", \"review_summary\":\"Review Title\", \"review_date\":\"Date of Review\", \"review_detail\":\"Review\"})\n",
    "    df = pd.concat([df, df2], ignore_index=True)\n",
    "    return df"
   ]
  },
  {
   "cell_type": "code",
   "execution_count": 7,
   "id": "f9d29129",
   "metadata": {},
   "outputs": [],
   "source": [
    "df = addOtherDataToDataFrame (df, df2)"
   ]
  },
  {
   "cell_type": "code",
   "execution_count": 8,
   "id": "988df328",
   "metadata": {},
   "outputs": [],
   "source": [
    "df.reset_index(drop=True, inplace=True)"
   ]
  },
  {
   "cell_type": "code",
   "execution_count": 9,
   "id": "402d8d5e",
   "metadata": {},
   "outputs": [
    {
     "data": {
      "text/html": [
       "<div>\n",
       "<style scoped>\n",
       "    .dataframe tbody tr th:only-of-type {\n",
       "        vertical-align: middle;\n",
       "    }\n",
       "\n",
       "    .dataframe tbody tr th {\n",
       "        vertical-align: top;\n",
       "    }\n",
       "\n",
       "    .dataframe thead th {\n",
       "        text-align: right;\n",
       "    }\n",
       "</style>\n",
       "<table border=\"1\" class=\"dataframe\">\n",
       "  <thead>\n",
       "    <tr style=\"text-align: right;\">\n",
       "      <th></th>\n",
       "      <th>Usefulness</th>\n",
       "      <th>Total</th>\n",
       "      <th>Rating</th>\n",
       "    </tr>\n",
       "  </thead>\n",
       "  <tbody>\n",
       "    <tr>\n",
       "      <th>count</th>\n",
       "      <td>5.042337e+06</td>\n",
       "      <td>5.042337e+06</td>\n",
       "      <td>5.042337e+06</td>\n",
       "    </tr>\n",
       "    <tr>\n",
       "      <th>mean</th>\n",
       "      <td>7.623624e+00</td>\n",
       "      <td>1.378257e+01</td>\n",
       "      <td>6.759740e+00</td>\n",
       "    </tr>\n",
       "    <tr>\n",
       "      <th>std</th>\n",
       "      <td>3.379430e+01</td>\n",
       "      <td>5.154313e+01</td>\n",
       "      <td>2.986639e+00</td>\n",
       "    </tr>\n",
       "    <tr>\n",
       "      <th>min</th>\n",
       "      <td>0.000000e+00</td>\n",
       "      <td>0.000000e+00</td>\n",
       "      <td>1.000000e+00</td>\n",
       "    </tr>\n",
       "    <tr>\n",
       "      <th>25%</th>\n",
       "      <td>0.000000e+00</td>\n",
       "      <td>1.000000e+00</td>\n",
       "      <td>5.000000e+00</td>\n",
       "    </tr>\n",
       "    <tr>\n",
       "      <th>50%</th>\n",
       "      <td>2.000000e+00</td>\n",
       "      <td>4.000000e+00</td>\n",
       "      <td>8.000000e+00</td>\n",
       "    </tr>\n",
       "    <tr>\n",
       "      <th>75%</th>\n",
       "      <td>6.000000e+00</td>\n",
       "      <td>1.100000e+01</td>\n",
       "      <td>9.000000e+00</td>\n",
       "    </tr>\n",
       "    <tr>\n",
       "      <th>max</th>\n",
       "      <td>1.447700e+04</td>\n",
       "      <td>1.594800e+04</td>\n",
       "      <td>1.000000e+01</td>\n",
       "    </tr>\n",
       "  </tbody>\n",
       "</table>\n",
       "</div>"
      ],
      "text/plain": [
       "         Usefulness         Total        Rating\n",
       "count  5.042337e+06  5.042337e+06  5.042337e+06\n",
       "mean   7.623624e+00  1.378257e+01  6.759740e+00\n",
       "std    3.379430e+01  5.154313e+01  2.986639e+00\n",
       "min    0.000000e+00  0.000000e+00  1.000000e+00\n",
       "25%    0.000000e+00  1.000000e+00  5.000000e+00\n",
       "50%    2.000000e+00  4.000000e+00  8.000000e+00\n",
       "75%    6.000000e+00  1.100000e+01  9.000000e+00\n",
       "max    1.447700e+04  1.594800e+04  1.000000e+01"
      ]
     },
     "execution_count": 9,
     "metadata": {},
     "output_type": "execute_result"
    }
   ],
   "source": [
    "df.describe()"
   ]
  },
  {
   "cell_type": "code",
   "execution_count": 10,
   "id": "fd1f67da",
   "metadata": {},
   "outputs": [],
   "source": [
    "def dropNonUsefulRows (df):\n",
    "    df = df.drop(df.loc[df['Total'] == 0].index)\n",
    "    df = df[df.Usefulness/df.Total > 0.5]\n",
    "    return df"
   ]
  },
  {
   "cell_type": "code",
   "execution_count": 11,
   "id": "e9fb057c",
   "metadata": {
    "scrolled": true
   },
   "outputs": [],
   "source": [
    "df = dropNonUsefulRows (df)"
   ]
  },
  {
   "cell_type": "code",
   "execution_count": 12,
   "id": "593488f1",
   "metadata": {
    "scrolled": true
   },
   "outputs": [
    {
     "data": {
      "text/html": [
       "<div>\n",
       "<style scoped>\n",
       "    .dataframe tbody tr th:only-of-type {\n",
       "        vertical-align: middle;\n",
       "    }\n",
       "\n",
       "    .dataframe tbody tr th {\n",
       "        vertical-align: top;\n",
       "    }\n",
       "\n",
       "    .dataframe thead th {\n",
       "        text-align: right;\n",
       "    }\n",
       "</style>\n",
       "<table border=\"1\" class=\"dataframe\">\n",
       "  <thead>\n",
       "    <tr style=\"text-align: right;\">\n",
       "      <th></th>\n",
       "      <th>Usefulness</th>\n",
       "      <th>Total</th>\n",
       "      <th>Rating</th>\n",
       "    </tr>\n",
       "  </thead>\n",
       "  <tbody>\n",
       "    <tr>\n",
       "      <th>count</th>\n",
       "      <td>1.918283e+06</td>\n",
       "      <td>1.918283e+06</td>\n",
       "      <td>1.918283e+06</td>\n",
       "    </tr>\n",
       "    <tr>\n",
       "      <th>mean</th>\n",
       "      <td>1.463878e+01</td>\n",
       "      <td>2.108642e+01</td>\n",
       "      <td>7.031092e+00</td>\n",
       "    </tr>\n",
       "    <tr>\n",
       "      <th>std</th>\n",
       "      <td>5.167788e+01</td>\n",
       "      <td>7.431625e+01</td>\n",
       "      <td>2.931520e+00</td>\n",
       "    </tr>\n",
       "    <tr>\n",
       "      <th>min</th>\n",
       "      <td>1.000000e+00</td>\n",
       "      <td>1.000000e+00</td>\n",
       "      <td>1.000000e+00</td>\n",
       "    </tr>\n",
       "    <tr>\n",
       "      <th>25%</th>\n",
       "      <td>2.000000e+00</td>\n",
       "      <td>3.000000e+00</td>\n",
       "      <td>5.000000e+00</td>\n",
       "    </tr>\n",
       "    <tr>\n",
       "      <th>50%</th>\n",
       "      <td>5.000000e+00</td>\n",
       "      <td>7.000000e+00</td>\n",
       "      <td>8.000000e+00</td>\n",
       "    </tr>\n",
       "    <tr>\n",
       "      <th>75%</th>\n",
       "      <td>1.200000e+01</td>\n",
       "      <td>1.700000e+01</td>\n",
       "      <td>1.000000e+01</td>\n",
       "    </tr>\n",
       "    <tr>\n",
       "      <th>max</th>\n",
       "      <td>1.447700e+04</td>\n",
       "      <td>1.594800e+04</td>\n",
       "      <td>1.000000e+01</td>\n",
       "    </tr>\n",
       "  </tbody>\n",
       "</table>\n",
       "</div>"
      ],
      "text/plain": [
       "         Usefulness         Total        Rating\n",
       "count  1.918283e+06  1.918283e+06  1.918283e+06\n",
       "mean   1.463878e+01  2.108642e+01  7.031092e+00\n",
       "std    5.167788e+01  7.431625e+01  2.931520e+00\n",
       "min    1.000000e+00  1.000000e+00  1.000000e+00\n",
       "25%    2.000000e+00  3.000000e+00  5.000000e+00\n",
       "50%    5.000000e+00  7.000000e+00  8.000000e+00\n",
       "75%    1.200000e+01  1.700000e+01  1.000000e+01\n",
       "max    1.447700e+04  1.594800e+04  1.000000e+01"
      ]
     },
     "execution_count": 12,
     "metadata": {},
     "output_type": "execute_result"
    }
   ],
   "source": [
    "df.describe()"
   ]
  },
  {
   "cell_type": "code",
   "execution_count": 13,
   "id": "b42e444e",
   "metadata": {},
   "outputs": [
    {
     "name": "stderr",
     "output_type": "stream",
     "text": [
      "C:\\Users\\abrain\\AppData\\Local\\Temp\\ipykernel_17580\\3895080160.py:2: SettingWithCopyWarning: \n",
      "A value is trying to be set on a copy of a slice from a DataFrame\n",
      "\n",
      "See the caveats in the documentation: https://pandas.pydata.org/pandas-docs/stable/user_guide/indexing.html#returning-a-view-versus-a-copy\n",
      "  df['Rating'].loc[df.Rating > 5] = 1\n"
     ]
    }
   ],
   "source": [
    "df['Rating'].loc[df.Rating <= 5] = 0\n",
    "df['Rating'].loc[df.Rating > 5] = 1"
   ]
  },
  {
   "cell_type": "code",
   "execution_count": 14,
   "id": "04135158",
   "metadata": {},
   "outputs": [],
   "source": [
    "df = df[[\"Rating\", \"Review Title\", \"Review\"]]"
   ]
  },
  {
   "cell_type": "code",
   "execution_count": 15,
   "id": "5b5a3238",
   "metadata": {},
   "outputs": [
    {
     "name": "stdout",
     "output_type": "stream",
     "text": [
      "<class 'pandas.core.frame.DataFrame'>\n",
      "Int64Index: 1918283 entries, 0 to 5042336\n",
      "Data columns (total 3 columns):\n",
      " #   Column        Dtype  \n",
      "---  ------        -----  \n",
      " 0   Rating        float64\n",
      " 1   Review Title  object \n",
      " 2   Review        object \n",
      "dtypes: float64(1), object(2)\n",
      "memory usage: 58.5+ MB\n"
     ]
    }
   ],
   "source": [
    "df.info()"
   ]
  },
  {
   "cell_type": "code",
   "execution_count": 16,
   "id": "a8700900",
   "metadata": {
    "scrolled": true
   },
   "outputs": [],
   "source": [
    "df[\"Review\"] = df['Review Title'].astype(str) + \" \" + df[\"Review\"].astype(str)"
   ]
  },
  {
   "cell_type": "code",
   "execution_count": 17,
   "id": "e88ea25d",
   "metadata": {},
   "outputs": [],
   "source": [
    "df = df[[\"Rating\", \"Review\"]]"
   ]
  },
  {
   "cell_type": "code",
   "execution_count": 18,
   "id": "717970f3",
   "metadata": {},
   "outputs": [],
   "source": [
    "def featurize (df):\n",
    "    featurized = []\n",
    "    onlyNegative = df[df.Rating == 0]\n",
    "    onlyPositive = df[df.Rating == 1]\n",
    "    positiveReviews, negativeReviews = ' '.join(onlyPositive['Review']), ' '.join(onlyNegative['Review'])\n",
    "    positiveReviews, negativeReviews = positiveReviews.lower(), negativeReviews.lower()\n",
    "    positiveReviews, negativeReviews = positiveReviews.split(), negativeReviews.split()\n",
    "    #unrepeated = list(set(positiveReviews + negativeReviews))\n",
    "    return featurized, positiveReviews, negativeReviews"
   ]
  },
  {
   "cell_type": "code",
   "execution_count": 19,
   "id": "cc8ca8ad",
   "metadata": {},
   "outputs": [],
   "source": [
    "featurized, positiveReviews, negativeReviews = featurize (df)"
   ]
  },
  {
   "cell_type": "code",
   "execution_count": 22,
   "id": "a547cd4e",
   "metadata": {
    "scrolled": true
   },
   "outputs": [],
   "source": [
    "unrepeated = list(set(positiveReviews + negativeReviews))"
   ]
  },
  {
   "cell_type": "code",
   "execution_count": 23,
   "id": "a367e031",
   "metadata": {},
   "outputs": [
    {
     "data": {
      "text/plain": [
       "5049425"
      ]
     },
     "execution_count": 23,
     "metadata": {},
     "output_type": "execute_result"
    }
   ],
   "source": [
    "len(unrepeated)"
   ]
  },
  {
   "cell_type": "code",
   "execution_count": 25,
   "id": "00892dae",
   "metadata": {},
   "outputs": [
    {
     "ename": "KeyboardInterrupt",
     "evalue": "",
     "output_type": "error",
     "traceback": [
      "\u001b[1;31m---------------------------------------------------------------------------\u001b[0m",
      "\u001b[1;31mKeyboardInterrupt\u001b[0m                         Traceback (most recent call last)",
      "\u001b[1;32m~\\AppData\\Local\\Temp\\ipykernel_17580\\1227072138.py\u001b[0m in \u001b[0;36m<module>\u001b[1;34m\u001b[0m\n\u001b[1;32m----> 1\u001b[1;33m \u001b[0mfullList\u001b[0m \u001b[1;33m=\u001b[0m \u001b[0mpositiveReviews\u001b[0m \u001b[1;33m+\u001b[0m \u001b[0mnegativeReviews\u001b[0m\u001b[1;33m\u001b[0m\u001b[1;33m\u001b[0m\u001b[0m\n\u001b[0m",
      "\u001b[1;31mKeyboardInterrupt\u001b[0m: "
     ]
    }
   ],
   "source": [
    "fullList = positiveReviews + negativeReviews"
   ]
  },
  {
   "cell_type": "code",
   "execution_count": null,
   "id": "05c2a010",
   "metadata": {},
   "outputs": [],
   "source": [
    "for word in unrepeated:\n",
    "    negativeTotal = negativeReviews.count(word)\n",
    "    positiveTotal = positiveReviews.count(word)\n",
    "    template = {\"Word\":word, \"Positive\":positiveTotal , \"Negative\":negativeTotal}\n",
    "    featurized.append(template)"
   ]
  },
  {
   "cell_type": "code",
   "execution_count": null,
   "id": "913bd593",
   "metadata": {},
   "outputs": [],
   "source": [
    "def fixPunctuation (allTexts):\n",
    "    allTexts = allTexts.replace(\".\", \" \")\n",
    "    allTexts = allTexts.replace(\",\", \" \")\n",
    "    allTexts = allTexts.replace(\"?\", \" \")\n",
    "    allTexts = allTexts.replace(\"!\", \" \")\n",
    "    allTexts = allTexts.replace(\":\", \" \")\n",
    "    allTexts = allTexts.replace(\";\", \" \")\n",
    "    allTexts = allTexts.replace(\"/\", \" \")\n",
    "    allTexts = allTexts.replace(\")\", \" \")\n",
    "    allTexts = allTexts.replace(\"(\", \" \")\n",
    "    allTexts = allTexts.replace(\"'\", \" \")\n",
    "    allTexts = allTexts.replace(\"'\", \" \")\n",
    "    \n",
    "    \n",
    "    return allTexts"
   ]
  },
  {
   "cell_type": "code",
   "execution_count": null,
   "id": "efd3961d",
   "metadata": {},
   "outputs": [],
   "source": [
    "def fixText (text):\n",
    "    text = text.lower()\n",
    "    \n",
    "    text = fixPunctuation (text)\n",
    "        \n",
    "    text = text.split()\n",
    "    \n",
    "    return text"
   ]
  },
  {
   "cell_type": "code",
   "execution_count": null,
   "id": "38a624e6",
   "metadata": {},
   "outputs": [],
   "source": [
    "def combineText (df):\n",
    "    text = ' '.join(df[\"Review\"])\n",
    "    \n",
    "    return text"
   ]
  },
  {
   "cell_type": "code",
   "execution_count": null,
   "id": "448babfb",
   "metadata": {},
   "outputs": [],
   "source": [
    "def featurize (df):\n",
    "    allTexts = combineText (df)\n",
    "    \n",
    "    allTexts = fixText (allTexts)\n",
    "    \n",
    "    unrepeatedWords = list(set(allTexts))\n",
    "    \n",
    "    greaterThanFive = df[df.Rating > 5]\n",
    "    greaterThanFive = combineText (greaterThanFive)\n",
    "    greaterThanFive = fixText (greaterThanFive)\n",
    "    lessThanSix = df[df.Rating < 6]\n",
    "    lessThanSix = combineText (lessThanSix)\n",
    "    lessThanSix = fixText (lessThanSix)\n",
    "    \n",
    "    numberOfWords = []\n",
    "    \n",
    "    for word in unrepeatedWords: \n",
    "        greaterThanFiveCount = greaterThanFive.count(word)\n",
    "        lessThanSixCount = lessThanSix.count(word)\n",
    "        numberOfWords = {\"Word\":word, \"greaterThanFive\":greaterThanFiveCount, \"lessThanSix\":lessThanSixCount}\n",
    "    \n",
    "    numberOfWords = pd.DataFrame.from_dict(numberOfWords)\n",
    "    \n",
    "    return df, numberOfWords"
   ]
  },
  {
   "cell_type": "code",
   "execution_count": null,
   "id": "98ff3b94",
   "metadata": {
    "scrolled": true
   },
   "outputs": [],
   "source": [
    "df, numberOfWords = featurize (df)"
   ]
  },
  {
   "cell_type": "code",
   "execution_count": null,
   "id": "efcc0cca",
   "metadata": {
    "scrolled": true
   },
   "outputs": [],
   "source": [
    "def makeColumns (df):\n",
    "    allTexts = \"\"\n",
    "    reviewTitle = ' '.join(df[\"Review Title\"])\n",
    "    review = ' '.join(df[\"Review\"])\n",
    "    allTexts = reviewTitle + \" \" + review\n",
    "    \n",
    "    allTexts = allTexts.lower()\n",
    "    \n",
    "    allTexts = fixPunctuation (allTexts)\n",
    "        \n",
    "    allTexts = allTexts.split()\n",
    "    \n",
    "    dic = {}\n",
    "        \n",
    "    for word in allTexts:\n",
    "        if word in dic:\n",
    "            x += 1\n",
    "        else:\n",
    "            x = 1\n",
    "    \n",
    "        dic[word] = x\n",
    "        \n",
    "    nonRelevantWords = [key for key, val in dic.items() if val <= 1]\n",
    "    relevantWords = {key:[] for key, val in dic.items() if val > 1}\n",
    "    \n",
    "    relevantWords = pd.DataFrame.from_dict(relevantWords)\n",
    "    \n",
    "    df = pd.concat([df, relevantWords], ignore_index=True)\n",
    "    \n",
    "    return df, nonRelevantWords"
   ]
  },
  {
   "cell_type": "code",
   "execution_count": null,
   "id": "9824f04c",
   "metadata": {},
   "outputs": [],
   "source": [
    "df, nonRelevantWords = makeColumns (df)"
   ]
  },
  {
   "cell_type": "code",
   "execution_count": null,
   "id": "a7595856",
   "metadata": {},
   "outputs": [],
   "source": [
    "def getValues (df, nonRelevantWords):\n",
    "    end = len(df)\n",
    "    \n",
    "    for i in range (end):\n",
    "        wordsForRow = df[\"Review Title\"][i] + \" \" + df[\"Review\"][i]\n",
    "        \n",
    "        wordsForRow = wordsForRow.lower()\n",
    "    \n",
    "        wordsForRow = fixPunctuation (wordsForRow)\n",
    "        \n",
    "        wordsForRow = wordsForRow.split()\n",
    "        \n",
    "        unrepeatedWords = list(set(wordsForRow))\n",
    "        \n",
    "        for word in unrepeatedWords:\n",
    "            if word not in nonRelevantWords:\n",
    "                df.loc[i, word] = wordsForRow.count(word)\n",
    "            else:\n",
    "                pass\n",
    "    \n",
    "    df = df.fillna(0)\n",
    "    \n",
    "    return df"
   ]
  },
  {
   "cell_type": "code",
   "execution_count": null,
   "id": "ccb4e288",
   "metadata": {
    "scrolled": true
   },
   "outputs": [],
   "source": [
    "df = getValues (df, nonRelevantWords)"
   ]
  },
  {
   "cell_type": "code",
   "execution_count": null,
   "id": "863cca50",
   "metadata": {
    "scrolled": true
   },
   "outputs": [],
   "source": [
    "df"
   ]
  },
  {
   "cell_type": "code",
   "execution_count": null,
   "id": "314480ba",
   "metadata": {},
   "outputs": [],
   "source": [
    "cor = df.corr()"
   ]
  },
  {
   "cell_type": "code",
   "execution_count": null,
   "id": "f4f5acab",
   "metadata": {
    "scrolled": true
   },
   "outputs": [],
   "source": [
    "cor"
   ]
  },
  {
   "cell_type": "code",
   "execution_count": null,
   "id": "c5102e9e",
   "metadata": {},
   "outputs": [],
   "source": [
    "for column in cor:\n",
    "    if not(abs(cor['Rating'][column]) >= 0.01):\n",
    "        df = df.drop(columns = column)"
   ]
  },
  {
   "cell_type": "code",
   "execution_count": null,
   "id": "642a11c3",
   "metadata": {
    "scrolled": true
   },
   "outputs": [],
   "source": [
    "df"
   ]
  }
 ],
 "metadata": {
  "kernelspec": {
   "display_name": "Python 3 (ipykernel)",
   "language": "python",
   "name": "python3"
  },
  "language_info": {
   "codemirror_mode": {
    "name": "ipython",
    "version": 3
   },
   "file_extension": ".py",
   "mimetype": "text/x-python",
   "name": "python",
   "nbconvert_exporter": "python",
   "pygments_lexer": "ipython3",
   "version": "3.9.13"
  }
 },
 "nbformat": 4,
 "nbformat_minor": 5
}
