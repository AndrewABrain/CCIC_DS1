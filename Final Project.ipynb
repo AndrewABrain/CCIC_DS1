{
 "cells": [
  {
   "cell_type": "code",
   "execution_count": 1,
   "id": "c3ce7cac",
   "metadata": {},
   "outputs": [],
   "source": [
    "import pandas as pd\n",
    "import seaborn as sns"
   ]
  },
  {
   "cell_type": "code",
   "execution_count": 2,
   "id": "88c347e7",
   "metadata": {},
   "outputs": [],
   "source": [
    "avengersEndgame = pd.read_csv('Avengers Endgame.csv')\n",
    "forrestGump = pd.read_csv('Forrest Gump.csv')\n",
    "johnWickChapterThree = pd.read_csv('John Wick Chapter 3.csv')\n",
    "joker = pd.read_csv('Joker.csv')\n",
    "morbius = pd.read_csv('Morbius.csv')\n",
    "pulpFiction = pd.read_csv('Pulp Fiction.csv')\n",
    "spiderManNoWayHome = pd.read_csv('SpiderMan No Way Home.csv')\n",
    "theAvengers = pd.read_csv('The Avengers.csv')\n",
    "theDarkKnight = pd.read_csv('The Dark Knight.csv')\n",
    "thorRagnarok = pd.read_csv('Thor Ragnarok.csv')"
   ]
  },
  {
   "cell_type": "code",
   "execution_count": 3,
   "id": "9ed127b6",
   "metadata": {},
   "outputs": [],
   "source": [
    "df = pd.concat([avengersEndgame, forrestGump, johnWickChapterThree, joker, morbius, pulpFiction, spiderManNoWayHome, theAvengers, theDarkKnight, thorRagnarok], ignore_index=True)"
   ]
  },
  {
   "cell_type": "code",
   "execution_count": 4,
   "id": "806ccd4a",
   "metadata": {},
   "outputs": [],
   "source": [
    "#df = df.drop(columns = ['Date of Review', 'User', 'Usefulness Vote', 'Total Votes'])"
   ]
  },
  {
   "cell_type": "code",
   "execution_count": 5,
   "id": "a52a0c11",
   "metadata": {},
   "outputs": [],
   "source": [
    "df = df.rename(columns = {\"User's Rating out of 10\":\"Rating\"})"
   ]
  },
  {
   "cell_type": "code",
   "execution_count": 6,
   "id": "0883409d",
   "metadata": {},
   "outputs": [
    {
     "data": {
      "text/plain": [
       "True"
      ]
     },
     "execution_count": 6,
     "metadata": {},
     "output_type": "execute_result"
    }
   ],
   "source": [
    "df.isnull().values.any()"
   ]
  },
  {
   "cell_type": "code",
   "execution_count": 7,
   "id": "da5315c0",
   "metadata": {},
   "outputs": [],
   "source": [
    "df.dropna(inplace = True)"
   ]
  },
  {
   "cell_type": "code",
   "execution_count": 8,
   "id": "d15054a7",
   "metadata": {},
   "outputs": [
    {
     "name": "stdout",
     "output_type": "stream",
     "text": [
      "<class 'pandas.core.frame.DataFrame'>\n",
      "Int64Index: 47061 entries, 0 to 47062\n",
      "Data columns (total 7 columns):\n",
      " #   Column           Non-Null Count  Dtype \n",
      "---  ------           --------------  ----- \n",
      " 0   Date of Review   47061 non-null  object\n",
      " 1   User             47061 non-null  object\n",
      " 2   Usefulness Vote  47061 non-null  int64 \n",
      " 3   Total Votes      47061 non-null  int64 \n",
      " 4   Rating           47061 non-null  object\n",
      " 5   Review Title     47061 non-null  object\n",
      " 6   Review           47061 non-null  object\n",
      "dtypes: int64(2), object(5)\n",
      "memory usage: 2.9+ MB\n"
     ]
    }
   ],
   "source": [
    "df.info()"
   ]
  },
  {
   "cell_type": "code",
   "execution_count": 9,
   "id": "7ef78827",
   "metadata": {},
   "outputs": [],
   "source": [
    "df['Review'] = df['Review'].astype(str)"
   ]
  },
  {
   "cell_type": "code",
   "execution_count": 10,
   "id": "477f8737",
   "metadata": {},
   "outputs": [],
   "source": [
    "df['Review Title'] = df['Review Title'].astype(str)"
   ]
  },
  {
   "cell_type": "code",
   "execution_count": 11,
   "id": "fea88640",
   "metadata": {},
   "outputs": [],
   "source": [
    "df['Rating'] = df['Rating'].str.strip()"
   ]
  },
  {
   "cell_type": "code",
   "execution_count": 12,
   "id": "09b07c66",
   "metadata": {},
   "outputs": [],
   "source": [
    "df = df[df.Rating != \"Was this review helpful?  Sign in to vote.\"]"
   ]
  },
  {
   "cell_type": "code",
   "execution_count": 13,
   "id": "91d11654",
   "metadata": {},
   "outputs": [],
   "source": [
    "df['Rating'] = df['Rating'].astype(int)"
   ]
  },
  {
   "cell_type": "code",
   "execution_count": 14,
   "id": "4a7490f4",
   "metadata": {},
   "outputs": [
    {
     "data": {
      "text/plain": [
       "False"
      ]
     },
     "execution_count": 14,
     "metadata": {},
     "output_type": "execute_result"
    }
   ],
   "source": [
    "df.isnull().values.any()"
   ]
  },
  {
   "cell_type": "code",
   "execution_count": 15,
   "id": "c52fb8a0",
   "metadata": {
    "scrolled": true
   },
   "outputs": [
    {
     "name": "stdout",
     "output_type": "stream",
     "text": [
      "<class 'pandas.core.frame.DataFrame'>\n",
      "Int64Index: 45779 entries, 0 to 47062\n",
      "Data columns (total 7 columns):\n",
      " #   Column           Non-Null Count  Dtype \n",
      "---  ------           --------------  ----- \n",
      " 0   Date of Review   45779 non-null  object\n",
      " 1   User             45779 non-null  object\n",
      " 2   Usefulness Vote  45779 non-null  int64 \n",
      " 3   Total Votes      45779 non-null  int64 \n",
      " 4   Rating           45779 non-null  int32 \n",
      " 5   Review Title     45779 non-null  object\n",
      " 6   Review           45779 non-null  object\n",
      "dtypes: int32(1), int64(2), object(4)\n",
      "memory usage: 2.6+ MB\n"
     ]
    }
   ],
   "source": [
    "df.info()"
   ]
  },
  {
   "cell_type": "code",
   "execution_count": 16,
   "id": "ffe2cd86",
   "metadata": {},
   "outputs": [],
   "source": [
    "df.reset_index(drop=True, inplace=True)"
   ]
  },
  {
   "cell_type": "code",
   "execution_count": 17,
   "id": "4d9f2632",
   "metadata": {
    "scrolled": true
   },
   "outputs": [
    {
     "data": {
      "text/html": [
       "<div>\n",
       "<style scoped>\n",
       "    .dataframe tbody tr th:only-of-type {\n",
       "        vertical-align: middle;\n",
       "    }\n",
       "\n",
       "    .dataframe tbody tr th {\n",
       "        vertical-align: top;\n",
       "    }\n",
       "\n",
       "    .dataframe thead th {\n",
       "        text-align: right;\n",
       "    }\n",
       "</style>\n",
       "<table border=\"1\" class=\"dataframe\">\n",
       "  <thead>\n",
       "    <tr style=\"text-align: right;\">\n",
       "      <th></th>\n",
       "      <th>Date of Review</th>\n",
       "      <th>User</th>\n",
       "      <th>Usefulness Vote</th>\n",
       "      <th>Total Votes</th>\n",
       "      <th>Rating</th>\n",
       "      <th>Review Title</th>\n",
       "      <th>Review</th>\n",
       "    </tr>\n",
       "  </thead>\n",
       "  <tbody>\n",
       "    <tr>\n",
       "      <th>0</th>\n",
       "      <td>4 May 2019</td>\n",
       "      <td>Paynebyname</td>\n",
       "      <td>1481</td>\n",
       "      <td>2771</td>\n",
       "      <td>4</td>\n",
       "      <td>The writers got carried away, the directors ov...</td>\n",
       "      <td>I've just come from watching Endgame and I mus...</td>\n",
       "    </tr>\n",
       "    <tr>\n",
       "      <th>1</th>\n",
       "      <td>6 May 2019</td>\n",
       "      <td>jtindahouse</td>\n",
       "      <td>75</td>\n",
       "      <td>127</td>\n",
       "      <td>4</td>\n",
       "      <td>Time travel is such a lazy way to write stories</td>\n",
       "      <td>Only a month or so back I was talking to a fri...</td>\n",
       "    </tr>\n",
       "    <tr>\n",
       "      <th>2</th>\n",
       "      <td>13 May 2019</td>\n",
       "      <td>arclinecreative</td>\n",
       "      <td>100</td>\n",
       "      <td>170</td>\n",
       "      <td>3</td>\n",
       "      <td>Overrated and full of filler</td>\n",
       "      <td>Continuity? 350M budget and no one looking ove...</td>\n",
       "    </tr>\n",
       "    <tr>\n",
       "      <th>3</th>\n",
       "      <td>3 August 2019</td>\n",
       "      <td>RetroRick</td>\n",
       "      <td>99</td>\n",
       "      <td>169</td>\n",
       "      <td>3</td>\n",
       "      <td>downbeat, overblown &amp; so so long. Cuts all you...</td>\n",
       "      <td>Maybe I would have enjoyed this more if I were...</td>\n",
       "    </tr>\n",
       "    <tr>\n",
       "      <th>4</th>\n",
       "      <td>13 December 2021</td>\n",
       "      <td>ACollegeStudent</td>\n",
       "      <td>27</td>\n",
       "      <td>41</td>\n",
       "      <td>8</td>\n",
       "      <td>Not as good as infinity war but a great movie</td>\n",
       "      <td>Rating: 8.6Not as good as Infinity war pacing-...</td>\n",
       "    </tr>\n",
       "  </tbody>\n",
       "</table>\n",
       "</div>"
      ],
      "text/plain": [
       "     Date of Review             User  Usefulness Vote  Total Votes  Rating  \\\n",
       "0        4 May 2019      Paynebyname             1481         2771       4   \n",
       "1        6 May 2019      jtindahouse               75          127       4   \n",
       "2       13 May 2019  arclinecreative              100          170       3   \n",
       "3     3 August 2019        RetroRick               99          169       3   \n",
       "4  13 December 2021  ACollegeStudent               27           41       8   \n",
       "\n",
       "                                        Review Title  \\\n",
       "0  The writers got carried away, the directors ov...   \n",
       "1    Time travel is such a lazy way to write stories   \n",
       "2                       Overrated and full of filler   \n",
       "3  downbeat, overblown & so so long. Cuts all you...   \n",
       "4      Not as good as infinity war but a great movie   \n",
       "\n",
       "                                              Review  \n",
       "0  I've just come from watching Endgame and I mus...  \n",
       "1  Only a month or so back I was talking to a fri...  \n",
       "2  Continuity? 350M budget and no one looking ove...  \n",
       "3  Maybe I would have enjoyed this more if I were...  \n",
       "4  Rating: 8.6Not as good as Infinity war pacing-...  "
      ]
     },
     "execution_count": 17,
     "metadata": {},
     "output_type": "execute_result"
    }
   ],
   "source": [
    "df.head()"
   ]
  },
  {
   "cell_type": "code",
   "execution_count": 18,
   "id": "2e626786",
   "metadata": {},
   "outputs": [
    {
     "data": {
      "text/plain": [
       "45779"
      ]
     },
     "execution_count": 18,
     "metadata": {},
     "output_type": "execute_result"
    }
   ],
   "source": [
    "len(df)"
   ]
  },
  {
   "cell_type": "code",
   "execution_count": 19,
   "id": "f49b974e",
   "metadata": {},
   "outputs": [],
   "source": [
    "def dropNonUsefulRows (df):\n",
    "    for row in range(len(df.index)):\n",
    "        ratio = None\n",
    "        if df['Total Votes'][row] == 0:\n",
    "            pass            \n",
    "        elif df['Usefulness Vote'][row]/df['Total Votes'][row] > 0.5:\n",
    "            df = df.drop(row)\n",
    "            \n",
    "    return df"
   ]
  },
  {
   "cell_type": "code",
   "execution_count": 20,
   "id": "98bc3fdb",
   "metadata": {},
   "outputs": [],
   "source": [
    "df = dropNonUsefulRows (df)"
   ]
  },
  {
   "cell_type": "code",
   "execution_count": 21,
   "id": "2fdaa240",
   "metadata": {},
   "outputs": [
    {
     "data": {
      "text/plain": [
       "31805"
      ]
     },
     "execution_count": 21,
     "metadata": {},
     "output_type": "execute_result"
    }
   ],
   "source": [
    "len(df)"
   ]
  },
  {
   "cell_type": "code",
   "execution_count": 22,
   "id": "222b793e",
   "metadata": {},
   "outputs": [
    {
     "data": {
      "text/html": [
       "<div>\n",
       "<style scoped>\n",
       "    .dataframe tbody tr th:only-of-type {\n",
       "        vertical-align: middle;\n",
       "    }\n",
       "\n",
       "    .dataframe tbody tr th {\n",
       "        vertical-align: top;\n",
       "    }\n",
       "\n",
       "    .dataframe thead th {\n",
       "        text-align: right;\n",
       "    }\n",
       "</style>\n",
       "<table border=\"1\" class=\"dataframe\">\n",
       "  <thead>\n",
       "    <tr style=\"text-align: right;\">\n",
       "      <th></th>\n",
       "      <th>Usefulness Vote</th>\n",
       "      <th>Total Votes</th>\n",
       "      <th>Rating</th>\n",
       "    </tr>\n",
       "  </thead>\n",
       "  <tbody>\n",
       "    <tr>\n",
       "      <th>count</th>\n",
       "      <td>31805.000000</td>\n",
       "      <td>31805.000000</td>\n",
       "      <td>31805.000000</td>\n",
       "    </tr>\n",
       "    <tr>\n",
       "      <th>mean</th>\n",
       "      <td>4.873542</td>\n",
       "      <td>13.404748</td>\n",
       "      <td>8.088602</td>\n",
       "    </tr>\n",
       "    <tr>\n",
       "      <th>std</th>\n",
       "      <td>22.039603</td>\n",
       "      <td>50.872017</td>\n",
       "      <td>2.663425</td>\n",
       "    </tr>\n",
       "    <tr>\n",
       "      <th>min</th>\n",
       "      <td>0.000000</td>\n",
       "      <td>0.000000</td>\n",
       "      <td>1.000000</td>\n",
       "    </tr>\n",
       "    <tr>\n",
       "      <th>25%</th>\n",
       "      <td>0.000000</td>\n",
       "      <td>2.000000</td>\n",
       "      <td>7.000000</td>\n",
       "    </tr>\n",
       "    <tr>\n",
       "      <th>50%</th>\n",
       "      <td>1.000000</td>\n",
       "      <td>4.000000</td>\n",
       "      <td>9.000000</td>\n",
       "    </tr>\n",
       "    <tr>\n",
       "      <th>75%</th>\n",
       "      <td>3.000000</td>\n",
       "      <td>9.000000</td>\n",
       "      <td>10.000000</td>\n",
       "    </tr>\n",
       "    <tr>\n",
       "      <th>max</th>\n",
       "      <td>1104.000000</td>\n",
       "      <td>2318.000000</td>\n",
       "      <td>10.000000</td>\n",
       "    </tr>\n",
       "  </tbody>\n",
       "</table>\n",
       "</div>"
      ],
      "text/plain": [
       "       Usefulness Vote   Total Votes        Rating\n",
       "count     31805.000000  31805.000000  31805.000000\n",
       "mean          4.873542     13.404748      8.088602\n",
       "std          22.039603     50.872017      2.663425\n",
       "min           0.000000      0.000000      1.000000\n",
       "25%           0.000000      2.000000      7.000000\n",
       "50%           1.000000      4.000000      9.000000\n",
       "75%           3.000000      9.000000     10.000000\n",
       "max        1104.000000   2318.000000     10.000000"
      ]
     },
     "execution_count": 22,
     "metadata": {},
     "output_type": "execute_result"
    }
   ],
   "source": [
    "df.describe()"
   ]
  },
  {
   "cell_type": "code",
   "execution_count": 23,
   "id": "913bd593",
   "metadata": {},
   "outputs": [],
   "source": [
    "def fixPunctuation (allTexts):\n",
    "    allTexts = allTexts.replace(\".\", \" . \")\n",
    "    allTexts = allTexts.replace(\",\", \" , \")\n",
    "    allTexts = allTexts.replace(\"?\", \" ? \")\n",
    "    allTexts = allTexts.replace(\"!\", \" ! \")\n",
    "    allTexts = allTexts.replace(\":\", \" : \")\n",
    "    allTexts = allTexts.replace(\";\", \" ; \")\n",
    "    allTexts = allTexts.replace(\"/\", \" / \")\n",
    "    allTexts = allTexts.replace(\")\", \" ) \")\n",
    "    allTexts = allTexts.replace(\"(\", \" ( \")\n",
    "    allTexts = allTexts.replace(\"'\", \" ' \")\n",
    "    allTexts = allTexts.replace(\"'\", \" ' \")\n",
    "    \n",
    "    \n",
    "    return allTexts"
   ]
  },
  {
   "cell_type": "code",
   "execution_count": 24,
   "id": "efcc0cca",
   "metadata": {
    "scrolled": true
   },
   "outputs": [],
   "source": [
    "def makeColumns (df):\n",
    "    allTexts = \"\"\n",
    "    reviewTitle = ' '.join(df[\"Review Title\"])\n",
    "    review = ' '.join(df[\"Review\"])\n",
    "    allTexts = reviewTitle + \" \" + review\n",
    "    \n",
    "    allTexts = allTexts.lower()\n",
    "    \n",
    "    allTexts = fixPunctuation (allTexts)\n",
    "        \n",
    "    allTexts = allTexts.split()\n",
    "    \n",
    "    dic = {}\n",
    "        \n",
    "    for word in allTexts:\n",
    "        if word in dic:\n",
    "            x += 1\n",
    "        else:\n",
    "            x = 1\n",
    "    \n",
    "        dic[word] = x\n",
    "        \n",
    "    nonRelevantWords = [key for key, val in dic.items() if val <= 1]\n",
    "    relevantWords = {key:[] for key, val in dic.items() if val > 1}\n",
    "    \n",
    "    relevantWords = pd.DataFrame.from_dict(relevantWords)\n",
    "    \n",
    "    df = pd.concat([df, relevantWords], ignore_index=True)\n",
    "    \n",
    "    return df, nonRelevantWords"
   ]
  },
  {
   "cell_type": "code",
   "execution_count": 25,
   "id": "21ef2e84",
   "metadata": {
    "scrolled": false
   },
   "outputs": [],
   "source": [
    "df, nonRelevantWords = makeColumns (df)"
   ]
  },
  {
   "cell_type": "code",
   "execution_count": 26,
   "id": "a7595856",
   "metadata": {},
   "outputs": [],
   "source": [
    "def getValues (df, nonRelevantWords):\n",
    "    end = len(df)\n",
    "    \n",
    "    for i in range (end):\n",
    "        wordsForRow = df[\"Review Title\"][i] + \" \" + df[\"Review\"][i]\n",
    "        \n",
    "        wordsForRow = wordsForRow.lower()\n",
    "    \n",
    "        wordsForRow = fixPunctuation (wordsForRow)\n",
    "        \n",
    "        wordsForRow = wordsForRow.split()\n",
    "        \n",
    "        unrepeatedWords = list(set(wordsForRow))\n",
    "        \n",
    "        for word in unrepeatedWords:\n",
    "            if word not in nonRelevantWords:\n",
    "                df.loc[i, word] = wordsForRow.count(word)\n",
    "            else:\n",
    "                pass\n",
    "    \n",
    "    df = df.fillna(0)\n",
    "    \n",
    "    return df"
   ]
  },
  {
   "cell_type": "code",
   "execution_count": 27,
   "id": "ccb4e288",
   "metadata": {
    "scrolled": true
   },
   "outputs": [
    {
     "ename": "KeyboardInterrupt",
     "evalue": "",
     "output_type": "error",
     "traceback": [
      "\u001b[1;31m---------------------------------------------------------------------------\u001b[0m",
      "\u001b[1;31mKeyboardInterrupt\u001b[0m                         Traceback (most recent call last)",
      "Input \u001b[1;32mIn [27]\u001b[0m, in \u001b[0;36m<cell line: 1>\u001b[1;34m()\u001b[0m\n\u001b[1;32m----> 1\u001b[0m df \u001b[38;5;241m=\u001b[39m \u001b[43mgetValues\u001b[49m\u001b[43m \u001b[49m\u001b[43m(\u001b[49m\u001b[43mdf\u001b[49m\u001b[43m,\u001b[49m\u001b[43m \u001b[49m\u001b[43mnonRelevantWords\u001b[49m\u001b[43m)\u001b[49m\n",
      "Input \u001b[1;32mIn [26]\u001b[0m, in \u001b[0;36mgetValues\u001b[1;34m(df, nonRelevantWords)\u001b[0m\n\u001b[0;32m     15\u001b[0m \u001b[38;5;28;01mfor\u001b[39;00m word \u001b[38;5;129;01min\u001b[39;00m unrepeatedWords:\n\u001b[0;32m     16\u001b[0m     \u001b[38;5;28;01mif\u001b[39;00m word \u001b[38;5;129;01mnot\u001b[39;00m \u001b[38;5;129;01min\u001b[39;00m nonRelevantWords:\n\u001b[1;32m---> 17\u001b[0m         df\u001b[38;5;241m.\u001b[39mloc[i, word] \u001b[38;5;241m=\u001b[39m \u001b[43mwordsForRow\u001b[49m\u001b[38;5;241;43m.\u001b[39;49m\u001b[43mcount\u001b[49m\u001b[43m(\u001b[49m\u001b[43mword\u001b[49m\u001b[43m)\u001b[49m\n\u001b[0;32m     18\u001b[0m     \u001b[38;5;28;01melse\u001b[39;00m:\n\u001b[0;32m     19\u001b[0m         \u001b[38;5;28;01mpass\u001b[39;00m\n",
      "\u001b[1;31mKeyboardInterrupt\u001b[0m: "
     ]
    }
   ],
   "source": [
    "df = getValues (df, nonRelevantWords)"
   ]
  },
  {
   "cell_type": "code",
   "execution_count": null,
   "id": "863cca50",
   "metadata": {
    "scrolled": true
   },
   "outputs": [],
   "source": [
    "df"
   ]
  },
  {
   "cell_type": "code",
   "execution_count": null,
   "id": "314480ba",
   "metadata": {},
   "outputs": [],
   "source": [
    "cor = df.corr()"
   ]
  },
  {
   "cell_type": "code",
   "execution_count": null,
   "id": "f4f5acab",
   "metadata": {
    "scrolled": true
   },
   "outputs": [],
   "source": [
    "cor"
   ]
  },
  {
   "cell_type": "code",
   "execution_count": null,
   "id": "c5102e9e",
   "metadata": {},
   "outputs": [],
   "source": [
    "for column in cor:\n",
    "    if not(abs(cor['Rating'][column]) >= 0.01):\n",
    "        df = df.drop(columns = column)"
   ]
  },
  {
   "cell_type": "code",
   "execution_count": null,
   "id": "642a11c3",
   "metadata": {
    "scrolled": true
   },
   "outputs": [],
   "source": [
    "df"
   ]
  }
 ],
 "metadata": {
  "kernelspec": {
   "display_name": "Python 3 (ipykernel)",
   "language": "python",
   "name": "python3"
  },
  "language_info": {
   "codemirror_mode": {
    "name": "ipython",
    "version": 3
   },
   "file_extension": ".py",
   "mimetype": "text/x-python",
   "name": "python",
   "nbconvert_exporter": "python",
   "pygments_lexer": "ipython3",
   "version": "3.9.12"
  }
 },
 "nbformat": 4,
 "nbformat_minor": 5
}
