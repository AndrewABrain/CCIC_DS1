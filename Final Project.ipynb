{
 "cells": [
  {
   "cell_type": "code",
   "execution_count": 1,
   "id": "c3ce7cac",
   "metadata": {},
   "outputs": [],
   "source": [
    "import pandas as pd\n",
    "import seaborn as sns"
   ]
  },
  {
   "cell_type": "code",
   "execution_count": 2,
   "id": "88c347e7",
   "metadata": {},
   "outputs": [],
   "source": [
    "def makeAndCleanDF ():\n",
    "    avengersEndgame = pd.read_csv('Avengers Endgame.csv')\n",
    "    forrestGump = pd.read_csv('Forrest Gump.csv')\n",
    "    johnWickChapterThree = pd.read_csv('John Wick Chapter 3.csv')\n",
    "    joker = pd.read_csv('Joker.csv')\n",
    "    morbius = pd.read_csv('Morbius.csv')\n",
    "    pulpFiction = pd.read_csv('Pulp Fiction.csv')\n",
    "    spiderManNoWayHome = pd.read_csv('SpiderMan No Way Home.csv')\n",
    "    theAvengers = pd.read_csv('The Avengers.csv')\n",
    "    theDarkKnight = pd.read_csv('The Dark Knight.csv')\n",
    "    thorRagnarok = pd.read_csv('Thor Ragnarok.csv')\n",
    "    df = pd.concat([avengersEndgame, forrestGump, johnWickChapterThree, joker, morbius, pulpFiction, spiderManNoWayHome, theAvengers, theDarkKnight, thorRagnarok], ignore_index=True)\n",
    "    df = df.rename(columns = {\"User's Rating out of 10\":\"Rating\"})\n",
    "    df.dropna(inplace = True)\n",
    "    df['Review'] = df['Review'].astype(str)\n",
    "    df['Review Title'] = df['Review Title'].astype(str)\n",
    "    df['Rating'] = df['Rating'].str.strip()\n",
    "    df = df[df.Rating != \"Was this review helpful?  Sign in to vote.\"]\n",
    "    df['Rating'] = df['Rating'].astype(int)\n",
    "    return df"
   ]
  },
  {
   "cell_type": "code",
   "execution_count": 3,
   "id": "7a8b9336",
   "metadata": {},
   "outputs": [],
   "source": [
    "df = makeAndCleanDF ()"
   ]
  },
  {
   "cell_type": "code",
   "execution_count": 4,
   "id": "b9ff10c5",
   "metadata": {},
   "outputs": [],
   "source": [
    "def getListOfDF ():\n",
    "    listOfJSONS = ['part-01.json', 'part-02.json', 'part-03.json', 'part-04.json', 'part-05.json', 'part-06.json', 'sample.json']\n",
    "    listOfDF = []\n",
    "    for JSON in listOfJSONS:\n",
    "        listOfDF.append(pd.read_json(JSON))\n",
    "    return listOfDF"
   ]
  },
  {
   "cell_type": "code",
   "execution_count": 5,
   "id": "8028da5d",
   "metadata": {},
   "outputs": [],
   "source": [
    "listOfDF = getListOfDF()"
   ]
  },
  {
   "cell_type": "code",
   "execution_count": 6,
   "id": "18eda479",
   "metadata": {},
   "outputs": [],
   "source": [
    "def addOtherDataToDataFrame (listOfDF, df):\n",
    "    df2 = pd.concat(listOfDF, ignore_index=True)\n",
    "    df2.dropna(inplace = True)\n",
    "    df2.reset_index(drop=True, inplace=True)\n",
    "    helpfulness = []\n",
    "    for row in range(len(df2)):\n",
    "        helpful = df2[\"helpful\"][row]\n",
    "        template = {\"Usefulness Vote\": helpful[0], \"Total Votes\":helpful[1]}\n",
    "        helpfulness.append(template)\n",
    "    helpfulness = pd.DataFrame.from_dict(helpfulness)\n",
    "    df2 = pd.concat([df2, helpfulness], axis=1)\n",
    "    df2[['review_summary', 'review_detail', 'Usefulness Vote', 'Total Votes']] = df2[['review_summary', 'review_detail', 'Usefulness Vote', 'Total Votes']].astype(str)\n",
    "    df2[['Usefulness Vote', 'Total Votes']] = df2[['Usefulness Vote', 'Total Votes']].replace(\",\",\"\", regex=True)\n",
    "    df2[['Usefulness Vote', 'Total Votes']] = df2[['Usefulness Vote', 'Total Votes']].astype(float)\n",
    "    df2 = df2.drop(axis = 1, columns = ['review_id', 'movie', 'spoiler_tag', 'helpful'])\n",
    "    df2 = df2.rename(columns = {\"reviewer\":\"User\", \"rating\":\"Rating\", \"review_summary\":\"Review Title\", \"review_date\":\"Date of Review\", \"review_detail\":\"Review\"})\n",
    "    df = pd.concat([df, df2], ignore_index=True)\n",
    "    return df"
   ]
  },
  {
   "cell_type": "code",
   "execution_count": 7,
   "id": "f9d29129",
   "metadata": {},
   "outputs": [],
   "source": [
    "df = addOtherDataToDataFrame (listOfDF, df)"
   ]
  },
  {
   "cell_type": "code",
   "execution_count": 8,
   "id": "988df328",
   "metadata": {},
   "outputs": [],
   "source": [
    "df.reset_index(drop=True, inplace=True)"
   ]
  },
  {
   "cell_type": "code",
   "execution_count": 9,
   "id": "fd1f67da",
   "metadata": {},
   "outputs": [],
   "source": [
    "def dropNonUsefulRows (df):\n",
    "    df = df.drop(df.loc[df['Total Votes'] == 0].index)\n",
    "    df.reset_index(drop=True, inplace=True)\n",
    "    for index, row in df.iterrows():\n",
    "        if row['Usefulness Vote']/row['Total Votes'] <= 0.5:\n",
    "            df = df.drop(index)   \n",
    "    return df"
   ]
  },
  {
   "cell_type": "code",
   "execution_count": 10,
   "id": "e9fb057c",
   "metadata": {
    "scrolled": true
   },
   "outputs": [],
   "source": [
    "#df = dropNonUsefulRows (df)"
   ]
  },
  {
   "cell_type": "code",
   "execution_count": 11,
   "id": "913bd593",
   "metadata": {},
   "outputs": [],
   "source": [
    "def fixPunctuation (allTexts):\n",
    "    allTexts = allTexts.replace(\".\", \" . \")\n",
    "    allTexts = allTexts.replace(\",\", \" , \")\n",
    "    allTexts = allTexts.replace(\"?\", \" ? \")\n",
    "    allTexts = allTexts.replace(\"!\", \" ! \")\n",
    "    allTexts = allTexts.replace(\":\", \" : \")\n",
    "    allTexts = allTexts.replace(\";\", \" ; \")\n",
    "    allTexts = allTexts.replace(\"/\", \" / \")\n",
    "    allTexts = allTexts.replace(\")\", \" ) \")\n",
    "    allTexts = allTexts.replace(\"(\", \" ( \")\n",
    "    allTexts = allTexts.replace(\"'\", \" ' \")\n",
    "    allTexts = allTexts.replace(\"'\", \" ' \")\n",
    "    \n",
    "    \n",
    "    return allTexts"
   ]
  },
  {
   "cell_type": "code",
   "execution_count": 12,
   "id": "efcc0cca",
   "metadata": {
    "scrolled": true
   },
   "outputs": [],
   "source": [
    "def makeColumns (df):\n",
    "    allTexts = \"\"\n",
    "    reviewTitle = ' '.join(df[\"Review Title\"])\n",
    "    review = ' '.join(df[\"Review\"])\n",
    "    allTexts = reviewTitle + \" \" + review\n",
    "    \n",
    "    allTexts = allTexts.lower()\n",
    "    \n",
    "    allTexts = fixPunctuation (allTexts)\n",
    "        \n",
    "    allTexts = allTexts.split()\n",
    "    \n",
    "    dic = {}\n",
    "        \n",
    "    for word in allTexts:\n",
    "        if word in dic:\n",
    "            x += 1\n",
    "        else:\n",
    "            x = 1\n",
    "    \n",
    "        dic[word] = x\n",
    "        \n",
    "    nonRelevantWords = [key for key, val in dic.items() if val <= 1]\n",
    "    relevantWords = {key:[] for key, val in dic.items() if val > 1}\n",
    "    \n",
    "    relevantWords = pd.DataFrame.from_dict(relevantWords)\n",
    "    \n",
    "    df = pd.concat([df, relevantWords], ignore_index=True)\n",
    "    \n",
    "    return df, nonRelevantWords"
   ]
  },
  {
   "cell_type": "code",
   "execution_count": null,
   "id": "21ef2e84",
   "metadata": {
    "scrolled": false
   },
   "outputs": [],
   "source": [
    "df, nonRelevantWords = makeColumns (df)"
   ]
  },
  {
   "cell_type": "code",
   "execution_count": null,
   "id": "a7595856",
   "metadata": {},
   "outputs": [],
   "source": [
    "def getValues (df, nonRelevantWords):\n",
    "    end = len(df)\n",
    "    \n",
    "    for i in range (end):\n",
    "        wordsForRow = df[\"Review Title\"][i] + \" \" + df[\"Review\"][i]\n",
    "        \n",
    "        wordsForRow = wordsForRow.lower()\n",
    "    \n",
    "        wordsForRow = fixPunctuation (wordsForRow)\n",
    "        \n",
    "        wordsForRow = wordsForRow.split()\n",
    "        \n",
    "        unrepeatedWords = list(set(wordsForRow))\n",
    "        \n",
    "        for word in unrepeatedWords:\n",
    "            if word not in nonRelevantWords:\n",
    "                df.loc[i, word] = wordsForRow.count(word)\n",
    "            else:\n",
    "                pass\n",
    "    \n",
    "    df = df.fillna(0)\n",
    "    \n",
    "    return df"
   ]
  },
  {
   "cell_type": "code",
   "execution_count": null,
   "id": "ccb4e288",
   "metadata": {
    "scrolled": true
   },
   "outputs": [],
   "source": [
    "df = getValues (df, nonRelevantWords)"
   ]
  },
  {
   "cell_type": "code",
   "execution_count": null,
   "id": "863cca50",
   "metadata": {
    "scrolled": true
   },
   "outputs": [],
   "source": [
    "df"
   ]
  },
  {
   "cell_type": "code",
   "execution_count": null,
   "id": "314480ba",
   "metadata": {},
   "outputs": [],
   "source": [
    "cor = df.corr()"
   ]
  },
  {
   "cell_type": "code",
   "execution_count": null,
   "id": "f4f5acab",
   "metadata": {
    "scrolled": true
   },
   "outputs": [],
   "source": [
    "cor"
   ]
  },
  {
   "cell_type": "code",
   "execution_count": null,
   "id": "c5102e9e",
   "metadata": {},
   "outputs": [],
   "source": [
    "for column in cor:\n",
    "    if not(abs(cor['Rating'][column]) >= 0.01):\n",
    "        df = df.drop(columns = column)"
   ]
  },
  {
   "cell_type": "code",
   "execution_count": null,
   "id": "642a11c3",
   "metadata": {
    "scrolled": true
   },
   "outputs": [],
   "source": [
    "df"
   ]
  }
 ],
 "metadata": {
  "kernelspec": {
   "display_name": "Python 3 (ipykernel)",
   "language": "python",
   "name": "python3"
  },
  "language_info": {
   "codemirror_mode": {
    "name": "ipython",
    "version": 3
   },
   "file_extension": ".py",
   "mimetype": "text/x-python",
   "name": "python",
   "nbconvert_exporter": "python",
   "pygments_lexer": "ipython3",
   "version": "3.9.12"
  }
 },
 "nbformat": 4,
 "nbformat_minor": 5
}
