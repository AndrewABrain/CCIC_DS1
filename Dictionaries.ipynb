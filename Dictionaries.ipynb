{
 "cells": [
  {
   "cell_type": "code",
   "execution_count": 26,
   "id": "b14539c1",
   "metadata": {},
   "outputs": [],
   "source": [
    "todo_list = {\"Monday\": [\"Work\"], \n",
    "              \"Tuesday\": [\"Attend CCIC\", \"Work\"], \n",
    "              \"Wednesday\": [\"VC for 2A, 3A, and 4A\", \"Work\"], \n",
    "              \"Thursday\": [\"Work\"], \n",
    "              \"Friday\": [\"Work\"], \n",
    "              \"Saturday\": [\"Work\", \"Maybe Relax\"], \n",
    "              \"Sunday\": [\"Work\", \"Maybe Relax\"]}"
   ]
  },
  {
   "cell_type": "code",
   "execution_count": 27,
   "id": "4d0d5bdb",
   "metadata": {},
   "outputs": [
    {
     "name": "stdout",
     "output_type": "stream",
     "text": [
      "What day of the week you'd you like to know the plan of? Please use the name of the day and please capatolize the first letter. Monday\n",
      "['Work']\n"
     ]
    }
   ],
   "source": [
    "day = input(\"What day of the week you'd you like to know the plan of? Please use the name of the day and please capatolize the first letter. \")\n",
    "print(todo_list[day])"
   ]
  },
  {
   "cell_type": "code",
   "execution_count": 25,
   "id": "2e5bb794",
   "metadata": {},
   "outputs": [
    {
     "name": "stdout",
     "output_type": "stream",
     "text": [
      "{'Date': ['2001-08-02', '2001-08-03', '2001-08-04', '2001-08-05', '2001-08-06', '2001-08-07', '2001-08-08'], 'Dayname': ['Thursday', 'Friday', 'Saturday', 'Sunday', 'Monday', 'Tuesday', 'Wednesday'], 'Red': [60, 51, 79, 77, 93, 55, 87], 'Green': [31, 24, 21, 39, 40, 32, 89], 'Blue': [53, 50, 69, 57, 66, 63, 1]}\n"
     ]
    }
   ],
   "source": [
    "data = {\"Date\": [\"2001-08-01\", \"2001-08-02\", \"2001-08-03\", \"2001-08-04\", \"2001-08-05\", \"2001-08-06\", \"2001-08-07\"], \n",
    "        \"Dayname\": [\"Wednesday\", \"Thursday\", \"Friday\", \"Saturday\", \"Sunday\", \"Monday\", \"Tuesday\"], \n",
    "        \"Red\": [50, 60, 51, 79, 77, 93, 55], \n",
    "        \"Green\": [25, 31, 24, 21, 39, 40, 32],\n",
    "       \"Blue\": [71, 53, 50, 69, 57, 66, 63]}\n",
    "# With different structuring of the dictionary, instead of the code below, I would've only had to use the statement data[8]=[\"2001-08-08\", \"Wednesday\", 87, 89, 1]\n",
    "data [\"Date\"].append(\"2001-08-08\") \n",
    "data [\"Dayname\"].append(\"Wednesday\")\n",
    "data [\"Red\"].append(87)\n",
    "data [\"Green\"].append(89)\n",
    "data [\"Blue\"].append(1)\n",
    "#With different structuring of the dictionary, instead of the code below, I would've only had to use the statement del data[1]\n",
    "del data[\"Date\"][0]\n",
    "del data[\"Dayname\"][0]\n",
    "del data[\"Red\"][0]\n",
    "del data[\"Green\"][0]\n",
    "del data[\"Blue\"][0]\n",
    "print(data)"
   ]
  },
  {
   "cell_type": "code",
   "execution_count": null,
   "id": "95031c02",
   "metadata": {},
   "outputs": [],
   "source": []
  }
 ],
 "metadata": {
  "kernelspec": {
   "display_name": "Python 3 (ipykernel)",
   "language": "python",
   "name": "python3"
  },
  "language_info": {
   "codemirror_mode": {
    "name": "ipython",
    "version": 3
   },
   "file_extension": ".py",
   "mimetype": "text/x-python",
   "name": "python",
   "nbconvert_exporter": "python",
   "pygments_lexer": "ipython3",
   "version": "3.9.12"
  }
 },
 "nbformat": 4,
 "nbformat_minor": 5
}
