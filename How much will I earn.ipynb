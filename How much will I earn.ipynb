{
 "cells": [
  {
   "cell_type": "code",
   "execution_count": 1,
   "id": "0e5acb20",
   "metadata": {},
   "outputs": [],
   "source": [
    "import pandas as pd\n",
    "import seaborn as sns"
   ]
  },
  {
   "cell_type": "code",
   "execution_count": 2,
   "id": "f32e9a39",
   "metadata": {},
   "outputs": [],
   "source": [
    "df = pd.read_csv('SalariesSimple - Salaries.csv')"
   ]
  },
  {
   "cell_type": "code",
   "execution_count": 3,
   "id": "ed48531c",
   "metadata": {},
   "outputs": [
    {
     "name": "stdout",
     "output_type": "stream",
     "text": [
      "<class 'pandas.core.frame.DataFrame'>\n",
      "RangeIndex: 1655 entries, 0 to 1654\n",
      "Data columns (total 2 columns):\n",
      " #   Column                  Non-Null Count  Dtype  \n",
      "---  ------                  --------------  -----  \n",
      " 0   total_experience_years  1608 non-null   float64\n",
      " 1   annual_base_pay         1651 non-null   float64\n",
      "dtypes: float64(2)\n",
      "memory usage: 26.0 KB\n"
     ]
    }
   ],
   "source": [
    "df.info()"
   ]
  },
  {
   "cell_type": "code",
   "execution_count": 4,
   "id": "47d1c92f",
   "metadata": {},
   "outputs": [],
   "source": [
    "df.dropna(inplace = True)"
   ]
  },
  {
   "cell_type": "code",
   "execution_count": 5,
   "id": "31685cbf",
   "metadata": {
    "scrolled": true
   },
   "outputs": [
    {
     "name": "stdout",
     "output_type": "stream",
     "text": [
      "<class 'pandas.core.frame.DataFrame'>\n",
      "Int64Index: 1607 entries, 0 to 1654\n",
      "Data columns (total 2 columns):\n",
      " #   Column                  Non-Null Count  Dtype  \n",
      "---  ------                  --------------  -----  \n",
      " 0   total_experience_years  1607 non-null   float64\n",
      " 1   annual_base_pay         1607 non-null   float64\n",
      "dtypes: float64(2)\n",
      "memory usage: 37.7 KB\n"
     ]
    }
   ],
   "source": [
    "df.info()"
   ]
  },
  {
   "cell_type": "code",
   "execution_count": 6,
   "id": "41f6e0e0",
   "metadata": {},
   "outputs": [],
   "source": [
    "for index, row in df.iterrows():\n",
    "    if row['annual_base_pay'] >= 50000000.0:\n",
    "        df = df.drop(index=index)"
   ]
  },
  {
   "cell_type": "code",
   "execution_count": 7,
   "id": "fb5de4a7",
   "metadata": {},
   "outputs": [],
   "source": [
    "def testTrainSplit (df):\n",
    "    length = len(df.index)\n",
    "    splitPoint = round(length * 0.70)\n",
    "    training = df.iloc[:splitPoint, :]\n",
    "    testing = df.iloc[splitPoint:, :]\n",
    "    return training, testing"
   ]
  },
  {
   "cell_type": "code",
   "execution_count": 8,
   "id": "d110e155",
   "metadata": {},
   "outputs": [],
   "source": [
    "training, testing = testTrainSplit (df)"
   ]
  },
  {
   "cell_type": "code",
   "execution_count": 9,
   "id": "6b4c4865",
   "metadata": {},
   "outputs": [
    {
     "name": "stdout",
     "output_type": "stream",
     "text": [
      "<class 'pandas.core.frame.DataFrame'>\n",
      "Int64Index: 1123 entries, 0 to 1157\n",
      "Data columns (total 2 columns):\n",
      " #   Column                  Non-Null Count  Dtype  \n",
      "---  ------                  --------------  -----  \n",
      " 0   total_experience_years  1123 non-null   float64\n",
      " 1   annual_base_pay         1123 non-null   float64\n",
      "dtypes: float64(2)\n",
      "memory usage: 26.3 KB\n"
     ]
    }
   ],
   "source": [
    "training.info()"
   ]
  },
  {
   "cell_type": "code",
   "execution_count": 10,
   "id": "563ce99a",
   "metadata": {},
   "outputs": [
    {
     "name": "stdout",
     "output_type": "stream",
     "text": [
      "<class 'pandas.core.frame.DataFrame'>\n",
      "Int64Index: 481 entries, 1158 to 1654\n",
      "Data columns (total 2 columns):\n",
      " #   Column                  Non-Null Count  Dtype  \n",
      "---  ------                  --------------  -----  \n",
      " 0   total_experience_years  481 non-null    float64\n",
      " 1   annual_base_pay         481 non-null    float64\n",
      "dtypes: float64(2)\n",
      "memory usage: 11.3 KB\n"
     ]
    }
   ],
   "source": [
    "testing.info()"
   ]
  },
  {
   "cell_type": "code",
   "execution_count": 11,
   "id": "3dca5f95",
   "metadata": {},
   "outputs": [
    {
     "data": {
      "text/plain": [
       "<AxesSubplot:xlabel='total_experience_years', ylabel='annual_base_pay'>"
      ]
     },
     "execution_count": 11,
     "metadata": {},
     "output_type": "execute_result"
    },
    {
     "data": {
      "image/png": "[encoded data removed]",
      "text/plain": [
       "<Figure size 432x288 with 1 Axes>"
      ]
     },
     "metadata": {
      "needs_background": "light"
     },
     "output_type": "display_data"
    }
   ],
   "source": [
    "sns.scatterplot(data = df, x=df['total_experience_years'], y=df['annual_base_pay'])"
   ]
  },
  {
   "cell_type": "code",
   "execution_count": 12,
   "id": "1c28639f",
   "metadata": {},
   "outputs": [
    {
     "data": {
      "text/html": [
       "<div>\n",
       "<style scoped>\n",
       "    .dataframe tbody tr th:only-of-type {\n",
       "        vertical-align: middle;\n",
       "    }\n",
       "\n",
       "    .dataframe tbody tr th {\n",
       "        vertical-align: top;\n",
       "    }\n",
       "\n",
       "    .dataframe thead th {\n",
       "        text-align: right;\n",
       "    }\n",
       "</style>\n",
       "<table border=\"1\" class=\"dataframe\">\n",
       "  <thead>\n",
       "    <tr style=\"text-align: right;\">\n",
       "      <th></th>\n",
       "      <th>total_experience_years</th>\n",
       "      <th>annual_base_pay</th>\n",
       "    </tr>\n",
       "  </thead>\n",
       "  <tbody>\n",
       "    <tr>\n",
       "      <th>count</th>\n",
       "      <td>1604.000000</td>\n",
       "      <td>1.604000e+03</td>\n",
       "    </tr>\n",
       "    <tr>\n",
       "      <th>mean</th>\n",
       "      <td>6.755505</td>\n",
       "      <td>1.393165e+05</td>\n",
       "    </tr>\n",
       "    <tr>\n",
       "      <th>std</th>\n",
       "      <td>5.683884</td>\n",
       "      <td>4.664039e+05</td>\n",
       "    </tr>\n",
       "    <tr>\n",
       "      <th>min</th>\n",
       "      <td>0.000000</td>\n",
       "      <td>0.000000e+00</td>\n",
       "    </tr>\n",
       "    <tr>\n",
       "      <th>25%</th>\n",
       "      <td>3.000000</td>\n",
       "      <td>6.100000e+04</td>\n",
       "    </tr>\n",
       "    <tr>\n",
       "      <th>50%</th>\n",
       "      <td>5.000000</td>\n",
       "      <td>9.909500e+04</td>\n",
       "    </tr>\n",
       "    <tr>\n",
       "      <th>75%</th>\n",
       "      <td>10.000000</td>\n",
       "      <td>1.300000e+05</td>\n",
       "    </tr>\n",
       "    <tr>\n",
       "      <th>max</th>\n",
       "      <td>56.000000</td>\n",
       "      <td>1.028000e+07</td>\n",
       "    </tr>\n",
       "  </tbody>\n",
       "</table>\n",
       "</div>"
      ],
      "text/plain": [
       "       total_experience_years  annual_base_pay\n",
       "count             1604.000000     1.604000e+03\n",
       "mean                 6.755505     1.393165e+05\n",
       "std                  5.683884     4.664039e+05\n",
       "min                  0.000000     0.000000e+00\n",
       "25%                  3.000000     6.100000e+04\n",
       "50%                  5.000000     9.909500e+04\n",
       "75%                 10.000000     1.300000e+05\n",
       "max                 56.000000     1.028000e+07"
      ]
     },
     "execution_count": 12,
     "metadata": {},
     "output_type": "execute_result"
    }
   ],
   "source": [
    "df.describe()"
   ]
  },
  {
   "cell_type": "code",
   "execution_count": 13,
   "id": "5e6f0788",
   "metadata": {},
   "outputs": [],
   "source": [
    "def lineOfBestFit (df, lSlope, hSlope, lYIntercept, hYIntercept):\n",
    "    whichIsBest = []\n",
    "    b = -1\n",
    "    for slope in range (lSlope, hSlope, 100):\n",
    "        for yIntercept in range (lYIntercept, hYIntercept, 100): \n",
    "            dSum = 0\n",
    "            for index, row in df.iterrows():\n",
    "                x1 = row['total_experience_years'] \n",
    "                y1 = row['annual_base_pay']\n",
    "                d = (abs((slope*x1) + (b*y1) + yIntercept))/(((slope**2) + (b**2))**0.5)\n",
    "                dSum = dSum + d\n",
    "            template = {\"Distance Sum\": dSum, \"Slope\": slope, \"Y-Intercept\": yIntercept}\n",
    "            whichIsBest.append(template)\n",
    "    \n",
    "    dictionary = findSmallestSum (whichIsBest)\n",
    "    \n",
    "    return dictionary"
   ]
  },
  {
   "cell_type": "code",
   "execution_count": 14,
   "id": "3ab11094",
   "metadata": {},
   "outputs": [],
   "source": [
    "def findSmallestSum (whichIsBest):\n",
    "    lowest = float ('inf')\n",
    "    for sum in whichIsBest:\n",
    "        if sum['Distance Sum'] < lowest:\n",
    "            lowest = sum['Distance Sum']\n",
    "            dictionary = sum\n",
    "    return dictionary"
   ]
  },
  {
   "cell_type": "code",
   "execution_count": 15,
   "id": "e9f4bfb6",
   "metadata": {},
   "outputs": [
    {
     "ename": "KeyboardInterrupt",
     "evalue": "",
     "output_type": "error",
     "traceback": [
      "\u001b[1;31m---------------------------------------------------------------------------\u001b[0m",
      "\u001b[1;31mKeyboardInterrupt\u001b[0m                         Traceback (most recent call last)",
      "Input \u001b[1;32mIn [15]\u001b[0m, in \u001b[0;36m<cell line: 1>\u001b[1;34m()\u001b[0m\n\u001b[1;32m----> 1\u001b[0m dictionary \u001b[38;5;241m=\u001b[39m \u001b[43mlineOfBestFit\u001b[49m\u001b[43m \u001b[49m\u001b[43m(\u001b[49m\u001b[43mtraining\u001b[49m\u001b[43m,\u001b[49m\u001b[43m \u001b[49m\u001b[38;5;241;43m0\u001b[39;49m\u001b[43m,\u001b[49m\u001b[43m \u001b[49m\u001b[38;5;241;43m33000\u001b[39;49m\u001b[43m,\u001b[49m\u001b[43m \u001b[49m\u001b[38;5;241;43m0\u001b[39;49m\u001b[43m,\u001b[49m\u001b[43m \u001b[49m\u001b[38;5;241;43m10000\u001b[39;49m\u001b[43m)\u001b[49m\n",
      "Input \u001b[1;32mIn [13]\u001b[0m, in \u001b[0;36mlineOfBestFit\u001b[1;34m(df, lSlope, hSlope, lYIntercept, hYIntercept)\u001b[0m\n\u001b[0;32m      8\u001b[0m     x1 \u001b[38;5;241m=\u001b[39m row[\u001b[38;5;124m'\u001b[39m\u001b[38;5;124mtotal_experience_years\u001b[39m\u001b[38;5;124m'\u001b[39m] \n\u001b[0;32m      9\u001b[0m     y1 \u001b[38;5;241m=\u001b[39m row[\u001b[38;5;124m'\u001b[39m\u001b[38;5;124mannual_base_pay\u001b[39m\u001b[38;5;124m'\u001b[39m]\n\u001b[1;32m---> 10\u001b[0m     d \u001b[38;5;241m=\u001b[39m (\u001b[38;5;28mabs\u001b[39m((slope\u001b[38;5;241m*\u001b[39mx1) \u001b[38;5;241m+\u001b[39m (b\u001b[38;5;241m*\u001b[39my1) \u001b[38;5;241m+\u001b[39m yIntercept))\u001b[38;5;241m/\u001b[39m((\u001b[43m(\u001b[49m\u001b[43mslope\u001b[49m\u001b[38;5;241;43m*\u001b[39;49m\u001b[38;5;241;43m*\u001b[39;49m\u001b[38;5;241;43m2\u001b[39;49m\u001b[43m)\u001b[49m\u001b[43m \u001b[49m\u001b[38;5;241;43m+\u001b[39;49m\u001b[43m \u001b[49m\u001b[43m(\u001b[49m\u001b[43mb\u001b[49m\u001b[38;5;241;43m*\u001b[39;49m\u001b[38;5;241;43m*\u001b[39;49m\u001b[38;5;241;43m2\u001b[39;49m\u001b[43m)\u001b[49m)\u001b[38;5;241m*\u001b[39m\u001b[38;5;241m*\u001b[39m\u001b[38;5;241m0.5\u001b[39m)\n\u001b[0;32m     11\u001b[0m     dSum \u001b[38;5;241m=\u001b[39m dSum \u001b[38;5;241m+\u001b[39m d\n\u001b[0;32m     12\u001b[0m template \u001b[38;5;241m=\u001b[39m {\u001b[38;5;124m\"\u001b[39m\u001b[38;5;124mDistance Sum\u001b[39m\u001b[38;5;124m\"\u001b[39m: dSum, \u001b[38;5;124m\"\u001b[39m\u001b[38;5;124mSlope\u001b[39m\u001b[38;5;124m\"\u001b[39m: slope, \u001b[38;5;124m\"\u001b[39m\u001b[38;5;124mY-Intercept\u001b[39m\u001b[38;5;124m\"\u001b[39m: yIntercept}\n",
      "\u001b[1;31mKeyboardInterrupt\u001b[0m: "
     ]
    }
   ],
   "source": [
    "dictionary = lineOfBestFit (training, 0, 33000, 0, 10000)"
   ]
  },
  {
   "cell_type": "code",
   "execution_count": null,
   "id": "9b641e7c",
   "metadata": {},
   "outputs": [],
   "source": [
    "print(dictionary)"
   ]
  },
  {
   "cell_type": "code",
   "execution_count": null,
   "id": "5fcd0973",
   "metadata": {},
   "outputs": [],
   "source": [
    "dictionary = {'Distance Sum': 5897.387531770356, 'Slope': 31000, 'Y-Intercept': 0}"
   ]
  },
  {
   "cell_type": "code",
   "execution_count": null,
   "id": "90d0f3ad",
   "metadata": {},
   "outputs": [],
   "source": [
    "def MSE (df, slope, yIntercept):\n",
    "    sum = 0\n",
    "    for row in range (len(df.index)):\n",
    "        x = df.iat[row, 0]\n",
    "        y = df.iat[row, 1]\n",
    "        predictedY = (slope * x) + yIntercept\n",
    "        sum = ((predictedY - y)**2) + sum\n",
    "    return sum/len(df.index)"
   ]
  },
  {
   "cell_type": "code",
   "execution_count": null,
   "id": "057f6b65",
   "metadata": {},
   "outputs": [],
   "source": [
    "MSE = MSE (testing, dictionary[\"Slope\"], dictionary[\"Y-Intercept\"])"
   ]
  },
  {
   "cell_type": "code",
   "execution_count": null,
   "id": "c1be4c45",
   "metadata": {},
   "outputs": [],
   "source": []
  }
 ],
 "metadata": {
  "kernelspec": {
   "display_name": "Python 3 (ipykernel)",
   "language": "python",
   "name": "python3"
  },
  "language_info": {
   "codemirror_mode": {
    "name": "ipython",
    "version": 3
   },
   "file_extension": ".py",
   "mimetype": "text/x-python",
   "name": "python",
   "nbconvert_exporter": "python",
   "pygments_lexer": "ipython3",
   "version": "3.9.12"
  }
 },
 "nbformat": 4,
 "nbformat_minor": 5
}
