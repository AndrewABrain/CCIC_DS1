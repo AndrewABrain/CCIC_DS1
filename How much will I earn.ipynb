{
 "cells": [
  {
   "cell_type": "code",
   "execution_count": 1,
   "id": "0e5acb20",
   "metadata": {},
   "outputs": [],
   "source": [
    "import pandas as pd\n",
    "import seaborn as sns"
   ]
  },
  {
   "cell_type": "code",
   "execution_count": 2,
   "id": "f32e9a39",
   "metadata": {},
   "outputs": [],
   "source": [
    "df = pd.read_csv('SalariesSimple - Salaries.csv')"
   ]
  },
  {
   "cell_type": "code",
   "execution_count": 3,
   "id": "ed48531c",
   "metadata": {},
   "outputs": [
    {
     "name": "stdout",
     "output_type": "stream",
     "text": [
      "<class 'pandas.core.frame.DataFrame'>\n",
      "RangeIndex: 1655 entries, 0 to 1654\n",
      "Data columns (total 2 columns):\n",
      " #   Column                  Non-Null Count  Dtype  \n",
      "---  ------                  --------------  -----  \n",
      " 0   total_experience_years  1608 non-null   float64\n",
      " 1   annual_base_pay         1651 non-null   float64\n",
      "dtypes: float64(2)\n",
      "memory usage: 26.0 KB\n"
     ]
    }
   ],
   "source": [
    "df.info()"
   ]
  },
  {
   "cell_type": "code",
   "execution_count": 4,
   "id": "47d1c92f",
   "metadata": {},
   "outputs": [],
   "source": [
    "df.dropna(inplace = True)"
   ]
  },
  {
   "cell_type": "code",
   "execution_count": 5,
   "id": "31685cbf",
   "metadata": {
    "scrolled": true
   },
   "outputs": [
    {
     "name": "stdout",
     "output_type": "stream",
     "text": [
      "<class 'pandas.core.frame.DataFrame'>\n",
      "Int64Index: 1607 entries, 0 to 1654\n",
      "Data columns (total 2 columns):\n",
      " #   Column                  Non-Null Count  Dtype  \n",
      "---  ------                  --------------  -----  \n",
      " 0   total_experience_years  1607 non-null   float64\n",
      " 1   annual_base_pay         1607 non-null   float64\n",
      "dtypes: float64(2)\n",
      "memory usage: 37.7 KB\n"
     ]
    }
   ],
   "source": [
    "df.info()"
   ]
  },
  {
   "cell_type": "code",
   "execution_count": 6,
   "id": "fb5de4a7",
   "metadata": {},
   "outputs": [],
   "source": [
    "def testTrainSplit (df):\n",
    "    length = len(df.index)\n",
    "    splitPoint = round(length * 0.70)\n",
    "    training = df.iloc[:splitPoint, :]\n",
    "    testing = df.iloc[splitPoint:, :]\n",
    "    return training, testing"
   ]
  },
  {
   "cell_type": "code",
   "execution_count": 7,
   "id": "d110e155",
   "metadata": {},
   "outputs": [],
   "source": [
    "training, testing = testTrainSplit (df)"
   ]
  },
  {
   "cell_type": "code",
   "execution_count": 8,
   "id": "6b4c4865",
   "metadata": {},
   "outputs": [
    {
     "name": "stdout",
     "output_type": "stream",
     "text": [
      "<class 'pandas.core.frame.DataFrame'>\n",
      "Int64Index: 1125 entries, 0 to 1158\n",
      "Data columns (total 2 columns):\n",
      " #   Column                  Non-Null Count  Dtype  \n",
      "---  ------                  --------------  -----  \n",
      " 0   total_experience_years  1125 non-null   float64\n",
      " 1   annual_base_pay         1125 non-null   float64\n",
      "dtypes: float64(2)\n",
      "memory usage: 26.4 KB\n"
     ]
    }
   ],
   "source": [
    "training.info()"
   ]
  },
  {
   "cell_type": "code",
   "execution_count": 9,
   "id": "563ce99a",
   "metadata": {},
   "outputs": [
    {
     "name": "stdout",
     "output_type": "stream",
     "text": [
      "<class 'pandas.core.frame.DataFrame'>\n",
      "Int64Index: 482 entries, 1159 to 1654\n",
      "Data columns (total 2 columns):\n",
      " #   Column                  Non-Null Count  Dtype  \n",
      "---  ------                  --------------  -----  \n",
      " 0   total_experience_years  482 non-null    float64\n",
      " 1   annual_base_pay         482 non-null    float64\n",
      "dtypes: float64(2)\n",
      "memory usage: 11.3 KB\n"
     ]
    }
   ],
   "source": [
    "testing.info()"
   ]
  },
  {
   "cell_type": "code",
   "execution_count": 10,
   "id": "3dca5f95",
   "metadata": {},
   "outputs": [
    {
     "data": {
      "text/plain": [
       "<AxesSubplot:xlabel='total_experience_years', ylabel='annual_base_pay'>"
      ]
     },
     "execution_count": 10,
     "metadata": {},
     "output_type": "execute_result"
    },
    {
     "data": {
      "image/png": "[encoded data removed]",
      "text/plain": [
       "<Figure size 432x288 with 1 Axes>"
      ]
     },
     "metadata": {
      "needs_background": "light"
     },
     "output_type": "display_data"
    }
   ],
   "source": [
    "sns.scatterplot(data = df, x=df['total_experience_years'], y=df['annual_base_pay'])"
   ]
  },
  {
   "cell_type": "code",
   "execution_count": 11,
   "id": "5e6f0788",
   "metadata": {},
   "outputs": [],
   "source": [
    "def lineOfBestFit (df, lSlope, hSlope, lYIntercept, hYIntercept):\n",
    "    whichIsBest = []\n",
    "    b = -1\n",
    "    for slope in range (lSlope, hSlope):\n",
    "        for yIntercept in range (lYIntercept, hYIntercept): \n",
    "            dSum = 0\n",
    "            for index, row in df.iterrows():\n",
    "                x1 = row['total_experience_years'] \n",
    "                y1 = row['annual_base_pay']\n",
    "                d = (abs(slope*x1 + b*y1 + yIntercept))/((slope**2 + b**2)**0.5)\n",
    "                dSum = dSum + d\n",
    "            template = {\"Distance Sum\": dSum, \"Slope\": slope, \"Y-Intercept\": yIntercept}\n",
    "            whichIsBest.append(template)\n",
    "    return whichIsBest"
   ]
  },
  {
   "cell_type": "code",
   "execution_count": null,
   "id": "564dc790",
   "metadata": {},
   "outputs": [],
   "source": [
    "whichIsBest = lineOfBestFit (training, 0, 100 + 1, 0, 165000 + 1)"
   ]
  },
  {
   "cell_type": "code",
   "execution_count": null,
   "id": "3ab11094",
   "metadata": {},
   "outputs": [],
   "source": [
    "def findSmallestSum (whichIsBest):\n",
    "    lowest = float ('inf')\n",
    "    for sum in whichIsBest:\n",
    "        if sum['Distance Sum'] < lowest:\n",
    "            lowest = sum['Distance Sum']\n",
    "            dictionary = sum\n",
    "    return dictionary"
   ]
  },
  {
   "cell_type": "code",
   "execution_count": null,
   "id": "5d49f0a5",
   "metadata": {},
   "outputs": [],
   "source": [
    "dictionary = findSmallestSum (whichIsBest)"
   ]
  },
  {
   "cell_type": "code",
   "execution_count": null,
   "id": "9b641e7c",
   "metadata": {},
   "outputs": [],
   "source": [
    "print(dictionary)"
   ]
  }
 ],
 "metadata": {
  "kernelspec": {
   "display_name": "Python 3 (ipykernel)",
   "language": "python",
   "name": "python3"
  },
  "language_info": {
   "codemirror_mode": {
    "name": "ipython",
    "version": 3
   },
   "file_extension": ".py",
   "mimetype": "text/x-python",
   "name": "python",
   "nbconvert_exporter": "python",
   "pygments_lexer": "ipython3",
   "version": "3.9.12"
  }
 },
 "nbformat": 4,
 "nbformat_minor": 5
}
