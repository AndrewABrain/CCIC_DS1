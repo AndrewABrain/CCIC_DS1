{
 "cells": [
  {
   "cell_type": "code",
   "execution_count": 24,
   "id": "3e2591a7",
   "metadata": {},
   "outputs": [],
   "source": [
    "survey_answers = {\"languages_media\": [\"Yes\", \n",
    "                                      \"Maybe\", \n",
    "                                      \"I don't know\", \n",
    "                                      \"Yes\", \n",
    "                                      \"No\", \n",
    "                                      \"Maybe\", \n",
    "                                      \"No\", \n",
    "                                      \"Yes\", \n",
    "                                      \"No\", \n",
    "                                      \"Maybe\",\n",
    "                                      \"Yes\", \n",
    "                                      \"Yes\", \n",
    "                                      \"Maybe\", \n",
    "                                      \"No\", \n",
    "                                      \"Yes\", \n",
    "                                      \"Yes\", \n",
    "                                      \"Yes\", \n",
    "                                      \"Yes\", \n",
    "                                      \"No\"], \n",
    "                  \"multilingual_important\": [\"Yes\", \n",
    "                                             \"No\", \n",
    "                                             \"No\", \n",
    "                                             \"Yes\", \n",
    "                                             \"Yes\", \n",
    "                                             \"Yes\", \n",
    "                                             \"Yes\", \n",
    "                                             \"Yes\", \n",
    "                                             \"No\", \n",
    "                                             \"Yes\", \n",
    "                                             \"Yes\", \n",
    "                                             \"Yes\", \n",
    "                                             \"Yes\", \n",
    "                                             \"Yes\", \n",
    "                                             \"Yes\", \n",
    "                                             \"Yes\", \n",
    "                                             \"Yes\", \n",
    "                                             \"Yes\", \n",
    "                                             \"No\"]}"
   ]
  },
  {
   "cell_type": "code",
   "execution_count": 27,
   "id": "585f183c",
   "metadata": {},
   "outputs": [
    {
     "name": "stdout",
     "output_type": "stream",
     "text": [
      "Do you think being multilingual is important?\n",
      "Yes (15): ***************\n",
      "No (4): ****\n"
     ]
    }
   ],
   "source": [
    "y = 0\n",
    "n = 0\n",
    "\n",
    "for yes_no in survey_answers[\"multilingual_important\"]:\n",
    "    if yes_no == \"Yes\":\n",
    "        y = y + 1\n",
    "    else: \n",
    "        n = n + 1\n",
    "\n",
    "ys = str(y)\n",
    "ns = str(n)\n",
    "\n",
    "print (\"Do you think being multilingual is important?\")\n",
    "print(\"Yes (\" + ys + \"): \", end=\"\")\n",
    "while y != 0:\n",
    "    if y == 1:\n",
    "        print(\"*\")\n",
    "    else:\n",
    "        print(\"*\", end=\"\")\n",
    "    y = y - 1\n",
    "\n",
    "print(\"No (\" + ns + \"): \", end=\"\")\n",
    "while n != 0:\n",
    "    if n == 1:\n",
    "        print(\"*\")\n",
    "    else:\n",
    "        print(\"*\", end=\"\")\n",
    "    n = n - 1"
   ]
  },
  {
   "cell_type": "code",
   "execution_count": 25,
   "id": "d9ef80fa",
   "metadata": {},
   "outputs": [
    {
     "name": "stdout",
     "output_type": "stream",
     "text": [
      "[\"I don't know\", 'Maybe', 'Maybe', 'Maybe', 'Maybe', 'No', 'No', 'No', 'No', 'No', 'Yes', 'Yes', 'Yes', 'Yes', 'Yes', 'Yes', 'Yes', 'Yes', 'Yes']\n"
     ]
    }
   ],
   "source": [
    "survey_answers[\"languages_media\"].sort()\n",
    "print (survey_answers[\"languages_media\"])"
   ]
  },
  {
   "cell_type": "code",
   "execution_count": null,
   "id": "3ddf9c5b",
   "metadata": {},
   "outputs": [],
   "source": []
  },
  {
   "cell_type": "code",
   "execution_count": null,
   "id": "efb98602",
   "metadata": {},
   "outputs": [],
   "source": []
  }
 ],
 "metadata": {
  "kernelspec": {
   "display_name": "Python 3 (ipykernel)",
   "language": "python",
   "name": "python3"
  },
  "language_info": {
   "codemirror_mode": {
    "name": "ipython",
    "version": 3
   },
   "file_extension": ".py",
   "mimetype": "text/x-python",
   "name": "python",
   "nbconvert_exporter": "python",
   "pygments_lexer": "ipython3",
   "version": "3.9.12"
  }
 },
 "nbformat": 4,
 "nbformat_minor": 5
}
