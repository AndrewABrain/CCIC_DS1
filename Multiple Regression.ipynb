{
 "cells": [
  {
   "cell_type": "code",
   "execution_count": 1,
   "id": "f8295bf9",
   "metadata": {},
   "outputs": [],
   "source": [
    "import pandas as pd\n",
    "import seaborn as sns"
   ]
  },
  {
   "cell_type": "code",
   "execution_count": 2,
   "id": "34495f32",
   "metadata": {},
   "outputs": [],
   "source": [
    "df = pd.read_csv('manhattan_rents - Data.csv')"
   ]
  },
  {
   "cell_type": "code",
   "execution_count": 3,
   "id": "e213ee7e",
   "metadata": {},
   "outputs": [],
   "source": [
    "df.dropna(inplace = True)"
   ]
  },
  {
   "cell_type": "code",
   "execution_count": 4,
   "id": "aaab6a8d",
   "metadata": {},
   "outputs": [
    {
     "data": {
      "text/html": [
       "<div>\n",
       "<style scoped>\n",
       "    .dataframe tbody tr th:only-of-type {\n",
       "        vertical-align: middle;\n",
       "    }\n",
       "\n",
       "    .dataframe tbody tr th {\n",
       "        vertical-align: top;\n",
       "    }\n",
       "\n",
       "    .dataframe thead th {\n",
       "        text-align: right;\n",
       "    }\n",
       "</style>\n",
       "<table border=\"1\" class=\"dataframe\">\n",
       "  <thead>\n",
       "    <tr style=\"text-align: right;\">\n",
       "      <th></th>\n",
       "      <th>rental_id</th>\n",
       "      <th>rent</th>\n",
       "      <th>bedrooms</th>\n",
       "      <th>bathrooms</th>\n",
       "      <th>size_sqft</th>\n",
       "      <th>min_to_subway</th>\n",
       "      <th>floor</th>\n",
       "      <th>building_age_yrs</th>\n",
       "    </tr>\n",
       "  </thead>\n",
       "  <tbody>\n",
       "    <tr>\n",
       "      <th>0</th>\n",
       "      <td>1545</td>\n",
       "      <td>2550.0</td>\n",
       "      <td>0.0</td>\n",
       "      <td>1</td>\n",
       "      <td>480.0</td>\n",
       "      <td>9</td>\n",
       "      <td>2.0</td>\n",
       "      <td>17</td>\n",
       "    </tr>\n",
       "    <tr>\n",
       "      <th>1</th>\n",
       "      <td>2472</td>\n",
       "      <td>11500.0</td>\n",
       "      <td>2.0</td>\n",
       "      <td>2</td>\n",
       "      <td>2000.0</td>\n",
       "      <td>4</td>\n",
       "      <td>1.0</td>\n",
       "      <td>96</td>\n",
       "    </tr>\n",
       "    <tr>\n",
       "      <th>2</th>\n",
       "      <td>2919</td>\n",
       "      <td>4500.0</td>\n",
       "      <td>1.0</td>\n",
       "      <td>1</td>\n",
       "      <td>916.0</td>\n",
       "      <td>2</td>\n",
       "      <td>51.0</td>\n",
       "      <td>29</td>\n",
       "    </tr>\n",
       "    <tr>\n",
       "      <th>3</th>\n",
       "      <td>2790</td>\n",
       "      <td>4795.0</td>\n",
       "      <td>1.0</td>\n",
       "      <td>1</td>\n",
       "      <td>975.0</td>\n",
       "      <td>3</td>\n",
       "      <td>8.0</td>\n",
       "      <td>31</td>\n",
       "    </tr>\n",
       "    <tr>\n",
       "      <th>4</th>\n",
       "      <td>3946</td>\n",
       "      <td>17500.0</td>\n",
       "      <td>2.0</td>\n",
       "      <td>2</td>\n",
       "      <td>4800.0</td>\n",
       "      <td>3</td>\n",
       "      <td>4.0</td>\n",
       "      <td>136</td>\n",
       "    </tr>\n",
       "    <tr>\n",
       "      <th>...</th>\n",
       "      <td>...</td>\n",
       "      <td>...</td>\n",
       "      <td>...</td>\n",
       "      <td>...</td>\n",
       "      <td>...</td>\n",
       "      <td>...</td>\n",
       "      <td>...</td>\n",
       "      <td>...</td>\n",
       "    </tr>\n",
       "    <tr>\n",
       "      <th>3531</th>\n",
       "      <td>7582</td>\n",
       "      <td>4210.0</td>\n",
       "      <td>1.0</td>\n",
       "      <td>1</td>\n",
       "      <td>532.0</td>\n",
       "      <td>3</td>\n",
       "      <td>8.0</td>\n",
       "      <td>16</td>\n",
       "    </tr>\n",
       "    <tr>\n",
       "      <th>3532</th>\n",
       "      <td>5686</td>\n",
       "      <td>6675.0</td>\n",
       "      <td>2.0</td>\n",
       "      <td>2</td>\n",
       "      <td>988.0</td>\n",
       "      <td>5</td>\n",
       "      <td>10.0</td>\n",
       "      <td>9</td>\n",
       "    </tr>\n",
       "    <tr>\n",
       "      <th>3533</th>\n",
       "      <td>9679</td>\n",
       "      <td>1699.0</td>\n",
       "      <td>0.0</td>\n",
       "      <td>1</td>\n",
       "      <td>250.0</td>\n",
       "      <td>2</td>\n",
       "      <td>5.0</td>\n",
       "      <td>96</td>\n",
       "    </tr>\n",
       "    <tr>\n",
       "      <th>3534</th>\n",
       "      <td>5188</td>\n",
       "      <td>3475.0</td>\n",
       "      <td>1.0</td>\n",
       "      <td>1</td>\n",
       "      <td>651.0</td>\n",
       "      <td>6</td>\n",
       "      <td>5.0</td>\n",
       "      <td>14</td>\n",
       "    </tr>\n",
       "    <tr>\n",
       "      <th>3535</th>\n",
       "      <td>4718</td>\n",
       "      <td>4500.0</td>\n",
       "      <td>1.0</td>\n",
       "      <td>1</td>\n",
       "      <td>816.0</td>\n",
       "      <td>4</td>\n",
       "      <td>11.0</td>\n",
       "      <td>9</td>\n",
       "    </tr>\n",
       "  </tbody>\n",
       "</table>\n",
       "<p>3536 rows × 8 columns</p>\n",
       "</div>"
      ],
      "text/plain": [
       "      rental_id     rent  bedrooms  bathrooms  size_sqft  min_to_subway  \\\n",
       "0          1545   2550.0       0.0          1      480.0              9   \n",
       "1          2472  11500.0       2.0          2     2000.0              4   \n",
       "2          2919   4500.0       1.0          1      916.0              2   \n",
       "3          2790   4795.0       1.0          1      975.0              3   \n",
       "4          3946  17500.0       2.0          2     4800.0              3   \n",
       "...         ...      ...       ...        ...        ...            ...   \n",
       "3531       7582   4210.0       1.0          1      532.0              3   \n",
       "3532       5686   6675.0       2.0          2      988.0              5   \n",
       "3533       9679   1699.0       0.0          1      250.0              2   \n",
       "3534       5188   3475.0       1.0          1      651.0              6   \n",
       "3535       4718   4500.0       1.0          1      816.0              4   \n",
       "\n",
       "      floor  building_age_yrs  \n",
       "0       2.0                17  \n",
       "1       1.0                96  \n",
       "2      51.0                29  \n",
       "3       8.0                31  \n",
       "4       4.0               136  \n",
       "...     ...               ...  \n",
       "3531    8.0                16  \n",
       "3532   10.0                 9  \n",
       "3533    5.0                96  \n",
       "3534    5.0                14  \n",
       "3535   11.0                 9  \n",
       "\n",
       "[3536 rows x 8 columns]"
      ]
     },
     "execution_count": 4,
     "metadata": {},
     "output_type": "execute_result"
    }
   ],
   "source": [
    "df.reset_index(drop=True, inplace=False)"
   ]
  },
  {
   "cell_type": "code",
   "execution_count": 5,
   "id": "2d59e206",
   "metadata": {
    "scrolled": true
   },
   "outputs": [
    {
     "name": "stdout",
     "output_type": "stream",
     "text": [
      "<class 'pandas.core.frame.DataFrame'>\n",
      "Int64Index: 3536 entries, 0 to 3538\n",
      "Data columns (total 8 columns):\n",
      " #   Column            Non-Null Count  Dtype  \n",
      "---  ------            --------------  -----  \n",
      " 0   rental_id         3536 non-null   int64  \n",
      " 1   rent              3536 non-null   float64\n",
      " 2   bedrooms          3536 non-null   float64\n",
      " 3   bathrooms         3536 non-null   int64  \n",
      " 4   size_sqft         3536 non-null   float64\n",
      " 5   min_to_subway     3536 non-null   int64  \n",
      " 6   floor             3536 non-null   float64\n",
      " 7   building_age_yrs  3536 non-null   int64  \n",
      "dtypes: float64(4), int64(4)\n",
      "memory usage: 248.6 KB\n"
     ]
    }
   ],
   "source": [
    "df.info()"
   ]
  },
  {
   "cell_type": "code",
   "execution_count": 6,
   "id": "dacb94ea",
   "metadata": {},
   "outputs": [],
   "source": [
    "df.drop(df.index[df['bedrooms'] % 1 != 0], inplace = True)"
   ]
  },
  {
   "cell_type": "code",
   "execution_count": 7,
   "id": "00f17122",
   "metadata": {
    "scrolled": false
   },
   "outputs": [
    {
     "data": {
      "text/html": [
       "<div>\n",
       "<style scoped>\n",
       "    .dataframe tbody tr th:only-of-type {\n",
       "        vertical-align: middle;\n",
       "    }\n",
       "\n",
       "    .dataframe tbody tr th {\n",
       "        vertical-align: top;\n",
       "    }\n",
       "\n",
       "    .dataframe thead th {\n",
       "        text-align: right;\n",
       "    }\n",
       "</style>\n",
       "<table border=\"1\" class=\"dataframe\">\n",
       "  <thead>\n",
       "    <tr style=\"text-align: right;\">\n",
       "      <th></th>\n",
       "      <th>rental_id</th>\n",
       "      <th>rent</th>\n",
       "      <th>bedrooms</th>\n",
       "      <th>bathrooms</th>\n",
       "      <th>size_sqft</th>\n",
       "      <th>min_to_subway</th>\n",
       "      <th>floor</th>\n",
       "      <th>building_age_yrs</th>\n",
       "    </tr>\n",
       "  </thead>\n",
       "  <tbody>\n",
       "    <tr>\n",
       "      <th>count</th>\n",
       "      <td>3493.000000</td>\n",
       "      <td>3493.000000</td>\n",
       "      <td>3493.000000</td>\n",
       "      <td>3493.000000</td>\n",
       "      <td>3493.000000</td>\n",
       "      <td>3493.000000</td>\n",
       "      <td>3493.000000</td>\n",
       "      <td>3493.000000</td>\n",
       "    </tr>\n",
       "    <tr>\n",
       "      <th>mean</th>\n",
       "      <td>5315.760092</td>\n",
       "      <td>5145.065273</td>\n",
       "      <td>1.352992</td>\n",
       "      <td>1.368165</td>\n",
       "      <td>940.033209</td>\n",
       "      <td>4.969081</td>\n",
       "      <td>11.917120</td>\n",
       "      <td>51.748354</td>\n",
       "    </tr>\n",
       "    <tr>\n",
       "      <th>std</th>\n",
       "      <td>3311.904873</td>\n",
       "      <td>3158.801567</td>\n",
       "      <td>0.967656</td>\n",
       "      <td>0.600816</td>\n",
       "      <td>476.170764</td>\n",
       "      <td>5.535749</td>\n",
       "      <td>10.987292</td>\n",
       "      <td>39.416701</td>\n",
       "    </tr>\n",
       "    <tr>\n",
       "      <th>min</th>\n",
       "      <td>1.000000</td>\n",
       "      <td>1300.000000</td>\n",
       "      <td>0.000000</td>\n",
       "      <td>0.000000</td>\n",
       "      <td>250.000000</td>\n",
       "      <td>0.000000</td>\n",
       "      <td>0.000000</td>\n",
       "      <td>0.000000</td>\n",
       "    </tr>\n",
       "    <tr>\n",
       "      <th>25%</th>\n",
       "      <td>2417.000000</td>\n",
       "      <td>3175.000000</td>\n",
       "      <td>1.000000</td>\n",
       "      <td>1.000000</td>\n",
       "      <td>615.000000</td>\n",
       "      <td>2.000000</td>\n",
       "      <td>4.000000</td>\n",
       "      <td>15.000000</td>\n",
       "    </tr>\n",
       "    <tr>\n",
       "      <th>50%</th>\n",
       "      <td>5096.000000</td>\n",
       "      <td>4000.000000</td>\n",
       "      <td>1.000000</td>\n",
       "      <td>1.000000</td>\n",
       "      <td>800.000000</td>\n",
       "      <td>4.000000</td>\n",
       "      <td>8.000000</td>\n",
       "      <td>39.000000</td>\n",
       "    </tr>\n",
       "    <tr>\n",
       "      <th>75%</th>\n",
       "      <td>8121.000000</td>\n",
       "      <td>6000.000000</td>\n",
       "      <td>2.000000</td>\n",
       "      <td>2.000000</td>\n",
       "      <td>1143.000000</td>\n",
       "      <td>6.000000</td>\n",
       "      <td>17.000000</td>\n",
       "      <td>90.000000</td>\n",
       "    </tr>\n",
       "    <tr>\n",
       "      <th>max</th>\n",
       "      <td>11349.000000</td>\n",
       "      <td>20000.000000</td>\n",
       "      <td>5.000000</td>\n",
       "      <td>5.000000</td>\n",
       "      <td>4800.000000</td>\n",
       "      <td>43.000000</td>\n",
       "      <td>83.000000</td>\n",
       "      <td>180.000000</td>\n",
       "    </tr>\n",
       "  </tbody>\n",
       "</table>\n",
       "</div>"
      ],
      "text/plain": [
       "          rental_id          rent     bedrooms    bathrooms    size_sqft  \\\n",
       "count   3493.000000   3493.000000  3493.000000  3493.000000  3493.000000   \n",
       "mean    5315.760092   5145.065273     1.352992     1.368165   940.033209   \n",
       "std     3311.904873   3158.801567     0.967656     0.600816   476.170764   \n",
       "min        1.000000   1300.000000     0.000000     0.000000   250.000000   \n",
       "25%     2417.000000   3175.000000     1.000000     1.000000   615.000000   \n",
       "50%     5096.000000   4000.000000     1.000000     1.000000   800.000000   \n",
       "75%     8121.000000   6000.000000     2.000000     2.000000  1143.000000   \n",
       "max    11349.000000  20000.000000     5.000000     5.000000  4800.000000   \n",
       "\n",
       "       min_to_subway        floor  building_age_yrs  \n",
       "count    3493.000000  3493.000000       3493.000000  \n",
       "mean        4.969081    11.917120         51.748354  \n",
       "std         5.535749    10.987292         39.416701  \n",
       "min         0.000000     0.000000          0.000000  \n",
       "25%         2.000000     4.000000         15.000000  \n",
       "50%         4.000000     8.000000         39.000000  \n",
       "75%         6.000000    17.000000         90.000000  \n",
       "max        43.000000    83.000000        180.000000  "
      ]
     },
     "execution_count": 7,
     "metadata": {},
     "output_type": "execute_result"
    }
   ],
   "source": [
    "df.describe()"
   ]
  },
  {
   "cell_type": "code",
   "execution_count": 8,
   "id": "17060f62",
   "metadata": {},
   "outputs": [],
   "source": [
    "def scaleRent (df):\n",
    "    for row in range(len(df.index)):\n",
    "        if df.iat[row, 2] == 0:\n",
    "            df.iat[row, 1] = df.iat[row, 1]/1\n",
    "        else:\n",
    "            df.iat[row, 1] = df.iat[row, 1]/df.iat[row, 2]\n",
    "    return df"
   ]
  },
  {
   "cell_type": "code",
   "execution_count": 9,
   "id": "2ea488e7",
   "metadata": {},
   "outputs": [],
   "source": [
    "df = scaleRent (df)"
   ]
  },
  {
   "cell_type": "code",
   "execution_count": 10,
   "id": "67e49e18",
   "metadata": {},
   "outputs": [],
   "source": [
    "def normalizingData (df):\n",
    "    for column in df:\n",
    "        df[column] = (df[column] - df[column].min()) / (df[column].max() - df[column].min())  \n",
    "    return df"
   ]
  },
  {
   "cell_type": "code",
   "execution_count": 11,
   "id": "a5cb1c80",
   "metadata": {},
   "outputs": [],
   "source": [
    "df = normalizingData (df)"
   ]
  },
  {
   "cell_type": "code",
   "execution_count": 12,
   "id": "0f3c5195",
   "metadata": {},
   "outputs": [
    {
     "data": {
      "text/html": [
       "<div>\n",
       "<style scoped>\n",
       "    .dataframe tbody tr th:only-of-type {\n",
       "        vertical-align: middle;\n",
       "    }\n",
       "\n",
       "    .dataframe tbody tr th {\n",
       "        vertical-align: top;\n",
       "    }\n",
       "\n",
       "    .dataframe thead th {\n",
       "        text-align: right;\n",
       "    }\n",
       "</style>\n",
       "<table border=\"1\" class=\"dataframe\">\n",
       "  <thead>\n",
       "    <tr style=\"text-align: right;\">\n",
       "      <th></th>\n",
       "      <th>rental_id</th>\n",
       "      <th>rent</th>\n",
       "      <th>bedrooms</th>\n",
       "      <th>bathrooms</th>\n",
       "      <th>size_sqft</th>\n",
       "      <th>min_to_subway</th>\n",
       "      <th>floor</th>\n",
       "      <th>building_age_yrs</th>\n",
       "    </tr>\n",
       "  </thead>\n",
       "  <tbody>\n",
       "    <tr>\n",
       "      <th>0</th>\n",
       "      <td>0.136059</td>\n",
       "      <td>0.139489</td>\n",
       "      <td>0.0</td>\n",
       "      <td>0.2</td>\n",
       "      <td>0.050549</td>\n",
       "      <td>0.209302</td>\n",
       "      <td>0.024096</td>\n",
       "      <td>0.094444</td>\n",
       "    </tr>\n",
       "    <tr>\n",
       "      <th>1</th>\n",
       "      <td>0.217748</td>\n",
       "      <td>0.390963</td>\n",
       "      <td>0.4</td>\n",
       "      <td>0.4</td>\n",
       "      <td>0.384615</td>\n",
       "      <td>0.093023</td>\n",
       "      <td>0.012048</td>\n",
       "      <td>0.533333</td>\n",
       "    </tr>\n",
       "    <tr>\n",
       "      <th>2</th>\n",
       "      <td>0.257138</td>\n",
       "      <td>0.292731</td>\n",
       "      <td>0.2</td>\n",
       "      <td>0.2</td>\n",
       "      <td>0.146374</td>\n",
       "      <td>0.046512</td>\n",
       "      <td>0.614458</td>\n",
       "      <td>0.161111</td>\n",
       "    </tr>\n",
       "    <tr>\n",
       "      <th>3</th>\n",
       "      <td>0.245770</td>\n",
       "      <td>0.315914</td>\n",
       "      <td>0.2</td>\n",
       "      <td>0.2</td>\n",
       "      <td>0.159341</td>\n",
       "      <td>0.069767</td>\n",
       "      <td>0.096386</td>\n",
       "      <td>0.172222</td>\n",
       "    </tr>\n",
       "    <tr>\n",
       "      <th>4</th>\n",
       "      <td>0.347638</td>\n",
       "      <td>0.626719</td>\n",
       "      <td>0.4</td>\n",
       "      <td>0.4</td>\n",
       "      <td>1.000000</td>\n",
       "      <td>0.069767</td>\n",
       "      <td>0.048193</td>\n",
       "      <td>0.755556</td>\n",
       "    </tr>\n",
       "  </tbody>\n",
       "</table>\n",
       "</div>"
      ],
      "text/plain": [
       "   rental_id      rent  bedrooms  bathrooms  size_sqft  min_to_subway  \\\n",
       "0   0.136059  0.139489       0.0        0.2   0.050549       0.209302   \n",
       "1   0.217748  0.390963       0.4        0.4   0.384615       0.093023   \n",
       "2   0.257138  0.292731       0.2        0.2   0.146374       0.046512   \n",
       "3   0.245770  0.315914       0.2        0.2   0.159341       0.069767   \n",
       "4   0.347638  0.626719       0.4        0.4   1.000000       0.069767   \n",
       "\n",
       "      floor  building_age_yrs  \n",
       "0  0.024096          0.094444  \n",
       "1  0.012048          0.533333  \n",
       "2  0.614458          0.161111  \n",
       "3  0.096386          0.172222  \n",
       "4  0.048193          0.755556  "
      ]
     },
     "execution_count": 12,
     "metadata": {},
     "output_type": "execute_result"
    }
   ],
   "source": [
    "df.head()"
   ]
  },
  {
   "cell_type": "code",
   "execution_count": 13,
   "id": "a57a9659",
   "metadata": {},
   "outputs": [],
   "source": [
    "cor = df.corr()"
   ]
  },
  {
   "cell_type": "code",
   "execution_count": 14,
   "id": "d8503b47",
   "metadata": {},
   "outputs": [
    {
     "data": {
      "text/plain": [
       "<AxesSubplot:>"
      ]
     },
     "execution_count": 14,
     "metadata": {},
     "output_type": "execute_result"
    },
    {
     "data": {
      "image/png": "[encoded data removed]",
      "text/plain": [
       "<Figure size 432x288 with 2 Axes>"
      ]
     },
     "metadata": {
      "needs_background": "light"
     },
     "output_type": "display_data"
    }
   ],
   "source": [
    "sns.heatmap(cor, annot = True)"
   ]
  },
  {
   "cell_type": "code",
   "execution_count": 15,
   "id": "984a711a",
   "metadata": {},
   "outputs": [
    {
     "name": "stdout",
     "output_type": "stream",
     "text": [
      "<class 'pandas.core.frame.DataFrame'>\n",
      "Int64Index: 3493 entries, 0 to 3538\n",
      "Data columns (total 8 columns):\n",
      " #   Column            Non-Null Count  Dtype  \n",
      "---  ------            --------------  -----  \n",
      " 0   rental_id         3493 non-null   float64\n",
      " 1   rent              3493 non-null   float64\n",
      " 2   bedrooms          3493 non-null   float64\n",
      " 3   bathrooms         3493 non-null   float64\n",
      " 4   size_sqft         3493 non-null   float64\n",
      " 5   min_to_subway     3493 non-null   float64\n",
      " 6   floor             3493 non-null   float64\n",
      " 7   building_age_yrs  3493 non-null   float64\n",
      "dtypes: float64(8)\n",
      "memory usage: 245.6 KB\n"
     ]
    }
   ],
   "source": [
    "df.info()"
   ]
  },
  {
   "cell_type": "code",
   "execution_count": 16,
   "id": "60304614",
   "metadata": {},
   "outputs": [],
   "source": [
    "def testTrainSplit (df):\n",
    "    df = df.sample(frac = 1, ignore_index=True)\n",
    "    length = len(df.index)\n",
    "    splitPoint = round(length * 0.70)\n",
    "    training = df.iloc[:splitPoint, :]\n",
    "    testing = df.iloc[splitPoint:, :]\n",
    "    return training, testing"
   ]
  },
  {
   "cell_type": "code",
   "execution_count": 17,
   "id": "704c1b09",
   "metadata": {},
   "outputs": [],
   "source": [
    "training, testing = testTrainSplit (df)"
   ]
  },
  {
   "cell_type": "code",
   "execution_count": 18,
   "id": "f176ade9",
   "metadata": {},
   "outputs": [
    {
     "name": "stdout",
     "output_type": "stream",
     "text": [
      "<class 'pandas.core.frame.DataFrame'>\n",
      "RangeIndex: 2445 entries, 0 to 2444\n",
      "Data columns (total 8 columns):\n",
      " #   Column            Non-Null Count  Dtype  \n",
      "---  ------            --------------  -----  \n",
      " 0   rental_id         2445 non-null   float64\n",
      " 1   rent              2445 non-null   float64\n",
      " 2   bedrooms          2445 non-null   float64\n",
      " 3   bathrooms         2445 non-null   float64\n",
      " 4   size_sqft         2445 non-null   float64\n",
      " 5   min_to_subway     2445 non-null   float64\n",
      " 6   floor             2445 non-null   float64\n",
      " 7   building_age_yrs  2445 non-null   float64\n",
      "dtypes: float64(8)\n",
      "memory usage: 152.9 KB\n"
     ]
    }
   ],
   "source": [
    "training.info()"
   ]
  },
  {
   "cell_type": "code",
   "execution_count": 19,
   "id": "ae7c9966",
   "metadata": {},
   "outputs": [
    {
     "name": "stdout",
     "output_type": "stream",
     "text": [
      "<class 'pandas.core.frame.DataFrame'>\n",
      "RangeIndex: 1048 entries, 2445 to 3492\n",
      "Data columns (total 8 columns):\n",
      " #   Column            Non-Null Count  Dtype  \n",
      "---  ------            --------------  -----  \n",
      " 0   rental_id         1048 non-null   float64\n",
      " 1   rent              1048 non-null   float64\n",
      " 2   bedrooms          1048 non-null   float64\n",
      " 3   bathrooms         1048 non-null   float64\n",
      " 4   size_sqft         1048 non-null   float64\n",
      " 5   min_to_subway     1048 non-null   float64\n",
      " 6   floor             1048 non-null   float64\n",
      " 7   building_age_yrs  1048 non-null   float64\n",
      "dtypes: float64(8)\n",
      "memory usage: 65.6 KB\n"
     ]
    }
   ],
   "source": [
    "testing.info()"
   ]
  },
  {
   "cell_type": "code",
   "execution_count": 20,
   "id": "fe89c9e4",
   "metadata": {},
   "outputs": [],
   "source": [
    "def fittingPlane (df, wBList):\n",
    "    listOfFits = []\n",
    "    W3 = -1\n",
    "    for wBPair in wBList:\n",
    "        W1 = wBPair[\"W1\"]\n",
    "        W2 = wBPair[\"W2\"]\n",
    "        B = wBPair[\"B\"]\n",
    "        dSum = 0\n",
    "        for index, row in df.iterrows():\n",
    "            X1 = row[\"bedrooms\"]\n",
    "            X2 = row[\"size_sqft\"]\n",
    "            Y = row[\"rent\"]\n",
    "            \n",
    "            distance = (abs((W1 * X1) + (W2 * X2) + (W3 * Y) + B)) / (((W1**2) + (W2**2) + (W3**2))**0.5)\n",
    "            \n",
    "            dSum = dSum + distance\n",
    "        template = {\"Distance Sum\": dSum, \"W1\": W1, \"W2\": W2, \"B\": B}\n",
    "        listOfFits.append(template)\n",
    "    dictionary = findSmallestSum (listOfFits)\n",
    "    \n",
    "    return dictionary"
   ]
  },
  {
   "cell_type": "code",
   "execution_count": 21,
   "id": "99a934ae",
   "metadata": {},
   "outputs": [],
   "source": [
    "def findSmallestSum (listOfFits):\n",
    "    lowest = float ('inf')\n",
    "    for sum in listOfFits:\n",
    "        if sum['Distance Sum'] < lowest:\n",
    "            lowest = sum['Distance Sum']\n",
    "            dictionary = sum\n",
    "    return dictionary"
   ]
  },
  {
   "cell_type": "code",
   "execution_count": 22,
   "id": "52623807",
   "metadata": {},
   "outputs": [],
   "source": [
    "def creatingWeights (lWeight, hWeight, lYIntercept, hYIntercept):\n",
    "    wBList = []\n",
    "    for firstWeight in range(lWeight, hWeight + 1):\n",
    "        for secondWeight in range (lWeight, hWeight + 1):\n",
    "            for yIntercept in range (lYIntercept, hYIntercept + 1):\n",
    "                template = {\"W1\": firstWeight/100, \"W2\": secondWeight/100, \"B\" : yIntercept/100}\n",
    "                wBList.append(template)\n",
    "    return wBList"
   ]
  },
  {
   "cell_type": "code",
   "execution_count": 23,
   "id": "2c7f59db",
   "metadata": {},
   "outputs": [],
   "source": [
    "wBList = creatingWeights (-10, 100, -10, 100)"
   ]
  },
  {
   "cell_type": "code",
   "execution_count": 24,
   "id": "f2212506",
   "metadata": {},
   "outputs": [
    {
     "ename": "KeyboardInterrupt",
     "evalue": "",
     "output_type": "error",
     "traceback": [
      "\u001b[1;31m---------------------------------------------------------------------------\u001b[0m",
      "\u001b[1;31mKeyboardInterrupt\u001b[0m                         Traceback (most recent call last)",
      "Input \u001b[1;32mIn [24]\u001b[0m, in \u001b[0;36m<cell line: 1>\u001b[1;34m()\u001b[0m\n\u001b[1;32m----> 1\u001b[0m dictionary \u001b[38;5;241m=\u001b[39m \u001b[43mfittingPlane\u001b[49m\u001b[43m \u001b[49m\u001b[43m(\u001b[49m\u001b[43mdf\u001b[49m\u001b[43m,\u001b[49m\u001b[43m \u001b[49m\u001b[43mwBList\u001b[49m\u001b[43m)\u001b[49m\n",
      "Input \u001b[1;32mIn [20]\u001b[0m, in \u001b[0;36mfittingPlane\u001b[1;34m(df, wBList)\u001b[0m\n\u001b[0;32m      7\u001b[0m B \u001b[38;5;241m=\u001b[39m wBPair[\u001b[38;5;124m\"\u001b[39m\u001b[38;5;124mB\u001b[39m\u001b[38;5;124m\"\u001b[39m]\n\u001b[0;32m      8\u001b[0m dSum \u001b[38;5;241m=\u001b[39m \u001b[38;5;241m0\u001b[39m\n\u001b[1;32m----> 9\u001b[0m \u001b[38;5;28;01mfor\u001b[39;00m index, row \u001b[38;5;129;01min\u001b[39;00m df\u001b[38;5;241m.\u001b[39miterrows():\n\u001b[0;32m     10\u001b[0m     X1 \u001b[38;5;241m=\u001b[39m row[\u001b[38;5;124m\"\u001b[39m\u001b[38;5;124mbedrooms\u001b[39m\u001b[38;5;124m\"\u001b[39m]\n\u001b[0;32m     11\u001b[0m     X2 \u001b[38;5;241m=\u001b[39m row[\u001b[38;5;124m\"\u001b[39m\u001b[38;5;124msize_sqft\u001b[39m\u001b[38;5;124m\"\u001b[39m]\n",
      "File \u001b[1;32m~\\Anaconda3\\lib\\site-packages\\pandas\\core\\frame.py:1324\u001b[0m, in \u001b[0;36mDataFrame.iterrows\u001b[1;34m(self)\u001b[0m\n\u001b[0;32m   1322\u001b[0m klass \u001b[38;5;241m=\u001b[39m \u001b[38;5;28mself\u001b[39m\u001b[38;5;241m.\u001b[39m_constructor_sliced\n\u001b[0;32m   1323\u001b[0m \u001b[38;5;28;01mfor\u001b[39;00m k, v \u001b[38;5;129;01min\u001b[39;00m \u001b[38;5;28mzip\u001b[39m(\u001b[38;5;28mself\u001b[39m\u001b[38;5;241m.\u001b[39mindex, \u001b[38;5;28mself\u001b[39m\u001b[38;5;241m.\u001b[39mvalues):\n\u001b[1;32m-> 1324\u001b[0m     s \u001b[38;5;241m=\u001b[39m \u001b[43mklass\u001b[49m\u001b[43m(\u001b[49m\u001b[43mv\u001b[49m\u001b[43m,\u001b[49m\u001b[43m \u001b[49m\u001b[43mindex\u001b[49m\u001b[38;5;241;43m=\u001b[39;49m\u001b[43mcolumns\u001b[49m\u001b[43m,\u001b[49m\u001b[43m \u001b[49m\u001b[43mname\u001b[49m\u001b[38;5;241;43m=\u001b[39;49m\u001b[43mk\u001b[49m\u001b[43m)\u001b[49m\n\u001b[0;32m   1325\u001b[0m     \u001b[38;5;28;01myield\u001b[39;00m k, s\n",
      "File \u001b[1;32m~\\Anaconda3\\lib\\site-packages\\pandas\\core\\series.py:323\u001b[0m, in \u001b[0;36mSeries.__init__\u001b[1;34m(self, data, index, dtype, name, copy, fastpath)\u001b[0m\n\u001b[0;32m    318\u001b[0m rdiv: Callable[[Series, Any], Series]\n\u001b[0;32m    320\u001b[0m \u001b[38;5;66;03m# ----------------------------------------------------------------------\u001b[39;00m\n\u001b[0;32m    321\u001b[0m \u001b[38;5;66;03m# Constructors\u001b[39;00m\n\u001b[1;32m--> 323\u001b[0m \u001b[38;5;28;01mdef\u001b[39;00m \u001b[38;5;21m__init__\u001b[39m(\n\u001b[0;32m    324\u001b[0m     \u001b[38;5;28mself\u001b[39m,\n\u001b[0;32m    325\u001b[0m     data\u001b[38;5;241m=\u001b[39m\u001b[38;5;28;01mNone\u001b[39;00m,\n\u001b[0;32m    326\u001b[0m     index\u001b[38;5;241m=\u001b[39m\u001b[38;5;28;01mNone\u001b[39;00m,\n\u001b[0;32m    327\u001b[0m     dtype: Dtype \u001b[38;5;241m|\u001b[39m \u001b[38;5;28;01mNone\u001b[39;00m \u001b[38;5;241m=\u001b[39m \u001b[38;5;28;01mNone\u001b[39;00m,\n\u001b[0;32m    328\u001b[0m     name\u001b[38;5;241m=\u001b[39m\u001b[38;5;28;01mNone\u001b[39;00m,\n\u001b[0;32m    329\u001b[0m     copy: \u001b[38;5;28mbool\u001b[39m \u001b[38;5;241m=\u001b[39m \u001b[38;5;28;01mFalse\u001b[39;00m,\n\u001b[0;32m    330\u001b[0m     fastpath: \u001b[38;5;28mbool\u001b[39m \u001b[38;5;241m=\u001b[39m \u001b[38;5;28;01mFalse\u001b[39;00m,\n\u001b[0;32m    331\u001b[0m ):\n\u001b[0;32m    333\u001b[0m     \u001b[38;5;28;01mif\u001b[39;00m (\n\u001b[0;32m    334\u001b[0m         \u001b[38;5;28misinstance\u001b[39m(data, (SingleBlockManager, SingleArrayManager))\n\u001b[0;32m    335\u001b[0m         \u001b[38;5;129;01mand\u001b[39;00m index \u001b[38;5;129;01mis\u001b[39;00m \u001b[38;5;28;01mNone\u001b[39;00m\n\u001b[1;32m   (...)\u001b[0m\n\u001b[0;32m    338\u001b[0m     ):\n\u001b[0;32m    339\u001b[0m         \u001b[38;5;66;03m# GH#33357 called with just the SingleBlockManager\u001b[39;00m\n\u001b[0;32m    340\u001b[0m         NDFrame\u001b[38;5;241m.\u001b[39m\u001b[38;5;21m__init__\u001b[39m(\u001b[38;5;28mself\u001b[39m, data)\n",
      "\u001b[1;31mKeyboardInterrupt\u001b[0m: "
     ]
    }
   ],
   "source": [
    "dictionary = fittingPlane (df, wBList)"
   ]
  },
  {
   "cell_type": "code",
   "execution_count": null,
   "id": "c545190d",
   "metadata": {},
   "outputs": [],
   "source": [
    "dictionary"
   ]
  }
 ],
 "metadata": {
  "kernelspec": {
   "display_name": "Python 3 (ipykernel)",
   "language": "python",
   "name": "python3"
  },
  "language_info": {
   "codemirror_mode": {
    "name": "ipython",
    "version": 3
   },
   "file_extension": ".py",
   "mimetype": "text/x-python",
   "name": "python",
   "nbconvert_exporter": "python",
   "pygments_lexer": "ipython3",
   "version": "3.9.12"
  }
 },
 "nbformat": 4,
 "nbformat_minor": 5
}
