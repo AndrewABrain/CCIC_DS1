{
 "cells": [
  {
   "cell_type": "code",
   "execution_count": null,
   "id": "f8295bf9",
   "metadata": {},
   "outputs": [],
   "source": [
    "import pandas as pd\n",
    "import seaborn as sns"
   ]
  },
  {
   "cell_type": "code",
   "execution_count": null,
   "id": "34495f32",
   "metadata": {},
   "outputs": [],
   "source": [
    "df = pd.read_csv('manhattan_rents - Data.csv')"
   ]
  },
  {
   "cell_type": "code",
   "execution_count": null,
   "id": "e213ee7e",
   "metadata": {},
   "outputs": [],
   "source": [
    "df.dropna(inplace = True)"
   ]
  },
  {
   "cell_type": "code",
   "execution_count": null,
   "id": "aaab6a8d",
   "metadata": {},
   "outputs": [],
   "source": [
    "df.reset_index(drop=True, inplace=False)"
   ]
  },
  {
   "cell_type": "code",
   "execution_count": null,
   "id": "2d59e206",
   "metadata": {
    "scrolled": true
   },
   "outputs": [],
   "source": [
    "df.info()"
   ]
  },
  {
   "cell_type": "code",
   "execution_count": null,
   "id": "dacb94ea",
   "metadata": {},
   "outputs": [],
   "source": [
    "df.drop(df.index[df['bedrooms'] % 1 != 0], inplace = True)"
   ]
  },
  {
   "cell_type": "code",
   "execution_count": null,
   "id": "00f17122",
   "metadata": {
    "scrolled": false
   },
   "outputs": [],
   "source": [
    "df.describe()"
   ]
  },
  {
   "cell_type": "code",
   "execution_count": null,
   "id": "17060f62",
   "metadata": {},
   "outputs": [],
   "source": [
    "def scaleRent (df):\n",
    "    for row in range(len(df.index)):\n",
    "        if df.iat[row, 2] == 0:\n",
    "            df.iat[row, 1] = df.iat[row, 1]/1\n",
    "        else:\n",
    "            df.iat[row, 1] = df.iat[row, 1]/df.iat[row, 2]\n",
    "    return df"
   ]
  },
  {
   "cell_type": "code",
   "execution_count": null,
   "id": "2ea488e7",
   "metadata": {},
   "outputs": [],
   "source": [
    "df = scaleRent (df)"
   ]
  },
  {
   "cell_type": "code",
   "execution_count": null,
   "id": "67e49e18",
   "metadata": {},
   "outputs": [],
   "source": [
    "def normalizingData (df):\n",
    "    for column in df:\n",
    "        df[column] = (df[column] - df[column].min()) / (df[column].max() - df[column].min())  \n",
    "    return df"
   ]
  },
  {
   "cell_type": "code",
   "execution_count": null,
   "id": "a5cb1c80",
   "metadata": {},
   "outputs": [],
   "source": [
    "df = normalizingData (df)"
   ]
  },
  {
   "cell_type": "code",
   "execution_count": null,
   "id": "0f3c5195",
   "metadata": {},
   "outputs": [],
   "source": [
    "df.head()"
   ]
  },
  {
   "cell_type": "code",
   "execution_count": null,
   "id": "a57a9659",
   "metadata": {},
   "outputs": [],
   "source": [
    "cor = df.corr()"
   ]
  },
  {
   "cell_type": "code",
   "execution_count": null,
   "id": "d8503b47",
   "metadata": {},
   "outputs": [],
   "source": [
    "sns.heatmap(cor, annot = True)"
   ]
  },
  {
   "cell_type": "code",
   "execution_count": null,
   "id": "984a711a",
   "metadata": {},
   "outputs": [],
   "source": [
    "df.info()"
   ]
  },
  {
   "cell_type": "code",
   "execution_count": null,
   "id": "60304614",
   "metadata": {},
   "outputs": [],
   "source": [
    "def testTrainSplit (df):\n",
    "    df = df.sample(frac = 1, ignore_index=True)\n",
    "    length = len(df.index)\n",
    "    splitPoint = round(length * 0.70)\n",
    "    training = df.iloc[:splitPoint, :]\n",
    "    testing = df.iloc[splitPoint:, :]\n",
    "    return training, testing"
   ]
  },
  {
   "cell_type": "code",
   "execution_count": null,
   "id": "704c1b09",
   "metadata": {},
   "outputs": [],
   "source": [
    "training, testing = testTrainSplit (df)"
   ]
  },
  {
   "cell_type": "code",
   "execution_count": null,
   "id": "f176ade9",
   "metadata": {},
   "outputs": [],
   "source": [
    "training.info()"
   ]
  },
  {
   "cell_type": "code",
   "execution_count": null,
   "id": "ae7c9966",
   "metadata": {},
   "outputs": [],
   "source": [
    "testing.info()"
   ]
  },
  {
   "cell_type": "code",
   "execution_count": null,
   "id": "fe89c9e4",
   "metadata": {},
   "outputs": [],
   "source": [
    "def fittingPlane (df, wBList):\n",
    "    listOfFits = []\n",
    "    W3 = -1\n",
    "    for wBPair in wBList:\n",
    "        W1 = wBPair[\"W1\"]\n",
    "        W2 = wBPair[\"W2\"]\n",
    "        B = wBPair[\"B\"]\n",
    "        dSum = 0\n",
    "        for index, row in df.iterrows():\n",
    "            X1 = row[\"bedrooms\"]\n",
    "            X2 = row[\"size_sqft\"]\n",
    "            Y = row[\"rent\"]\n",
    "            \n",
    "            distance = (abs((W1 * X1) + (W2 * X2) + (W3 * Y) + B)) / (((W1**2) + (W2**2) + (W3**2))**0.5)\n",
    "            \n",
    "            dSum = dSum + distance\n",
    "        template = {\"Distance Sum\": dSum, \"W1\": W1, \"W2\": W2, \"B\": B}\n",
    "        listOfFits.append(template)\n",
    "    dictionary = findSmallestSum (listOfFits)\n",
    "    \n",
    "    return dictionary"
   ]
  },
  {
   "cell_type": "code",
   "execution_count": null,
   "id": "99a934ae",
   "metadata": {},
   "outputs": [],
   "source": [
    "def findSmallestSum (listOfFits):\n",
    "    lowest = float ('inf')\n",
    "    for sum in listOfFits:\n",
    "        if sum['Distance Sum'] < lowest:\n",
    "            lowest = sum['Distance Sum']\n",
    "            dictionary = sum\n",
    "    return dictionary"
   ]
  },
  {
   "cell_type": "code",
   "execution_count": null,
   "id": "52623807",
   "metadata": {},
   "outputs": [],
   "source": [
    "def creatingWeights (lWeight, hWeight, lYIntercept, hYIntercept):\n",
    "    wBList = []\n",
    "    for firstWeight in range(lWeight, hWeight + 1):\n",
    "        for secondWeight in range (lWeight, hWeight + 1):\n",
    "            for yIntercept in range (lYIntercept, hYIntercept + 1):\n",
    "                template = {\"W1\": firstWeight/10, \"W2\": secondWeight/10, \"B\" : yIntercept/10}\n",
    "                wBList.append(template)\n",
    "    return wBList"
   ]
  },
  {
   "cell_type": "code",
   "execution_count": null,
   "id": "2c7f59db",
   "metadata": {},
   "outputs": [],
   "source": [
    "wBList = creatingWeights (-5, 10, -5, 10)"
   ]
  },
  {
   "cell_type": "code",
   "execution_count": null,
   "id": "f2212506",
   "metadata": {},
   "outputs": [],
   "source": [
    "dictionary = fittingPlane (df, wBList)"
   ]
  },
  {
   "cell_type": "code",
   "execution_count": null,
   "id": "c545190d",
   "metadata": {},
   "outputs": [],
   "source": [
    "dictionary"
   ]
  }
 ],
 "metadata": {
  "kernelspec": {
   "display_name": "Python 3 (ipykernel)",
   "language": "python",
   "name": "python3"
  },
  "language_info": {
   "codemirror_mode": {
    "name": "ipython",
    "version": 3
   },
   "file_extension": ".py",
   "mimetype": "text/x-python",
   "name": "python",
   "nbconvert_exporter": "python",
   "pygments_lexer": "ipython3",
   "version": "3.9.12"
  }
 },
 "nbformat": 4,
 "nbformat_minor": 5
}
