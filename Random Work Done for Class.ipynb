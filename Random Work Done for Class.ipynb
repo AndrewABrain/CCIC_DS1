{
 "cells": [
  {
   "cell_type": "code",
   "execution_count": 2,
   "id": "893b205b",
   "metadata": {},
   "outputs": [
    {
     "name": "stdout",
     "output_type": "stream",
     "text": [
      "A\n",
      "E\n"
     ]
    }
   ],
   "source": [
    "list = [[\"A\", \"B\", \"D\", \"C\" \"E\", \"S\", \"L\", \"M\", \"E\", \"R\", \"T\"],[\"Spindt\", \"Bowen\"]]\n",
    "for letter in list [0]:\n",
    "    if letter == \"A\" or letter == \"U\" or letter == \"I\" or letter == \"E\" or letter == \"O\":\n",
    "        print(letter)"
   ]
  },
  {
   "cell_type": "code",
   "execution_count": null,
   "id": "311f52a3",
   "metadata": {},
   "outputs": [],
   "source": [
    "in"
   ]
  },
  {
   "cell_type": "code",
   "execution_count": null,
   "id": "a0e5c1b9",
   "metadata": {},
   "outputs": [],
   "source": [
    "powers = [[1,2,3],[4,5,6]]\n",
    "idx = 0\n",
    "for row in powers:\n",
    "    for num in row:\n",
    "        row[idx] = row[idx] ** row[idx]\n",
    "    idx = idx + 1\n",
    "\n",
    "print (powers)"
   ]
  },
  {
   "cell_type": "code",
   "execution_count": null,
   "id": "ebf7e950",
   "metadata": {},
   "outputs": [],
   "source": []
  }
 ],
 "metadata": {
  "kernelspec": {
   "display_name": "Python 3 (ipykernel)",
   "language": "python",
   "name": "python3"
  },
  "language_info": {
   "codemirror_mode": {
    "name": "ipython",
    "version": 3
   },
   "file_extension": ".py",
   "mimetype": "text/x-python",
   "name": "python",
   "nbconvert_exporter": "python",
   "pygments_lexer": "ipython3",
   "version": "3.9.12"
  }
 },
 "nbformat": 4,
 "nbformat_minor": 5
}
