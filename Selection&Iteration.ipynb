{
 "cells": [
  {
   "cell_type": "code",
   "execution_count": 8,
   "id": "49bc9ec6",
   "metadata": {},
   "outputs": [
    {
     "name": "stdout",
     "output_type": "stream",
     "text": [
      "True\n"
     ]
    }
   ],
   "source": [
    "# My attempt\n",
    "true = []\n",
    "list_one = [3,2,5]\n",
    "list_two = [5, 3, 7, 9, 2]\n",
    "\n",
    "for num in list_one:\n",
    "    for val in list_two:\n",
    "        if num == val:\n",
    "            true.append(True)\n",
    "\n",
    "if len(true) >= len(list_one):\n",
    "    print (True)\n",
    "else:\n",
    "    print(False)\n"
   ]
  },
  {
   "cell_type": "code",
   "execution_count": 15,
   "id": "56979698",
   "metadata": {},
   "outputs": [
    {
     "name": "stdout",
     "output_type": "stream",
     "text": [
      "False\n"
     ]
    }
   ],
   "source": [
    "# Classes attempt\n",
    "list1 = [3,2,5]\n",
    "list2 = [5, 3, 7, 9, 2]\n",
    "list1.sort()\n",
    "list2.sort()\n",
    "boo = False\n",
    "for i in list1:\n",
    "    if i in list2:\n",
    "        boo = True\n",
    "    else:\n",
    "        boo = False\n",
    "        break\n",
    "print (boo)"
   ]
  },
  {
   "cell_type": "code",
   "execution_count": 12,
   "id": "e0c9094f",
   "metadata": {},
   "outputs": [
    {
     "name": "stdout",
     "output_type": "stream",
     "text": [
      "[17, 34, 51, 68, 85, 102]\n"
     ]
    }
   ],
   "source": [
    "# My attempt\n",
    "number = 17\n",
    "length = 6\n",
    "x = 1\n",
    "list = []\n",
    "while x <= length:\n",
    "    list.append (number * x)\n",
    "    x = x + 1\n",
    "    \n",
    "print (list)"
   ]
  },
  {
   "cell_type": "code",
   "execution_count": null,
   "id": "db298eea",
   "metadata": {},
   "outputs": [],
   "source": [
    "# classes attempt (incomplete)\n",
    "number = int(input (\"enter any number\"))\n",
    "# print(type(number))\n",
    "depth = int(input(\"How long would you like the list to be?\"))\n",
    "x = range()\n",
    "for i in x:\n",
    "    print (x)"
   ]
  },
  {
   "cell_type": "code",
   "execution_count": null,
   "id": "62d96712",
   "metadata": {},
   "outputs": [],
   "source": []
  }
 ],
 "metadata": {
  "kernelspec": {
   "display_name": "Python 3 (ipykernel)",
   "language": "python",
   "name": "python3"
  },
  "language_info": {
   "codemirror_mode": {
    "name": "ipython",
    "version": 3
   },
   "file_extension": ".py",
   "mimetype": "text/x-python",
   "name": "python",
   "nbconvert_exporter": "python",
   "pygments_lexer": "ipython3",
   "version": "3.9.12"
  }
 },
 "nbformat": 4,
 "nbformat_minor": 5
}
