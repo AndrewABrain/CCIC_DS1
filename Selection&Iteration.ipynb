{
 "cells": [
  {
   "cell_type": "code",
   "execution_count": 1,
   "id": "49bc9ec6",
   "metadata": {},
   "outputs": [
    {
     "name": "stdout",
     "output_type": "stream",
     "text": [
      "True\n"
     ]
    }
   ],
   "source": [
    "# My attempt\n",
    "true = []\n",
    "list_one = [3,2,5]\n",
    "list_two = [5, 3, 7, 9, 2]\n",
    "\n",
    "for num in list_one:\n",
    "    for val in list_two:\n",
    "        if num == val:\n",
    "            true.append(True)\n",
    "\n",
    "if len(true) >= len(list_one):\n",
    "    print (True)\n",
    "else:\n",
    "    print(False)\n"
   ]
  },
  {
   "cell_type": "code",
   "execution_count": null,
   "id": "56979698",
   "metadata": {},
   "outputs": [],
   "source": [
    "# Classes attempt\n",
    "list1 = [3,2,5]\n",
    "list2 = [5, 3, 7, 9, 2]\n",
    "list1.sort()\n",
    "list2.sort()\n",
    "boo = False\n",
    "for i in list1:\n",
    "    if i in list2:\n",
    "        boo = True\n",
    "    else:\n",
    "        boo = False\n",
    "        break\n",
    "print (boo)"
   ]
  },
  {
   "cell_type": "code",
   "execution_count": null,
   "id": "e0c9094f",
   "metadata": {},
   "outputs": [],
   "source": [
    "# My attempt\n",
    "number = 14\n",
    "length = 6\n",
    "x = 0\n",
    "multiples = []\n",
    "while x < length:\n",
    "    x = x + 1\n",
    "    multiples.append (number * x)\n",
    "    \n",
    "    \n",
    "print (multiples)"
   ]
  },
  {
   "cell_type": "code",
   "execution_count": null,
   "id": "e0966925",
   "metadata": {},
   "outputs": [],
   "source": [
    "# classes attempt\n",
    "number = int(input (\"Enter any number: \"))\n",
    "leng = int(input(\"How long would you like the list to be?: \"))\n",
    "num = []\n",
    "for i in range (1, leng + 1):\n",
    "    num.append(i*number)\n",
    "    \n",
    "print (num)"
   ]
  },
  {
   "cell_type": "code",
   "execution_count": 9,
   "id": "d45e34c1",
   "metadata": {},
   "outputs": [
    {
     "name": "stdout",
     "output_type": "stream",
     "text": [
      "Input message: hello\n",
      ".... . .-.. .-.. ---\n"
     ]
    }
   ],
   "source": [
    "# My attempt\n",
    "char_to_dots = {\n",
    "  'A': '.-', 'B': '-...', 'C': '-.-.', 'D': '-..', 'E': '.', 'F': '..-.',\n",
    "  'G': '--.', 'H': '....', 'I': '..', 'J': '.---', 'K': '-.-', 'L': '.-..',\n",
    "  'M': '--', 'N': '-.', 'O': '---', 'P': '.--.', 'Q': '--.-', 'R': '.-.',\n",
    "  'S': '...', 'T': '-', 'U': '..-', 'V': '...-', 'W': '.--', 'X': '-..-',\n",
    "  'Y': '-.--', 'Z': '--..', ' ': ' ', '0': '-----',\n",
    "  '1': '.----', '2': '..---', '3': '...--', '4': '....-', '5': '.....',\n",
    "  '6': '-....', '7': '--...', '8': '---..', '9': '----.',\n",
    "  '&': '.-...', \"'\": '.----.', '@': '.--.-.', ')': '-.--.-', '(': '-.--.',\n",
    "  ':': '---...', ',': '--..--', '=': '-...-', '!': '-.-.--', '.': '.-.-.-',\n",
    "  '-': '-....-', '+': '.-.-.', '\"': '.-..-.', '?': '..--..', '/': '-..-.'\n",
    "}\n",
    "message = input(\"Input message: \")\n",
    "message = message.upper()\n",
    "x = 0\n",
    "for character in message:\n",
    "    if x == len(message)-1:\n",
    "        print(char_to_dots[character])\n",
    "    else:\n",
    "        print(char_to_dots[character], end=\" \")\n",
    "    x = x + 1"
   ]
  },
  {
   "cell_type": "code",
   "execution_count": 3,
   "id": "485d2815",
   "metadata": {},
   "outputs": [
    {
     "name": "stdout",
     "output_type": "stream",
     "text": [
      "True\n"
     ]
    }
   ],
   "source": [
    "seating = [[1,2,3,2,1,1],\n",
    "           [2,4,4,3,2,2],\n",
    "           [5,5,5,5,4,4],\n",
    "           [6,6,7,6,5,5]]\n",
    "boo = True\n",
    "for column in range(1, len(seating[0])):\n",
    "    for row in range(len(seating)):\n",
    "        if row < len(seating)-1:\n",
    "            if seating [row][column] >= seating[row+1][column]:\n",
    "                boo = False\n",
    "                break\n",
    "print(boo)"
   ]
  },
  {
   "cell_type": "code",
   "execution_count": null,
   "id": "543de57c",
   "metadata": {},
   "outputs": [],
   "source": []
  }
 ],
 "metadata": {
  "kernelspec": {
   "display_name": "Python 3 (ipykernel)",
   "language": "python",
   "name": "python3"
  },
  "language_info": {
   "codemirror_mode": {
    "name": "ipython",
    "version": 3
   },
   "file_extension": ".py",
   "mimetype": "text/x-python",
   "name": "python",
   "nbconvert_exporter": "python",
   "pygments_lexer": "ipython3",
   "version": "3.9.12"
  }
 },
 "nbformat": 4,
 "nbformat_minor": 5
}
