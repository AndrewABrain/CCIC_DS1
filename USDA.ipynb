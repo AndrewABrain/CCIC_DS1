{
 "cells": [
  {
   "cell_type": "code",
   "execution_count": 1,
   "id": "ac9a4bc2",
   "metadata": {},
   "outputs": [],
   "source": [
    "import requests as rs\n",
    "import pandas as pd\n",
    "import seaborn as sns"
   ]
  },
  {
   "cell_type": "code",
   "execution_count": 2,
   "id": "6cea0791",
   "metadata": {},
   "outputs": [],
   "source": [
    "# url = \"https://api.nal.usda.gov/fdc/v1/foods/list?&pageSize=194&pageNumber=51&api_key=7huFqm7LkUN5o0b6PHEabJdwkgoh4vzTDOP9GOBp\""
   ]
  },
  {
   "cell_type": "code",
   "execution_count": 3,
   "id": "cf10e576",
   "metadata": {},
   "outputs": [],
   "source": [
    "# req = rs.get(url)"
   ]
  },
  {
   "cell_type": "code",
   "execution_count": 4,
   "id": "675fcd11",
   "metadata": {},
   "outputs": [],
   "source": [
    "#print(req)"
   ]
  },
  {
   "cell_type": "code",
   "execution_count": 5,
   "id": "f66f5103",
   "metadata": {
    "scrolled": true
   },
   "outputs": [],
   "source": [
    "# req = req.json()"
   ]
  },
  {
   "cell_type": "code",
   "execution_count": 6,
   "id": "425d7f17",
   "metadata": {
    "scrolled": true
   },
   "outputs": [],
   "source": [
    "# print(req)"
   ]
  },
  {
   "cell_type": "code",
   "execution_count": 7,
   "id": "c4754dd2",
   "metadata": {},
   "outputs": [],
   "source": [
    "# x = req[0]\n",
    "# y = len(req)\n",
    "# print(y)"
   ]
  },
  {
   "cell_type": "code",
   "execution_count": 8,
   "id": "b985f9dc",
   "metadata": {},
   "outputs": [],
   "source": [
    "def requestAllFood ():\n",
    "    pageNum = 1\n",
    "    foods = []\n",
    "    while True:\n",
    "        url = \"https://api.nal.usda.gov/fdc/v1/foods/list?&pageSize=200&api_key=7huFqm7LkUN5o0b6PHEabJdwkgoh4vzTDOP9GOBp&pageNumber=\" + str(pageNum)\n",
    "        req = rs.get(url)\n",
    "        if not req.ok:\n",
    "            break\n",
    "        foods = foods + req.json()\n",
    "        pageNum = pageNum + 1\n",
    "    return foods"
   ]
  },
  {
   "cell_type": "code",
   "execution_count": 9,
   "id": "0aee3499",
   "metadata": {},
   "outputs": [],
   "source": [
    "listOfFoods = requestAllFood()"
   ]
  },
  {
   "cell_type": "code",
   "execution_count": 10,
   "id": "ec1feba3",
   "metadata": {
    "scrolled": false
   },
   "outputs": [
    {
     "name": "stdout",
     "output_type": "stream",
     "text": [
      "10000\n"
     ]
    }
   ],
   "source": [
    "# print(len(listOfFoods))"
   ]
  },
  {
   "cell_type": "code",
   "execution_count": 11,
   "id": "81d614af",
   "metadata": {
    "scrolled": true
   },
   "outputs": [
    {
     "name": "stdout",
     "output_type": "stream",
     "text": [
      "{'fdcId': 169158, 'description': 'Pork, cured, ham, slice, bone-in, separable lean only, heated, pan-broil', 'dataType': 'SR Legacy', 'publicationDate': '2019-04-01', 'ndbNumber': '10899', 'foodNutrients': [{'number': '204', 'name': 'Total lipid (fat)', 'amount': 4.09, 'unitName': 'G', 'derivationCode': 'A', 'derivationDescription': 'Analytical'}, {'number': '210', 'name': 'Sucrose', 'amount': 0.63, 'unitName': 'G', 'derivationCode': 'A', 'derivationDescription': 'Analytical'}, {'number': '211', 'name': 'Glucose', 'amount': 0.11, 'unitName': 'G', 'derivationCode': 'A', 'derivationDescription': 'Analytical'}, {'number': '214', 'name': 'Maltose', 'amount': 0.0, 'unitName': 'G', 'derivationCode': 'A', 'derivationDescription': 'Analytical'}, {'number': '255', 'name': 'Water', 'amount': 65.3, 'unitName': 'G', 'derivationCode': 'A', 'derivationDescription': 'Analytical'}, {'number': '262', 'name': 'Caffeine', 'amount': 0.0, 'unitName': 'MG', 'derivationCode': 'Z', 'derivationDescription': 'Assumed zero (Insignificant amount or not naturally occurring in a food, such as fiber in meat)'}, {'number': '263', 'name': 'Theobromine', 'amount': 0.0, 'unitName': 'MG', 'derivationCode': 'Z', 'derivationDescription': 'Assumed zero (Insignificant amount or not naturally occurring in a food, such as fiber in meat)'}, {'number': '269', 'name': 'Sugars, total including NLEA', 'amount': 0.74, 'unitName': 'G', 'derivationCode': 'A', 'derivationDescription': 'Analytical'}, {'number': '301', 'name': 'Calcium, Ca', 'amount': 15.0, 'unitName': 'MG', 'derivationCode': 'A', 'derivationDescription': 'Analytical'}, {'number': '306', 'name': 'Potassium, K', 'amount': 427, 'unitName': 'MG', 'derivationCode': 'A', 'derivationDescription': 'Analytical'}, {'number': '309', 'name': 'Zinc, Zn', 'amount': 3.04, 'unitName': 'MG', 'derivationCode': 'A', 'derivationDescription': 'Analytical'}, {'number': '317', 'name': 'Selenium, Se', 'amount': 25.3, 'unitName': 'UG', 'derivationCode': 'A', 'derivationDescription': 'Analytical'}, {'number': '323', 'name': 'Vitamin E (alpha-tocopherol)', 'amount': 0.3, 'unitName': 'MG', 'derivationCode': 'A', 'derivationDescription': 'Analytical'}, {'number': '454', 'name': 'Betaine', 'amount': 7.3, 'unitName': 'MG', 'derivationCode': 'A', 'derivationDescription': 'Analytical'}, {'number': '503', 'name': 'Isoleucine', 'amount': 1.23, 'unitName': 'G', 'derivationCode': 'A', 'derivationDescription': 'Analytical'}, {'number': '504', 'name': 'Leucine', 'amount': 2.18, 'unitName': 'G', 'derivationCode': 'A', 'derivationDescription': 'Analytical'}, {'number': '505', 'name': 'Lysine', 'amount': 2.3, 'unitName': 'G', 'derivationCode': 'A', 'derivationDescription': 'Analytical'}, {'number': '507', 'name': 'Cystine', 'amount': 0.305, 'unitName': 'G', 'derivationCode': 'A', 'derivationDescription': 'Analytical'}, {'number': '510', 'name': 'Valine', 'amount': 1.38, 'unitName': 'G', 'derivationCode': 'A', 'derivationDescription': 'Analytical'}, {'number': '511', 'name': 'Arginine', 'amount': 1.74, 'unitName': 'G', 'derivationCode': 'A', 'derivationDescription': 'Analytical'}, {'number': '512', 'name': 'Histidine', 'amount': 1.18, 'unitName': 'G', 'derivationCode': 'A', 'derivationDescription': 'Analytical'}, {'number': '514', 'name': 'Aspartic acid', 'amount': 2.37, 'unitName': 'G', 'derivationCode': 'A', 'derivationDescription': 'Analytical'}, {'number': '518', 'name': 'Serine', 'amount': 1.06, 'unitName': 'G', 'derivationCode': 'A', 'derivationDescription': 'Analytical'}, {'number': '573', 'name': 'Vitamin E, added', 'amount': 0.0, 'unitName': 'MG', 'derivationCode': 'Z', 'derivationDescription': 'Assumed zero (Insignificant amount or not naturally occurring in a food, such as fiber in meat)'}, {'number': '607', 'name': 'SFA 4:0', 'amount': 0.0, 'unitName': 'G', 'derivationCode': 'Z', 'derivationDescription': 'Assumed zero (Insignificant amount or not naturally occurring in a food, such as fiber in meat)'}, {'number': '608', 'name': 'SFA 6:0', 'amount': 0.0, 'unitName': 'G', 'derivationCode': 'Z', 'derivationDescription': 'Assumed zero (Insignificant amount or not naturally occurring in a food, such as fiber in meat)'}, {'number': '610', 'name': 'SFA 10:0', 'amount': 0.0, 'unitName': 'G', 'derivationCode': 'A', 'derivationDescription': 'Analytical'}, {'number': '613', 'name': 'SFA 16:0', 'amount': 0.778, 'unitName': 'G', 'derivationCode': 'A', 'derivationDescription': 'Analytical'}, {'number': '614', 'name': 'SFA 18:0', 'amount': 0.415, 'unitName': 'G', 'derivationCode': 'A', 'derivationDescription': 'Analytical'}, {'number': '615', 'name': 'SFA 20:0', 'amount': 0.005, 'unitName': 'G', 'derivationCode': 'A', 'derivationDescription': 'Analytical'}, {'number': '338', 'name': 'Lutein + zeaxanthin', 'amount': 0.0, 'unitName': 'UG', 'derivationCode': 'Z', 'derivationDescription': 'Assumed zero (Insignificant amount or not naturally occurring in a food, such as fiber in meat)'}, {'number': '341', 'name': 'Tocopherol, beta', 'amount': 0.0, 'unitName': 'MG', 'derivationCode': 'A', 'derivationDescription': 'Analytical'}, {'number': '342', 'name': 'Tocopherol, gamma', 'amount': 0.03, 'unitName': 'MG', 'derivationCode': 'A', 'derivationDescription': 'Analytical'}, {'number': '344', 'name': 'Tocotrienol, alpha', 'amount': 0.0, 'unitName': 'MG', 'derivationCode': 'A', 'derivationDescription': 'Analytical'}, {'number': '345', 'name': 'Tocotrienol, beta', 'amount': 0.0, 'unitName': 'MG', 'derivationCode': 'A', 'derivationDescription': 'Analytical'}, {'number': '406', 'name': 'Niacin', 'amount': 7.77, 'unitName': 'MG', 'derivationCode': 'A', 'derivationDescription': 'Analytical'}, {'number': '410', 'name': 'Pantothenic acid', 'amount': 0.758, 'unitName': 'MG', 'derivationCode': 'A', 'derivationDescription': 'Analytical'}, {'number': '415', 'name': 'Vitamin B-6', 'amount': 0.54, 'unitName': 'MG', 'derivationCode': 'A', 'derivationDescription': 'Analytical'}, {'number': '421', 'name': 'Choline, total', 'amount': 113, 'unitName': 'MG'}, {'number': '428', 'name': 'Vitamin K (Menaquinone-4)', 'amount': 2.0, 'unitName': 'UG', 'derivationCode': 'A', 'derivationDescription': 'Analytical'}, {'number': '431', 'name': 'Folic acid', 'amount': 0.0, 'unitName': 'UG', 'derivationCode': 'Z', 'derivationDescription': 'Assumed zero (Insignificant amount or not naturally occurring in a food, such as fiber in meat)'}, {'number': '620', 'name': 'PUFA 20:4', 'amount': 0.084, 'unitName': 'G', 'derivationCode': 'A', 'derivationDescription': 'Analytical'}, {'number': '627', 'name': 'PUFA 18:4', 'amount': 0.0, 'unitName': 'G', 'derivationCode': 'Z', 'derivationDescription': 'Assumed zero (Insignificant amount or not naturally occurring in a food, such as fiber in meat)'}, {'number': '628', 'name': 'MUFA 20:1', 'amount': 0.021, 'unitName': 'G', 'derivationCode': 'A', 'derivationDescription': 'Analytical'}, {'number': '630', 'name': 'MUFA 22:1', 'amount': 0.0, 'unitName': 'G', 'derivationCode': 'Z', 'derivationDescription': 'Assumed zero (Insignificant amount or not naturally occurring in a food, such as fiber in meat)'}, {'number': '652', 'name': 'SFA 15:0', 'amount': 0.0, 'unitName': 'G', 'derivationCode': 'A', 'derivationDescription': 'Analytical'}, {'number': '663', 'name': 'TFA 18:1 t', 'amount': 0.017, 'unitName': 'G', 'derivationCode': 'A', 'derivationDescription': 'Analytical'}, {'number': '669', 'name': 'TFA 18:2 t,t', 'amount': 0.013, 'unitName': 'G', 'derivationCode': 'A', 'derivationDescription': 'Analytical'}, {'number': '672', 'name': 'PUFA 20:2 n-6 c,c', 'amount': 0.016, 'unitName': 'G', 'derivationCode': 'A', 'derivationDescription': 'Analytical'}, {'number': '685', 'name': 'PUFA 18:3 n-6 c,c,c', 'amount': 0.0, 'unitName': 'G', 'derivationCode': 'A', 'derivationDescription': 'Analytical'}, {'number': '689', 'name': 'PUFA 20:3', 'amount': 0.003, 'unitName': 'G', 'derivationCode': 'A', 'derivationDescription': 'Analytical'}, {'number': '203', 'name': 'Protein', 'amount': 27.2, 'unitName': 'G', 'derivationCode': 'A', 'derivationDescription': 'Analytical'}, {'number': '207', 'name': 'Ash', 'amount': 3.17, 'unitName': 'G', 'derivationCode': 'A', 'derivationDescription': 'Analytical'}, {'number': '212', 'name': 'Fructose', 'amount': 0.0, 'unitName': 'G', 'derivationCode': 'A', 'derivationDescription': 'Analytical'}, {'number': '213', 'name': 'Lactose', 'amount': 0.0, 'unitName': 'G', 'derivationCode': 'A', 'derivationDescription': 'Analytical'}, {'number': '221', 'name': 'Alcohol, ethyl', 'amount': 0.0, 'unitName': 'G', 'derivationCode': 'Z', 'derivationDescription': 'Assumed zero (Insignificant amount or not naturally occurring in a food, such as fiber in meat)'}, {'number': '287', 'name': 'Galactose', 'amount': 0.0, 'unitName': 'G', 'derivationCode': 'A', 'derivationDescription': 'Analytical'}, {'number': '291', 'name': 'Fiber, total dietary', 'amount': 0.0, 'unitName': 'G', 'derivationCode': 'Z', 'derivationDescription': 'Assumed zero (Insignificant amount or not naturally occurring in a food, such as fiber in meat)'}, {'number': '303', 'name': 'Iron, Fe', 'amount': 1.42, 'unitName': 'MG', 'derivationCode': 'A', 'derivationDescription': 'Analytical'}, {'number': '304', 'name': 'Magnesium, Mg', 'amount': 25.0, 'unitName': 'MG', 'derivationCode': 'A', 'derivationDescription': 'Analytical'}, {'number': '305', 'name': 'Phosphorus, P', 'amount': 296, 'unitName': 'MG', 'derivationCode': 'A', 'derivationDescription': 'Analytical'}, {'number': '307', 'name': 'Sodium, Na', 'amount': 870, 'unitName': 'MG', 'derivationCode': 'A', 'derivationDescription': 'Analytical'}, {'number': '312', 'name': 'Copper, Cu', 'amount': 0.426, 'unitName': 'MG', 'derivationCode': 'A', 'derivationDescription': 'Analytical'}, {'number': '315', 'name': 'Manganese, Mn', 'amount': 0.022, 'unitName': 'MG', 'derivationCode': 'A', 'derivationDescription': 'Analytical'}, {'number': '318', 'name': 'Vitamin A, IU', 'amount': 0.0, 'unitName': 'IU'}, {'number': '319', 'name': 'Retinol', 'amount': 0.0, 'unitName': 'UG', 'derivationCode': 'NR', 'derivationDescription': 'Nutrient that is based on other nutrient/s; value used directly, ex. Nut.#204 from Nut.#298'}, {'number': '320', 'name': 'Vitamin A, RAE', 'amount': 0.0, 'unitName': 'UG'}, {'number': '321', 'name': 'Carotene, beta', 'amount': 0.0, 'unitName': 'UG', 'derivationCode': 'Z', 'derivationDescription': 'Assumed zero (Insignificant amount or not naturally occurring in a food, such as fiber in meat)'}, {'number': '322', 'name': 'Carotene, alpha', 'amount': 0.0, 'unitName': 'UG', 'derivationCode': 'Z', 'derivationDescription': 'Assumed zero (Insignificant amount or not naturally occurring in a food, such as fiber in meat)'}, {'number': '334', 'name': 'Cryptoxanthin, beta', 'amount': 0.0, 'unitName': 'UG', 'derivationCode': 'Z', 'derivationDescription': 'Assumed zero (Insignificant amount or not naturally occurring in a food, such as fiber in meat)'}, {'number': '337', 'name': 'Lycopene', 'amount': 0.0, 'unitName': 'UG', 'derivationCode': 'Z', 'derivationDescription': 'Assumed zero (Insignificant amount or not naturally occurring in a food, such as fiber in meat)'}, {'number': '343', 'name': 'Tocopherol, delta', 'amount': 0.0, 'unitName': 'MG', 'derivationCode': 'A', 'derivationDescription': 'Analytical'}, {'number': '346', 'name': 'Tocotrienol, gamma', 'amount': 0.02, 'unitName': 'MG', 'derivationCode': 'A', 'derivationDescription': 'Analytical'}, {'number': '347', 'name': 'Tocotrienol, delta', 'amount': 0.0, 'unitName': 'MG', 'derivationCode': 'A', 'derivationDescription': 'Analytical'}, {'number': '401', 'name': 'Vitamin C, total ascorbic acid', 'amount': 0.0, 'unitName': 'MG', 'derivationCode': 'Z', 'derivationDescription': 'Assumed zero (Insignificant amount or not naturally occurring in a food, such as fiber in meat)'}, {'number': '404', 'name': 'Thiamin', 'amount': 0.575, 'unitName': 'MG', 'derivationCode': 'A', 'derivationDescription': 'Analytical'}, {'number': '405', 'name': 'Riboflavin', 'amount': 0.317, 'unitName': 'MG', 'derivationCode': 'A', 'derivationDescription': 'Analytical'}, {'number': '417', 'name': 'Folate, total', 'amount': 2.0, 'unitName': 'UG', 'derivationCode': 'A', 'derivationDescription': 'Analytical'}, {'number': '418', 'name': 'Vitamin B-12', 'amount': 0.66, 'unitName': 'UG', 'derivationCode': 'A', 'derivationDescription': 'Analytical'}, {'number': '429', 'name': 'Vitamin K (Dihydrophylloquinone)', 'amount': 0.0, 'unitName': 'UG', 'derivationCode': 'A', 'derivationDescription': 'Analytical'}, {'number': '430', 'name': 'Vitamin K (phylloquinone)', 'amount': 0.0, 'unitName': 'UG', 'derivationCode': 'A', 'derivationDescription': 'Analytical'}, {'number': '432', 'name': 'Folate, food', 'amount': 2.0, 'unitName': 'UG', 'derivationCode': 'NR', 'derivationDescription': 'Nutrient that is based on other nutrient/s; value used directly, ex. Nut.#204 from Nut.#298'}, {'number': '501', 'name': 'Tryptophan', 'amount': 0.255, 'unitName': 'G', 'derivationCode': 'A', 'derivationDescription': 'Analytical'}, {'number': '502', 'name': 'Threonine', 'amount': 1.22, 'unitName': 'G', 'derivationCode': 'A', 'derivationDescription': 'Analytical'}, {'number': '506', 'name': 'Methionine', 'amount': 0.65, 'unitName': 'G', 'derivationCode': 'A', 'derivationDescription': 'Analytical'}, {'number': '508', 'name': 'Phenylalanine', 'amount': 1.09, 'unitName': 'G', 'derivationCode': 'A', 'derivationDescription': 'Analytical'}, {'number': '509', 'name': 'Tyrosine', 'amount': 0.882, 'unitName': 'G', 'derivationCode': 'A', 'derivationDescription': 'Analytical'}, {'number': '513', 'name': 'Alanine', 'amount': 1.6, 'unitName': 'G', 'derivationCode': 'A', 'derivationDescription': 'Analytical'}, {'number': '515', 'name': 'Glutamic acid', 'amount': 3.89, 'unitName': 'G', 'derivationCode': 'A', 'derivationDescription': 'Analytical'}, {'number': '516', 'name': 'Glycine', 'amount': 1.42, 'unitName': 'G', 'derivationCode': 'A', 'derivationDescription': 'Analytical'}, {'number': '517', 'name': 'Proline', 'amount': 1.17, 'unitName': 'G', 'derivationCode': 'A', 'derivationDescription': 'Analytical'}, {'number': '578', 'name': 'Vitamin B-12, added', 'amount': 0.0, 'unitName': 'UG', 'derivationCode': 'Z', 'derivationDescription': 'Assumed zero (Insignificant amount or not naturally occurring in a food, such as fiber in meat)'}, {'number': '601', 'name': 'Cholesterol', 'amount': 73.0, 'unitName': 'MG', 'derivationCode': 'A', 'derivationDescription': 'Analytical'}, {'number': '609', 'name': 'SFA 8:0', 'amount': 0.0, 'unitName': 'G', 'derivationCode': 'A', 'derivationDescription': 'Analytical'}, {'number': '611', 'name': 'SFA 12:0', 'amount': 0.0, 'unitName': 'G', 'derivationCode': 'A', 'derivationDescription': 'Analytical'}, {'number': '612', 'name': 'SFA 14:0', 'amount': 0.045, 'unitName': 'G', 'derivationCode': 'A', 'derivationDescription': 'Analytical'}, {'number': '621', 'name': 'PUFA 22:6 n-3 (DHA)', 'amount': 0.0, 'unitName': 'G', 'derivationCode': 'Z', 'derivationDescription': 'Assumed zero (Insignificant amount or not naturally occurring in a food, such as fiber in meat)'}, {'number': '624', 'name': 'SFA 22:0', 'amount': 0.0, 'unitName': 'G', 'derivationCode': 'A', 'derivationDescription': 'Analytical'}, {'number': '625', 'name': 'MUFA 14:1', 'amount': 0.0, 'unitName': 'G', 'derivationCode': 'A', 'derivationDescription': 'Analytical'}, {'number': '626', 'name': 'MUFA 16:1', 'amount': 0.099, 'unitName': 'G', 'derivationCode': 'A', 'derivationDescription': 'Analytical'}, {'number': '629', 'name': 'PUFA 20:5 n-3 (EPA)', 'amount': 0.0, 'unitName': 'G', 'derivationCode': 'Z', 'derivationDescription': 'Assumed zero (Insignificant amount or not naturally occurring in a food, such as fiber in meat)'}, {'number': '631', 'name': 'PUFA 22:5 n-3 (DPA)', 'amount': 0.0, 'unitName': 'G', 'derivationCode': 'Z', 'derivationDescription': 'Assumed zero (Insignificant amount or not naturally occurring in a food, such as fiber in meat)'}, {'number': '653', 'name': 'SFA 17:0', 'amount': 0.011, 'unitName': 'G', 'derivationCode': 'A', 'derivationDescription': 'Analytical'}, {'number': '674', 'name': 'MUFA 18:1 c', 'amount': 1.48, 'unitName': 'G', 'derivationCode': 'A', 'derivationDescription': 'Analytical'}, {'number': '675', 'name': 'PUFA 18:2 n-6 c,c', 'amount': 0.499, 'unitName': 'G', 'derivationCode': 'A', 'derivationDescription': 'Analytical'}, {'number': '687', 'name': 'MUFA 17:1', 'amount': 0.0, 'unitName': 'G', 'derivationCode': 'A', 'derivationDescription': 'Analytical'}, {'number': '697', 'name': 'MUFA 15:1', 'amount': 0.0, 'unitName': 'G', 'derivationCode': 'A', 'derivationDescription': 'Analytical'}, {'number': '851', 'name': 'PUFA 18:3 n-3 c,c,c (ALA)', 'amount': 0.029, 'unitName': 'G', 'derivationCode': 'A', 'derivationDescription': 'Analytical'}, {'number': '324', 'name': 'Vitamin D (D2 + D3), International Units', 'amount': 44.0, 'unitName': 'IU', 'derivationCode': 'BFNN', 'derivationDescription': 'Based on another form of the food or similar food; Concentration adjustment; Non-fat solids; Retention factors not used'}, {'number': '326', 'name': 'Vitamin D3 (cholecalciferol)', 'amount': 1.1, 'unitName': 'UG', 'derivationCode': 'BFNN', 'derivationDescription': 'Based on another form of the food or similar food; Concentration adjustment; Non-fat solids; Retention factors not used'}, {'number': '328', 'name': 'Vitamin D (D2 + D3)', 'amount': 1.1, 'unitName': 'UG'}, {'number': '521', 'name': 'Hydroxyproline', 'amount': 0.176, 'unitName': 'G', 'derivationCode': 'A', 'derivationDescription': 'Analytical'}, {'number': '695', 'name': 'Fatty acids, total trans-polyenoic', 'amount': 0.013, 'unitName': 'G', 'derivationCode': 'NC', 'derivationDescription': 'Calculated'}, {'number': '645', 'name': 'Fatty acids, total monounsaturated', 'amount': 1.61, 'unitName': 'G', 'derivationCode': 'NC', 'derivationDescription': 'Calculated'}, {'number': '646', 'name': 'Fatty acids, total polyunsaturated', 'amount': 0.644, 'unitName': 'G', 'derivationCode': 'NC', 'derivationDescription': 'Calculated'}, {'number': '435', 'name': 'Folate, DFE', 'amount': 2.0, 'unitName': 'UG', 'derivationCode': 'NC', 'derivationDescription': 'Calculated'}, {'number': '617', 'name': 'MUFA 18:1', 'amount': 1.49, 'unitName': 'G'}, {'number': '618', 'name': 'PUFA 18:2', 'amount': 0.512, 'unitName': 'G'}, {'number': '619', 'name': 'PUFA 18:3', 'amount': 0.029, 'unitName': 'G'}, {'number': '693', 'name': 'Fatty acids, total trans-monoenoic', 'amount': 0.017, 'unitName': 'G', 'derivationCode': 'NC', 'derivationDescription': 'Calculated'}, {'number': '605', 'name': 'Fatty acids, total trans', 'amount': 0.03, 'unitName': 'G', 'derivationCode': 'NC', 'derivationDescription': 'Calculated'}, {'number': '606', 'name': 'Fatty acids, total saturated', 'amount': 1.25, 'unitName': 'G', 'derivationCode': 'NC', 'derivationDescription': 'Calculated'}, {'number': '205', 'name': 'Carbohydrate, by difference', 'amount': 0.74, 'unitName': 'G', 'derivationCode': 'NR', 'derivationDescription': 'Nutrient that is based on other nutrient/s; value used directly, ex. Nut.#204 from Nut.#298'}, {'number': '208', 'name': 'Energy', 'amount': 148, 'unitName': 'KCAL', 'derivationCode': 'NC', 'derivationDescription': 'Calculated'}, {'number': '268', 'name': 'Energy', 'amount': 621, 'unitName': 'kJ', 'derivationCode': 'NC', 'derivationDescription': 'Calculated'}]}\n"
     ]
    }
   ],
   "source": [
    "print(listOfFoods[-1])"
   ]
  },
  {
   "cell_type": "code",
   "execution_count": 12,
   "id": "6d3ce743",
   "metadata": {},
   "outputs": [],
   "source": [
    "def createList ():\n",
    "    iron = []\n",
    "    for food in listOfFoods:\n",
    "        name = food[\"description\"]\n",
    "        for nutrient in food[\"foodNutrients\"]:\n",
    "            if nutrient[\"name\"] == \"Iron, Fe\":\n",
    "                amount = nutrient[\"amount\"]\n",
    "                temp = {\"Name\": name, \"Iron\": amount}\n",
    "                iron.append(temp) \n",
    "    return iron"
   ]
  },
  {
   "cell_type": "code",
   "execution_count": 13,
   "id": "c78e9f91",
   "metadata": {},
   "outputs": [],
   "source": [
    "listOfFoods = createList()"
   ]
  },
  {
   "cell_type": "code",
   "execution_count": 15,
   "id": "9efadbe2",
   "metadata": {},
   "outputs": [],
   "source": [
    "df = pd.DataFrame(listOfFoods)"
   ]
  },
  {
   "cell_type": "code",
   "execution_count": 16,
   "id": "1700b3d1",
   "metadata": {},
   "outputs": [
    {
     "data": {
      "text/html": [
       "<div>\n",
       "<style scoped>\n",
       "    .dataframe tbody tr th:only-of-type {\n",
       "        vertical-align: middle;\n",
       "    }\n",
       "\n",
       "    .dataframe tbody tr th {\n",
       "        vertical-align: top;\n",
       "    }\n",
       "\n",
       "    .dataframe thead th {\n",
       "        text-align: right;\n",
       "    }\n",
       "</style>\n",
       "<table border=\"1\" class=\"dataframe\">\n",
       "  <thead>\n",
       "    <tr style=\"text-align: right;\">\n",
       "      <th></th>\n",
       "      <th>Name</th>\n",
       "      <th>Iron</th>\n",
       "    </tr>\n",
       "  </thead>\n",
       "  <tbody>\n",
       "    <tr>\n",
       "      <th>0</th>\n",
       "      <td>Abalone</td>\n",
       "      <td>3.97</td>\n",
       "    </tr>\n",
       "    <tr>\n",
       "      <th>1</th>\n",
       "      <td>Abiyuch, raw</td>\n",
       "      <td>1.61</td>\n",
       "    </tr>\n",
       "    <tr>\n",
       "      <th>2</th>\n",
       "      <td>Acerola juice, raw</td>\n",
       "      <td>0.50</td>\n",
       "    </tr>\n",
       "    <tr>\n",
       "      <th>3</th>\n",
       "      <td>Acerola, (west indian cherry), raw</td>\n",
       "      <td>0.20</td>\n",
       "    </tr>\n",
       "    <tr>\n",
       "      <th>4</th>\n",
       "      <td>Acorn stew (Apache)</td>\n",
       "      <td>1.00</td>\n",
       "    </tr>\n",
       "  </tbody>\n",
       "</table>\n",
       "</div>"
      ],
      "text/plain": [
       "                                 Name  Iron\n",
       "0                             Abalone  3.97\n",
       "1                        Abiyuch, raw  1.61\n",
       "2                  Acerola juice, raw  0.50\n",
       "3  Acerola, (west indian cherry), raw  0.20\n",
       "4                 Acorn stew (Apache)  1.00"
      ]
     },
     "execution_count": 16,
     "metadata": {},
     "output_type": "execute_result"
    }
   ],
   "source": [
    "df.head()"
   ]
  },
  {
   "cell_type": "code",
   "execution_count": 26,
   "id": "e07f27c2",
   "metadata": {},
   "outputs": [],
   "source": [
    "top = df.sort_values(by=\"Iron\", ascending = False)"
   ]
  },
  {
   "cell_type": "code",
   "execution_count": 28,
   "id": "75285e3b",
   "metadata": {},
   "outputs": [],
   "source": [
    "top10 = top[:10]"
   ]
  },
  {
   "cell_type": "code",
   "execution_count": 32,
   "id": "91618350",
   "metadata": {},
   "outputs": [
    {
     "data": {
      "text/html": [
       "<div>\n",
       "<style scoped>\n",
       "    .dataframe tbody tr th:only-of-type {\n",
       "        vertical-align: middle;\n",
       "    }\n",
       "\n",
       "    .dataframe tbody tr th {\n",
       "        vertical-align: top;\n",
       "    }\n",
       "\n",
       "    .dataframe thead th {\n",
       "        text-align: right;\n",
       "    }\n",
       "</style>\n",
       "<table border=\"1\" class=\"dataframe\">\n",
       "  <thead>\n",
       "    <tr style=\"text-align: right;\">\n",
       "      <th></th>\n",
       "      <th>Name</th>\n",
       "      <th>Iron</th>\n",
       "    </tr>\n",
       "  </thead>\n",
       "  <tbody>\n",
       "    <tr>\n",
       "      <th>3367</th>\n",
       "      <td>Cereals ready-to-eat, RALSTON Enriched Wheat B...</td>\n",
       "      <td>67.7</td>\n",
       "    </tr>\n",
       "    <tr>\n",
       "      <th>370</th>\n",
       "      <td>Babyfood, cereal, oatmeal, with honey, dry</td>\n",
       "      <td>67.2</td>\n",
       "    </tr>\n",
       "    <tr>\n",
       "      <th>363</th>\n",
       "      <td>Babyfood, cereal, oatmeal, dry fortified</td>\n",
       "      <td>64.1</td>\n",
       "    </tr>\n",
       "    <tr>\n",
       "      <th>276</th>\n",
       "      <td>Baby Toddler cereal, oatmeal, dry</td>\n",
       "      <td>64.1</td>\n",
       "    </tr>\n",
       "    <tr>\n",
       "      <th>364</th>\n",
       "      <td>Babyfood, cereal, Oatmeal, dry, GERBER, SINGLE...</td>\n",
       "      <td>64.0</td>\n",
       "    </tr>\n",
       "    <tr>\n",
       "      <th>274</th>\n",
       "      <td>Baby Toddler cereal, oatmeal with fruit, dry</td>\n",
       "      <td>61.0</td>\n",
       "    </tr>\n",
       "    <tr>\n",
       "      <th>8976</th>\n",
       "      <td>Parsley, freeze-dried</td>\n",
       "      <td>53.9</td>\n",
       "    </tr>\n",
       "    <tr>\n",
       "      <th>373</th>\n",
       "      <td>Babyfood, cereal, rice, dry fortified</td>\n",
       "      <td>53.0</td>\n",
       "    </tr>\n",
       "    <tr>\n",
       "      <th>280</th>\n",
       "      <td>Baby Toddler cereal, rice, dry</td>\n",
       "      <td>53.0</td>\n",
       "    </tr>\n",
       "    <tr>\n",
       "      <th>278</th>\n",
       "      <td>Baby Toddler cereal, rice with fruit, dry</td>\n",
       "      <td>50.4</td>\n",
       "    </tr>\n",
       "  </tbody>\n",
       "</table>\n",
       "</div>"
      ],
      "text/plain": [
       "                                                   Name  Iron\n",
       "3367  Cereals ready-to-eat, RALSTON Enriched Wheat B...  67.7\n",
       "370          Babyfood, cereal, oatmeal, with honey, dry  67.2\n",
       "363            Babyfood, cereal, oatmeal, dry fortified  64.1\n",
       "276                   Baby Toddler cereal, oatmeal, dry  64.1\n",
       "364   Babyfood, cereal, Oatmeal, dry, GERBER, SINGLE...  64.0\n",
       "274        Baby Toddler cereal, oatmeal with fruit, dry  61.0\n",
       "8976                              Parsley, freeze-dried  53.9\n",
       "373               Babyfood, cereal, rice, dry fortified  53.0\n",
       "280                      Baby Toddler cereal, rice, dry  53.0\n",
       "278           Baby Toddler cereal, rice with fruit, dry  50.4"
      ]
     },
     "execution_count": 32,
     "metadata": {},
     "output_type": "execute_result"
    }
   ],
   "source": [
    "top10"
   ]
  },
  {
   "cell_type": "code",
   "execution_count": 36,
   "id": "21425c56",
   "metadata": {
    "scrolled": true
   },
   "outputs": [
    {
     "data": {
      "text/plain": [
       "<AxesSubplot:xlabel='Iron', ylabel='Name'>"
      ]
     },
     "execution_count": 36,
     "metadata": {},
     "output_type": "execute_result"
    },
    {
     "data": {
      "image/png": "[encoded data removed]",
      "text/plain": [
       "<Figure size 432x288 with 1 Axes>"
      ]
     },
     "metadata": {
      "needs_background": "light"
     },
     "output_type": "display_data"
    }
   ],
   "source": [
    "sns.barplot(data = top10, x = \"Iron\", y = \"Name\")"
   ]
  },
  {
   "cell_type": "code",
   "execution_count": 51,
   "id": "504d3d2b",
   "metadata": {},
   "outputs": [
    {
     "ename": "ValueError",
     "evalue": "Need to specify at least one of 'labels', 'index' or 'columns'",
     "output_type": "error",
     "traceback": [
      "\u001b[1;31m---------------------------------------------------------------------------\u001b[0m",
      "\u001b[1;31mValueError\u001b[0m                                Traceback (most recent call last)",
      "Input \u001b[1;32mIn [51]\u001b[0m, in \u001b[0;36m<cell line: 1>\u001b[1;34m()\u001b[0m\n\u001b[0;32m      1\u001b[0m \u001b[38;5;28;01mfor\u001b[39;00m name \u001b[38;5;129;01min\u001b[39;00m df[\u001b[38;5;124m\"\u001b[39m\u001b[38;5;124mName\u001b[39m\u001b[38;5;124m\"\u001b[39m]:\n\u001b[0;32m      2\u001b[0m     \u001b[38;5;28;01mif\u001b[39;00m \u001b[38;5;124m\"\u001b[39m\u001b[38;5;124mbaby\u001b[39m\u001b[38;5;124m\"\u001b[39m \u001b[38;5;129;01min\u001b[39;00m name:\n\u001b[1;32m----> 3\u001b[0m         df \u001b[38;5;241m=\u001b[39m \u001b[43mdf\u001b[49m\u001b[38;5;241;43m.\u001b[39;49m\u001b[43mdrop\u001b[49m\u001b[43m(\u001b[49m\u001b[43maxis\u001b[49m\u001b[43m \u001b[49m\u001b[38;5;241;43m=\u001b[39;49m\u001b[43m \u001b[49m\u001b[43m[\u001b[49m\u001b[43mname\u001b[49m\u001b[43m]\u001b[49m\u001b[43m)\u001b[49m\n",
      "File \u001b[1;32m~\\Anaconda3\\lib\\site-packages\\pandas\\util\\_decorators.py:311\u001b[0m, in \u001b[0;36mdeprecate_nonkeyword_arguments.<locals>.decorate.<locals>.wrapper\u001b[1;34m(*args, **kwargs)\u001b[0m\n\u001b[0;32m    305\u001b[0m \u001b[38;5;28;01mif\u001b[39;00m \u001b[38;5;28mlen\u001b[39m(args) \u001b[38;5;241m>\u001b[39m num_allow_args:\n\u001b[0;32m    306\u001b[0m     warnings\u001b[38;5;241m.\u001b[39mwarn(\n\u001b[0;32m    307\u001b[0m         msg\u001b[38;5;241m.\u001b[39mformat(arguments\u001b[38;5;241m=\u001b[39marguments),\n\u001b[0;32m    308\u001b[0m         \u001b[38;5;167;01mFutureWarning\u001b[39;00m,\n\u001b[0;32m    309\u001b[0m         stacklevel\u001b[38;5;241m=\u001b[39mstacklevel,\n\u001b[0;32m    310\u001b[0m     )\n\u001b[1;32m--> 311\u001b[0m \u001b[38;5;28;01mreturn\u001b[39;00m func(\u001b[38;5;241m*\u001b[39margs, \u001b[38;5;241m*\u001b[39m\u001b[38;5;241m*\u001b[39mkwargs)\n",
      "File \u001b[1;32m~\\Anaconda3\\lib\\site-packages\\pandas\\core\\frame.py:4954\u001b[0m, in \u001b[0;36mDataFrame.drop\u001b[1;34m(self, labels, axis, index, columns, level, inplace, errors)\u001b[0m\n\u001b[0;32m   4806\u001b[0m \u001b[38;5;129m@deprecate_nonkeyword_arguments\u001b[39m(version\u001b[38;5;241m=\u001b[39m\u001b[38;5;28;01mNone\u001b[39;00m, allowed_args\u001b[38;5;241m=\u001b[39m[\u001b[38;5;124m\"\u001b[39m\u001b[38;5;124mself\u001b[39m\u001b[38;5;124m\"\u001b[39m, \u001b[38;5;124m\"\u001b[39m\u001b[38;5;124mlabels\u001b[39m\u001b[38;5;124m\"\u001b[39m])\n\u001b[0;32m   4807\u001b[0m \u001b[38;5;28;01mdef\u001b[39;00m \u001b[38;5;21mdrop\u001b[39m(\n\u001b[0;32m   4808\u001b[0m     \u001b[38;5;28mself\u001b[39m,\n\u001b[1;32m   (...)\u001b[0m\n\u001b[0;32m   4815\u001b[0m     errors: \u001b[38;5;28mstr\u001b[39m \u001b[38;5;241m=\u001b[39m \u001b[38;5;124m\"\u001b[39m\u001b[38;5;124mraise\u001b[39m\u001b[38;5;124m\"\u001b[39m,\n\u001b[0;32m   4816\u001b[0m ):\n\u001b[0;32m   4817\u001b[0m     \u001b[38;5;124;03m\"\"\"\u001b[39;00m\n\u001b[0;32m   4818\u001b[0m \u001b[38;5;124;03m    Drop specified labels from rows or columns.\u001b[39;00m\n\u001b[0;32m   4819\u001b[0m \n\u001b[1;32m   (...)\u001b[0m\n\u001b[0;32m   4952\u001b[0m \u001b[38;5;124;03m            weight  1.0     0.8\u001b[39;00m\n\u001b[0;32m   4953\u001b[0m \u001b[38;5;124;03m    \"\"\"\u001b[39;00m\n\u001b[1;32m-> 4954\u001b[0m     \u001b[38;5;28;01mreturn\u001b[39;00m \u001b[38;5;28;43msuper\u001b[39;49m\u001b[43m(\u001b[49m\u001b[43m)\u001b[49m\u001b[38;5;241;43m.\u001b[39;49m\u001b[43mdrop\u001b[49m\u001b[43m(\u001b[49m\n\u001b[0;32m   4955\u001b[0m \u001b[43m        \u001b[49m\u001b[43mlabels\u001b[49m\u001b[38;5;241;43m=\u001b[39;49m\u001b[43mlabels\u001b[49m\u001b[43m,\u001b[49m\n\u001b[0;32m   4956\u001b[0m \u001b[43m        \u001b[49m\u001b[43maxis\u001b[49m\u001b[38;5;241;43m=\u001b[39;49m\u001b[43maxis\u001b[49m\u001b[43m,\u001b[49m\n\u001b[0;32m   4957\u001b[0m \u001b[43m        \u001b[49m\u001b[43mindex\u001b[49m\u001b[38;5;241;43m=\u001b[39;49m\u001b[43mindex\u001b[49m\u001b[43m,\u001b[49m\n\u001b[0;32m   4958\u001b[0m \u001b[43m        \u001b[49m\u001b[43mcolumns\u001b[49m\u001b[38;5;241;43m=\u001b[39;49m\u001b[43mcolumns\u001b[49m\u001b[43m,\u001b[49m\n\u001b[0;32m   4959\u001b[0m \u001b[43m        \u001b[49m\u001b[43mlevel\u001b[49m\u001b[38;5;241;43m=\u001b[39;49m\u001b[43mlevel\u001b[49m\u001b[43m,\u001b[49m\n\u001b[0;32m   4960\u001b[0m \u001b[43m        \u001b[49m\u001b[43minplace\u001b[49m\u001b[38;5;241;43m=\u001b[39;49m\u001b[43minplace\u001b[49m\u001b[43m,\u001b[49m\n\u001b[0;32m   4961\u001b[0m \u001b[43m        \u001b[49m\u001b[43merrors\u001b[49m\u001b[38;5;241;43m=\u001b[39;49m\u001b[43merrors\u001b[49m\u001b[43m,\u001b[49m\n\u001b[0;32m   4962\u001b[0m \u001b[43m    \u001b[49m\u001b[43m)\u001b[49m\n",
      "File \u001b[1;32m~\\Anaconda3\\lib\\site-packages\\pandas\\core\\generic.py:4259\u001b[0m, in \u001b[0;36mNDFrame.drop\u001b[1;34m(self, labels, axis, index, columns, level, inplace, errors)\u001b[0m\n\u001b[0;32m   4257\u001b[0m     axes, _ \u001b[38;5;241m=\u001b[39m \u001b[38;5;28mself\u001b[39m\u001b[38;5;241m.\u001b[39m_construct_axes_from_arguments((index, columns), {})\n\u001b[0;32m   4258\u001b[0m \u001b[38;5;28;01melse\u001b[39;00m:\n\u001b[1;32m-> 4259\u001b[0m     \u001b[38;5;28;01mraise\u001b[39;00m \u001b[38;5;167;01mValueError\u001b[39;00m(\n\u001b[0;32m   4260\u001b[0m         \u001b[38;5;124m\"\u001b[39m\u001b[38;5;124mNeed to specify at least one of \u001b[39m\u001b[38;5;124m'\u001b[39m\u001b[38;5;124mlabels\u001b[39m\u001b[38;5;124m'\u001b[39m\u001b[38;5;124m, \u001b[39m\u001b[38;5;124m'\u001b[39m\u001b[38;5;124mindex\u001b[39m\u001b[38;5;124m'\u001b[39m\u001b[38;5;124m or \u001b[39m\u001b[38;5;124m'\u001b[39m\u001b[38;5;124mcolumns\u001b[39m\u001b[38;5;124m'\u001b[39m\u001b[38;5;124m\"\u001b[39m\n\u001b[0;32m   4261\u001b[0m     )\n\u001b[0;32m   4263\u001b[0m obj \u001b[38;5;241m=\u001b[39m \u001b[38;5;28mself\u001b[39m\n\u001b[0;32m   4265\u001b[0m \u001b[38;5;28;01mfor\u001b[39;00m axis, labels \u001b[38;5;129;01min\u001b[39;00m axes\u001b[38;5;241m.\u001b[39mitems():\n",
      "\u001b[1;31mValueError\u001b[0m: Need to specify at least one of 'labels', 'index' or 'columns'"
     ]
    }
   ],
   "source": [
    "for name in df[\"Name\"]:\n",
    "    if \"baby\" in name:\n",
    "        df = df.drop(axis = [name])"
   ]
  }
 ],
 "metadata": {
  "kernelspec": {
   "display_name": "Python 3 (ipykernel)",
   "language": "python",
   "name": "python3"
  },
  "language_info": {
   "codemirror_mode": {
    "name": "ipython",
    "version": 3
   },
   "file_extension": ".py",
   "mimetype": "text/x-python",
   "name": "python",
   "nbconvert_exporter": "python",
   "pygments_lexer": "ipython3",
   "version": "3.9.12"
  }
 },
 "nbformat": 4,
 "nbformat_minor": 5
}
