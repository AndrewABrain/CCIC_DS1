{
 "cells": [
  {
   "cell_type": "code",
   "execution_count": 1,
   "id": "ac9a4bc2",
   "metadata": {},
   "outputs": [],
   "source": [
    "import requests as rs\n",
    "import pandas as pd\n",
    "import seaborn as sns"
   ]
  },
  {
   "cell_type": "code",
   "execution_count": 2,
   "id": "6cea0791",
   "metadata": {},
   "outputs": [],
   "source": [
    "# url = \"https://api.nal.usda.gov/fdc/v1/foods/list?&pageSize=194&pageNumber=51&api_key=7huFqm7LkUN5o0b6PHEabJdwkgoh4vzTDOP9GOBp\""
   ]
  },
  {
   "cell_type": "code",
   "execution_count": 3,
   "id": "cf10e576",
   "metadata": {},
   "outputs": [],
   "source": [
    "# req = rs.get(url)"
   ]
  },
  {
   "cell_type": "code",
   "execution_count": 4,
   "id": "675fcd11",
   "metadata": {},
   "outputs": [],
   "source": [
    "#print(req)"
   ]
  },
  {
   "cell_type": "code",
   "execution_count": 5,
   "id": "f66f5103",
   "metadata": {
    "scrolled": true
   },
   "outputs": [],
   "source": [
    "# req = req.json()"
   ]
  },
  {
   "cell_type": "code",
   "execution_count": 6,
   "id": "425d7f17",
   "metadata": {
    "scrolled": true
   },
   "outputs": [],
   "source": [
    "# print(req)"
   ]
  },
  {
   "cell_type": "code",
   "execution_count": 7,
   "id": "c4754dd2",
   "metadata": {},
   "outputs": [],
   "source": [
    "# x = req[0]\n",
    "# y = len(req)\n",
    "# print(y)"
   ]
  },
  {
   "cell_type": "code",
   "execution_count": 8,
   "id": "b985f9dc",
   "metadata": {},
   "outputs": [],
   "source": [
    "def requestAllFood ():\n",
    "    pageNum = 1\n",
    "    foods = []\n",
    "    while True:\n",
    "        url = \"https://api.nal.usda.gov/fdc/v1/foods/list?&pageSize=200&api_key=7huFqm7LkUN5o0b6PHEabJdwkgoh4vzTDOP9GOBp&pageNumber=\" + str(pageNum)\n",
    "        req = rs.get(url)\n",
    "        if not req.ok:\n",
    "            break\n",
    "        foods = foods + req.json()\n",
    "        pageNum = pageNum + 1\n",
    "    return foods"
   ]
  },
  {
   "cell_type": "code",
   "execution_count": 9,
   "id": "0aee3499",
   "metadata": {},
   "outputs": [],
   "source": [
    "listOfFoods = requestAllFood()"
   ]
  },
  {
   "cell_type": "code",
   "execution_count": 10,
   "id": "ec1feba3",
   "metadata": {
    "scrolled": false
   },
   "outputs": [
    {
     "name": "stdout",
     "output_type": "stream",
     "text": [
      "0\n"
     ]
    }
   ],
   "source": [
    "print(len(listOfFoods))"
   ]
  },
  {
   "cell_type": "code",
   "execution_count": 11,
   "id": "81d614af",
   "metadata": {
    "scrolled": true
   },
   "outputs": [
    {
     "ename": "IndexError",
     "evalue": "list index out of range",
     "output_type": "error",
     "traceback": [
      "\u001b[1;31m---------------------------------------------------------------------------\u001b[0m",
      "\u001b[1;31mIndexError\u001b[0m                                Traceback (most recent call last)",
      "Input \u001b[1;32mIn [11]\u001b[0m, in \u001b[0;36m<cell line: 1>\u001b[1;34m()\u001b[0m\n\u001b[1;32m----> 1\u001b[0m \u001b[38;5;28mprint\u001b[39m(\u001b[43mlistOfFoods\u001b[49m\u001b[43m[\u001b[49m\u001b[38;5;241;43m-\u001b[39;49m\u001b[38;5;241;43m1\u001b[39;49m\u001b[43m]\u001b[49m)\n",
      "\u001b[1;31mIndexError\u001b[0m: list index out of range"
     ]
    }
   ],
   "source": [
    "print(listOfFoods[-1])"
   ]
  },
  {
   "cell_type": "code",
   "execution_count": null,
   "id": "6d3ce743",
   "metadata": {},
   "outputs": [],
   "source": [
    "def createList ():\n",
    "    iron = []\n",
    "    for food in listOfFoods:\n",
    "        name = food[\"description\"]\n",
    "        for nutrient in food[\"foodNutrients\"]:\n",
    "            if nutrient[\"name\"] == \"Iron, Fe\":\n",
    "                amount = nutrient[\"amount\"]\n",
    "                temp = {\"Name\": name, \"Iron\": amount}\n",
    "                iron.append(temp) \n",
    "    return iron"
   ]
  },
  {
   "cell_type": "code",
   "execution_count": null,
   "id": "c78e9f91",
   "metadata": {},
   "outputs": [],
   "source": [
    "listOfFoods = createList()"
   ]
  },
  {
   "cell_type": "code",
   "execution_count": null,
   "id": "9efadbe2",
   "metadata": {},
   "outputs": [],
   "source": [
    "df = pd.DataFrame(listOfFoods)"
   ]
  },
  {
   "cell_type": "code",
   "execution_count": null,
   "id": "1700b3d1",
   "metadata": {},
   "outputs": [],
   "source": [
    "df.head()"
   ]
  },
  {
   "cell_type": "code",
   "execution_count": null,
   "id": "3b7f3bd5",
   "metadata": {},
   "outputs": [],
   "source": [
    "def removeBabyFood(df):\n",
    "    index = 0\n",
    "    for name in df[\"Name\"]:\n",
    "        if \"Baby\" in name:\n",
    "            df.drop(index, inplace = True)\n",
    "        index = index + 1"
   ]
  },
  {
   "cell_type": "code",
   "execution_count": null,
   "id": "aa2fdcb3",
   "metadata": {},
   "outputs": [],
   "source": [
    "removeBabyFood(df)"
   ]
  },
  {
   "cell_type": "code",
   "execution_count": null,
   "id": "e07f27c2",
   "metadata": {},
   "outputs": [],
   "source": [
    "top = df.sort_values(by=\"Iron\", ascending = False)"
   ]
  },
  {
   "cell_type": "code",
   "execution_count": null,
   "id": "75285e3b",
   "metadata": {},
   "outputs": [],
   "source": [
    "top10 = top[:10]"
   ]
  },
  {
   "cell_type": "code",
   "execution_count": null,
   "id": "91618350",
   "metadata": {},
   "outputs": [],
   "source": [
    "top10"
   ]
  },
  {
   "cell_type": "code",
   "execution_count": null,
   "id": "21425c56",
   "metadata": {
    "scrolled": true
   },
   "outputs": [],
   "source": [
    "sns.barplot(data = top10, x = \"Iron\", y = \"Name\")"
   ]
  },
  {
   "cell_type": "code",
   "execution_count": null,
   "id": "a4e894de",
   "metadata": {},
   "outputs": [],
   "source": [
    "sns.histplot(df[\"Iron\"])"
   ]
  },
  {
   "cell_type": "code",
   "execution_count": null,
   "id": "4997ca6b",
   "metadata": {},
   "outputs": [],
   "source": [
    "df[\"Iron\"].quantile(0.999999999999)"
   ]
  }
 ],
 "metadata": {
  "kernelspec": {
   "display_name": "Python 3 (ipykernel)",
   "language": "python",
   "name": "python3"
  },
  "language_info": {
   "codemirror_mode": {
    "name": "ipython",
    "version": 3
   },
   "file_extension": ".py",
   "mimetype": "text/x-python",
   "name": "python",
   "nbconvert_exporter": "python",
   "pygments_lexer": "ipython3",
   "version": "3.9.12"
  }
 },
 "nbformat": 4,
 "nbformat_minor": 5
}
