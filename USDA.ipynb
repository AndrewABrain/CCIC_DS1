{
 "cells": [
  {
   "cell_type": "code",
   "execution_count": 1,
   "id": "ac9a4bc2",
   "metadata": {},
   "outputs": [],
   "source": [
    "import requests as rs\n",
    "import pandas as pd\n",
    "import seaborn as sns"
   ]
  },
  {
   "cell_type": "code",
   "execution_count": 2,
   "id": "6cea0791",
   "metadata": {},
   "outputs": [],
   "source": [
    "# url = \"https://api.nal.usda.gov/fdc/v1/foods/list?&pageSize=194&pageNumber=51&api_key=7huFqm7LkUN5o0b6PHEabJdwkgoh4vzTDOP9GOBp\""
   ]
  },
  {
   "cell_type": "code",
   "execution_count": 3,
   "id": "cf10e576",
   "metadata": {},
   "outputs": [],
   "source": [
    "# req = rs.get(url)"
   ]
  },
  {
   "cell_type": "code",
   "execution_count": 4,
   "id": "675fcd11",
   "metadata": {},
   "outputs": [],
   "source": [
    "#print(req)"
   ]
  },
  {
   "cell_type": "code",
   "execution_count": 5,
   "id": "f66f5103",
   "metadata": {
    "scrolled": true
   },
   "outputs": [],
   "source": [
    "# req = req.json()"
   ]
  },
  {
   "cell_type": "code",
   "execution_count": 6,
   "id": "425d7f17",
   "metadata": {
    "scrolled": true
   },
   "outputs": [],
   "source": [
    "# print(req)"
   ]
  },
  {
   "cell_type": "code",
   "execution_count": 7,
   "id": "c4754dd2",
   "metadata": {},
   "outputs": [],
   "source": [
    "# x = req[0]\n",
    "# y = len(req)\n",
    "# print(y)"
   ]
  },
  {
   "cell_type": "code",
   "execution_count": 8,
   "id": "b985f9dc",
   "metadata": {},
   "outputs": [],
   "source": [
    "def requestAllFood ():\n",
    "    pageNum = 1\n",
    "    foods = []\n",
    "    while True:\n",
    "        url = \"https://api.nal.usda.gov/fdc/v1/foods/list?&pageSize=200&api_key=7huFqm7LkUN5o0b6PHEabJdwkgoh4vzTDOP9GOBp&pageNumber=\" + str(pageNum)\n",
    "        req = rs.get(url)\n",
    "        if not req.ok:\n",
    "            break\n",
    "        foods = foods + req.json()\n",
    "        pageNum = pageNum + 1\n",
    "    return foods"
   ]
  },
  {
   "cell_type": "code",
   "execution_count": 9,
   "id": "0aee3499",
   "metadata": {},
   "outputs": [],
   "source": [
    "listOfFoods = requestAllFood()"
   ]
  },
  {
   "cell_type": "code",
   "execution_count": 10,
   "id": "ec1feba3",
   "metadata": {
    "scrolled": false
   },
   "outputs": [
    {
     "name": "stdout",
     "output_type": "stream",
     "text": [
      "10000\n"
     ]
    }
   ],
   "source": [
    "print(len(listOfFoods))"
   ]
  },
  {
   "cell_type": "code",
   "execution_count": 11,
   "id": "81d614af",
   "metadata": {
    "scrolled": true
   },
   "outputs": [
    {
     "name": "stdout",
     "output_type": "stream",
     "text": [
      "{'fdcId': 169158, 'description': 'Pork, cured, ham, slice, bone-in, separable lean only, heated, pan-broil', 'dataType': 'SR Legacy', 'publicationDate': '2019-04-01', 'ndbNumber': '10899', 'foodNutrients': [{'number': '204', 'name': 'Total lipid (fat)', 'amount': 4.09, 'unitName': 'G', 'derivationCode': 'A', 'derivationDescription': 'Analytical'}, {'number': '210', 'name': 'Sucrose', 'amount': 0.63, 'unitName': 'G', 'derivationCode': 'A', 'derivationDescription': 'Analytical'}, {'number': '211', 'name': 'Glucose', 'amount': 0.11, 'unitName': 'G', 'derivationCode': 'A', 'derivationDescription': 'Analytical'}, {'number': '214', 'name': 'Maltose', 'amount': 0.0, 'unitName': 'G', 'derivationCode': 'A', 'derivationDescription': 'Analytical'}, {'number': '255', 'name': 'Water', 'amount': 65.3, 'unitName': 'G', 'derivationCode': 'A', 'derivationDescription': 'Analytical'}, {'number': '262', 'name': 'Caffeine', 'amount': 0.0, 'unitName': 'MG', 'derivationCode': 'Z', 'derivationDescription': 'Assumed zero (Insignificant amount or not naturally occurring in a food, such as fiber in meat)'}, {'number': '263', 'name': 'Theobromine', 'amount': 0.0, 'unitName': 'MG', 'derivationCode': 'Z', 'derivationDescription': 'Assumed zero (Insignificant amount or not naturally occurring in a food, such as fiber in meat)'}, {'number': '269', 'name': 'Sugars, total including NLEA', 'amount': 0.74, 'unitName': 'G', 'derivationCode': 'A', 'derivationDescription': 'Analytical'}, {'number': '301', 'name': 'Calcium, Ca', 'amount': 15.0, 'unitName': 'MG', 'derivationCode': 'A', 'derivationDescription': 'Analytical'}, {'number': '306', 'name': 'Potassium, K', 'amount': 427, 'unitName': 'MG', 'derivationCode': 'A', 'derivationDescription': 'Analytical'}, {'number': '309', 'name': 'Zinc, Zn', 'amount': 3.04, 'unitName': 'MG', 'derivationCode': 'A', 'derivationDescription': 'Analytical'}, {'number': '317', 'name': 'Selenium, Se', 'amount': 25.3, 'unitName': 'UG', 'derivationCode': 'A', 'derivationDescription': 'Analytical'}, {'number': '323', 'name': 'Vitamin E (alpha-tocopherol)', 'amount': 0.3, 'unitName': 'MG', 'derivationCode': 'A', 'derivationDescription': 'Analytical'}, {'number': '454', 'name': 'Betaine', 'amount': 7.3, 'unitName': 'MG', 'derivationCode': 'A', 'derivationDescription': 'Analytical'}, {'number': '503', 'name': 'Isoleucine', 'amount': 1.23, 'unitName': 'G', 'derivationCode': 'A', 'derivationDescription': 'Analytical'}, {'number': '504', 'name': 'Leucine', 'amount': 2.18, 'unitName': 'G', 'derivationCode': 'A', 'derivationDescription': 'Analytical'}, {'number': '505', 'name': 'Lysine', 'amount': 2.3, 'unitName': 'G', 'derivationCode': 'A', 'derivationDescription': 'Analytical'}, {'number': '507', 'name': 'Cystine', 'amount': 0.305, 'unitName': 'G', 'derivationCode': 'A', 'derivationDescription': 'Analytical'}, {'number': '510', 'name': 'Valine', 'amount': 1.38, 'unitName': 'G', 'derivationCode': 'A', 'derivationDescription': 'Analytical'}, {'number': '511', 'name': 'Arginine', 'amount': 1.74, 'unitName': 'G', 'derivationCode': 'A', 'derivationDescription': 'Analytical'}, {'number': '512', 'name': 'Histidine', 'amount': 1.18, 'unitName': 'G', 'derivationCode': 'A', 'derivationDescription': 'Analytical'}, {'number': '514', 'name': 'Aspartic acid', 'amount': 2.37, 'unitName': 'G', 'derivationCode': 'A', 'derivationDescription': 'Analytical'}, {'number': '518', 'name': 'Serine', 'amount': 1.06, 'unitName': 'G', 'derivationCode': 'A', 'derivationDescription': 'Analytical'}, {'number': '573', 'name': 'Vitamin E, added', 'amount': 0.0, 'unitName': 'MG', 'derivationCode': 'Z', 'derivationDescription': 'Assumed zero (Insignificant amount or not naturally occurring in a food, such as fiber in meat)'}, {'number': '607', 'name': 'SFA 4:0', 'amount': 0.0, 'unitName': 'G', 'derivationCode': 'Z', 'derivationDescription': 'Assumed zero (Insignificant amount or not naturally occurring in a food, such as fiber in meat)'}, {'number': '608', 'name': 'SFA 6:0', 'amount': 0.0, 'unitName': 'G', 'derivationCode': 'Z', 'derivationDescription': 'Assumed zero (Insignificant amount or not naturally occurring in a food, such as fiber in meat)'}, {'number': '610', 'name': 'SFA 10:0', 'amount': 0.0, 'unitName': 'G', 'derivationCode': 'A', 'derivationDescription': 'Analytical'}, {'number': '613', 'name': 'SFA 16:0', 'amount': 0.778, 'unitName': 'G', 'derivationCode': 'A', 'derivationDescription': 'Analytical'}, {'number': '614', 'name': 'SFA 18:0', 'amount': 0.415, 'unitName': 'G', 'derivationCode': 'A', 'derivationDescription': 'Analytical'}, {'number': '615', 'name': 'SFA 20:0', 'amount': 0.005, 'unitName': 'G', 'derivationCode': 'A', 'derivationDescription': 'Analytical'}, {'number': '338', 'name': 'Lutein + zeaxanthin', 'amount': 0.0, 'unitName': 'UG', 'derivationCode': 'Z', 'derivationDescription': 'Assumed zero (Insignificant amount or not naturally occurring in a food, such as fiber in meat)'}, {'number': '341', 'name': 'Tocopherol, beta', 'amount': 0.0, 'unitName': 'MG', 'derivationCode': 'A', 'derivationDescription': 'Analytical'}, {'number': '342', 'name': 'Tocopherol, gamma', 'amount': 0.03, 'unitName': 'MG', 'derivationCode': 'A', 'derivationDescription': 'Analytical'}, {'number': '344', 'name': 'Tocotrienol, alpha', 'amount': 0.0, 'unitName': 'MG', 'derivationCode': 'A', 'derivationDescription': 'Analytical'}, {'number': '345', 'name': 'Tocotrienol, beta', 'amount': 0.0, 'unitName': 'MG', 'derivationCode': 'A', 'derivationDescription': 'Analytical'}, {'number': '406', 'name': 'Niacin', 'amount': 7.77, 'unitName': 'MG', 'derivationCode': 'A', 'derivationDescription': 'Analytical'}, {'number': '410', 'name': 'Pantothenic acid', 'amount': 0.758, 'unitName': 'MG', 'derivationCode': 'A', 'derivationDescription': 'Analytical'}, {'number': '415', 'name': 'Vitamin B-6', 'amount': 0.54, 'unitName': 'MG', 'derivationCode': 'A', 'derivationDescription': 'Analytical'}, {'number': '421', 'name': 'Choline, total', 'amount': 113, 'unitName': 'MG'}, {'number': '428', 'name': 'Vitamin K (Menaquinone-4)', 'amount': 2.0, 'unitName': 'UG', 'derivationCode': 'A', 'derivationDescription': 'Analytical'}, {'number': '431', 'name': 'Folic acid', 'amount': 0.0, 'unitName': 'UG', 'derivationCode': 'Z', 'derivationDescription': 'Assumed zero (Insignificant amount or not naturally occurring in a food, such as fiber in meat)'}, {'number': '620', 'name': 'PUFA 20:4', 'amount': 0.084, 'unitName': 'G', 'derivationCode': 'A', 'derivationDescription': 'Analytical'}, {'number': '627', 'name': 'PUFA 18:4', 'amount': 0.0, 'unitName': 'G', 'derivationCode': 'Z', 'derivationDescription': 'Assumed zero (Insignificant amount or not naturally occurring in a food, such as fiber in meat)'}, {'number': '628', 'name': 'MUFA 20:1', 'amount': 0.021, 'unitName': 'G', 'derivationCode': 'A', 'derivationDescription': 'Analytical'}, {'number': '630', 'name': 'MUFA 22:1', 'amount': 0.0, 'unitName': 'G', 'derivationCode': 'Z', 'derivationDescription': 'Assumed zero (Insignificant amount or not naturally occurring in a food, such as fiber in meat)'}, {'number': '652', 'name': 'SFA 15:0', 'amount': 0.0, 'unitName': 'G', 'derivationCode': 'A', 'derivationDescription': 'Analytical'}, {'number': '663', 'name': 'TFA 18:1 t', 'amount': 0.017, 'unitName': 'G', 'derivationCode': 'A', 'derivationDescription': 'Analytical'}, {'number': '669', 'name': 'TFA 18:2 t,t', 'amount': 0.013, 'unitName': 'G', 'derivationCode': 'A', 'derivationDescription': 'Analytical'}, {'number': '672', 'name': 'PUFA 20:2 n-6 c,c', 'amount': 0.016, 'unitName': 'G', 'derivationCode': 'A', 'derivationDescription': 'Analytical'}, {'number': '685', 'name': 'PUFA 18:3 n-6 c,c,c', 'amount': 0.0, 'unitName': 'G', 'derivationCode': 'A', 'derivationDescription': 'Analytical'}, {'number': '689', 'name': 'PUFA 20:3', 'amount': 0.003, 'unitName': 'G', 'derivationCode': 'A', 'derivationDescription': 'Analytical'}, {'number': '203', 'name': 'Protein', 'amount': 27.2, 'unitName': 'G', 'derivationCode': 'A', 'derivationDescription': 'Analytical'}, {'number': '207', 'name': 'Ash', 'amount': 3.17, 'unitName': 'G', 'derivationCode': 'A', 'derivationDescription': 'Analytical'}, {'number': '212', 'name': 'Fructose', 'amount': 0.0, 'unitName': 'G', 'derivationCode': 'A', 'derivationDescription': 'Analytical'}, {'number': '213', 'name': 'Lactose', 'amount': 0.0, 'unitName': 'G', 'derivationCode': 'A', 'derivationDescription': 'Analytical'}, {'number': '221', 'name': 'Alcohol, ethyl', 'amount': 0.0, 'unitName': 'G', 'derivationCode': 'Z', 'derivationDescription': 'Assumed zero (Insignificant amount or not naturally occurring in a food, such as fiber in meat)'}, {'number': '287', 'name': 'Galactose', 'amount': 0.0, 'unitName': 'G', 'derivationCode': 'A', 'derivationDescription': 'Analytical'}, {'number': '291', 'name': 'Fiber, total dietary', 'amount': 0.0, 'unitName': 'G', 'derivationCode': 'Z', 'derivationDescription': 'Assumed zero (Insignificant amount or not naturally occurring in a food, such as fiber in meat)'}, {'number': '303', 'name': 'Iron, Fe', 'amount': 1.42, 'unitName': 'MG', 'derivationCode': 'A', 'derivationDescription': 'Analytical'}, {'number': '304', 'name': 'Magnesium, Mg', 'amount': 25.0, 'unitName': 'MG', 'derivationCode': 'A', 'derivationDescription': 'Analytical'}, {'number': '305', 'name': 'Phosphorus, P', 'amount': 296, 'unitName': 'MG', 'derivationCode': 'A', 'derivationDescription': 'Analytical'}, {'number': '307', 'name': 'Sodium, Na', 'amount': 870, 'unitName': 'MG', 'derivationCode': 'A', 'derivationDescription': 'Analytical'}, {'number': '312', 'name': 'Copper, Cu', 'amount': 0.426, 'unitName': 'MG', 'derivationCode': 'A', 'derivationDescription': 'Analytical'}, {'number': '315', 'name': 'Manganese, Mn', 'amount': 0.022, 'unitName': 'MG', 'derivationCode': 'A', 'derivationDescription': 'Analytical'}, {'number': '318', 'name': 'Vitamin A, IU', 'amount': 0.0, 'unitName': 'IU'}, {'number': '319', 'name': 'Retinol', 'amount': 0.0, 'unitName': 'UG', 'derivationCode': 'NR', 'derivationDescription': 'Nutrient that is based on other nutrient/s; value used directly, ex. Nut.#204 from Nut.#298'}, {'number': '320', 'name': 'Vitamin A, RAE', 'amount': 0.0, 'unitName': 'UG'}, {'number': '321', 'name': 'Carotene, beta', 'amount': 0.0, 'unitName': 'UG', 'derivationCode': 'Z', 'derivationDescription': 'Assumed zero (Insignificant amount or not naturally occurring in a food, such as fiber in meat)'}, {'number': '322', 'name': 'Carotene, alpha', 'amount': 0.0, 'unitName': 'UG', 'derivationCode': 'Z', 'derivationDescription': 'Assumed zero (Insignificant amount or not naturally occurring in a food, such as fiber in meat)'}, {'number': '334', 'name': 'Cryptoxanthin, beta', 'amount': 0.0, 'unitName': 'UG', 'derivationCode': 'Z', 'derivationDescription': 'Assumed zero (Insignificant amount or not naturally occurring in a food, such as fiber in meat)'}, {'number': '337', 'name': 'Lycopene', 'amount': 0.0, 'unitName': 'UG', 'derivationCode': 'Z', 'derivationDescription': 'Assumed zero (Insignificant amount or not naturally occurring in a food, such as fiber in meat)'}, {'number': '343', 'name': 'Tocopherol, delta', 'amount': 0.0, 'unitName': 'MG', 'derivationCode': 'A', 'derivationDescription': 'Analytical'}, {'number': '346', 'name': 'Tocotrienol, gamma', 'amount': 0.02, 'unitName': 'MG', 'derivationCode': 'A', 'derivationDescription': 'Analytical'}, {'number': '347', 'name': 'Tocotrienol, delta', 'amount': 0.0, 'unitName': 'MG', 'derivationCode': 'A', 'derivationDescription': 'Analytical'}, {'number': '401', 'name': 'Vitamin C, total ascorbic acid', 'amount': 0.0, 'unitName': 'MG', 'derivationCode': 'Z', 'derivationDescription': 'Assumed zero (Insignificant amount or not naturally occurring in a food, such as fiber in meat)'}, {'number': '404', 'name': 'Thiamin', 'amount': 0.575, 'unitName': 'MG', 'derivationCode': 'A', 'derivationDescription': 'Analytical'}, {'number': '405', 'name': 'Riboflavin', 'amount': 0.317, 'unitName': 'MG', 'derivationCode': 'A', 'derivationDescription': 'Analytical'}, {'number': '417', 'name': 'Folate, total', 'amount': 2.0, 'unitName': 'UG', 'derivationCode': 'A', 'derivationDescription': 'Analytical'}, {'number': '418', 'name': 'Vitamin B-12', 'amount': 0.66, 'unitName': 'UG', 'derivationCode': 'A', 'derivationDescription': 'Analytical'}, {'number': '429', 'name': 'Vitamin K (Dihydrophylloquinone)', 'amount': 0.0, 'unitName': 'UG', 'derivationCode': 'A', 'derivationDescription': 'Analytical'}, {'number': '430', 'name': 'Vitamin K (phylloquinone)', 'amount': 0.0, 'unitName': 'UG', 'derivationCode': 'A', 'derivationDescription': 'Analytical'}, {'number': '432', 'name': 'Folate, food', 'amount': 2.0, 'unitName': 'UG', 'derivationCode': 'NR', 'derivationDescription': 'Nutrient that is based on other nutrient/s; value used directly, ex. Nut.#204 from Nut.#298'}, {'number': '501', 'name': 'Tryptophan', 'amount': 0.255, 'unitName': 'G', 'derivationCode': 'A', 'derivationDescription': 'Analytical'}, {'number': '502', 'name': 'Threonine', 'amount': 1.22, 'unitName': 'G', 'derivationCode': 'A', 'derivationDescription': 'Analytical'}, {'number': '506', 'name': 'Methionine', 'amount': 0.65, 'unitName': 'G', 'derivationCode': 'A', 'derivationDescription': 'Analytical'}, {'number': '508', 'name': 'Phenylalanine', 'amount': 1.09, 'unitName': 'G', 'derivationCode': 'A', 'derivationDescription': 'Analytical'}, {'number': '509', 'name': 'Tyrosine', 'amount': 0.882, 'unitName': 'G', 'derivationCode': 'A', 'derivationDescription': 'Analytical'}, {'number': '513', 'name': 'Alanine', 'amount': 1.6, 'unitName': 'G', 'derivationCode': 'A', 'derivationDescription': 'Analytical'}, {'number': '515', 'name': 'Glutamic acid', 'amount': 3.89, 'unitName': 'G', 'derivationCode': 'A', 'derivationDescription': 'Analytical'}, {'number': '516', 'name': 'Glycine', 'amount': 1.42, 'unitName': 'G', 'derivationCode': 'A', 'derivationDescription': 'Analytical'}, {'number': '517', 'name': 'Proline', 'amount': 1.17, 'unitName': 'G', 'derivationCode': 'A', 'derivationDescription': 'Analytical'}, {'number': '578', 'name': 'Vitamin B-12, added', 'amount': 0.0, 'unitName': 'UG', 'derivationCode': 'Z', 'derivationDescription': 'Assumed zero (Insignificant amount or not naturally occurring in a food, such as fiber in meat)'}, {'number': '601', 'name': 'Cholesterol', 'amount': 73.0, 'unitName': 'MG', 'derivationCode': 'A', 'derivationDescription': 'Analytical'}, {'number': '609', 'name': 'SFA 8:0', 'amount': 0.0, 'unitName': 'G', 'derivationCode': 'A', 'derivationDescription': 'Analytical'}, {'number': '611', 'name': 'SFA 12:0', 'amount': 0.0, 'unitName': 'G', 'derivationCode': 'A', 'derivationDescription': 'Analytical'}, {'number': '612', 'name': 'SFA 14:0', 'amount': 0.045, 'unitName': 'G', 'derivationCode': 'A', 'derivationDescription': 'Analytical'}, {'number': '621', 'name': 'PUFA 22:6 n-3 (DHA)', 'amount': 0.0, 'unitName': 'G', 'derivationCode': 'Z', 'derivationDescription': 'Assumed zero (Insignificant amount or not naturally occurring in a food, such as fiber in meat)'}, {'number': '624', 'name': 'SFA 22:0', 'amount': 0.0, 'unitName': 'G', 'derivationCode': 'A', 'derivationDescription': 'Analytical'}, {'number': '625', 'name': 'MUFA 14:1', 'amount': 0.0, 'unitName': 'G', 'derivationCode': 'A', 'derivationDescription': 'Analytical'}, {'number': '626', 'name': 'MUFA 16:1', 'amount': 0.099, 'unitName': 'G', 'derivationCode': 'A', 'derivationDescription': 'Analytical'}, {'number': '629', 'name': 'PUFA 20:5 n-3 (EPA)', 'amount': 0.0, 'unitName': 'G', 'derivationCode': 'Z', 'derivationDescription': 'Assumed zero (Insignificant amount or not naturally occurring in a food, such as fiber in meat)'}, {'number': '631', 'name': 'PUFA 22:5 n-3 (DPA)', 'amount': 0.0, 'unitName': 'G', 'derivationCode': 'Z', 'derivationDescription': 'Assumed zero (Insignificant amount or not naturally occurring in a food, such as fiber in meat)'}, {'number': '653', 'name': 'SFA 17:0', 'amount': 0.011, 'unitName': 'G', 'derivationCode': 'A', 'derivationDescription': 'Analytical'}, {'number': '674', 'name': 'MUFA 18:1 c', 'amount': 1.48, 'unitName': 'G', 'derivationCode': 'A', 'derivationDescription': 'Analytical'}, {'number': '675', 'name': 'PUFA 18:2 n-6 c,c', 'amount': 0.499, 'unitName': 'G', 'derivationCode': 'A', 'derivationDescription': 'Analytical'}, {'number': '687', 'name': 'MUFA 17:1', 'amount': 0.0, 'unitName': 'G', 'derivationCode': 'A', 'derivationDescription': 'Analytical'}, {'number': '697', 'name': 'MUFA 15:1', 'amount': 0.0, 'unitName': 'G', 'derivationCode': 'A', 'derivationDescription': 'Analytical'}, {'number': '851', 'name': 'PUFA 18:3 n-3 c,c,c (ALA)', 'amount': 0.029, 'unitName': 'G', 'derivationCode': 'A', 'derivationDescription': 'Analytical'}, {'number': '324', 'name': 'Vitamin D (D2 + D3), International Units', 'amount': 44.0, 'unitName': 'IU', 'derivationCode': 'BFNN', 'derivationDescription': 'Based on another form of the food or similar food; Concentration adjustment; Non-fat solids; Retention factors not used'}, {'number': '326', 'name': 'Vitamin D3 (cholecalciferol)', 'amount': 1.1, 'unitName': 'UG', 'derivationCode': 'BFNN', 'derivationDescription': 'Based on another form of the food or similar food; Concentration adjustment; Non-fat solids; Retention factors not used'}, {'number': '328', 'name': 'Vitamin D (D2 + D3)', 'amount': 1.1, 'unitName': 'UG'}, {'number': '521', 'name': 'Hydroxyproline', 'amount': 0.176, 'unitName': 'G', 'derivationCode': 'A', 'derivationDescription': 'Analytical'}, {'number': '695', 'name': 'Fatty acids, total trans-polyenoic', 'amount': 0.013, 'unitName': 'G', 'derivationCode': 'NC', 'derivationDescription': 'Calculated'}, {'number': '645', 'name': 'Fatty acids, total monounsaturated', 'amount': 1.61, 'unitName': 'G', 'derivationCode': 'NC', 'derivationDescription': 'Calculated'}, {'number': '646', 'name': 'Fatty acids, total polyunsaturated', 'amount': 0.644, 'unitName': 'G', 'derivationCode': 'NC', 'derivationDescription': 'Calculated'}, {'number': '435', 'name': 'Folate, DFE', 'amount': 2.0, 'unitName': 'UG', 'derivationCode': 'NC', 'derivationDescription': 'Calculated'}, {'number': '617', 'name': 'MUFA 18:1', 'amount': 1.49, 'unitName': 'G'}, {'number': '618', 'name': 'PUFA 18:2', 'amount': 0.512, 'unitName': 'G'}, {'number': '619', 'name': 'PUFA 18:3', 'amount': 0.029, 'unitName': 'G'}, {'number': '693', 'name': 'Fatty acids, total trans-monoenoic', 'amount': 0.017, 'unitName': 'G', 'derivationCode': 'NC', 'derivationDescription': 'Calculated'}, {'number': '605', 'name': 'Fatty acids, total trans', 'amount': 0.03, 'unitName': 'G', 'derivationCode': 'NC', 'derivationDescription': 'Calculated'}, {'number': '606', 'name': 'Fatty acids, total saturated', 'amount': 1.25, 'unitName': 'G', 'derivationCode': 'NC', 'derivationDescription': 'Calculated'}, {'number': '205', 'name': 'Carbohydrate, by difference', 'amount': 0.74, 'unitName': 'G', 'derivationCode': 'NR', 'derivationDescription': 'Nutrient that is based on other nutrient/s; value used directly, ex. Nut.#204 from Nut.#298'}, {'number': '208', 'name': 'Energy', 'amount': 148, 'unitName': 'KCAL', 'derivationCode': 'NC', 'derivationDescription': 'Calculated'}, {'number': '268', 'name': 'Energy', 'amount': 621, 'unitName': 'kJ', 'derivationCode': 'NC', 'derivationDescription': 'Calculated'}]}\n"
     ]
    }
   ],
   "source": [
    "print(listOfFoods[-1])"
   ]
  },
  {
   "cell_type": "code",
   "execution_count": 12,
   "id": "6d3ce743",
   "metadata": {},
   "outputs": [],
   "source": [
    "def createList ():\n",
    "    iron = []\n",
    "    for food in listOfFoods:\n",
    "        name = food[\"description\"]\n",
    "        for nutrient in food[\"foodNutrients\"]:\n",
    "            if nutrient[\"name\"] == \"Iron, Fe\":\n",
    "                amount = nutrient[\"amount\"]\n",
    "                temp = {\"Name\": name, \"Iron\": amount}\n",
    "                iron.append(temp) \n",
    "    return iron"
   ]
  },
  {
   "cell_type": "code",
   "execution_count": 13,
   "id": "c78e9f91",
   "metadata": {},
   "outputs": [],
   "source": [
    "listOfFoods = createList()"
   ]
  },
  {
   "cell_type": "code",
   "execution_count": 14,
   "id": "9efadbe2",
   "metadata": {},
   "outputs": [],
   "source": [
    "df = pd.DataFrame(listOfFoods)"
   ]
  },
  {
   "cell_type": "code",
   "execution_count": 15,
   "id": "1700b3d1",
   "metadata": {},
   "outputs": [
    {
     "data": {
      "text/html": [
       "<div>\n",
       "<style scoped>\n",
       "    .dataframe tbody tr th:only-of-type {\n",
       "        vertical-align: middle;\n",
       "    }\n",
       "\n",
       "    .dataframe tbody tr th {\n",
       "        vertical-align: top;\n",
       "    }\n",
       "\n",
       "    .dataframe thead th {\n",
       "        text-align: right;\n",
       "    }\n",
       "</style>\n",
       "<table border=\"1\" class=\"dataframe\">\n",
       "  <thead>\n",
       "    <tr style=\"text-align: right;\">\n",
       "      <th></th>\n",
       "      <th>Name</th>\n",
       "      <th>Iron</th>\n",
       "    </tr>\n",
       "  </thead>\n",
       "  <tbody>\n",
       "    <tr>\n",
       "      <th>0</th>\n",
       "      <td>Abalone</td>\n",
       "      <td>3.97</td>\n",
       "    </tr>\n",
       "    <tr>\n",
       "      <th>1</th>\n",
       "      <td>Abiyuch, raw</td>\n",
       "      <td>1.61</td>\n",
       "    </tr>\n",
       "    <tr>\n",
       "      <th>2</th>\n",
       "      <td>Acerola juice, raw</td>\n",
       "      <td>0.50</td>\n",
       "    </tr>\n",
       "    <tr>\n",
       "      <th>3</th>\n",
       "      <td>Acerola, (west indian cherry), raw</td>\n",
       "      <td>0.20</td>\n",
       "    </tr>\n",
       "    <tr>\n",
       "      <th>4</th>\n",
       "      <td>Acorn stew (Apache)</td>\n",
       "      <td>1.00</td>\n",
       "    </tr>\n",
       "  </tbody>\n",
       "</table>\n",
       "</div>"
      ],
      "text/plain": [
       "                                 Name  Iron\n",
       "0                             Abalone  3.97\n",
       "1                        Abiyuch, raw  1.61\n",
       "2                  Acerola juice, raw  0.50\n",
       "3  Acerola, (west indian cherry), raw  0.20\n",
       "4                 Acorn stew (Apache)  1.00"
      ]
     },
     "execution_count": 15,
     "metadata": {},
     "output_type": "execute_result"
    }
   ],
   "source": [
    "df.head()"
   ]
  },
  {
   "cell_type": "code",
   "execution_count": 16,
   "id": "3b7f3bd5",
   "metadata": {},
   "outputs": [],
   "source": [
    "def removeBabyFood(df):\n",
    "    index = 0\n",
    "    for name in df[\"Name\"]:\n",
    "        if \"Baby\" in name:\n",
    "            df.drop(index, inplace = True)\n",
    "        index = index + 1"
   ]
  },
  {
   "cell_type": "code",
   "execution_count": 17,
   "id": "aa2fdcb3",
   "metadata": {},
   "outputs": [],
   "source": [
    "removeBabyFood(df)"
   ]
  },
  {
   "cell_type": "code",
   "execution_count": 18,
   "id": "e07f27c2",
   "metadata": {},
   "outputs": [],
   "source": [
    "top = df.sort_values(by=\"Iron\", ascending = False)"
   ]
  },
  {
   "cell_type": "code",
   "execution_count": 19,
   "id": "75285e3b",
   "metadata": {},
   "outputs": [],
   "source": [
    "top10 = top[:10]"
   ]
  },
  {
   "cell_type": "code",
   "execution_count": 20,
   "id": "91618350",
   "metadata": {},
   "outputs": [
    {
     "data": {
      "text/html": [
       "<div>\n",
       "<style scoped>\n",
       "    .dataframe tbody tr th:only-of-type {\n",
       "        vertical-align: middle;\n",
       "    }\n",
       "\n",
       "    .dataframe tbody tr th {\n",
       "        vertical-align: top;\n",
       "    }\n",
       "\n",
       "    .dataframe thead th {\n",
       "        text-align: right;\n",
       "    }\n",
       "</style>\n",
       "<table border=\"1\" class=\"dataframe\">\n",
       "  <thead>\n",
       "    <tr style=\"text-align: right;\">\n",
       "      <th></th>\n",
       "      <th>Name</th>\n",
       "      <th>Iron</th>\n",
       "    </tr>\n",
       "  </thead>\n",
       "  <tbody>\n",
       "    <tr>\n",
       "      <th>3367</th>\n",
       "      <td>Cereals ready-to-eat, RALSTON Enriched Wheat B...</td>\n",
       "      <td>67.7</td>\n",
       "    </tr>\n",
       "    <tr>\n",
       "      <th>8976</th>\n",
       "      <td>Parsley, freeze-dried</td>\n",
       "      <td>53.9</td>\n",
       "    </tr>\n",
       "    <tr>\n",
       "      <th>3451</th>\n",
       "      <td>Cereals, QUAKER, Quick Oats with Iron, Dry</td>\n",
       "      <td>49.4</td>\n",
       "    </tr>\n",
       "    <tr>\n",
       "      <th>3248</th>\n",
       "      <td>Cereal, O's, multigrain</td>\n",
       "      <td>46.6</td>\n",
       "    </tr>\n",
       "    <tr>\n",
       "      <th>1961</th>\n",
       "      <td>Beef, variety meats and by-products, spleen, raw</td>\n",
       "      <td>44.6</td>\n",
       "    </tr>\n",
       "    <tr>\n",
       "      <th>3401</th>\n",
       "      <td>Cereals, MALT-O-MEAL, chocolate, dry</td>\n",
       "      <td>42.9</td>\n",
       "    </tr>\n",
       "    <tr>\n",
       "      <th>3426</th>\n",
       "      <td>Cereals, QUAKER, Instant Grits, Redeye Gravy &amp;...</td>\n",
       "      <td>42.0</td>\n",
       "    </tr>\n",
       "    <tr>\n",
       "      <th>7711</th>\n",
       "      <td>Lamb, variety meats and by-products, spleen, raw</td>\n",
       "      <td>41.9</td>\n",
       "    </tr>\n",
       "    <tr>\n",
       "      <th>3297</th>\n",
       "      <td>Cereals ready-to-eat, MALT-O-MEAL, OAT BLENDER...</td>\n",
       "      <td>41.4</td>\n",
       "    </tr>\n",
       "    <tr>\n",
       "      <th>3403</th>\n",
       "      <td>Cereals, MALT-O-MEAL, Farina Hot Wheat Cereal,...</td>\n",
       "      <td>40.9</td>\n",
       "    </tr>\n",
       "  </tbody>\n",
       "</table>\n",
       "</div>"
      ],
      "text/plain": [
       "                                                   Name  Iron\n",
       "3367  Cereals ready-to-eat, RALSTON Enriched Wheat B...  67.7\n",
       "8976                              Parsley, freeze-dried  53.9\n",
       "3451         Cereals, QUAKER, Quick Oats with Iron, Dry  49.4\n",
       "3248                            Cereal, O's, multigrain  46.6\n",
       "1961   Beef, variety meats and by-products, spleen, raw  44.6\n",
       "3401               Cereals, MALT-O-MEAL, chocolate, dry  42.9\n",
       "3426  Cereals, QUAKER, Instant Grits, Redeye Gravy &...  42.0\n",
       "7711   Lamb, variety meats and by-products, spleen, raw  41.9\n",
       "3297  Cereals ready-to-eat, MALT-O-MEAL, OAT BLENDER...  41.4\n",
       "3403  Cereals, MALT-O-MEAL, Farina Hot Wheat Cereal,...  40.9"
      ]
     },
     "execution_count": 20,
     "metadata": {},
     "output_type": "execute_result"
    }
   ],
   "source": [
    "top10"
   ]
  },
  {
   "cell_type": "code",
   "execution_count": 21,
   "id": "21425c56",
   "metadata": {
    "scrolled": true
   },
   "outputs": [
    {
     "data": {
      "text/plain": [
       "<AxesSubplot:xlabel='Iron', ylabel='Name'>"
      ]
     },
     "execution_count": 21,
     "metadata": {},
     "output_type": "execute_result"
    },
    {
     "data": {
      "image/png": "[encoded data removed]",
      "text/plain": [
       "<Figure size 432x288 with 1 Axes>"
      ]
     },
     "metadata": {
      "needs_background": "light"
     },
     "output_type": "display_data"
    }
   ],
   "source": [
    "sns.barplot(data = top10, x = \"Iron\", y = \"Name\")"
   ]
  },
  {
   "cell_type": "code",
   "execution_count": 22,
   "id": "a4e894de",
   "metadata": {},
   "outputs": [
    {
     "data": {
      "text/plain": [
       "<AxesSubplot:xlabel='Iron', ylabel='Count'>"
      ]
     },
     "execution_count": 22,
     "metadata": {},
     "output_type": "execute_result"
    },
    {
     "data": {
      "image/png": "[encoded data removed]",
      "text/plain": [
       "<Figure size 432x288 with 1 Axes>"
      ]
     },
     "metadata": {
      "needs_background": "light"
     },
     "output_type": "display_data"
    }
   ],
   "source": [
    "sns.histplot(df[\"Iron\"])"
   ]
  },
  {
   "cell_type": "code",
   "execution_count": 23,
   "id": "4997ca6b",
   "metadata": {},
   "outputs": [
    {
     "data": {
      "text/plain": [
       "67.69999986786279"
      ]
     },
     "execution_count": 23,
     "metadata": {},
     "output_type": "execute_result"
    }
   ],
   "source": [
    "df[\"Iron\"].quantile(0.999999999999)"
   ]
  }
 ],
 "metadata": {
  "kernelspec": {
   "display_name": "Python 3 (ipykernel)",
   "language": "python",
   "name": "python3"
  },
  "language_info": {
   "codemirror_mode": {
    "name": "ipython",
    "version": 3
   },
   "file_extension": ".py",
   "mimetype": "text/x-python",
   "name": "python",
   "nbconvert_exporter": "python",
   "pygments_lexer": "ipython3",
   "version": "3.9.12"
  }
 },
 "nbformat": 4,
 "nbformat_minor": 5
}
