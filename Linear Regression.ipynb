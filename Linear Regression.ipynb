{
 "cells": [
  {
   "cell_type": "code",
   "execution_count": 1,
   "id": "5c5cff52",
   "metadata": {},
   "outputs": [],
   "source": [
    "import pandas as pd\n",
    "import seaborn as sns\n",
    "import math"
   ]
  },
  {
   "cell_type": "code",
   "execution_count": 2,
   "id": "0bd4e927",
   "metadata": {},
   "outputs": [],
   "source": [
    "df = pd.read_csv('SATData - SATData.csv')"
   ]
  },
  {
   "cell_type": "code",
   "execution_count": 3,
   "id": "39e99102",
   "metadata": {},
   "outputs": [
    {
     "name": "stdout",
     "output_type": "stream",
     "text": [
      "<class 'pandas.core.frame.DataFrame'>\n",
      "RangeIndex: 1000 entries, 0 to 999\n",
      "Data columns (total 3 columns):\n",
      " #   Column      Non-Null Count  Dtype  \n",
      "---  ------      --------------  -----  \n",
      " 0   Unnamed: 0  1000 non-null   int64  \n",
      " 1   GPA         1000 non-null   float64\n",
      " 2   SAT         1000 non-null   int64  \n",
      "dtypes: float64(1), int64(2)\n",
      "memory usage: 23.6 KB\n"
     ]
    }
   ],
   "source": [
    "df.info()"
   ]
  },
  {
   "cell_type": "code",
   "execution_count": 4,
   "id": "bd40cd20",
   "metadata": {},
   "outputs": [],
   "source": [
    "df = df.drop(df.columns[[0]], axis = 1)"
   ]
  },
  {
   "cell_type": "code",
   "execution_count": 5,
   "id": "a5ae3244",
   "metadata": {},
   "outputs": [],
   "source": [
    "def testTrainSplit (df):\n",
    "    length = len(df.index)\n",
    "    splitPoint = round(length * 0.70)\n",
    "    training = df.iloc[:splitPoint, :]\n",
    "    testing = df.iloc[splitPoint:, :]\n",
    "    return training, testing"
   ]
  },
  {
   "cell_type": "code",
   "execution_count": 6,
   "id": "9f47bf16",
   "metadata": {},
   "outputs": [],
   "source": [
    "training, testing = testTrainSplit (df)"
   ]
  },
  {
   "cell_type": "code",
   "execution_count": 7,
   "id": "74cd13da",
   "metadata": {},
   "outputs": [
    {
     "name": "stdout",
     "output_type": "stream",
     "text": [
      "<class 'pandas.core.frame.DataFrame'>\n",
      "RangeIndex: 700 entries, 0 to 699\n",
      "Data columns (total 2 columns):\n",
      " #   Column  Non-Null Count  Dtype  \n",
      "---  ------  --------------  -----  \n",
      " 0   GPA     700 non-null    float64\n",
      " 1   SAT     700 non-null    int64  \n",
      "dtypes: float64(1), int64(1)\n",
      "memory usage: 11.1 KB\n"
     ]
    }
   ],
   "source": [
    "training.info()"
   ]
  },
  {
   "cell_type": "code",
   "execution_count": 8,
   "id": "11a3f4fc",
   "metadata": {},
   "outputs": [
    {
     "name": "stdout",
     "output_type": "stream",
     "text": [
      "<class 'pandas.core.frame.DataFrame'>\n",
      "RangeIndex: 300 entries, 700 to 999\n",
      "Data columns (total 2 columns):\n",
      " #   Column  Non-Null Count  Dtype  \n",
      "---  ------  --------------  -----  \n",
      " 0   GPA     300 non-null    float64\n",
      " 1   SAT     300 non-null    int64  \n",
      "dtypes: float64(1), int64(1)\n",
      "memory usage: 4.8 KB\n"
     ]
    }
   ],
   "source": [
    "testing.info()"
   ]
  },
  {
   "cell_type": "code",
   "execution_count": 9,
   "id": "8e93e69f",
   "metadata": {},
   "outputs": [
    {
     "data": {
      "text/plain": [
       "<AxesSubplot:xlabel='GPA', ylabel='SAT'>"
      ]
     },
     "execution_count": 9,
     "metadata": {},
     "output_type": "execute_result"
    },
    {
     "data": {
      "image/png": "[encoded data removed]",
      "text/plain": [
       "<Figure size 432x288 with 1 Axes>"
      ]
     },
     "metadata": {
      "needs_background": "light"
     },
     "output_type": "display_data"
    }
   ],
   "source": [
    "sns.scatterplot(data = df, x=df['GPA'], y=df['SAT'])"
   ]
  },
  {
   "cell_type": "code",
   "execution_count": 10,
   "id": "ab40be34",
   "metadata": {},
   "outputs": [],
   "source": [
    "def lineOfBestFit (df, lSlope, hSlope, lYIntercept, hYIntercept):\n",
    "    whichIsBest = []\n",
    "    b = -1\n",
    "    for slope in range (lSlope, hSlope + 1, 0.5):\n",
    "        for yIntercept in range (lYIntercept, hYIntercept + 1): \n",
    "            dSum = 0\n",
    "            for index, row in df.iterrows():\n",
    "                x1 = row['GPA'] \n",
    "                y1 = row['SAT']\n",
    "                d = (abs(slope*x1 + b*y1 + yIntercept))/((slope**2 + b**2)**0.5)\n",
    "                dSum = dSum + d\n",
    "            template = {\"Distance Sum\": dSum, \"Slope\": slope, \"Y-Intercept\": yIntercept}\n",
    "            whichIsBest.append(template)\n",
    "    return whichIsBest"
   ]
  },
  {
   "cell_type": "code",
   "execution_count": 11,
   "id": "c8c264a6",
   "metadata": {},
   "outputs": [
    {
     "ename": "TypeError",
     "evalue": "'float' object cannot be interpreted as an integer",
     "output_type": "error",
     "traceback": [
      "\u001b[1;31m---------------------------------------------------------------------------\u001b[0m",
      "\u001b[1;31mTypeError\u001b[0m                                 Traceback (most recent call last)",
      "Input \u001b[1;32mIn [11]\u001b[0m, in \u001b[0;36m<cell line: 1>\u001b[1;34m()\u001b[0m\n\u001b[1;32m----> 1\u001b[0m whichIsBest \u001b[38;5;241m=\u001b[39m \u001b[43mlineOfBestFit\u001b[49m\u001b[43m \u001b[49m\u001b[43m(\u001b[49m\u001b[43mtraining\u001b[49m\u001b[43m,\u001b[49m\u001b[43m \u001b[49m\u001b[38;5;241;43m0\u001b[39;49m\u001b[43m,\u001b[49m\u001b[43m \u001b[49m\u001b[38;5;241;43m20\u001b[39;49m\u001b[43m,\u001b[49m\u001b[43m \u001b[49m\u001b[38;5;241;43m0\u001b[39;49m\u001b[43m,\u001b[49m\u001b[43m \u001b[49m\u001b[38;5;241;43m1200\u001b[39;49m\u001b[43m)\u001b[49m\n",
      "Input \u001b[1;32mIn [10]\u001b[0m, in \u001b[0;36mlineOfBestFit\u001b[1;34m(df, lSlope, hSlope, lYIntercept, hYIntercept)\u001b[0m\n\u001b[0;32m      2\u001b[0m whichIsBest \u001b[38;5;241m=\u001b[39m []\n\u001b[0;32m      3\u001b[0m b \u001b[38;5;241m=\u001b[39m \u001b[38;5;241m-\u001b[39m\u001b[38;5;241m1\u001b[39m\n\u001b[1;32m----> 4\u001b[0m \u001b[38;5;28;01mfor\u001b[39;00m slope \u001b[38;5;129;01min\u001b[39;00m \u001b[38;5;28;43mrange\u001b[39;49m\u001b[43m \u001b[49m\u001b[43m(\u001b[49m\u001b[43mlSlope\u001b[49m\u001b[43m,\u001b[49m\u001b[43m \u001b[49m\u001b[43mhSlope\u001b[49m\u001b[43m \u001b[49m\u001b[38;5;241;43m+\u001b[39;49m\u001b[43m \u001b[49m\u001b[38;5;241;43m1\u001b[39;49m\u001b[43m,\u001b[49m\u001b[43m \u001b[49m\u001b[38;5;241;43m0.5\u001b[39;49m\u001b[43m)\u001b[49m:\n\u001b[0;32m      5\u001b[0m     \u001b[38;5;28;01mfor\u001b[39;00m yIntercept \u001b[38;5;129;01min\u001b[39;00m \u001b[38;5;28mrange\u001b[39m (lYIntercept, hYIntercept \u001b[38;5;241m+\u001b[39m \u001b[38;5;241m1\u001b[39m): \n\u001b[0;32m      6\u001b[0m         dSum \u001b[38;5;241m=\u001b[39m \u001b[38;5;241m0\u001b[39m\n",
      "\u001b[1;31mTypeError\u001b[0m: 'float' object cannot be interpreted as an integer"
     ]
    }
   ],
   "source": [
    "whichIsBest = lineOfBestFit (training, 0, 20, 0, 1200)"
   ]
  },
  {
   "cell_type": "code",
   "execution_count": null,
   "id": "db934cef",
   "metadata": {},
   "outputs": [],
   "source": [
    "print(whichIsBest)"
   ]
  },
  {
   "cell_type": "code",
   "execution_count": null,
   "id": "907b1c52",
   "metadata": {},
   "outputs": [],
   "source": [
    "def findSmallestSum (whichIsBest):\n",
    "    lowest = float ('inf')\n",
    "    for sum in whichIsBest:\n",
    "        if sum['Distance Sum'] < lowest:\n",
    "            lowest = sum['Distance Sum']\n",
    "            dictionary = sum\n",
    "    return dictionary"
   ]
  },
  {
   "cell_type": "code",
   "execution_count": null,
   "id": "c7cea706",
   "metadata": {},
   "outputs": [],
   "source": [
    "dictionary = findSmallestSum (whichIsBest)"
   ]
  },
  {
   "cell_type": "code",
   "execution_count": null,
   "id": "628232ed",
   "metadata": {},
   "outputs": [],
   "source": [
    "print(dictionary)"
   ]
  }
 ],
 "metadata": {
  "kernelspec": {
   "display_name": "Python 3 (ipykernel)",
   "language": "python",
   "name": "python3"
  },
  "language_info": {
   "codemirror_mode": {
    "name": "ipython",
    "version": 3
   },
   "file_extension": ".py",
   "mimetype": "text/x-python",
   "name": "python",
   "nbconvert_exporter": "python",
   "pygments_lexer": "ipython3",
   "version": "3.9.12"
  }
 },
 "nbformat": 4,
 "nbformat_minor": 5
}
