{
 "cells": [
  {
   "cell_type": "code",
   "execution_count": 1,
   "id": "1fbe7f87",
   "metadata": {
    "scrolled": true
   },
   "outputs": [
    {
     "name": "stdout",
     "output_type": "stream",
     "text": [
      "     Rank           Channel Info  Influence Score Followers Avg. Likes Posts  \\\n",
      "0       1            \\ncristiano               92    485.2m       8.7m  3.4k   \n",
      "1       2            kyliejenner               91    370.7m       8.2m  7.0k   \n",
      "2       3             \\nleomessi               90    363.9m       6.7m   915   \n",
      "3       4          \\nselenagomez               93    348.8m       6.1m  1.9k   \n",
      "4       5              \\ntherock               91    339.4m       1.8m  6.8k   \n",
      "..    ...                    ...              ...       ...        ...   ...   \n",
      "195   196  \\nkhabib_nurmagomedov               63     33.6m     680.6k  4.6k   \n",
      "196   197         \\ndanbilzerian               84     33.6m       2.2m  1.4k   \n",
      "197   198            \\nraisa6690               80     33.6m     227.8k  4.2k   \n",
      "198   199          \\nluansantana               79     33.5m     193.3k   865   \n",
      "199   200           \\nnancyajram               81     33.4m     382.5k  3.8k   \n",
      "\n",
      "     60-Day Eng Rate New Post Avg. Likes Total Likes Country Or Region  \n",
      "0              0.013                6.3m       29.1b             Spain  \n",
      "1              0.014                5.0m       57.4b     United States  \n",
      "2              0.010                3.5m        6.1b               NaN  \n",
      "3              0.005                1.7m       11.4b     United States  \n",
      "4              0.003              932.0k       12.6b     United States  \n",
      "..               ...                 ...         ...               ...  \n",
      "195            0.009              305.7k        3.1b            Russia  \n",
      "196            0.064                2.1m        3.0b            Canada  \n",
      "197            0.003              103.2k      955.9m         Indonesia  \n",
      "198            0.003               82.6k      167.2m            Brazil  \n",
      "199            0.004              128.2k        1.5b            France  \n",
      "\n",
      "[200 rows x 10 columns]\n"
     ]
    }
   ],
   "source": [
    "# Imports pandas and seaborn (which will be used later) and then creates a dataframe using the file Top_Influencers.csv \n",
    "import pandas as pd\n",
    "import seaborn as sns\n",
    "\n",
    "df = pd.read_csv('Top_Influencers.csv')\n",
    "\n",
    "print(df)"
   ]
  },
  {
   "cell_type": "code",
   "execution_count": 2,
   "id": "a76e2a07",
   "metadata": {},
   "outputs": [
    {
     "name": "stdout",
     "output_type": "stream",
     "text": [
      "<class 'pandas.core.frame.DataFrame'>\n",
      "RangeIndex: 200 entries, 0 to 199\n",
      "Data columns (total 10 columns):\n",
      " #   Column               Non-Null Count  Dtype  \n",
      "---  ------               --------------  -----  \n",
      " 0   Rank                 200 non-null    int64  \n",
      " 1   Channel Info         200 non-null    object \n",
      " 2   Influence Score      200 non-null    int64  \n",
      " 3   Followers            200 non-null    object \n",
      " 4   Avg. Likes           200 non-null    object \n",
      " 5   Posts                200 non-null    object \n",
      " 6   60-Day Eng Rate      200 non-null    float64\n",
      " 7   New Post Avg. Likes  200 non-null    object \n",
      " 8   Total Likes          200 non-null    object \n",
      " 9   Country Or Region    137 non-null    object \n",
      "dtypes: float64(1), int64(2), object(7)\n",
      "memory usage: 15.8+ KB\n"
     ]
    },
    {
     "data": {
      "text/html": [
       "<div>\n",
       "<style scoped>\n",
       "    .dataframe tbody tr th:only-of-type {\n",
       "        vertical-align: middle;\n",
       "    }\n",
       "\n",
       "    .dataframe tbody tr th {\n",
       "        vertical-align: top;\n",
       "    }\n",
       "\n",
       "    .dataframe thead th {\n",
       "        text-align: right;\n",
       "    }\n",
       "</style>\n",
       "<table border=\"1\" class=\"dataframe\">\n",
       "  <thead>\n",
       "    <tr style=\"text-align: right;\">\n",
       "      <th></th>\n",
       "      <th>Rank</th>\n",
       "      <th>Channel Info</th>\n",
       "      <th>Influence Score</th>\n",
       "      <th>Followers</th>\n",
       "      <th>Avg. Likes</th>\n",
       "      <th>Posts</th>\n",
       "      <th>60-Day Eng Rate</th>\n",
       "      <th>New Post Avg. Likes</th>\n",
       "      <th>Total Likes</th>\n",
       "      <th>Country Or Region</th>\n",
       "    </tr>\n",
       "  </thead>\n",
       "  <tbody>\n",
       "    <tr>\n",
       "      <th>0</th>\n",
       "      <td>1</td>\n",
       "      <td>\\ncristiano</td>\n",
       "      <td>92</td>\n",
       "      <td>485.2m</td>\n",
       "      <td>8.7m</td>\n",
       "      <td>3.4k</td>\n",
       "      <td>0.013</td>\n",
       "      <td>6.3m</td>\n",
       "      <td>29.1b</td>\n",
       "      <td>Spain</td>\n",
       "    </tr>\n",
       "    <tr>\n",
       "      <th>1</th>\n",
       "      <td>2</td>\n",
       "      <td>kyliejenner</td>\n",
       "      <td>91</td>\n",
       "      <td>370.7m</td>\n",
       "      <td>8.2m</td>\n",
       "      <td>7.0k</td>\n",
       "      <td>0.014</td>\n",
       "      <td>5.0m</td>\n",
       "      <td>57.4b</td>\n",
       "      <td>United States</td>\n",
       "    </tr>\n",
       "    <tr>\n",
       "      <th>2</th>\n",
       "      <td>3</td>\n",
       "      <td>\\nleomessi</td>\n",
       "      <td>90</td>\n",
       "      <td>363.9m</td>\n",
       "      <td>6.7m</td>\n",
       "      <td>915</td>\n",
       "      <td>0.010</td>\n",
       "      <td>3.5m</td>\n",
       "      <td>6.1b</td>\n",
       "      <td>NaN</td>\n",
       "    </tr>\n",
       "    <tr>\n",
       "      <th>3</th>\n",
       "      <td>4</td>\n",
       "      <td>\\nselenagomez</td>\n",
       "      <td>93</td>\n",
       "      <td>348.8m</td>\n",
       "      <td>6.1m</td>\n",
       "      <td>1.9k</td>\n",
       "      <td>0.005</td>\n",
       "      <td>1.7m</td>\n",
       "      <td>11.4b</td>\n",
       "      <td>United States</td>\n",
       "    </tr>\n",
       "    <tr>\n",
       "      <th>4</th>\n",
       "      <td>5</td>\n",
       "      <td>\\ntherock</td>\n",
       "      <td>91</td>\n",
       "      <td>339.4m</td>\n",
       "      <td>1.8m</td>\n",
       "      <td>6.8k</td>\n",
       "      <td>0.003</td>\n",
       "      <td>932.0k</td>\n",
       "      <td>12.6b</td>\n",
       "      <td>United States</td>\n",
       "    </tr>\n",
       "  </tbody>\n",
       "</table>\n",
       "</div>"
      ],
      "text/plain": [
       "   Rank   Channel Info  Influence Score Followers Avg. Likes Posts  \\\n",
       "0     1    \\ncristiano               92    485.2m       8.7m  3.4k   \n",
       "1     2    kyliejenner               91    370.7m       8.2m  7.0k   \n",
       "2     3     \\nleomessi               90    363.9m       6.7m   915   \n",
       "3     4  \\nselenagomez               93    348.8m       6.1m  1.9k   \n",
       "4     5      \\ntherock               91    339.4m       1.8m  6.8k   \n",
       "\n",
       "   60-Day Eng Rate New Post Avg. Likes Total Likes Country Or Region  \n",
       "0            0.013                6.3m       29.1b             Spain  \n",
       "1            0.014                5.0m       57.4b     United States  \n",
       "2            0.010                3.5m        6.1b               NaN  \n",
       "3            0.005                1.7m       11.4b     United States  \n",
       "4            0.003              932.0k       12.6b     United States  "
      ]
     },
     "execution_count": 2,
     "metadata": {},
     "output_type": "execute_result"
    }
   ],
   "source": [
    "df.info()\n",
    "df.head()"
   ]
  },
  {
   "cell_type": "code",
   "execution_count": 3,
   "id": "3cb4d45a",
   "metadata": {},
   "outputs": [],
   "source": [
    "# Drops columns in the data table that aren't needed for the analysis\n",
    "df = df.drop(columns = ['Channel Info', 'Country Or Region','New Post Avg. Likes', '60-Day Eng Rate', 'Rank'])"
   ]
  },
  {
   "cell_type": "code",
   "execution_count": 4,
   "id": "1a54b8b8",
   "metadata": {},
   "outputs": [
    {
     "name": "stdout",
     "output_type": "stream",
     "text": [
      "<class 'pandas.core.frame.DataFrame'>\n",
      "RangeIndex: 200 entries, 0 to 199\n",
      "Data columns (total 5 columns):\n",
      " #   Column           Non-Null Count  Dtype \n",
      "---  ------           --------------  ----- \n",
      " 0   Influence Score  200 non-null    int64 \n",
      " 1   Followers        200 non-null    object\n",
      " 2   Avg. Likes       200 non-null    object\n",
      " 3   Posts            200 non-null    object\n",
      " 4   Total Likes      200 non-null    object\n",
      "dtypes: int64(1), object(4)\n",
      "memory usage: 7.9+ KB\n"
     ]
    },
    {
     "data": {
      "text/html": [
       "<div>\n",
       "<style scoped>\n",
       "    .dataframe tbody tr th:only-of-type {\n",
       "        vertical-align: middle;\n",
       "    }\n",
       "\n",
       "    .dataframe tbody tr th {\n",
       "        vertical-align: top;\n",
       "    }\n",
       "\n",
       "    .dataframe thead th {\n",
       "        text-align: right;\n",
       "    }\n",
       "</style>\n",
       "<table border=\"1\" class=\"dataframe\">\n",
       "  <thead>\n",
       "    <tr style=\"text-align: right;\">\n",
       "      <th></th>\n",
       "      <th>Influence Score</th>\n",
       "      <th>Followers</th>\n",
       "      <th>Avg. Likes</th>\n",
       "      <th>Posts</th>\n",
       "      <th>Total Likes</th>\n",
       "    </tr>\n",
       "  </thead>\n",
       "  <tbody>\n",
       "    <tr>\n",
       "      <th>0</th>\n",
       "      <td>92</td>\n",
       "      <td>485.2m</td>\n",
       "      <td>8.7m</td>\n",
       "      <td>3.4k</td>\n",
       "      <td>29.1b</td>\n",
       "    </tr>\n",
       "    <tr>\n",
       "      <th>1</th>\n",
       "      <td>91</td>\n",
       "      <td>370.7m</td>\n",
       "      <td>8.2m</td>\n",
       "      <td>7.0k</td>\n",
       "      <td>57.4b</td>\n",
       "    </tr>\n",
       "    <tr>\n",
       "      <th>2</th>\n",
       "      <td>90</td>\n",
       "      <td>363.9m</td>\n",
       "      <td>6.7m</td>\n",
       "      <td>915</td>\n",
       "      <td>6.1b</td>\n",
       "    </tr>\n",
       "    <tr>\n",
       "      <th>3</th>\n",
       "      <td>93</td>\n",
       "      <td>348.8m</td>\n",
       "      <td>6.1m</td>\n",
       "      <td>1.9k</td>\n",
       "      <td>11.4b</td>\n",
       "    </tr>\n",
       "    <tr>\n",
       "      <th>4</th>\n",
       "      <td>91</td>\n",
       "      <td>339.4m</td>\n",
       "      <td>1.8m</td>\n",
       "      <td>6.8k</td>\n",
       "      <td>12.6b</td>\n",
       "    </tr>\n",
       "  </tbody>\n",
       "</table>\n",
       "</div>"
      ],
      "text/plain": [
       "   Influence Score Followers Avg. Likes Posts Total Likes\n",
       "0               92    485.2m       8.7m  3.4k       29.1b\n",
       "1               91    370.7m       8.2m  7.0k       57.4b\n",
       "2               90    363.9m       6.7m   915        6.1b\n",
       "3               93    348.8m       6.1m  1.9k       11.4b\n",
       "4               91    339.4m       1.8m  6.8k       12.6b"
      ]
     },
     "execution_count": 4,
     "metadata": {},
     "output_type": "execute_result"
    }
   ],
   "source": [
    "df.info()\n",
    "df.head()"
   ]
  },
  {
   "cell_type": "code",
   "execution_count": 5,
   "id": "60a9fb6f",
   "metadata": {},
   "outputs": [],
   "source": [
    "# The four following kernels stips the lables away from the data in the columns and turns the data from an object to a float"
   ]
  },
  {
   "cell_type": "code",
   "execution_count": 6,
   "id": "c083fbd0",
   "metadata": {},
   "outputs": [],
   "source": [
    "df['Followers'] = df['Followers'].map(lambda x: x.lstrip('').rstrip('bmk'))\n",
    "df['Followers'] = df['Followers'].astype(float)"
   ]
  },
  {
   "cell_type": "code",
   "execution_count": 7,
   "id": "c5b3ca7e",
   "metadata": {},
   "outputs": [],
   "source": [
    "df['Avg. Likes'] = df['Avg. Likes'].map(lambda x: x.lstrip('').rstrip('bmk'))\n",
    "df['Avg. Likes'] = df['Avg. Likes'].astype(float)"
   ]
  },
  {
   "cell_type": "code",
   "execution_count": 8,
   "id": "db74d814",
   "metadata": {},
   "outputs": [],
   "source": [
    "df['Posts'] = df['Posts'].map(lambda x: x.lstrip('').rstrip('bmk'))\n",
    "df['Posts'] = df['Posts'].astype(float)"
   ]
  },
  {
   "cell_type": "code",
   "execution_count": 9,
   "id": "b2747bc3",
   "metadata": {},
   "outputs": [],
   "source": [
    "df['Total Likes'] = df['Total Likes'].map(lambda x: x.lstrip('').rstrip('bmk'))\n",
    "df['Total Likes'] = df['Total Likes'].astype(float)"
   ]
  },
  {
   "cell_type": "code",
   "execution_count": 10,
   "id": "4d3870d3",
   "metadata": {},
   "outputs": [
    {
     "name": "stdout",
     "output_type": "stream",
     "text": [
      "<class 'pandas.core.frame.DataFrame'>\n",
      "RangeIndex: 200 entries, 0 to 199\n",
      "Data columns (total 5 columns):\n",
      " #   Column           Non-Null Count  Dtype  \n",
      "---  ------           --------------  -----  \n",
      " 0   Influence Score  200 non-null    int64  \n",
      " 1   Followers        200 non-null    float64\n",
      " 2   Avg. Likes       200 non-null    float64\n",
      " 3   Posts            200 non-null    float64\n",
      " 4   Total Likes      200 non-null    float64\n",
      "dtypes: float64(4), int64(1)\n",
      "memory usage: 7.9 KB\n"
     ]
    },
    {
     "data": {
      "text/html": [
       "<div>\n",
       "<style scoped>\n",
       "    .dataframe tbody tr th:only-of-type {\n",
       "        vertical-align: middle;\n",
       "    }\n",
       "\n",
       "    .dataframe tbody tr th {\n",
       "        vertical-align: top;\n",
       "    }\n",
       "\n",
       "    .dataframe thead th {\n",
       "        text-align: right;\n",
       "    }\n",
       "</style>\n",
       "<table border=\"1\" class=\"dataframe\">\n",
       "  <thead>\n",
       "    <tr style=\"text-align: right;\">\n",
       "      <th></th>\n",
       "      <th>Influence Score</th>\n",
       "      <th>Followers</th>\n",
       "      <th>Avg. Likes</th>\n",
       "      <th>Posts</th>\n",
       "      <th>Total Likes</th>\n",
       "    </tr>\n",
       "  </thead>\n",
       "  <tbody>\n",
       "    <tr>\n",
       "      <th>0</th>\n",
       "      <td>92</td>\n",
       "      <td>485.2</td>\n",
       "      <td>8.7</td>\n",
       "      <td>3.4</td>\n",
       "      <td>29.1</td>\n",
       "    </tr>\n",
       "    <tr>\n",
       "      <th>1</th>\n",
       "      <td>91</td>\n",
       "      <td>370.7</td>\n",
       "      <td>8.2</td>\n",
       "      <td>7.0</td>\n",
       "      <td>57.4</td>\n",
       "    </tr>\n",
       "    <tr>\n",
       "      <th>2</th>\n",
       "      <td>90</td>\n",
       "      <td>363.9</td>\n",
       "      <td>6.7</td>\n",
       "      <td>915.0</td>\n",
       "      <td>6.1</td>\n",
       "    </tr>\n",
       "    <tr>\n",
       "      <th>3</th>\n",
       "      <td>93</td>\n",
       "      <td>348.8</td>\n",
       "      <td>6.1</td>\n",
       "      <td>1.9</td>\n",
       "      <td>11.4</td>\n",
       "    </tr>\n",
       "    <tr>\n",
       "      <th>4</th>\n",
       "      <td>91</td>\n",
       "      <td>339.4</td>\n",
       "      <td>1.8</td>\n",
       "      <td>6.8</td>\n",
       "      <td>12.6</td>\n",
       "    </tr>\n",
       "  </tbody>\n",
       "</table>\n",
       "</div>"
      ],
      "text/plain": [
       "   Influence Score  Followers  Avg. Likes  Posts  Total Likes\n",
       "0               92      485.2         8.7    3.4         29.1\n",
       "1               91      370.7         8.2    7.0         57.4\n",
       "2               90      363.9         6.7  915.0          6.1\n",
       "3               93      348.8         6.1    1.9         11.4\n",
       "4               91      339.4         1.8    6.8         12.6"
      ]
     },
     "execution_count": 10,
     "metadata": {},
     "output_type": "execute_result"
    }
   ],
   "source": [
    "df.info()\n",
    "df.head()"
   ]
  },
  {
   "cell_type": "code",
   "execution_count": 11,
   "id": "62f3a665",
   "metadata": {},
   "outputs": [],
   "source": [
    "# Since the labels are missing from this data we muliply the values so the current values are the same as the values when they were labeled"
   ]
  },
  {
   "cell_type": "code",
   "execution_count": 12,
   "id": "564bbe89",
   "metadata": {},
   "outputs": [],
   "source": [
    "df['Followers'] = df['Followers'].apply(lambda x: x*1000000)"
   ]
  },
  {
   "cell_type": "code",
   "execution_count": 13,
   "id": "1c6dc939",
   "metadata": {},
   "outputs": [],
   "source": [
    "df['Avg. Likes'] = df['Avg. Likes'].apply(lambda x: x*1000000)"
   ]
  },
  {
   "cell_type": "code",
   "execution_count": 14,
   "id": "3b62e4f9",
   "metadata": {},
   "outputs": [],
   "source": [
    "df['Posts'] = df['Posts'].apply(lambda x: x*1000000)"
   ]
  },
  {
   "cell_type": "code",
   "execution_count": 15,
   "id": "4d2e16e4",
   "metadata": {},
   "outputs": [],
   "source": [
    "df['Total Likes'] = df['Total Likes'].apply(lambda x: x*1000000)"
   ]
  },
  {
   "cell_type": "code",
   "execution_count": 16,
   "id": "055a17b9",
   "metadata": {},
   "outputs": [
    {
     "name": "stdout",
     "output_type": "stream",
     "text": [
      "<class 'pandas.core.frame.DataFrame'>\n",
      "RangeIndex: 200 entries, 0 to 199\n",
      "Data columns (total 5 columns):\n",
      " #   Column           Non-Null Count  Dtype  \n",
      "---  ------           --------------  -----  \n",
      " 0   Influence Score  200 non-null    int64  \n",
      " 1   Followers        200 non-null    float64\n",
      " 2   Avg. Likes       200 non-null    float64\n",
      " 3   Posts            200 non-null    float64\n",
      " 4   Total Likes      200 non-null    float64\n",
      "dtypes: float64(4), int64(1)\n",
      "memory usage: 7.9 KB\n"
     ]
    },
    {
     "data": {
      "text/html": [
       "<div>\n",
       "<style scoped>\n",
       "    .dataframe tbody tr th:only-of-type {\n",
       "        vertical-align: middle;\n",
       "    }\n",
       "\n",
       "    .dataframe tbody tr th {\n",
       "        vertical-align: top;\n",
       "    }\n",
       "\n",
       "    .dataframe thead th {\n",
       "        text-align: right;\n",
       "    }\n",
       "</style>\n",
       "<table border=\"1\" class=\"dataframe\">\n",
       "  <thead>\n",
       "    <tr style=\"text-align: right;\">\n",
       "      <th></th>\n",
       "      <th>Influence Score</th>\n",
       "      <th>Followers</th>\n",
       "      <th>Avg. Likes</th>\n",
       "      <th>Posts</th>\n",
       "      <th>Total Likes</th>\n",
       "    </tr>\n",
       "  </thead>\n",
       "  <tbody>\n",
       "    <tr>\n",
       "      <th>0</th>\n",
       "      <td>92</td>\n",
       "      <td>485200000.0</td>\n",
       "      <td>8700000.0</td>\n",
       "      <td>3400000.0</td>\n",
       "      <td>29100000.0</td>\n",
       "    </tr>\n",
       "    <tr>\n",
       "      <th>1</th>\n",
       "      <td>91</td>\n",
       "      <td>370700000.0</td>\n",
       "      <td>8200000.0</td>\n",
       "      <td>7000000.0</td>\n",
       "      <td>57400000.0</td>\n",
       "    </tr>\n",
       "    <tr>\n",
       "      <th>2</th>\n",
       "      <td>90</td>\n",
       "      <td>363900000.0</td>\n",
       "      <td>6700000.0</td>\n",
       "      <td>915000000.0</td>\n",
       "      <td>6100000.0</td>\n",
       "    </tr>\n",
       "    <tr>\n",
       "      <th>3</th>\n",
       "      <td>93</td>\n",
       "      <td>348800000.0</td>\n",
       "      <td>6100000.0</td>\n",
       "      <td>1900000.0</td>\n",
       "      <td>11400000.0</td>\n",
       "    </tr>\n",
       "    <tr>\n",
       "      <th>4</th>\n",
       "      <td>91</td>\n",
       "      <td>339400000.0</td>\n",
       "      <td>1800000.0</td>\n",
       "      <td>6800000.0</td>\n",
       "      <td>12600000.0</td>\n",
       "    </tr>\n",
       "  </tbody>\n",
       "</table>\n",
       "</div>"
      ],
      "text/plain": [
       "   Influence Score    Followers  Avg. Likes        Posts  Total Likes\n",
       "0               92  485200000.0   8700000.0    3400000.0   29100000.0\n",
       "1               91  370700000.0   8200000.0    7000000.0   57400000.0\n",
       "2               90  363900000.0   6700000.0  915000000.0    6100000.0\n",
       "3               93  348800000.0   6100000.0    1900000.0   11400000.0\n",
       "4               91  339400000.0   1800000.0    6800000.0   12600000.0"
      ]
     },
     "execution_count": 16,
     "metadata": {},
     "output_type": "execute_result"
    }
   ],
   "source": [
    "df.info()\n",
    "df.head()"
   ]
  },
  {
   "cell_type": "code",
   "execution_count": 17,
   "id": "fa42d169",
   "metadata": {},
   "outputs": [],
   "source": [
    "# Analysis of data through finding each columns mean, median, mode, min, max, count, sum, and their Pearson Correlation Coefficients"
   ]
  },
  {
   "cell_type": "code",
   "execution_count": 18,
   "id": "2d70d6ac",
   "metadata": {},
   "outputs": [
    {
     "data": {
      "text/plain": [
       "81.85"
      ]
     },
     "execution_count": 18,
     "metadata": {},
     "output_type": "execute_result"
    }
   ],
   "source": [
    "df['Influence Score'].mean()"
   ]
  },
  {
   "cell_type": "code",
   "execution_count": 19,
   "id": "87a121dd",
   "metadata": {},
   "outputs": [
    {
     "data": {
      "text/plain": [
       "84.0"
      ]
     },
     "execution_count": 19,
     "metadata": {},
     "output_type": "execute_result"
    }
   ],
   "source": [
    "df['Influence Score'].median()"
   ]
  },
  {
   "cell_type": "code",
   "execution_count": 20,
   "id": "ee9c9f31",
   "metadata": {},
   "outputs": [
    {
     "data": {
      "text/plain": [
       "0    85\n",
       "Name: Influence Score, dtype: int64"
      ]
     },
     "execution_count": 20,
     "metadata": {},
     "output_type": "execute_result"
    }
   ],
   "source": [
    "df['Influence Score'].mode()"
   ]
  },
  {
   "cell_type": "code",
   "execution_count": 21,
   "id": "84f246ba",
   "metadata": {},
   "outputs": [
    {
     "data": {
      "text/plain": [
       "22"
      ]
     },
     "execution_count": 21,
     "metadata": {},
     "output_type": "execute_result"
    }
   ],
   "source": [
    "df['Influence Score'].min()"
   ]
  },
  {
   "cell_type": "code",
   "execution_count": 22,
   "id": "6c2f8885",
   "metadata": {},
   "outputs": [
    {
     "data": {
      "text/plain": [
       "93"
      ]
     },
     "execution_count": 22,
     "metadata": {},
     "output_type": "execute_result"
    }
   ],
   "source": [
    "df['Influence Score'].max()"
   ]
  },
  {
   "cell_type": "code",
   "execution_count": 23,
   "id": "4e041b5f",
   "metadata": {},
   "outputs": [
    {
     "data": {
      "text/plain": [
       "200"
      ]
     },
     "execution_count": 23,
     "metadata": {},
     "output_type": "execute_result"
    }
   ],
   "source": [
    "df['Influence Score'].count()"
   ]
  },
  {
   "cell_type": "code",
   "execution_count": 24,
   "id": "4ae5cf8b",
   "metadata": {},
   "outputs": [
    {
     "data": {
      "text/plain": [
       "16370"
      ]
     },
     "execution_count": 24,
     "metadata": {},
     "output_type": "execute_result"
    }
   ],
   "source": [
    "df['Influence Score'].sum()"
   ]
  },
  {
   "cell_type": "code",
   "execution_count": 25,
   "id": "2b823e26",
   "metadata": {},
   "outputs": [
    {
     "data": {
      "text/plain": [
       "78491000.0"
      ]
     },
     "execution_count": 25,
     "metadata": {},
     "output_type": "execute_result"
    }
   ],
   "source": [
    "df['Followers'].mean()"
   ]
  },
  {
   "cell_type": "code",
   "execution_count": 26,
   "id": "18c4eac0",
   "metadata": {},
   "outputs": [
    {
     "data": {
      "text/plain": [
       "50950000.0"
      ]
     },
     "execution_count": 26,
     "metadata": {},
     "output_type": "execute_result"
    }
   ],
   "source": [
    "df['Followers'].median()"
   ]
  },
  {
   "cell_type": "code",
   "execution_count": 27,
   "id": "559bf47f",
   "metadata": {},
   "outputs": [
    {
     "data": {
      "text/plain": [
       "0    33600000.0\n",
       "1    33800000.0\n",
       "2    36000000.0\n",
       "3    52900000.0\n",
       "4    55100000.0\n",
       "5    68100000.0\n",
       "Name: Followers, dtype: float64"
      ]
     },
     "execution_count": 27,
     "metadata": {},
     "output_type": "execute_result"
    }
   ],
   "source": [
    "df['Followers'].mode()"
   ]
  },
  {
   "cell_type": "code",
   "execution_count": 28,
   "id": "566986bd",
   "metadata": {},
   "outputs": [
    {
     "data": {
      "text/plain": [
       "33400000.0"
      ]
     },
     "execution_count": 28,
     "metadata": {},
     "output_type": "execute_result"
    }
   ],
   "source": [
    "df['Followers'].min()"
   ]
  },
  {
   "cell_type": "code",
   "execution_count": 29,
   "id": "27a0768a",
   "metadata": {},
   "outputs": [
    {
     "data": {
      "text/plain": [
       "485200000.0"
      ]
     },
     "execution_count": 29,
     "metadata": {},
     "output_type": "execute_result"
    }
   ],
   "source": [
    "df['Followers'].max()"
   ]
  },
  {
   "cell_type": "code",
   "execution_count": 30,
   "id": "916a0756",
   "metadata": {},
   "outputs": [
    {
     "data": {
      "text/plain": [
       "200"
      ]
     },
     "execution_count": 30,
     "metadata": {},
     "output_type": "execute_result"
    }
   ],
   "source": [
    "df['Followers'].count()"
   ]
  },
  {
   "cell_type": "code",
   "execution_count": 31,
   "id": "f1569ff9",
   "metadata": {},
   "outputs": [
    {
     "data": {
      "text/plain": [
       "15698200000.0"
      ]
     },
     "execution_count": 31,
     "metadata": {},
     "output_type": "execute_result"
    }
   ],
   "source": [
    "df['Followers'].sum()"
   ]
  },
  {
   "cell_type": "code",
   "execution_count": 32,
   "id": "99b89bb6",
   "metadata": {},
   "outputs": [
    {
     "data": {
      "text/plain": [
       "231605000.0"
      ]
     },
     "execution_count": 32,
     "metadata": {},
     "output_type": "execute_result"
    }
   ],
   "source": [
    "df['Avg. Likes'].mean()"
   ]
  },
  {
   "cell_type": "code",
   "execution_count": 33,
   "id": "e1ebd2d4",
   "metadata": {},
   "outputs": [
    {
     "data": {
      "text/plain": [
       "7450000.0"
      ]
     },
     "execution_count": 33,
     "metadata": {},
     "output_type": "execute_result"
    }
   ],
   "source": [
    "df['Avg. Likes'].median()"
   ]
  },
  {
   "cell_type": "code",
   "execution_count": 34,
   "id": "21e52e00",
   "metadata": {},
   "outputs": [
    {
     "data": {
      "text/plain": [
       "0    1100000.0\n",
       "Name: Avg. Likes, dtype: float64"
      ]
     },
     "execution_count": 34,
     "metadata": {},
     "output_type": "execute_result"
    }
   ],
   "source": [
    "df['Avg. Likes'].mode()"
   ]
  },
  {
   "cell_type": "code",
   "execution_count": 35,
   "id": "1a0d8a73",
   "metadata": {},
   "outputs": [
    {
     "data": {
      "text/plain": [
       "1000000.0"
      ]
     },
     "execution_count": 35,
     "metadata": {},
     "output_type": "execute_result"
    }
   ],
   "source": [
    "df['Avg. Likes'].min()"
   ]
  },
  {
   "cell_type": "code",
   "execution_count": 36,
   "id": "58fa8272",
   "metadata": {},
   "outputs": [
    {
     "data": {
      "text/plain": [
       "989600000.0"
      ]
     },
     "execution_count": 36,
     "metadata": {},
     "output_type": "execute_result"
    }
   ],
   "source": [
    "df['Avg. Likes'].max()"
   ]
  },
  {
   "cell_type": "code",
   "execution_count": 37,
   "id": "c56a3499",
   "metadata": {},
   "outputs": [
    {
     "data": {
      "text/plain": [
       "200"
      ]
     },
     "execution_count": 37,
     "metadata": {},
     "output_type": "execute_result"
    }
   ],
   "source": [
    "df['Avg. Likes'].count()"
   ]
  },
  {
   "cell_type": "code",
   "execution_count": 38,
   "id": "75f67319",
   "metadata": {},
   "outputs": [
    {
     "data": {
      "text/plain": [
       "46321000000.0"
      ]
     },
     "execution_count": 38,
     "metadata": {},
     "output_type": "execute_result"
    }
   ],
   "source": [
    "df['Avg. Likes'].sum()"
   ]
  },
  {
   "cell_type": "code",
   "execution_count": 39,
   "id": "e2f3a3cf",
   "metadata": {},
   "outputs": [
    {
     "data": {
      "text/plain": [
       "147241500.0"
      ]
     },
     "execution_count": 39,
     "metadata": {},
     "output_type": "execute_result"
    }
   ],
   "source": [
    "df['Posts'].mean()"
   ]
  },
  {
   "cell_type": "code",
   "execution_count": 40,
   "id": "c432fab1",
   "metadata": {},
   "outputs": [
    {
     "data": {
      "text/plain": [
       "147241500.0"
      ]
     },
     "execution_count": 40,
     "metadata": {},
     "output_type": "execute_result"
    }
   ],
   "source": [
    "df['Posts'].mean()"
   ]
  },
  {
   "cell_type": "code",
   "execution_count": 41,
   "id": "5c3d70be",
   "metadata": {},
   "outputs": [
    {
     "data": {
      "text/plain": [
       "5300000.0"
      ]
     },
     "execution_count": 41,
     "metadata": {},
     "output_type": "execute_result"
    }
   ],
   "source": [
    "df['Posts'].median()"
   ]
  },
  {
   "cell_type": "code",
   "execution_count": 42,
   "id": "a4293a17",
   "metadata": {},
   "outputs": [
    {
     "data": {
      "text/plain": [
       "0    10000000.0\n",
       "Name: Posts, dtype: float64"
      ]
     },
     "execution_count": 42,
     "metadata": {},
     "output_type": "execute_result"
    }
   ],
   "source": [
    "df['Posts'].mode()"
   ]
  },
  {
   "cell_type": "code",
   "execution_count": 43,
   "id": "8ad4762e",
   "metadata": {},
   "outputs": [
    {
     "data": {
      "text/plain": [
       "1000000.0"
      ]
     },
     "execution_count": 43,
     "metadata": {},
     "output_type": "execute_result"
    }
   ],
   "source": [
    "df['Posts'].min()"
   ]
  },
  {
   "cell_type": "code",
   "execution_count": 44,
   "id": "377d97b6",
   "metadata": {},
   "outputs": [
    {
     "data": {
      "text/plain": [
       "992000000.0"
      ]
     },
     "execution_count": 44,
     "metadata": {},
     "output_type": "execute_result"
    }
   ],
   "source": [
    "df['Posts'].max()"
   ]
  },
  {
   "cell_type": "code",
   "execution_count": 45,
   "id": "195bb194",
   "metadata": {},
   "outputs": [
    {
     "data": {
      "text/plain": [
       "200"
      ]
     },
     "execution_count": 45,
     "metadata": {},
     "output_type": "execute_result"
    }
   ],
   "source": [
    "df['Posts'].count()"
   ]
  },
  {
   "cell_type": "code",
   "execution_count": 46,
   "id": "7102189e",
   "metadata": {},
   "outputs": [
    {
     "data": {
      "text/plain": [
       "29448300000.0"
      ]
     },
     "execution_count": 46,
     "metadata": {},
     "output_type": "execute_result"
    }
   ],
   "source": [
    "df['Posts'].sum()"
   ]
  },
  {
   "cell_type": "code",
   "execution_count": 47,
   "id": "3428a0c5",
   "metadata": {},
   "outputs": [
    {
     "data": {
      "text/plain": [
       "133963500.0"
      ]
     },
     "execution_count": 47,
     "metadata": {},
     "output_type": "execute_result"
    }
   ],
   "source": [
    "df['Total Likes'].mean()"
   ]
  },
  {
   "cell_type": "code",
   "execution_count": 48,
   "id": "c63038ec",
   "metadata": {},
   "outputs": [
    {
     "data": {
      "text/plain": [
       "3800000.0"
      ]
     },
     "execution_count": 48,
     "metadata": {},
     "output_type": "execute_result"
    }
   ],
   "source": [
    "df['Total Likes'].median()"
   ]
  },
  {
   "cell_type": "code",
   "execution_count": 49,
   "id": "3860a82c",
   "metadata": {},
   "outputs": [
    {
     "data": {
      "text/plain": [
       "0    1500000.0\n",
       "Name: Total Likes, dtype: float64"
      ]
     },
     "execution_count": 49,
     "metadata": {},
     "output_type": "execute_result"
    }
   ],
   "source": [
    "df['Total Likes'].mode()"
   ]
  },
  {
   "cell_type": "code",
   "execution_count": 50,
   "id": "a46721f3",
   "metadata": {},
   "outputs": [
    {
     "data": {
      "text/plain": [
       "1000000.0"
      ]
     },
     "execution_count": 50,
     "metadata": {},
     "output_type": "execute_result"
    }
   ],
   "source": [
    "df['Total Likes'].min()"
   ]
  },
  {
   "cell_type": "code",
   "execution_count": 51,
   "id": "fbc719ce",
   "metadata": {},
   "outputs": [
    {
     "data": {
      "text/plain": [
       "958900000.0"
      ]
     },
     "execution_count": 51,
     "metadata": {},
     "output_type": "execute_result"
    }
   ],
   "source": [
    "df['Total Likes'].max()"
   ]
  },
  {
   "cell_type": "code",
   "execution_count": 52,
   "id": "eedff92b",
   "metadata": {},
   "outputs": [
    {
     "data": {
      "text/plain": [
       "200"
      ]
     },
     "execution_count": 52,
     "metadata": {},
     "output_type": "execute_result"
    }
   ],
   "source": [
    "df['Total Likes'].count()"
   ]
  },
  {
   "cell_type": "code",
   "execution_count": 53,
   "id": "fdea308d",
   "metadata": {},
   "outputs": [
    {
     "data": {
      "text/plain": [
       "26792700000.0"
      ]
     },
     "execution_count": 53,
     "metadata": {},
     "output_type": "execute_result"
    }
   ],
   "source": [
    "df['Total Likes'].sum()"
   ]
  },
  {
   "cell_type": "code",
   "execution_count": 54,
   "id": "7669aee7",
   "metadata": {
    "scrolled": true
   },
   "outputs": [
    {
     "data": {
      "text/html": [
       "<div>\n",
       "<style scoped>\n",
       "    .dataframe tbody tr th:only-of-type {\n",
       "        vertical-align: middle;\n",
       "    }\n",
       "\n",
       "    .dataframe tbody tr th {\n",
       "        vertical-align: top;\n",
       "    }\n",
       "\n",
       "    .dataframe thead th {\n",
       "        text-align: right;\n",
       "    }\n",
       "</style>\n",
       "<table border=\"1\" class=\"dataframe\">\n",
       "  <thead>\n",
       "    <tr style=\"text-align: right;\">\n",
       "      <th></th>\n",
       "      <th>Influence Score</th>\n",
       "      <th>Followers</th>\n",
       "      <th>Avg. Likes</th>\n",
       "      <th>Posts</th>\n",
       "      <th>Total Likes</th>\n",
       "    </tr>\n",
       "  </thead>\n",
       "  <tbody>\n",
       "    <tr>\n",
       "      <th>Influence Score</th>\n",
       "      <td>1.000000</td>\n",
       "      <td>0.365428</td>\n",
       "      <td>-0.055406</td>\n",
       "      <td>-0.101800</td>\n",
       "      <td>-0.039814</td>\n",
       "    </tr>\n",
       "    <tr>\n",
       "      <th>Followers</th>\n",
       "      <td>0.365428</td>\n",
       "      <td>1.000000</td>\n",
       "      <td>-0.222745</td>\n",
       "      <td>-0.016959</td>\n",
       "      <td>-0.194437</td>\n",
       "    </tr>\n",
       "    <tr>\n",
       "      <th>Avg. Likes</th>\n",
       "      <td>-0.055406</td>\n",
       "      <td>-0.222745</td>\n",
       "      <td>1.000000</td>\n",
       "      <td>-0.083036</td>\n",
       "      <td>0.076673</td>\n",
       "    </tr>\n",
       "    <tr>\n",
       "      <th>Posts</th>\n",
       "      <td>-0.101800</td>\n",
       "      <td>-0.016959</td>\n",
       "      <td>-0.083036</td>\n",
       "      <td>1.000000</td>\n",
       "      <td>0.298826</td>\n",
       "    </tr>\n",
       "    <tr>\n",
       "      <th>Total Likes</th>\n",
       "      <td>-0.039814</td>\n",
       "      <td>-0.194437</td>\n",
       "      <td>0.076673</td>\n",
       "      <td>0.298826</td>\n",
       "      <td>1.000000</td>\n",
       "    </tr>\n",
       "  </tbody>\n",
       "</table>\n",
       "</div>"
      ],
      "text/plain": [
       "                 Influence Score  Followers  Avg. Likes     Posts  Total Likes\n",
       "Influence Score         1.000000   0.365428   -0.055406 -0.101800    -0.039814\n",
       "Followers               0.365428   1.000000   -0.222745 -0.016959    -0.194437\n",
       "Avg. Likes             -0.055406  -0.222745    1.000000 -0.083036     0.076673\n",
       "Posts                  -0.101800  -0.016959   -0.083036  1.000000     0.298826\n",
       "Total Likes            -0.039814  -0.194437    0.076673  0.298826     1.000000"
      ]
     },
     "execution_count": 54,
     "metadata": {},
     "output_type": "execute_result"
    }
   ],
   "source": [
    "df.corr()"
   ]
  },
  {
   "cell_type": "code",
   "execution_count": 55,
   "id": "30eaae56",
   "metadata": {},
   "outputs": [
    {
     "name": "stdout",
     "output_type": "stream",
     "text": [
      "<class 'pandas.core.frame.DataFrame'>\n",
      "RangeIndex: 200 entries, 0 to 199\n",
      "Data columns (total 5 columns):\n",
      " #   Column           Non-Null Count  Dtype  \n",
      "---  ------           --------------  -----  \n",
      " 0   Influence Score  200 non-null    int64  \n",
      " 1   Followers        200 non-null    float64\n",
      " 2   Avg. Likes       200 non-null    float64\n",
      " 3   Posts            200 non-null    float64\n",
      " 4   Total Likes      200 non-null    float64\n",
      "dtypes: float64(4), int64(1)\n",
      "memory usage: 7.9 KB\n"
     ]
    },
    {
     "data": {
      "text/html": [
       "<div>\n",
       "<style scoped>\n",
       "    .dataframe tbody tr th:only-of-type {\n",
       "        vertical-align: middle;\n",
       "    }\n",
       "\n",
       "    .dataframe tbody tr th {\n",
       "        vertical-align: top;\n",
       "    }\n",
       "\n",
       "    .dataframe thead th {\n",
       "        text-align: right;\n",
       "    }\n",
       "</style>\n",
       "<table border=\"1\" class=\"dataframe\">\n",
       "  <thead>\n",
       "    <tr style=\"text-align: right;\">\n",
       "      <th></th>\n",
       "      <th>Influence Score</th>\n",
       "      <th>Followers</th>\n",
       "      <th>Avg. Likes</th>\n",
       "      <th>Posts</th>\n",
       "      <th>Total Likes</th>\n",
       "    </tr>\n",
       "  </thead>\n",
       "  <tbody>\n",
       "    <tr>\n",
       "      <th>0</th>\n",
       "      <td>92</td>\n",
       "      <td>485200000.0</td>\n",
       "      <td>8700000.0</td>\n",
       "      <td>3400000.0</td>\n",
       "      <td>29100000.0</td>\n",
       "    </tr>\n",
       "    <tr>\n",
       "      <th>1</th>\n",
       "      <td>91</td>\n",
       "      <td>370700000.0</td>\n",
       "      <td>8200000.0</td>\n",
       "      <td>7000000.0</td>\n",
       "      <td>57400000.0</td>\n",
       "    </tr>\n",
       "    <tr>\n",
       "      <th>2</th>\n",
       "      <td>90</td>\n",
       "      <td>363900000.0</td>\n",
       "      <td>6700000.0</td>\n",
       "      <td>915000000.0</td>\n",
       "      <td>6100000.0</td>\n",
       "    </tr>\n",
       "    <tr>\n",
       "      <th>3</th>\n",
       "      <td>93</td>\n",
       "      <td>348800000.0</td>\n",
       "      <td>6100000.0</td>\n",
       "      <td>1900000.0</td>\n",
       "      <td>11400000.0</td>\n",
       "    </tr>\n",
       "    <tr>\n",
       "      <th>4</th>\n",
       "      <td>91</td>\n",
       "      <td>339400000.0</td>\n",
       "      <td>1800000.0</td>\n",
       "      <td>6800000.0</td>\n",
       "      <td>12600000.0</td>\n",
       "    </tr>\n",
       "  </tbody>\n",
       "</table>\n",
       "</div>"
      ],
      "text/plain": [
       "   Influence Score    Followers  Avg. Likes        Posts  Total Likes\n",
       "0               92  485200000.0   8700000.0    3400000.0   29100000.0\n",
       "1               91  370700000.0   8200000.0    7000000.0   57400000.0\n",
       "2               90  363900000.0   6700000.0  915000000.0    6100000.0\n",
       "3               93  348800000.0   6100000.0    1900000.0   11400000.0\n",
       "4               91  339400000.0   1800000.0    6800000.0   12600000.0"
      ]
     },
     "execution_count": 55,
     "metadata": {},
     "output_type": "execute_result"
    }
   ],
   "source": [
    "df.info()\n",
    "df.head()"
   ]
  },
  {
   "cell_type": "code",
   "execution_count": 56,
   "id": "d064750b",
   "metadata": {},
   "outputs": [],
   "source": [
    "# Uses seaborn to plot the regression model between the four different relationships between inluence score and one of the other columns"
   ]
  },
  {
   "cell_type": "code",
   "execution_count": 57,
   "id": "2328c0ba",
   "metadata": {},
   "outputs": [
    {
     "data": {
      "text/plain": [
       "<AxesSubplot:xlabel='Followers', ylabel='Influence Score'>"
      ]
     },
     "execution_count": 57,
     "metadata": {},
     "output_type": "execute_result"
    },
    {
     "data": {
      "image/png": "[encoded data removed]",
      "text/plain": [
       "<Figure size 432x288 with 1 Axes>"
      ]
     },
     "metadata": {
      "needs_background": "light"
     },
     "output_type": "display_data"
    }
   ],
   "source": [
    "sns.regplot(x=df['Followers'], y=df['Influence Score'])"
   ]
  },
  {
   "cell_type": "code",
   "execution_count": 58,
   "id": "eb00eb0e",
   "metadata": {},
   "outputs": [
    {
     "data": {
      "text/plain": [
       "<AxesSubplot:xlabel='Avg. Likes', ylabel='Influence Score'>"
      ]
     },
     "execution_count": 58,
     "metadata": {},
     "output_type": "execute_result"
    },
    {
     "data": {
      "image/png": "[encoded data removed]",
      "text/plain": [
       "<Figure size 432x288 with 1 Axes>"
      ]
     },
     "metadata": {
      "needs_background": "light"
     },
     "output_type": "display_data"
    }
   ],
   "source": [
    "sns.regplot(x=df['Avg. Likes'], y=df['Influence Score'])"
   ]
  },
  {
   "cell_type": "code",
   "execution_count": 59,
   "id": "87780aed",
   "metadata": {},
   "outputs": [
    {
     "data": {
      "text/plain": [
       "<AxesSubplot:xlabel='Posts', ylabel='Influence Score'>"
      ]
     },
     "execution_count": 59,
     "metadata": {},
     "output_type": "execute_result"
    },
    {
     "data": {
      "image/png": "[encoded data removed]",
      "text/plain": [
       "<Figure size 432x288 with 1 Axes>"
      ]
     },
     "metadata": {
      "needs_background": "light"
     },
     "output_type": "display_data"
    }
   ],
   "source": [
    "sns.regplot(x=df['Posts'], y=df['Influence Score'])"
   ]
  },
  {
   "cell_type": "code",
   "execution_count": 60,
   "id": "0e2fd71d",
   "metadata": {},
   "outputs": [
    {
     "data": {
      "text/plain": [
       "<AxesSubplot:xlabel='Total Likes', ylabel='Influence Score'>"
      ]
     },
     "execution_count": 60,
     "metadata": {},
     "output_type": "execute_result"
    },
    {
     "data": {
      "image/png": "[encoded data removed]",
      "text/plain": [
       "<Figure size 432x288 with 1 Axes>"
      ]
     },
     "metadata": {
      "needs_background": "light"
     },
     "output_type": "display_data"
    }
   ],
   "source": [
    "sns.regplot(x=df['Total Likes'], y=df['Influence Score'])"
   ]
  }
 ],
 "metadata": {
  "kernelspec": {
   "display_name": "Python 3 (ipykernel)",
   "language": "python",
   "name": "python3"
  },
  "language_info": {
   "codemirror_mode": {
    "name": "ipython",
    "version": 3
   },
   "file_extension": ".py",
   "mimetype": "text/x-python",
   "name": "python",
   "nbconvert_exporter": "python",
   "pygments_lexer": "ipython3",
   "version": "3.9.12"
  }
 },
 "nbformat": 4,
 "nbformat_minor": 5
}
