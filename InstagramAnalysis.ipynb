{
 "cells": [
  {
   "cell_type": "code",
   "execution_count": 1,
   "id": "1fbe7f87",
   "metadata": {
    "scrolled": true
   },
   "outputs": [],
   "source": [
    "import pandas as pd\n",
    "import seaborn as sns\n",
    "\n",
    "df = pd.read_csv('Top_Influencers.csv')\n",
    "\n",
    "#print(df)"
   ]
  },
  {
   "cell_type": "code",
   "execution_count": 2,
   "id": "b611719b",
   "metadata": {},
   "outputs": [],
   "source": [
    "# df.info()\n",
    "# df.head()"
   ]
  },
  {
   "cell_type": "code",
   "execution_count": 3,
   "id": "f7cfeab6",
   "metadata": {},
   "outputs": [],
   "source": [
    "df = df.dropna()"
   ]
  },
  {
   "cell_type": "code",
   "execution_count": 4,
   "id": "a76e2a07",
   "metadata": {},
   "outputs": [],
   "source": [
    "# df.info()\n",
    "# df.head()"
   ]
  },
  {
   "cell_type": "code",
   "execution_count": 5,
   "id": "3cb4d45a",
   "metadata": {},
   "outputs": [],
   "source": [
    "df = df.drop(columns = ['Channel Info', 'Country Or Region','New Post Avg. Likes', '60-Day Eng Rate', 'Rank'])"
   ]
  },
  {
   "cell_type": "code",
   "execution_count": 6,
   "id": "1a54b8b8",
   "metadata": {},
   "outputs": [],
   "source": [
    "# df.info()\n",
    "# df.head()"
   ]
  },
  {
   "cell_type": "code",
   "execution_count": 7,
   "id": "c083fbd0",
   "metadata": {},
   "outputs": [],
   "source": [
    "df['Followers'] = df['Followers'].map(lambda x: x.lstrip('').rstrip('bmk'))\n",
    "df['Followers'] = df['Followers'].astype(float)"
   ]
  },
  {
   "cell_type": "code",
   "execution_count": 8,
   "id": "c5b3ca7e",
   "metadata": {},
   "outputs": [],
   "source": [
    "df['Avg. Likes'] = df['Avg. Likes'].map(lambda x: x.lstrip('').rstrip('bmk'))\n",
    "df['Avg. Likes'] = df['Avg. Likes'].astype(float)"
   ]
  },
  {
   "cell_type": "code",
   "execution_count": 9,
   "id": "db74d814",
   "metadata": {},
   "outputs": [],
   "source": [
    "df['Posts'] = df['Posts'].map(lambda x: x.lstrip('').rstrip('bmk'))\n",
    "df['Posts'] = df['Posts'].astype(float)"
   ]
  },
  {
   "cell_type": "code",
   "execution_count": 10,
   "id": "b2747bc3",
   "metadata": {},
   "outputs": [],
   "source": [
    "df['Total Likes'] = df['Total Likes'].map(lambda x: x.lstrip('').rstrip('bmk'))\n",
    "df['Total Likes'] = df['Total Likes'].astype(float)"
   ]
  },
  {
   "cell_type": "code",
   "execution_count": 11,
   "id": "4d3870d3",
   "metadata": {},
   "outputs": [],
   "source": [
    "# df.info()\n",
    "# df.head()"
   ]
  },
  {
   "cell_type": "code",
   "execution_count": 12,
   "id": "564bbe89",
   "metadata": {},
   "outputs": [],
   "source": [
    "df['Followers'] = df['Followers'].apply(lambda x: x*1000000)"
   ]
  },
  {
   "cell_type": "code",
   "execution_count": 13,
   "id": "1c6dc939",
   "metadata": {},
   "outputs": [],
   "source": [
    "df['Avg. Likes'] = df['Avg. Likes'].apply(lambda x: x*1000000)"
   ]
  },
  {
   "cell_type": "code",
   "execution_count": 14,
   "id": "3b62e4f9",
   "metadata": {},
   "outputs": [],
   "source": [
    "df['Posts'] = df['Posts'].apply(lambda x: x*1000000)"
   ]
  },
  {
   "cell_type": "code",
   "execution_count": 15,
   "id": "4d2e16e4",
   "metadata": {},
   "outputs": [],
   "source": [
    "df['Total Likes'] = df['Total Likes'].apply(lambda x: x*1000000)"
   ]
  },
  {
   "cell_type": "code",
   "execution_count": 16,
   "id": "055a17b9",
   "metadata": {},
   "outputs": [],
   "source": [
    "# df.info()\n",
    "# df.head()"
   ]
  },
  {
   "cell_type": "code",
   "execution_count": 17,
   "id": "2d70d6ac",
   "metadata": {},
   "outputs": [
    {
     "data": {
      "text/plain": [
       "81.67883211678833"
      ]
     },
     "execution_count": 17,
     "metadata": {},
     "output_type": "execute_result"
    }
   ],
   "source": [
    "df['Influence Score'].mean()"
   ]
  },
  {
   "cell_type": "code",
   "execution_count": 18,
   "id": "87a121dd",
   "metadata": {},
   "outputs": [
    {
     "data": {
      "text/plain": [
       "83.0"
      ]
     },
     "execution_count": 18,
     "metadata": {},
     "output_type": "execute_result"
    }
   ],
   "source": [
    "df['Influence Score'].median()"
   ]
  },
  {
   "cell_type": "code",
   "execution_count": 19,
   "id": "ee9c9f31",
   "metadata": {},
   "outputs": [
    {
     "data": {
      "text/plain": [
       "0    85\n",
       "Name: Influence Score, dtype: int64"
      ]
     },
     "execution_count": 19,
     "metadata": {},
     "output_type": "execute_result"
    }
   ],
   "source": [
    "df['Influence Score'].mode()"
   ]
  },
  {
   "cell_type": "code",
   "execution_count": 20,
   "id": "84f246ba",
   "metadata": {},
   "outputs": [
    {
     "data": {
      "text/plain": [
       "41"
      ]
     },
     "execution_count": 20,
     "metadata": {},
     "output_type": "execute_result"
    }
   ],
   "source": [
    "df['Influence Score'].min()"
   ]
  },
  {
   "cell_type": "code",
   "execution_count": 21,
   "id": "6c2f8885",
   "metadata": {},
   "outputs": [
    {
     "data": {
      "text/plain": [
       "93"
      ]
     },
     "execution_count": 21,
     "metadata": {},
     "output_type": "execute_result"
    }
   ],
   "source": [
    "df['Influence Score'].max()"
   ]
  },
  {
   "cell_type": "code",
   "execution_count": 22,
   "id": "4e041b5f",
   "metadata": {},
   "outputs": [
    {
     "data": {
      "text/plain": [
       "137"
      ]
     },
     "execution_count": 22,
     "metadata": {},
     "output_type": "execute_result"
    }
   ],
   "source": [
    "df['Influence Score'].count()"
   ]
  },
  {
   "cell_type": "code",
   "execution_count": 23,
   "id": "4ae5cf8b",
   "metadata": {},
   "outputs": [
    {
     "data": {
      "text/plain": [
       "11190"
      ]
     },
     "execution_count": 23,
     "metadata": {},
     "output_type": "execute_result"
    }
   ],
   "source": [
    "df['Influence Score'].sum()"
   ]
  },
  {
   "cell_type": "code",
   "execution_count": 24,
   "id": "2b823e26",
   "metadata": {},
   "outputs": [
    {
     "data": {
      "text/plain": [
       "85201459.8540146"
      ]
     },
     "execution_count": 24,
     "metadata": {},
     "output_type": "execute_result"
    }
   ],
   "source": [
    "df['Followers'].mean()"
   ]
  },
  {
   "cell_type": "code",
   "execution_count": 25,
   "id": "18c4eac0",
   "metadata": {},
   "outputs": [
    {
     "data": {
      "text/plain": [
       "53300000.0"
      ]
     },
     "execution_count": 25,
     "metadata": {},
     "output_type": "execute_result"
    }
   ],
   "source": [
    "df['Followers'].median()"
   ]
  },
  {
   "cell_type": "code",
   "execution_count": 26,
   "id": "559bf47f",
   "metadata": {},
   "outputs": [
    {
     "data": {
      "text/plain": [
       "0    33600000.0\n",
       "Name: Followers, dtype: float64"
      ]
     },
     "execution_count": 26,
     "metadata": {},
     "output_type": "execute_result"
    }
   ],
   "source": [
    "df['Followers'].mode()"
   ]
  },
  {
   "cell_type": "code",
   "execution_count": 27,
   "id": "566986bd",
   "metadata": {},
   "outputs": [
    {
     "data": {
      "text/plain": [
       "33400000.0"
      ]
     },
     "execution_count": 27,
     "metadata": {},
     "output_type": "execute_result"
    }
   ],
   "source": [
    "df['Followers'].min()"
   ]
  },
  {
   "cell_type": "code",
   "execution_count": 28,
   "id": "27a0768a",
   "metadata": {},
   "outputs": [
    {
     "data": {
      "text/plain": [
       "485200000.0"
      ]
     },
     "execution_count": 28,
     "metadata": {},
     "output_type": "execute_result"
    }
   ],
   "source": [
    "df['Followers'].max()"
   ]
  },
  {
   "cell_type": "code",
   "execution_count": 29,
   "id": "916a0756",
   "metadata": {},
   "outputs": [
    {
     "data": {
      "text/plain": [
       "137"
      ]
     },
     "execution_count": 29,
     "metadata": {},
     "output_type": "execute_result"
    }
   ],
   "source": [
    "df['Followers'].count()"
   ]
  },
  {
   "cell_type": "code",
   "execution_count": 30,
   "id": "f1569ff9",
   "metadata": {},
   "outputs": [
    {
     "data": {
      "text/plain": [
       "11672600000.0"
      ]
     },
     "execution_count": 30,
     "metadata": {},
     "output_type": "execute_result"
    }
   ],
   "source": [
    "df['Followers'].sum()"
   ]
  },
  {
   "cell_type": "code",
   "execution_count": 31,
   "id": "99b89bb6",
   "metadata": {},
   "outputs": [
    {
     "data": {
      "text/plain": [
       "227971532.84671533"
      ]
     },
     "execution_count": 31,
     "metadata": {},
     "output_type": "execute_result"
    }
   ],
   "source": [
    "df['Avg. Likes'].mean()"
   ]
  },
  {
   "cell_type": "code",
   "execution_count": 32,
   "id": "e1ebd2d4",
   "metadata": {},
   "outputs": [
    {
     "data": {
      "text/plain": [
       "8199999.999999999"
      ]
     },
     "execution_count": 32,
     "metadata": {},
     "output_type": "execute_result"
    }
   ],
   "source": [
    "df['Avg. Likes'].median()"
   ]
  },
  {
   "cell_type": "code",
   "execution_count": 33,
   "id": "21e52e00",
   "metadata": {},
   "outputs": [
    {
     "data": {
      "text/plain": [
       "0    1400000.0\n",
       "Name: Avg. Likes, dtype: float64"
      ]
     },
     "execution_count": 33,
     "metadata": {},
     "output_type": "execute_result"
    }
   ],
   "source": [
    "df['Avg. Likes'].mode()"
   ]
  },
  {
   "cell_type": "code",
   "execution_count": 34,
   "id": "1a0d8a73",
   "metadata": {},
   "outputs": [
    {
     "data": {
      "text/plain": [
       "1000000.0"
      ]
     },
     "execution_count": 34,
     "metadata": {},
     "output_type": "execute_result"
    }
   ],
   "source": [
    "df['Avg. Likes'].min()"
   ]
  },
  {
   "cell_type": "code",
   "execution_count": 35,
   "id": "58fa8272",
   "metadata": {},
   "outputs": [
    {
     "data": {
      "text/plain": [
       "989600000.0"
      ]
     },
     "execution_count": 35,
     "metadata": {},
     "output_type": "execute_result"
    }
   ],
   "source": [
    "df['Avg. Likes'].max()"
   ]
  },
  {
   "cell_type": "code",
   "execution_count": 36,
   "id": "c56a3499",
   "metadata": {},
   "outputs": [
    {
     "data": {
      "text/plain": [
       "137"
      ]
     },
     "execution_count": 36,
     "metadata": {},
     "output_type": "execute_result"
    }
   ],
   "source": [
    "df['Avg. Likes'].count()"
   ]
  },
  {
   "cell_type": "code",
   "execution_count": 37,
   "id": "75f67319",
   "metadata": {},
   "outputs": [
    {
     "data": {
      "text/plain": [
       "31232100000.0"
      ]
     },
     "execution_count": 37,
     "metadata": {},
     "output_type": "execute_result"
    }
   ],
   "source": [
    "df['Avg. Likes'].sum()"
   ]
  },
  {
   "cell_type": "code",
   "execution_count": 38,
   "id": "e2f3a3cf",
   "metadata": {},
   "outputs": [
    {
     "data": {
      "text/plain": [
       "104578832.11678833"
      ]
     },
     "execution_count": 38,
     "metadata": {},
     "output_type": "execute_result"
    }
   ],
   "source": [
    "df['Posts'].mean()"
   ]
  },
  {
   "cell_type": "code",
   "execution_count": 39,
   "id": "c432fab1",
   "metadata": {},
   "outputs": [
    {
     "data": {
      "text/plain": [
       "104578832.11678833"
      ]
     },
     "execution_count": 39,
     "metadata": {},
     "output_type": "execute_result"
    }
   ],
   "source": [
    "df['Posts'].mean()"
   ]
  },
  {
   "cell_type": "code",
   "execution_count": 40,
   "id": "5c3d70be",
   "metadata": {},
   "outputs": [
    {
     "data": {
      "text/plain": [
       "5100000.0"
      ]
     },
     "execution_count": 40,
     "metadata": {},
     "output_type": "execute_result"
    }
   ],
   "source": [
    "df['Posts'].median()"
   ]
  },
  {
   "cell_type": "code",
   "execution_count": 41,
   "id": "a4293a17",
   "metadata": {},
   "outputs": [
    {
     "data": {
      "text/plain": [
       "0    10000000.0\n",
       "Name: Posts, dtype: float64"
      ]
     },
     "execution_count": 41,
     "metadata": {},
     "output_type": "execute_result"
    }
   ],
   "source": [
    "df['Posts'].mode()"
   ]
  },
  {
   "cell_type": "code",
   "execution_count": 42,
   "id": "8ad4762e",
   "metadata": {},
   "outputs": [
    {
     "data": {
      "text/plain": [
       "1000000.0"
      ]
     },
     "execution_count": 42,
     "metadata": {},
     "output_type": "execute_result"
    }
   ],
   "source": [
    "df['Posts'].min()"
   ]
  },
  {
   "cell_type": "code",
   "execution_count": 43,
   "id": "377d97b6",
   "metadata": {},
   "outputs": [
    {
     "data": {
      "text/plain": [
       "973000000.0"
      ]
     },
     "execution_count": 43,
     "metadata": {},
     "output_type": "execute_result"
    }
   ],
   "source": [
    "df['Posts'].max()"
   ]
  },
  {
   "cell_type": "code",
   "execution_count": 44,
   "id": "195bb194",
   "metadata": {},
   "outputs": [
    {
     "data": {
      "text/plain": [
       "137"
      ]
     },
     "execution_count": 44,
     "metadata": {},
     "output_type": "execute_result"
    }
   ],
   "source": [
    "df['Posts'].count()"
   ]
  },
  {
   "cell_type": "code",
   "execution_count": 45,
   "id": "7102189e",
   "metadata": {},
   "outputs": [
    {
     "data": {
      "text/plain": [
       "14327300000.0"
      ]
     },
     "execution_count": 45,
     "metadata": {},
     "output_type": "execute_result"
    }
   ],
   "source": [
    "df['Posts'].sum()"
   ]
  },
  {
   "cell_type": "code",
   "execution_count": 46,
   "id": "3428a0c5",
   "metadata": {},
   "outputs": [
    {
     "data": {
      "text/plain": [
       "107554744.52554744"
      ]
     },
     "execution_count": 46,
     "metadata": {},
     "output_type": "execute_result"
    }
   ],
   "source": [
    "df['Total Likes'].mean()"
   ]
  },
  {
   "cell_type": "code",
   "execution_count": 47,
   "id": "c63038ec",
   "metadata": {},
   "outputs": [
    {
     "data": {
      "text/plain": [
       "3800000.0"
      ]
     },
     "execution_count": 47,
     "metadata": {},
     "output_type": "execute_result"
    }
   ],
   "source": [
    "df['Total Likes'].median()"
   ]
  },
  {
   "cell_type": "code",
   "execution_count": 48,
   "id": "3860a82c",
   "metadata": {},
   "outputs": [
    {
     "data": {
      "text/plain": [
       "0    1500000.0\n",
       "1    1800000.0\n",
       "Name: Total Likes, dtype: float64"
      ]
     },
     "execution_count": 48,
     "metadata": {},
     "output_type": "execute_result"
    }
   ],
   "source": [
    "df['Total Likes'].mode()"
   ]
  },
  {
   "cell_type": "code",
   "execution_count": 49,
   "id": "a46721f3",
   "metadata": {},
   "outputs": [
    {
     "data": {
      "text/plain": [
       "1000000.0"
      ]
     },
     "execution_count": 49,
     "metadata": {},
     "output_type": "execute_result"
    }
   ],
   "source": [
    "df['Total Likes'].min()"
   ]
  },
  {
   "cell_type": "code",
   "execution_count": 50,
   "id": "fbc719ce",
   "metadata": {},
   "outputs": [
    {
     "data": {
      "text/plain": [
       "958900000.0"
      ]
     },
     "execution_count": 50,
     "metadata": {},
     "output_type": "execute_result"
    }
   ],
   "source": [
    "df['Total Likes'].max()"
   ]
  },
  {
   "cell_type": "code",
   "execution_count": 51,
   "id": "eedff92b",
   "metadata": {},
   "outputs": [
    {
     "data": {
      "text/plain": [
       "137"
      ]
     },
     "execution_count": 51,
     "metadata": {},
     "output_type": "execute_result"
    }
   ],
   "source": [
    "df['Total Likes'].count()"
   ]
  },
  {
   "cell_type": "code",
   "execution_count": 52,
   "id": "fdea308d",
   "metadata": {},
   "outputs": [
    {
     "data": {
      "text/plain": [
       "14735000000.0"
      ]
     },
     "execution_count": 52,
     "metadata": {},
     "output_type": "execute_result"
    }
   ],
   "source": [
    "df['Total Likes'].sum()"
   ]
  },
  {
   "cell_type": "code",
   "execution_count": 53,
   "id": "7669aee7",
   "metadata": {
    "scrolled": true
   },
   "outputs": [
    {
     "data": {
      "text/html": [
       "<div>\n",
       "<style scoped>\n",
       "    .dataframe tbody tr th:only-of-type {\n",
       "        vertical-align: middle;\n",
       "    }\n",
       "\n",
       "    .dataframe tbody tr th {\n",
       "        vertical-align: top;\n",
       "    }\n",
       "\n",
       "    .dataframe thead th {\n",
       "        text-align: right;\n",
       "    }\n",
       "</style>\n",
       "<table border=\"1\" class=\"dataframe\">\n",
       "  <thead>\n",
       "    <tr style=\"text-align: right;\">\n",
       "      <th></th>\n",
       "      <th>Influence Score</th>\n",
       "      <th>Followers</th>\n",
       "      <th>Avg. Likes</th>\n",
       "      <th>Posts</th>\n",
       "      <th>Total Likes</th>\n",
       "    </tr>\n",
       "  </thead>\n",
       "  <tbody>\n",
       "    <tr>\n",
       "      <th>Influence Score</th>\n",
       "      <td>1.000000</td>\n",
       "      <td>0.442241</td>\n",
       "      <td>-0.183652</td>\n",
       "      <td>0.008790</td>\n",
       "      <td>-0.086139</td>\n",
       "    </tr>\n",
       "    <tr>\n",
       "      <th>Followers</th>\n",
       "      <td>0.442241</td>\n",
       "      <td>1.000000</td>\n",
       "      <td>-0.253458</td>\n",
       "      <td>-0.031869</td>\n",
       "      <td>-0.165380</td>\n",
       "    </tr>\n",
       "    <tr>\n",
       "      <th>Avg. Likes</th>\n",
       "      <td>-0.183652</td>\n",
       "      <td>-0.253458</td>\n",
       "      <td>1.000000</td>\n",
       "      <td>-0.122088</td>\n",
       "      <td>-0.055150</td>\n",
       "    </tr>\n",
       "    <tr>\n",
       "      <th>Posts</th>\n",
       "      <td>0.008790</td>\n",
       "      <td>-0.031869</td>\n",
       "      <td>-0.122088</td>\n",
       "      <td>1.000000</td>\n",
       "      <td>0.348204</td>\n",
       "    </tr>\n",
       "    <tr>\n",
       "      <th>Total Likes</th>\n",
       "      <td>-0.086139</td>\n",
       "      <td>-0.165380</td>\n",
       "      <td>-0.055150</td>\n",
       "      <td>0.348204</td>\n",
       "      <td>1.000000</td>\n",
       "    </tr>\n",
       "  </tbody>\n",
       "</table>\n",
       "</div>"
      ],
      "text/plain": [
       "                 Influence Score  Followers  Avg. Likes     Posts  Total Likes\n",
       "Influence Score         1.000000   0.442241   -0.183652  0.008790    -0.086139\n",
       "Followers               0.442241   1.000000   -0.253458 -0.031869    -0.165380\n",
       "Avg. Likes             -0.183652  -0.253458    1.000000 -0.122088    -0.055150\n",
       "Posts                   0.008790  -0.031869   -0.122088  1.000000     0.348204\n",
       "Total Likes            -0.086139  -0.165380   -0.055150  0.348204     1.000000"
      ]
     },
     "execution_count": 53,
     "metadata": {},
     "output_type": "execute_result"
    }
   ],
   "source": [
    "df.corr()"
   ]
  },
  {
   "cell_type": "code",
   "execution_count": 54,
   "id": "30eaae56",
   "metadata": {},
   "outputs": [],
   "source": [
    "# df.info()\n",
    "# df.head()"
   ]
  },
  {
   "cell_type": "code",
   "execution_count": 55,
   "id": "2328c0ba",
   "metadata": {},
   "outputs": [
    {
     "data": {
      "text/plain": [
       "<AxesSubplot:xlabel='Followers', ylabel='Influence Score'>"
      ]
     },
     "execution_count": 55,
     "metadata": {},
     "output_type": "execute_result"
    },
    {
     "data": {
      "image/png": "[encoded data removed]",
      "text/plain": [
       "<Figure size 432x288 with 1 Axes>"
      ]
     },
     "metadata": {
      "needs_background": "light"
     },
     "output_type": "display_data"
    }
   ],
   "source": [
    "sns.regplot(x=df['Followers'], y=df['Influence Score'])"
   ]
  },
  {
   "cell_type": "code",
   "execution_count": 56,
   "id": "eb00eb0e",
   "metadata": {},
   "outputs": [
    {
     "data": {
      "text/plain": [
       "<AxesSubplot:xlabel='Avg. Likes', ylabel='Influence Score'>"
      ]
     },
     "execution_count": 56,
     "metadata": {},
     "output_type": "execute_result"
    },
    {
     "data": {
      "image/png": "[encoded data removed]",
      "text/plain": [
       "<Figure size 432x288 with 1 Axes>"
      ]
     },
     "metadata": {
      "needs_background": "light"
     },
     "output_type": "display_data"
    }
   ],
   "source": [
    "sns.regplot(x=df['Avg. Likes'], y=df['Influence Score'])"
   ]
  },
  {
   "cell_type": "code",
   "execution_count": 57,
   "id": "87780aed",
   "metadata": {},
   "outputs": [
    {
     "data": {
      "text/plain": [
       "<AxesSubplot:xlabel='Posts', ylabel='Influence Score'>"
      ]
     },
     "execution_count": 57,
     "metadata": {},
     "output_type": "execute_result"
    },
    {
     "data": {
      "image/png": "[encoded data removed]",
      "text/plain": [
       "<Figure size 432x288 with 1 Axes>"
      ]
     },
     "metadata": {
      "needs_background": "light"
     },
     "output_type": "display_data"
    }
   ],
   "source": [
    "sns.regplot(x=df['Posts'], y=df['Influence Score'])"
   ]
  },
  {
   "cell_type": "code",
   "execution_count": 58,
   "id": "0e2fd71d",
   "metadata": {},
   "outputs": [
    {
     "data": {
      "text/plain": [
       "<AxesSubplot:xlabel='Total Likes', ylabel='Influence Score'>"
      ]
     },
     "execution_count": 58,
     "metadata": {},
     "output_type": "execute_result"
    },
    {
     "data": {
      "image/png": "[encoded data removed]",
      "text/plain": [
       "<Figure size 432x288 with 1 Axes>"
      ]
     },
     "metadata": {
      "needs_background": "light"
     },
     "output_type": "display_data"
    }
   ],
   "source": [
    "sns.regplot(x=df['Total Likes'], y=df['Influence Score'])"
   ]
  }
 ],
 "metadata": {
  "kernelspec": {
   "display_name": "Python 3 (ipykernel)",
   "language": "python",
   "name": "python3"
  },
  "language_info": {
   "codemirror_mode": {
    "name": "ipython",
    "version": 3
   },
   "file_extension": ".py",
   "mimetype": "text/x-python",
   "name": "python",
   "nbconvert_exporter": "python",
   "pygments_lexer": "ipython3",
   "version": "3.9.12"
  }
 },
 "nbformat": 4,
 "nbformat_minor": 5
}
