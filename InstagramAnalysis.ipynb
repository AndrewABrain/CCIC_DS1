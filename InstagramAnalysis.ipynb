{
 "cells": [
  {
   "cell_type": "code",
   "execution_count": 1,
   "id": "55b2827a",
   "metadata": {
    "scrolled": true
   },
   "outputs": [],
   "source": [
    "import pandas as pd\n",
    "import seaborn as sns\n",
    "\n",
    "df = pd.read_csv('Top_Influencers.csv')\n",
    "\n",
    "#print(df)"
   ]
  },
  {
   "cell_type": "code",
   "execution_count": 2,
   "id": "3285d048",
   "metadata": {},
   "outputs": [
    {
     "name": "stdout",
     "output_type": "stream",
     "text": [
      "<class 'pandas.core.frame.DataFrame'>\n",
      "RangeIndex: 200 entries, 0 to 199\n",
      "Data columns (total 10 columns):\n",
      " #   Column               Non-Null Count  Dtype  \n",
      "---  ------               --------------  -----  \n",
      " 0   Rank                 200 non-null    int64  \n",
      " 1   Channel Info         200 non-null    object \n",
      " 2   Influence Score      200 non-null    int64  \n",
      " 3   Followers            200 non-null    object \n",
      " 4   Avg. Likes           200 non-null    object \n",
      " 5   Posts                200 non-null    object \n",
      " 6   60-Day Eng Rate      200 non-null    float64\n",
      " 7   New Post Avg. Likes  200 non-null    object \n",
      " 8   Total Likes          200 non-null    object \n",
      " 9   Country Or Region    137 non-null    object \n",
      "dtypes: float64(1), int64(2), object(7)\n",
      "memory usage: 15.8+ KB\n"
     ]
    }
   ],
   "source": [
    "df.info()"
   ]
  },
  {
   "cell_type": "code",
   "execution_count": 3,
   "id": "48587c3c",
   "metadata": {},
   "outputs": [],
   "source": [
    "df = df.dropna()"
   ]
  },
  {
   "cell_type": "code",
   "execution_count": 4,
   "id": "1516e81e",
   "metadata": {},
   "outputs": [
    {
     "name": "stdout",
     "output_type": "stream",
     "text": [
      "<class 'pandas.core.frame.DataFrame'>\n",
      "Int64Index: 137 entries, 0 to 199\n",
      "Data columns (total 10 columns):\n",
      " #   Column               Non-Null Count  Dtype  \n",
      "---  ------               --------------  -----  \n",
      " 0   Rank                 137 non-null    int64  \n",
      " 1   Channel Info         137 non-null    object \n",
      " 2   Influence Score      137 non-null    int64  \n",
      " 3   Followers            137 non-null    object \n",
      " 4   Avg. Likes           137 non-null    object \n",
      " 5   Posts                137 non-null    object \n",
      " 6   60-Day Eng Rate      137 non-null    float64\n",
      " 7   New Post Avg. Likes  137 non-null    object \n",
      " 8   Total Likes          137 non-null    object \n",
      " 9   Country Or Region    137 non-null    object \n",
      "dtypes: float64(1), int64(2), object(7)\n",
      "memory usage: 11.8+ KB\n"
     ]
    }
   ],
   "source": [
    "df.info()"
   ]
  },
  {
   "cell_type": "code",
   "execution_count": 5,
   "id": "b37b8e08",
   "metadata": {},
   "outputs": [],
   "source": [
    "df = df.drop(columns = ['Channel Info', 'Country Or Region','New Post Avg. Likes', '60-Day Eng Rate', 'Rank'])"
   ]
  },
  {
   "cell_type": "code",
   "execution_count": 6,
   "id": "a6576326",
   "metadata": {},
   "outputs": [],
   "source": [
    "df['Followers'] = df['Followers'].map(lambda x: x.lstrip('+-').rstrip('bcmk'))\n",
    "df['Followers'] = df['Followers'].astype(float)"
   ]
  },
  {
   "cell_type": "code",
   "execution_count": 7,
   "id": "6182789d",
   "metadata": {},
   "outputs": [],
   "source": [
    "df['Avg. Likes'] = df['Avg. Likes'].map(lambda x: x.lstrip('+-').rstrip('bcmk'))\n",
    "df['Avg. Likes'] = df['Avg. Likes'].astype(float)"
   ]
  },
  {
   "cell_type": "code",
   "execution_count": 8,
   "id": "47151fa1",
   "metadata": {},
   "outputs": [],
   "source": [
    "df['Posts'] = df['Posts'].map(lambda x: x.lstrip('+-').rstrip('bcmk'))\n",
    "df['Posts'] = df['Posts'].astype(float)"
   ]
  },
  {
   "cell_type": "code",
   "execution_count": 9,
   "id": "c92f8843",
   "metadata": {},
   "outputs": [],
   "source": [
    "df['Total Likes'] = df['Total Likes'].map(lambda x: x.lstrip('+-').rstrip('bcmk'))\n",
    "df['Total Likes'] = df['Total Likes'].astype(float)"
   ]
  },
  {
   "cell_type": "code",
   "execution_count": 11,
   "id": "45c5f227",
   "metadata": {},
   "outputs": [
    {
     "name": "stdout",
     "output_type": "stream",
     "text": [
      "<class 'pandas.core.frame.DataFrame'>\n",
      "Int64Index: 137 entries, 0 to 199\n",
      "Data columns (total 5 columns):\n",
      " #   Column           Non-Null Count  Dtype  \n",
      "---  ------           --------------  -----  \n",
      " 0   Influence Score  137 non-null    int64  \n",
      " 1   Followers        137 non-null    float64\n",
      " 2   Avg. Likes       137 non-null    float64\n",
      " 3   Posts            137 non-null    float64\n",
      " 4   Total Likes      137 non-null    float64\n",
      "dtypes: float64(4), int64(1)\n",
      "memory usage: 6.4 KB\n"
     ]
    }
   ],
   "source": [
    "df.info()\n",
    "#df[''].mean()"
   ]
  }
 ],
 "metadata": {
  "kernelspec": {
   "display_name": "Python 3 (ipykernel)",
   "language": "python",
   "name": "python3"
  },
  "language_info": {
   "codemirror_mode": {
    "name": "ipython",
    "version": 3
   },
   "file_extension": ".py",
   "mimetype": "text/x-python",
   "name": "python",
   "nbconvert_exporter": "python",
   "pygments_lexer": "ipython3",
   "version": "3.9.12"
  }
 },
 "nbformat": 4,
 "nbformat_minor": 5
}
