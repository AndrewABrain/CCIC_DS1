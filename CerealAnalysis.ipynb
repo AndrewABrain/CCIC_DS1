{
 "cells": [
  {
   "cell_type": "code",
   "execution_count": 1,
   "id": "57534d91",
   "metadata": {
    "scrolled": true
   },
   "outputs": [],
   "source": [
    "import pandas as pd\n",
    "df = pd.read_csv('cereal.csv')\n",
    "#print(df)"
   ]
  },
  {
   "cell_type": "code",
   "execution_count": 2,
   "id": "1e20854b",
   "metadata": {
    "scrolled": true
   },
   "outputs": [],
   "source": [
    "#df.isnull().values.any()"
   ]
  },
  {
   "cell_type": "code",
   "execution_count": 3,
   "id": "3152470e",
   "metadata": {
    "scrolled": false
   },
   "outputs": [],
   "source": [
    "#df.head()"
   ]
  },
  {
   "cell_type": "code",
   "execution_count": 4,
   "id": "c7aef3d5",
   "metadata": {
    "scrolled": true
   },
   "outputs": [],
   "source": [
    "#df.head(20)"
   ]
  },
  {
   "cell_type": "code",
   "execution_count": 5,
   "id": "2b0e2018",
   "metadata": {},
   "outputs": [],
   "source": [
    "#df.info()"
   ]
  },
  {
   "cell_type": "code",
   "execution_count": 6,
   "id": "edd562a4",
   "metadata": {},
   "outputs": [],
   "source": [
    "#df.dropna(inplace = True)\n",
    "#df = df.dropna"
   ]
  },
  {
   "cell_type": "code",
   "execution_count": 7,
   "id": "8cac89b0",
   "metadata": {
    "scrolled": true
   },
   "outputs": [],
   "source": [
    "#df.head()\n",
    "df = df.drop(columns = ['calories', 'mfr', 'type', 'protein', 'fat', 'sodium', 'fiber', 'carbo', 'potass','vitamins', 'shelf', 'weight', 'cups'])"
   ]
  },
  {
   "cell_type": "code",
   "execution_count": 8,
   "id": "989f5aaa",
   "metadata": {
    "scrolled": true
   },
   "outputs": [],
   "source": [
    "#df.head()"
   ]
  },
  {
   "cell_type": "code",
   "execution_count": 9,
   "id": "7242a4df",
   "metadata": {},
   "outputs": [],
   "source": [
    "#df.info()"
   ]
  },
  {
   "cell_type": "code",
   "execution_count": 10,
   "id": "9af9b4e7",
   "metadata": {
    "scrolled": true
   },
   "outputs": [],
   "source": [
    "#df['sugars'].mean()"
   ]
  },
  {
   "cell_type": "code",
   "execution_count": 11,
   "id": "83fcc65b",
   "metadata": {},
   "outputs": [],
   "source": [
    "#df['sugars'].median()"
   ]
  },
  {
   "cell_type": "code",
   "execution_count": 12,
   "id": "18786e3d",
   "metadata": {},
   "outputs": [],
   "source": [
    "#df['sugars'].mode()"
   ]
  },
  {
   "cell_type": "code",
   "execution_count": 13,
   "id": "4a9056e5",
   "metadata": {},
   "outputs": [],
   "source": [
    "#df['sugars'].max()"
   ]
  },
  {
   "cell_type": "code",
   "execution_count": 14,
   "id": "401757fc",
   "metadata": {},
   "outputs": [],
   "source": [
    "#df['sugars'].min()"
   ]
  },
  {
   "cell_type": "code",
   "execution_count": 15,
   "id": "cdb6b2e8",
   "metadata": {},
   "outputs": [],
   "source": [
    "#df['sugars'].plot()"
   ]
  },
  {
   "cell_type": "code",
   "execution_count": 16,
   "id": "b7574430",
   "metadata": {},
   "outputs": [],
   "source": [
    "df = df.drop(df.loc[df[\"sugars\"] == -1].index)"
   ]
  },
  {
   "cell_type": "code",
   "execution_count": 19,
   "id": "8d106fdb",
   "metadata": {},
   "outputs": [
    {
     "data": {
      "text/plain": [
       "<AxesSubplot:xlabel='sugars', ylabel='rating'>"
      ]
     },
     "execution_count": 19,
     "metadata": {},
     "output_type": "execute_result"
    },
    {
     "data": {
      "image/png": "[encoded data removed]",
      "text/plain": [
       "<Figure size 432x288 with 1 Axes>"
      ]
     },
     "metadata": {
      "needs_background": "light"
     },
     "output_type": "display_data"
    }
   ],
   "source": [
    "import seaborn as sns\n",
    "sns.regplot(x=df['sugars'], y=df['rating'])"
   ]
  },
  {
   "cell_type": "code",
   "execution_count": 18,
   "id": "a1c97e84",
   "metadata": {},
   "outputs": [
    {
     "data": {
      "text/html": [
       "<div>\n",
       "<style scoped>\n",
       "    .dataframe tbody tr th:only-of-type {\n",
       "        vertical-align: middle;\n",
       "    }\n",
       "\n",
       "    .dataframe tbody tr th {\n",
       "        vertical-align: top;\n",
       "    }\n",
       "\n",
       "    .dataframe thead th {\n",
       "        text-align: right;\n",
       "    }\n",
       "</style>\n",
       "<table border=\"1\" class=\"dataframe\">\n",
       "  <thead>\n",
       "    <tr style=\"text-align: right;\">\n",
       "      <th></th>\n",
       "      <th>sugars</th>\n",
       "      <th>rating</th>\n",
       "    </tr>\n",
       "  </thead>\n",
       "  <tbody>\n",
       "    <tr>\n",
       "      <th>sugars</th>\n",
       "      <td>1.000000</td>\n",
       "      <td>-0.763902</td>\n",
       "    </tr>\n",
       "    <tr>\n",
       "      <th>rating</th>\n",
       "      <td>-0.763902</td>\n",
       "      <td>1.000000</td>\n",
       "    </tr>\n",
       "  </tbody>\n",
       "</table>\n",
       "</div>"
      ],
      "text/plain": [
       "          sugars    rating\n",
       "sugars  1.000000 -0.763902\n",
       "rating -0.763902  1.000000"
      ]
     },
     "execution_count": 18,
     "metadata": {},
     "output_type": "execute_result"
    }
   ],
   "source": [
    "df.corr(method='pearson', min_periods=1)"
   ]
  }
 ],
 "metadata": {
  "kernelspec": {
   "display_name": "Python 3 (ipykernel)",
   "language": "python",
   "name": "python3"
  },
  "language_info": {
   "codemirror_mode": {
    "name": "ipython",
    "version": 3
   },
   "file_extension": ".py",
   "mimetype": "text/x-python",
   "name": "python",
   "nbconvert_exporter": "python",
   "pygments_lexer": "ipython3",
   "version": "3.9.12"
  }
 },
 "nbformat": 4,
 "nbformat_minor": 5
}
