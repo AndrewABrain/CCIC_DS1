{
 "cells": [
  {
   "cell_type": "code",
   "execution_count": 65,
   "id": "edc98356",
   "metadata": {},
   "outputs": [
    {
     "ename": "IndexError",
     "evalue": "list index out of range",
     "output_type": "error",
     "traceback": [
      "\u001b[1;31m---------------------------------------------------------------------------\u001b[0m",
      "\u001b[1;31mIndexError\u001b[0m                                Traceback (most recent call last)",
      "Input \u001b[1;32mIn [65]\u001b[0m, in \u001b[0;36m<cell line: 16>\u001b[1;34m()\u001b[0m\n\u001b[0;32m     14\u001b[0m empty \u001b[38;5;241m=\u001b[39m []\n\u001b[0;32m     15\u001b[0m \u001b[38;5;28mlist\u001b[39m \u001b[38;5;241m=\u001b[39m [\u001b[38;5;241m8\u001b[39m]\n\u001b[1;32m---> 16\u001b[0m \u001b[38;5;28mprint\u001b[39m (\u001b[43msort\u001b[49m\u001b[43m(\u001b[49m\u001b[38;5;28;43mlist\u001b[39;49m\u001b[43m,\u001b[49m\u001b[43m \u001b[49m\u001b[43mempty\u001b[49m\u001b[43m)\u001b[49m)\n",
      "Input \u001b[1;32mIn [65]\u001b[0m, in \u001b[0;36msort\u001b[1;34m(list, empty)\u001b[0m\n\u001b[0;32m      8\u001b[0m     empty\u001b[38;5;241m.\u001b[39mappend(big)\n\u001b[0;32m      9\u001b[0m     \u001b[38;5;28;01mdel\u001b[39;00m \u001b[38;5;28mlist\u001b[39m[\u001b[38;5;28mlist\u001b[39m\u001b[38;5;241m.\u001b[39mindex(big)]\n\u001b[1;32m---> 10\u001b[0m     empty\u001b[38;5;241m.\u001b[39mappend(\u001b[38;5;28;43mlist\u001b[39;49m\u001b[43m[\u001b[49m\u001b[38;5;241;43m-\u001b[39;49m\u001b[38;5;241;43m1\u001b[39;49m\u001b[43m]\u001b[49m) \n\u001b[0;32m     11\u001b[0m \u001b[38;5;28;01mreturn\u001b[39;00m empty\n",
      "\u001b[1;31mIndexError\u001b[0m: list index out of range"
     ]
    }
   ],
   "source": [
    "def sort(list, empty):\n",
    "    for number in list:\n",
    "        index = 0\n",
    "        big = 0\n",
    "        for x in list:\n",
    "            if big < x:\n",
    "                big = x\n",
    "        empty.append(big)\n",
    "        del list[list.index(big)]\n",
    "        empty.append(list[-1]) \n",
    "    return empty\n",
    "    \n",
    "            \n",
    "empty = []\n",
    "list = [8]\n",
    "print (sort(list, empty))"
   ]
  },
  {
   "cell_type": "code",
   "execution_count": null,
   "id": "ecb5f117",
   "metadata": {},
   "outputs": [],
   "source": []
  },
  {
   "cell_type": "code",
   "execution_count": null,
   "id": "4df3b071",
   "metadata": {},
   "outputs": [],
   "source": []
  }
 ],
 "metadata": {
  "kernelspec": {
   "display_name": "Python 3 (ipykernel)",
   "language": "python",
   "name": "python3"
  },
  "language_info": {
   "codemirror_mode": {
    "name": "ipython",
    "version": 3
   },
   "file_extension": ".py",
   "mimetype": "text/x-python",
   "name": "python",
   "nbconvert_exporter": "python",
   "pygments_lexer": "ipython3",
   "version": "3.9.12"
  }
 },
 "nbformat": 4,
 "nbformat_minor": 5
}
