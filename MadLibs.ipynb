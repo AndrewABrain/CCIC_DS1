{
 "cells": [
  {
   "cell_type": "code",
   "execution_count": null,
   "id": "3f671e34",
   "metadata": {},
   "outputs": [],
   "source": [
    "noun = input(\"Give a noun.\")\n",
    "verb_went = input(\"Give a verb in past tense.\")\n",
    "verb_past_tense = input(\"Give a verb in past tense.\")\n",
    "subject = input(\"Give a subject of interest.\")\n",
    "verb_rode = input(\"Give a verb in past tense.\")\n",
    "noun_school = input(\"Give a noun.\")\n",
    "noun_transportation = input(\"Give a noun.\")\n",
    "synomnim = input(\"Give a synonim for adjascent.\")\n",
    "name = input(\"Give a name (doesn't have to be yours).\")\n",
    "pronoun = input(\"Give a pronoun.\")\n",
    "noun_location = input(\"Give a noun.\")\n",
    "verb_present_tense = input(\"Give a verb in present tense.\")\n",
    "group_of = input(\"Give synonim for a grouping of things.\")\n",
    "\n",
    "\n",
    "print (\"I \" + verb_went + \" to \" + noun + \" today, we \" + verb_past_tense + \" a lot about \" + subject + \". I \" + verb_rode + \" to\" + noun_school + \" on the\" + \n",
    "noun_transportation + \". \" + synomnim + \" to me at school is \" + name + \", \" + pronoun + \"are/is nice. After school I going to go\" \n",
    "+ noun_location + \"and\" + verb_present_tense + \"on the\" + group_of + \"of homework I have.\")"
   ]
  },
  {
   "cell_type": "code",
   "execution_count": null,
   "id": "7662a718",
   "metadata": {},
   "outputs": [],
   "source": []
  },
  {
   "cell_type": "code",
   "execution_count": null,
   "id": "111a3a03",
   "metadata": {},
   "outputs": [],
   "source": []
  }
 ],
 "metadata": {
  "kernelspec": {
   "display_name": "Python 3 (ipykernel)",
   "language": "python",
   "name": "python3"
  },
  "language_info": {
   "codemirror_mode": {
    "name": "ipython",
    "version": 3
   },
   "file_extension": ".py",
   "mimetype": "text/x-python",
   "name": "python",
   "nbconvert_exporter": "python",
   "pygments_lexer": "ipython3",
   "version": "3.9.12"
  }
 },
 "nbformat": 4,
 "nbformat_minor": 5
}
