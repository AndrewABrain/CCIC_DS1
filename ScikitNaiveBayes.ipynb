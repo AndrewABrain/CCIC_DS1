{
 "cells": [
  {
   "cell_type": "code",
   "execution_count": 1,
   "id": "d5446a44",
   "metadata": {},
   "outputs": [],
   "source": [
    "import pandas as pd"
   ]
  },
  {
   "cell_type": "code",
   "execution_count": 2,
   "id": "ab90a796",
   "metadata": {},
   "outputs": [],
   "source": [
    "df = pd.read_csv(\"spam - Data.csv\")"
   ]
  },
  {
   "cell_type": "code",
   "execution_count": 3,
   "id": "2c13b5d7",
   "metadata": {},
   "outputs": [],
   "source": [
    "df = df[[\"Label\", \"Message\"]]"
   ]
  },
  {
   "cell_type": "code",
   "execution_count": 5,
   "id": "b762333c",
   "metadata": {
    "scrolled": false
   },
   "outputs": [
    {
     "name": "stdout",
     "output_type": "stream",
     "text": [
      "{'call': 342, 'free': 180, '2': 169, 'ur': 144, 'txt': 136}\n"
     ]
    }
   ],
   "source": [
    "# Get a list of stop words from https://gist.github.com/sebleier/554280\n",
    "with open('stopwords.txt') as file:\n",
    "    lines = [line.rstrip() for line in file]\n",
    "\n",
    "def getTopSpam(df, commonWords, num):\n",
    "  '''\n",
    "  Returns the most common 'num' words in the spam messages.\n",
    "  '''\n",
    "  spam = {}\n",
    "  ham = []\n",
    "\n",
    "  # Gets count of all words in spam that are not in the list of common words\n",
    "  for idx in range(len(df.index)):\n",
    "    message = df.iat[idx, 1]\n",
    "    message = message.lower()\n",
    "    words = message.split()\n",
    "    for word in words:\n",
    "      if word not in commonWords and df.iat[idx, 0] == \"spam\":\n",
    "        if word not in spam:\n",
    "          spam[word] = 1\n",
    "        elif word in spam:\n",
    "          spam[word] = spam[word] + 1\n",
    "   \n",
    "  spam = sorted(spam.items(), key=lambda x:x[1], reverse=True)\n",
    "  return dict(spam[:num])\n",
    "\n",
    "result = getTopSpam(df, lines, 5)\n",
    "print(result)"
   ]
  },
  {
   "cell_type": "code",
   "execution_count": 6,
   "id": "6b5bfe99",
   "metadata": {},
   "outputs": [],
   "source": [
    "def vectorize (df, words):\n",
    "    vectorizedData = []\n",
    "    for row in range(len(df.index)):\n",
    "        vectors = []\n",
    "        message = df[\"Message\"][row]\n",
    "        message = message.lower()\n",
    "        message = message.split()\n",
    "        for word in words:\n",
    "            if word in message:\n",
    "                vectors.append(1)\n",
    "            else:\n",
    "                vectors.append(0)\n",
    "        template = {\"Vectors\":vectors}\n",
    "        vectorizedData.append(template)\n",
    "    vectorizedData = pd.DataFrame.from_dict(vectorizedData)\n",
    "    df = pd.concat([df, vectorizedData], ignore_index=True, axis = 1)\n",
    "    return df"
   ]
  },
  {
   "cell_type": "code",
   "execution_count": 7,
   "id": "b365039e",
   "metadata": {},
   "outputs": [],
   "source": [
    "df = vectorize (df, result)"
   ]
  },
  {
   "cell_type": "code",
   "execution_count": 8,
   "id": "12e400a5",
   "metadata": {
    "scrolled": true
   },
   "outputs": [],
   "source": [
    "df = df[[0, 2]]"
   ]
  },
  {
   "cell_type": "code",
   "execution_count": 9,
   "id": "164a0a7e",
   "metadata": {
    "scrolled": false
   },
   "outputs": [],
   "source": [
    "call = []\n",
    "free = []\n",
    "two = []\n",
    "ur = []\n",
    "txt = []\n",
    "for index, row in df.iterrows():\n",
    "    call.append(row[2][0])\n",
    "    free.append(row[2][1])\n",
    "    two.append(row[2][2])\n",
    "    ur.append(row[2][3])\n",
    "    txt.append(row[2][4])"
   ]
  },
  {
   "cell_type": "code",
   "execution_count": 10,
   "id": "a74b80ad",
   "metadata": {},
   "outputs": [],
   "source": [
    "scikitVectors = pd.DataFrame.from_dict({\"call\":call, \"free\":free, \"2\":two, \"ur\":ur, \"txt\":txt})"
   ]
  },
  {
   "cell_type": "code",
   "execution_count": 11,
   "id": "13aed029",
   "metadata": {},
   "outputs": [],
   "source": [
    "df = pd.concat([df, scikitVectors], axis = 1)"
   ]
  },
  {
   "cell_type": "code",
   "execution_count": 12,
   "id": "9d21e66c",
   "metadata": {},
   "outputs": [],
   "source": [
    "from sklearn.model_selection import train_test_split"
   ]
  },
  {
   "cell_type": "code",
   "execution_count": 13,
   "id": "388b027d",
   "metadata": {},
   "outputs": [],
   "source": [
    "X_train, X_test, y_train, y_test = train_test_split(df[[\"call\", \"free\", \"2\", \"ur\", \"txt\"]], df[0], test_size=0.3)"
   ]
  },
  {
   "cell_type": "code",
   "execution_count": 14,
   "id": "f336ab98",
   "metadata": {},
   "outputs": [],
   "source": [
    "from sklearn.naive_bayes import MultinomialNB"
   ]
  },
  {
   "cell_type": "code",
   "execution_count": 15,
   "id": "c72d8673",
   "metadata": {},
   "outputs": [
    {
     "data": {
      "text/plain": [
       "MultinomialNB()"
      ]
     },
     "execution_count": 15,
     "metadata": {},
     "output_type": "execute_result"
    }
   ],
   "source": [
    "clf = MultinomialNB()\n",
    "clf.fit(X_train, y_train)"
   ]
  },
  {
   "cell_type": "code",
   "execution_count": 16,
   "id": "e5f89792",
   "metadata": {},
   "outputs": [],
   "source": [
    "predictions = clf.predict(X_test)"
   ]
  },
  {
   "cell_type": "code",
   "execution_count": 17,
   "id": "f1b53188",
   "metadata": {},
   "outputs": [],
   "source": [
    "from sklearn.metrics import confusion_matrix"
   ]
  },
  {
   "cell_type": "code",
   "execution_count": 18,
   "id": "fc073a93",
   "metadata": {},
   "outputs": [
    {
     "ename": "AttributeError",
     "evalue": "'Series' object has no attribute 'Label'",
     "output_type": "error",
     "traceback": [
      "\u001b[1;31m---------------------------------------------------------------------------\u001b[0m",
      "\u001b[1;31mAttributeError\u001b[0m                            Traceback (most recent call last)",
      "\u001b[1;32m~\\AppData\\Local\\Temp\\ipykernel_10756\\1299617090.py\u001b[0m in \u001b[0;36m<module>\u001b[1;34m\u001b[0m\n\u001b[1;32m----> 1\u001b[1;33m \u001b[0mconfusion_matrix\u001b[0m\u001b[1;33m(\u001b[0m\u001b[0mpredictions\u001b[0m\u001b[1;33m,\u001b[0m \u001b[0my_test\u001b[0m\u001b[1;33m.\u001b[0m\u001b[0mLabel\u001b[0m\u001b[1;33m.\u001b[0m\u001b[0mvalues\u001b[0m\u001b[1;33m,\u001b[0m \u001b[0mlabels\u001b[0m\u001b[1;33m=\u001b[0m\u001b[1;33m[\u001b[0m\u001b[1;34m\"ham\"\u001b[0m\u001b[1;33m,\u001b[0m \u001b[1;34m\"spam\"\u001b[0m\u001b[1;33m]\u001b[0m\u001b[1;33m)\u001b[0m\u001b[1;33m\u001b[0m\u001b[1;33m\u001b[0m\u001b[0m\n\u001b[0m",
      "\u001b[1;32mC:\\ProgramData\\Anaconda3\\lib\\site-packages\\pandas\\core\\generic.py\u001b[0m in \u001b[0;36m__getattr__\u001b[1;34m(self, name)\u001b[0m\n\u001b[0;32m   5573\u001b[0m         ):\n\u001b[0;32m   5574\u001b[0m             \u001b[1;32mreturn\u001b[0m \u001b[0mself\u001b[0m\u001b[1;33m[\u001b[0m\u001b[0mname\u001b[0m\u001b[1;33m]\u001b[0m\u001b[1;33m\u001b[0m\u001b[1;33m\u001b[0m\u001b[0m\n\u001b[1;32m-> 5575\u001b[1;33m         \u001b[1;32mreturn\u001b[0m \u001b[0mobject\u001b[0m\u001b[1;33m.\u001b[0m\u001b[0m__getattribute__\u001b[0m\u001b[1;33m(\u001b[0m\u001b[0mself\u001b[0m\u001b[1;33m,\u001b[0m \u001b[0mname\u001b[0m\u001b[1;33m)\u001b[0m\u001b[1;33m\u001b[0m\u001b[1;33m\u001b[0m\u001b[0m\n\u001b[0m\u001b[0;32m   5576\u001b[0m \u001b[1;33m\u001b[0m\u001b[0m\n\u001b[0;32m   5577\u001b[0m     \u001b[1;32mdef\u001b[0m \u001b[0m__setattr__\u001b[0m\u001b[1;33m(\u001b[0m\u001b[0mself\u001b[0m\u001b[1;33m,\u001b[0m \u001b[0mname\u001b[0m\u001b[1;33m:\u001b[0m \u001b[0mstr\u001b[0m\u001b[1;33m,\u001b[0m \u001b[0mvalue\u001b[0m\u001b[1;33m)\u001b[0m \u001b[1;33m->\u001b[0m \u001b[1;32mNone\u001b[0m\u001b[1;33m:\u001b[0m\u001b[1;33m\u001b[0m\u001b[1;33m\u001b[0m\u001b[0m\n",
      "\u001b[1;31mAttributeError\u001b[0m: 'Series' object has no attribute 'Label'"
     ]
    }
   ],
   "source": [
    "confusion_matrix(predictions, y_test.Label.values, labels=[\"ham\", \"spam\"])"
   ]
  },
  {
   "cell_type": "code",
   "execution_count": null,
   "id": "a8676aec",
   "metadata": {},
   "outputs": [],
   "source": []
  }
 ],
 "metadata": {
  "kernelspec": {
   "display_name": "Python 3 (ipykernel)",
   "language": "python",
   "name": "python3"
  },
  "language_info": {
   "codemirror_mode": {
    "name": "ipython",
    "version": 3
   },
   "file_extension": ".py",
   "mimetype": "text/x-python",
   "name": "python",
   "nbconvert_exporter": "python",
   "pygments_lexer": "ipython3",
   "version": "3.9.13"
  }
 },
 "nbformat": 4,
 "nbformat_minor": 5
}
