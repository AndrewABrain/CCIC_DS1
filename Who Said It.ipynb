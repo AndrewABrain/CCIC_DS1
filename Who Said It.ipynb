{
 "cells": [
  {
   "cell_type": "code",
   "execution_count": 1,
   "id": "5f2f0c46",
   "metadata": {},
   "outputs": [],
   "source": [
    "import pandas as pd"
   ]
  },
  {
   "cell_type": "code",
   "execution_count": 2,
   "id": "3ec5aae8",
   "metadata": {},
   "outputs": [],
   "source": [
    "df = pd.read_csv('RickAndMortyScripts.csv')"
   ]
  },
  {
   "cell_type": "code",
   "execution_count": 3,
   "id": "f5b2f967",
   "metadata": {
    "scrolled": false
   },
   "outputs": [
    {
     "name": "stdout",
     "output_type": "stream",
     "text": [
      "<class 'pandas.core.frame.DataFrame'>\n",
      "RangeIndex: 1905 entries, 0 to 1904\n",
      "Data columns (total 6 columns):\n",
      " #   Column        Non-Null Count  Dtype \n",
      "---  ------        --------------  ----- \n",
      " 0   index         1905 non-null   int64 \n",
      " 1   season no.    1905 non-null   int64 \n",
      " 2   episode no.   1905 non-null   int64 \n",
      " 3   episode name  1905 non-null   object\n",
      " 4   name          1905 non-null   object\n",
      " 5   line          1905 non-null   object\n",
      "dtypes: int64(3), object(3)\n",
      "memory usage: 89.4+ KB\n"
     ]
    }
   ],
   "source": [
    "df.info()"
   ]
  },
  {
   "cell_type": "code",
   "execution_count": 4,
   "id": "22945d3a",
   "metadata": {},
   "outputs": [],
   "source": [
    "df = df[['name', 'line']]"
   ]
  },
  {
   "cell_type": "code",
   "execution_count": 5,
   "id": "f81100c4",
   "metadata": {
    "scrolled": true
   },
   "outputs": [
    {
     "data": {
      "text/plain": [
       "False"
      ]
     },
     "execution_count": 5,
     "metadata": {},
     "output_type": "execute_result"
    }
   ],
   "source": [
    "df.isnull().values.any()"
   ]
  },
  {
   "cell_type": "code",
   "execution_count": 6,
   "id": "25c1ae8d",
   "metadata": {},
   "outputs": [],
   "source": [
    "df[['line', 'name']] = df[['line', 'name']].astype(str)"
   ]
  },
  {
   "cell_type": "code",
   "execution_count": 7,
   "id": "a4f0055a",
   "metadata": {},
   "outputs": [],
   "source": [
    "def rickMortyOther (df):\n",
    "    for row in range(len(df.index)):\n",
    "        if (df['name'][row] != \"Rick\") and (df['name'][row] != \"Morty\"):\n",
    "            df['name'][row] = \"Other\"\n",
    "    return df"
   ]
  },
  {
   "cell_type": "code",
   "execution_count": 8,
   "id": "1bd4719d",
   "metadata": {},
   "outputs": [],
   "source": [
    "df = rickMortyOther (df)"
   ]
  },
  {
   "cell_type": "code",
   "execution_count": 10,
   "id": "aa76486f",
   "metadata": {},
   "outputs": [],
   "source": [
    "listOfNames = ['Rick', 'Morty', 'Other']"
   ]
  },
  {
   "cell_type": "code",
   "execution_count": 11,
   "id": "8eefb0a3",
   "metadata": {},
   "outputs": [],
   "source": [
    "def featurize (df, listOfNames):\n",
    "    featurized = []\n",
    "    for character in listOfNames:\n",
    "        onlyCharacter = df[df.name == character]\n",
    "        text = ' '.join(onlyCharacter['line'])\n",
    "        text = text.lower()\n",
    "        text = text.split()\n",
    "        unrepeated = list(set(text))\n",
    "        totalWords = {\"Character Name\": character}\n",
    "        for word in unrepeated:\n",
    "            totalWords[word] = text.count(word)\n",
    "        featurized.append(totalWords)\n",
    "    return featurized"
   ]
  },
  {
   "cell_type": "code",
   "execution_count": 12,
   "id": "21e00ba7",
   "metadata": {
    "scrolled": false
   },
   "outputs": [],
   "source": [
    "featurized = featurize (df, listOfNames)"
   ]
  },
  {
   "cell_type": "code",
   "execution_count": 15,
   "id": "b88e788f",
   "metadata": {},
   "outputs": [
    {
     "ename": "TypeError",
     "evalue": "'numpy.ndarray' object is not callable",
     "output_type": "error",
     "traceback": [
      "\u001b[1;31m---------------------------------------------------------------------------\u001b[0m",
      "\u001b[1;31mTypeError\u001b[0m                                 Traceback (most recent call last)",
      "\u001b[1;32m~\\AppData\\Local\\Temp\\ipykernel_740\\3653240883.py\u001b[0m in \u001b[0;36m<module>\u001b[1;34m\u001b[0m\n\u001b[1;32m----> 1\u001b[1;33m \u001b[0mfeaturized\u001b[0m \u001b[1;33m=\u001b[0m \u001b[0mpd\u001b[0m\u001b[1;33m.\u001b[0m\u001b[0mDataFrame\u001b[0m\u001b[1;33m.\u001b[0m\u001b[0mfrom_dict\u001b[0m\u001b[1;33m(\u001b[0m\u001b[0mfeaturized\u001b[0m\u001b[1;33m,\u001b[0m \u001b[0morient\u001b[0m \u001b[1;33m=\u001b[0m \u001b[1;34m'index'\u001b[0m\u001b[1;33m)\u001b[0m\u001b[1;33m\u001b[0m\u001b[1;33m\u001b[0m\u001b[0m\n\u001b[0m",
      "\u001b[1;32mC:\\ProgramData\\Anaconda3\\lib\\site-packages\\pandas\\core\\frame.py\u001b[0m in \u001b[0;36mfrom_dict\u001b[1;34m(cls, data, orient, dtype, columns)\u001b[0m\n\u001b[0;32m   1664\u001b[0m             \u001b[1;32mif\u001b[0m \u001b[0mlen\u001b[0m\u001b[1;33m(\u001b[0m\u001b[0mdata\u001b[0m\u001b[1;33m)\u001b[0m \u001b[1;33m>\u001b[0m \u001b[1;36m0\u001b[0m\u001b[1;33m:\u001b[0m\u001b[1;33m\u001b[0m\u001b[1;33m\u001b[0m\u001b[0m\n\u001b[0;32m   1665\u001b[0m                 \u001b[1;31m# TODO speed up Series case\u001b[0m\u001b[1;33m\u001b[0m\u001b[1;33m\u001b[0m\u001b[0m\n\u001b[1;32m-> 1666\u001b[1;33m                 \u001b[1;32mif\u001b[0m \u001b[0misinstance\u001b[0m\u001b[1;33m(\u001b[0m\u001b[0mlist\u001b[0m\u001b[1;33m(\u001b[0m\u001b[0mdata\u001b[0m\u001b[1;33m.\u001b[0m\u001b[0mvalues\u001b[0m\u001b[1;33m(\u001b[0m\u001b[1;33m)\u001b[0m\u001b[1;33m)\u001b[0m\u001b[1;33m[\u001b[0m\u001b[1;36m0\u001b[0m\u001b[1;33m]\u001b[0m\u001b[1;33m,\u001b[0m \u001b[1;33m(\u001b[0m\u001b[0mSeries\u001b[0m\u001b[1;33m,\u001b[0m \u001b[0mdict\u001b[0m\u001b[1;33m)\u001b[0m\u001b[1;33m)\u001b[0m\u001b[1;33m:\u001b[0m\u001b[1;33m\u001b[0m\u001b[1;33m\u001b[0m\u001b[0m\n\u001b[0m\u001b[0;32m   1667\u001b[0m                     \u001b[0mdata\u001b[0m \u001b[1;33m=\u001b[0m \u001b[0m_from_nested_dict\u001b[0m\u001b[1;33m(\u001b[0m\u001b[0mdata\u001b[0m\u001b[1;33m)\u001b[0m\u001b[1;33m\u001b[0m\u001b[1;33m\u001b[0m\u001b[0m\n\u001b[0;32m   1668\u001b[0m                 \u001b[1;32melse\u001b[0m\u001b[1;33m:\u001b[0m\u001b[1;33m\u001b[0m\u001b[1;33m\u001b[0m\u001b[0m\n",
      "\u001b[1;31mTypeError\u001b[0m: 'numpy.ndarray' object is not callable"
     ]
    }
   ],
   "source": [
    "featurized = pd.DataFrame.from_dict(featurized)"
   ]
  },
  {
   "cell_type": "code",
   "execution_count": 14,
   "id": "df4353a8",
   "metadata": {},
   "outputs": [
    {
     "data": {
      "text/html": [
       "<div>\n",
       "<style scoped>\n",
       "    .dataframe tbody tr th:only-of-type {\n",
       "        vertical-align: middle;\n",
       "    }\n",
       "\n",
       "    .dataframe tbody tr th {\n",
       "        vertical-align: top;\n",
       "    }\n",
       "\n",
       "    .dataframe thead th {\n",
       "        text-align: right;\n",
       "    }\n",
       "</style>\n",
       "<table border=\"1\" class=\"dataframe\">\n",
       "  <thead>\n",
       "    <tr style=\"text-align: right;\">\n",
       "      <th></th>\n",
       "      <th>Character Name</th>\n",
       "      <th>except,</th>\n",
       "      <th>welp,</th>\n",
       "      <th>separates</th>\n",
       "      <th>portal</th>\n",
       "      <th>fruits.</th>\n",
       "      <th>him</th>\n",
       "      <th>though,</th>\n",
       "      <th>and,</th>\n",
       "      <th>goldenfold's</th>\n",
       "      <th>...</th>\n",
       "      <th>basic</th>\n",
       "      <th>fig</th>\n",
       "      <th>moron,</th>\n",
       "      <th>beg</th>\n",
       "      <th>leads</th>\n",
       "      <th>scientist.</th>\n",
       "      <th>two!?</th>\n",
       "      <th>patients</th>\n",
       "      <th>ut,</th>\n",
       "      <th>\"sawwww\".</th>\n",
       "    </tr>\n",
       "  </thead>\n",
       "  <tbody>\n",
       "    <tr>\n",
       "      <th>0</th>\n",
       "      <td>Rick</td>\n",
       "      <td>1.0</td>\n",
       "      <td>1.0</td>\n",
       "      <td>1.0</td>\n",
       "      <td>4</td>\n",
       "      <td>1.0</td>\n",
       "      <td>5</td>\n",
       "      <td>1.0</td>\n",
       "      <td>1</td>\n",
       "      <td>1.0</td>\n",
       "      <td>...</td>\n",
       "      <td>NaN</td>\n",
       "      <td>NaN</td>\n",
       "      <td>NaN</td>\n",
       "      <td>NaN</td>\n",
       "      <td>NaN</td>\n",
       "      <td>NaN</td>\n",
       "      <td>NaN</td>\n",
       "      <td>NaN</td>\n",
       "      <td>NaN</td>\n",
       "      <td>NaN</td>\n",
       "    </tr>\n",
       "    <tr>\n",
       "      <th>1</th>\n",
       "      <td>Morty</td>\n",
       "      <td>NaN</td>\n",
       "      <td>NaN</td>\n",
       "      <td>NaN</td>\n",
       "      <td>1</td>\n",
       "      <td>NaN</td>\n",
       "      <td>2</td>\n",
       "      <td>NaN</td>\n",
       "      <td>2</td>\n",
       "      <td>2.0</td>\n",
       "      <td>...</td>\n",
       "      <td>NaN</td>\n",
       "      <td>NaN</td>\n",
       "      <td>NaN</td>\n",
       "      <td>NaN</td>\n",
       "      <td>NaN</td>\n",
       "      <td>NaN</td>\n",
       "      <td>NaN</td>\n",
       "      <td>NaN</td>\n",
       "      <td>NaN</td>\n",
       "      <td>NaN</td>\n",
       "    </tr>\n",
       "    <tr>\n",
       "      <th>2</th>\n",
       "      <td>Other</td>\n",
       "      <td>NaN</td>\n",
       "      <td>NaN</td>\n",
       "      <td>NaN</td>\n",
       "      <td>8</td>\n",
       "      <td>NaN</td>\n",
       "      <td>23</td>\n",
       "      <td>1.0</td>\n",
       "      <td>3</td>\n",
       "      <td>NaN</td>\n",
       "      <td>...</td>\n",
       "      <td>1.0</td>\n",
       "      <td>1.0</td>\n",
       "      <td>2.0</td>\n",
       "      <td>1.0</td>\n",
       "      <td>1.0</td>\n",
       "      <td>2.0</td>\n",
       "      <td>1.0</td>\n",
       "      <td>1.0</td>\n",
       "      <td>1.0</td>\n",
       "      <td>1.0</td>\n",
       "    </tr>\n",
       "  </tbody>\n",
       "</table>\n",
       "<p>3 rows × 5480 columns</p>\n",
       "</div>"
      ],
      "text/plain": [
       "  Character Name  except,  welp,  separates  portal  fruits.  him  though,  \\\n",
       "0           Rick      1.0    1.0        1.0       4      1.0    5      1.0   \n",
       "1          Morty      NaN    NaN        NaN       1      NaN    2      NaN   \n",
       "2          Other      NaN    NaN        NaN       8      NaN   23      1.0   \n",
       "\n",
       "   and,  goldenfold's  ...  basic  fig  moron,  beg  leads  scientist.  two!?  \\\n",
       "0     1           1.0  ...    NaN  NaN     NaN  NaN    NaN         NaN    NaN   \n",
       "1     2           2.0  ...    NaN  NaN     NaN  NaN    NaN         NaN    NaN   \n",
       "2     3           NaN  ...    1.0  1.0     2.0  1.0    1.0         2.0    1.0   \n",
       "\n",
       "   patients  ut,  \"sawwww\".  \n",
       "0       NaN  NaN        NaN  \n",
       "1       NaN  NaN        NaN  \n",
       "2       1.0  1.0        1.0  \n",
       "\n",
       "[3 rows x 5480 columns]"
      ]
     },
     "execution_count": 14,
     "metadata": {},
     "output_type": "execute_result"
    }
   ],
   "source": [
    "featurized"
   ]
  },
  {
   "cell_type": "code",
   "execution_count": null,
   "id": "5cbeb62a",
   "metadata": {},
   "outputs": [],
   "source": []
  }
 ],
 "metadata": {
  "kernelspec": {
   "display_name": "Python 3 (ipykernel)",
   "language": "python",
   "name": "python3"
  },
  "language_info": {
   "codemirror_mode": {
    "name": "ipython",
    "version": 3
   },
   "file_extension": ".py",
   "mimetype": "text/x-python",
   "name": "python",
   "nbconvert_exporter": "python",
   "pygments_lexer": "ipython3",
   "version": "3.9.13"
  }
 },
 "nbformat": 4,
 "nbformat_minor": 5
}
