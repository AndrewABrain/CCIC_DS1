{
 "cells": [
  {
   "cell_type": "code",
   "execution_count": 1,
   "id": "9d611e63",
   "metadata": {},
   "outputs": [],
   "source": [
    "import requests as rs\n",
    "import pandas as pd\n",
    "import seaborn as sns"
   ]
  },
  {
   "cell_type": "code",
   "execution_count": 2,
   "id": "acf0afe8",
   "metadata": {},
   "outputs": [],
   "source": [
    "def createMovieList():\n",
    "    movieLists = []\n",
    "    currentPg = 1\n",
    "    while currentPg != 500:\n",
    "        findAllMovies = 'https://api.themoviedb.org/3/movie/top_rated?api_key=87983fbe976988a9e22330ebf030a1ae&with_genre=28&page=' + str(currentPg)\n",
    "        movieInformation = rs.get(findAllMovies)\n",
    "        movieInformation = movieInformation.json()\n",
    "        for movie in movieInformation['results']:\n",
    "            if 28 in movie['genre_ids']:\n",
    "                movieLists.append(movie)\n",
    "        currentPg = currentPg + 1\n",
    "    return movieLists"
   ]
  },
  {
   "cell_type": "code",
   "execution_count": 3,
   "id": "2d31da54",
   "metadata": {},
   "outputs": [],
   "source": [
    "movieLists = createMovieList()"
   ]
  },
  {
   "cell_type": "code",
   "execution_count": 4,
   "id": "1c9e0a10",
   "metadata": {},
   "outputs": [],
   "source": [
    "def createDirectorsRevenueList(movieLists):\n",
    "    listOfDirectorsRevenue = []\n",
    "    for movies in movieLists:\n",
    "        movieId = movies['id']\n",
    "        title = movies['title']\n",
    "        \n",
    "        findDirector = 'https://api.themoviedb.org/3/movie/'+str(movieId)+'/credits?api_key=87983fbe976988a9e22330ebf030a1ae&language=en-US'\n",
    "        credits = rs.get(findDirector)\n",
    "        credits = credits.json()\n",
    "            \n",
    "        for crewMember in credits['crew']:\n",
    "            if crewMember['job'] == 'Director':\n",
    "                director = crewMember['name']\n",
    "                    \n",
    "        findRevenue = 'https://api.themoviedb.org/3/movie/'+str(movieId)+'?api_key=87983fbe976988a9e22330ebf030a1ae&language=en-US'\n",
    "        revenue = rs.get(findRevenue)\n",
    "        revenue = revenue.json()\n",
    "            \n",
    "        profit = revenue['revenue']\n",
    "            \n",
    "        template = {'Director':director, \"Revenue\":profit, \"Title\":title}\n",
    "        listOfDirectorsRevenue.append(template)\n",
    "    return listOfDirectorsRevenue"
   ]
  },
  {
   "cell_type": "code",
   "execution_count": 5,
   "id": "9a12d906",
   "metadata": {},
   "outputs": [],
   "source": [
    "listOfDirectorsRevenue = createDirectorsRevenueList(movieLists)"
   ]
  },
  {
   "cell_type": "code",
   "execution_count": 6,
   "id": "4b88da21",
   "metadata": {},
   "outputs": [],
   "source": [
    "def sortByHighestRevenue(list):\n",
    "    length = len(list)\n",
    "    swapped = True\n",
    "    start = 0\n",
    "    end = length - 1\n",
    "    while swapped == True:\n",
    "        swapped = False\n",
    "           \n",
    "        for i in range (start, end):\n",
    "            if list[i]['Revenue'] < list[i+1]['Revenue']:\n",
    "                list[i], list[i+1] = list[i+1], list[i]\n",
    "                swapped = True\n",
    "      \n",
    "        if swapped == False:\n",
    "            break\n",
    "        \n",
    "        swapped = False\n",
    "        \n",
    "        end = end - 1\n",
    "        \n",
    "        for i in range (end-1, start-1, -1):\n",
    "            if list[i]['Revenue'] < list[i+1]['Revenue']:\n",
    "                list[i], list[i+1] = list[i+1], list[i]\n",
    "                swapped = True\n",
    "            \n",
    "        start = start + 1\n",
    "    \n",
    "    return list"
   ]
  },
  {
   "cell_type": "code",
   "execution_count": 7,
   "id": "51a12bff",
   "metadata": {},
   "outputs": [],
   "source": [
    "def highestRevenue(listOfDirectorsRevenue):\n",
    "    finalList = []\n",
    "    directorNames = []\n",
    "        \n",
    "    sortedListOfDirectorsRevenue = sortByHighestRevenue(listOfDirectorsRevenue)\n",
    "        \n",
    "    for movie in sortedListOfDirectorsRevenue:\n",
    "        if movie['Director'] not in directorNames:\n",
    "            directorNames.append(movie['Director'])\n",
    "            finalList.append(movie)\n",
    "    return finalList"
   ]
  },
  {
   "cell_type": "code",
   "execution_count": 8,
   "id": "bd03dfc5",
   "metadata": {},
   "outputs": [],
   "source": [
    "finalList = highestRevenue(listOfDirectorsRevenue)"
   ]
  },
  {
   "cell_type": "code",
   "execution_count": 9,
   "id": "33fe9a6f",
   "metadata": {},
   "outputs": [],
   "source": [
    "questionOneDF = pd.DataFrame(finalList)"
   ]
  },
  {
   "cell_type": "code",
   "execution_count": 10,
   "id": "a80fc3ab",
   "metadata": {},
   "outputs": [],
   "source": [
    "topDirectors = questionOneDF.sort_values(by=\"Revenue\", ascending = False)"
   ]
  },
  {
   "cell_type": "code",
   "execution_count": 11,
   "id": "8fcab265",
   "metadata": {},
   "outputs": [],
   "source": [
    "topTenDirectors = topDirectors[:10]"
   ]
  },
  {
   "cell_type": "code",
   "execution_count": 12,
   "id": "42712675",
   "metadata": {},
   "outputs": [
    {
     "data": {
      "text/html": [
       "<div>\n",
       "<style scoped>\n",
       "    .dataframe tbody tr th:only-of-type {\n",
       "        vertical-align: middle;\n",
       "    }\n",
       "\n",
       "    .dataframe tbody tr th {\n",
       "        vertical-align: top;\n",
       "    }\n",
       "\n",
       "    .dataframe thead th {\n",
       "        text-align: right;\n",
       "    }\n",
       "</style>\n",
       "<table border=\"1\" class=\"dataframe\">\n",
       "  <thead>\n",
       "    <tr style=\"text-align: right;\">\n",
       "      <th></th>\n",
       "      <th>Director</th>\n",
       "      <th>Revenue</th>\n",
       "      <th>Title</th>\n",
       "    </tr>\n",
       "  </thead>\n",
       "  <tbody>\n",
       "    <tr>\n",
       "      <th>0</th>\n",
       "      <td>James Cameron</td>\n",
       "      <td>2920357254</td>\n",
       "      <td>Avatar</td>\n",
       "    </tr>\n",
       "    <tr>\n",
       "      <th>1</th>\n",
       "      <td>Joe Russo</td>\n",
       "      <td>2797800564</td>\n",
       "      <td>Avengers: Endgame</td>\n",
       "    </tr>\n",
       "    <tr>\n",
       "      <th>2</th>\n",
       "      <td>J.J. Abrams</td>\n",
       "      <td>2068223624</td>\n",
       "      <td>Star Wars: The Force Awakens</td>\n",
       "    </tr>\n",
       "    <tr>\n",
       "      <th>3</th>\n",
       "      <td>Jon Watts</td>\n",
       "      <td>1916050941</td>\n",
       "      <td>Spider-Man: No Way Home</td>\n",
       "    </tr>\n",
       "    <tr>\n",
       "      <th>4</th>\n",
       "      <td>Colin Trevorrow</td>\n",
       "      <td>1671713208</td>\n",
       "      <td>Jurassic World</td>\n",
       "    </tr>\n",
       "    <tr>\n",
       "      <th>5</th>\n",
       "      <td>Joss Whedon</td>\n",
       "      <td>1518815515</td>\n",
       "      <td>The Avengers</td>\n",
       "    </tr>\n",
       "    <tr>\n",
       "      <th>6</th>\n",
       "      <td>James Wan</td>\n",
       "      <td>1515047671</td>\n",
       "      <td>Furious 7</td>\n",
       "    </tr>\n",
       "    <tr>\n",
       "      <th>7</th>\n",
       "      <td>Joseph Kosinski</td>\n",
       "      <td>1482656000</td>\n",
       "      <td>Top Gun: Maverick</td>\n",
       "    </tr>\n",
       "    <tr>\n",
       "      <th>8</th>\n",
       "      <td>Ryan Coogler</td>\n",
       "      <td>1347597973</td>\n",
       "      <td>Black Panther</td>\n",
       "    </tr>\n",
       "    <tr>\n",
       "      <th>9</th>\n",
       "      <td>Rian Johnson</td>\n",
       "      <td>1332698830</td>\n",
       "      <td>Star Wars: The Last Jedi</td>\n",
       "    </tr>\n",
       "  </tbody>\n",
       "</table>\n",
       "</div>"
      ],
      "text/plain": [
       "          Director     Revenue                         Title\n",
       "0    James Cameron  2920357254                        Avatar\n",
       "1        Joe Russo  2797800564             Avengers: Endgame\n",
       "2      J.J. Abrams  2068223624  Star Wars: The Force Awakens\n",
       "3        Jon Watts  1916050941       Spider-Man: No Way Home\n",
       "4  Colin Trevorrow  1671713208                Jurassic World\n",
       "5      Joss Whedon  1518815515                  The Avengers\n",
       "6        James Wan  1515047671                     Furious 7\n",
       "7  Joseph Kosinski  1482656000             Top Gun: Maverick\n",
       "8     Ryan Coogler  1347597973                 Black Panther\n",
       "9     Rian Johnson  1332698830      Star Wars: The Last Jedi"
      ]
     },
     "execution_count": 12,
     "metadata": {},
     "output_type": "execute_result"
    }
   ],
   "source": [
    "topTenDirectors"
   ]
  },
  {
   "cell_type": "code",
   "execution_count": 41,
   "id": "f63aeb57",
   "metadata": {},
   "outputs": [
    {
     "data": {
      "text/plain": [
       "2920357253.8526993"
      ]
     },
     "execution_count": 41,
     "metadata": {},
     "output_type": "execute_result"
    }
   ],
   "source": [
    "questionOneDF[\"Revenue\"].quantile(0.999999999999)"
   ]
  },
  {
   "cell_type": "code",
   "execution_count": 13,
   "id": "2e0c4701",
   "metadata": {},
   "outputs": [
    {
     "data": {
      "text/plain": [
       "<AxesSubplot:xlabel='Revenue', ylabel='Director'>"
      ]
     },
     "execution_count": 13,
     "metadata": {},
     "output_type": "execute_result"
    },
    {
     "data": {
      "image/png": "[encoded data removed]",
      "text/plain": [
       "<Figure size 432x288 with 1 Axes>"
      ]
     },
     "metadata": {
      "needs_background": "light"
     },
     "output_type": "display_data"
    }
   ],
   "source": [
    "sns.barplot(data = topTenDirectors, x = \"Revenue\", y = \"Director\")"
   ]
  },
  {
   "cell_type": "code",
   "execution_count": 14,
   "id": "9ff20535",
   "metadata": {},
   "outputs": [
    {
     "data": {
      "text/plain": [
       "<AxesSubplot:xlabel='Revenue', ylabel='Count'>"
      ]
     },
     "execution_count": 14,
     "metadata": {},
     "output_type": "execute_result"
    },
    {
     "data": {
      "image/png": "[encoded data removed]",
      "text/plain": [
       "<Figure size 432x288 with 1 Axes>"
      ]
     },
     "metadata": {
      "needs_background": "light"
     },
     "output_type": "display_data"
    }
   ],
   "source": [
    "sns.histplot(questionOneDF[\"Revenue\"])"
   ]
  },
  {
   "cell_type": "code",
   "execution_count": 15,
   "id": "21ebac3c",
   "metadata": {},
   "outputs": [],
   "source": [
    "def averageRevenue (listOfDirectorsRevenue):\n",
    "    checkIfRepeating = []\n",
    "    averageList = []\n",
    "    checkingIfAlreadyAveraged = []\n",
    "    finalListAverage = []\n",
    "    \n",
    "    for detailsForCIR in listOfDirectorsRevenue:\n",
    "        checkIfRepeating.append(detailsForCIR['Director'])\n",
    "        \n",
    "    for directors in listOfDirectorsRevenue:\n",
    "        if (checkIfRepeating.count(directors['Director']) > 1) and (directors['Director'] not in checkingIfAlreadyAveraged):\n",
    "            checkingIfAlreadyAveraged.append(directors['Director'])\n",
    "            for revenues in listOfDirectorsRevenue:\n",
    "                if revenues['Director'] == directors['Director']:\n",
    "                    averageList.append(revenues['Revenue'])\n",
    "            averageProfit = sum(averageList) / len(averageList)\n",
    "            template = {'Director':directors['Director'], \"Avg. Revenue\":averageProfit, \"Title\":directors['Title']}\n",
    "            averageList = []\n",
    "            finalListAverage.append(template)\n",
    "        elif checkIfRepeating.count(directors['Director']) == 1:\n",
    "            template = {'Director':directors['Director'], \"Avg. Revenue\":directors['Revenue'], \"Title\":directors['Title']}\n",
    "            finalListAverage.append(template)\n",
    "    return finalListAverage"
   ]
  },
  {
   "cell_type": "code",
   "execution_count": 16,
   "id": "8532bff4",
   "metadata": {},
   "outputs": [],
   "source": [
    "finalListAverage = averageRevenue(listOfDirectorsRevenue)"
   ]
  },
  {
   "cell_type": "code",
   "execution_count": 17,
   "id": "dc88a220",
   "metadata": {},
   "outputs": [],
   "source": [
    "questionTwoDF = pd.DataFrame(finalListAverage)"
   ]
  },
  {
   "cell_type": "code",
   "execution_count": 18,
   "id": "7f6f8627",
   "metadata": {},
   "outputs": [],
   "source": [
    "topAverageDirectors = questionTwoDF.sort_values(by=\"Avg. Revenue\", ascending = False)"
   ]
  },
  {
   "cell_type": "code",
   "execution_count": 19,
   "id": "548b0a27",
   "metadata": {},
   "outputs": [],
   "source": [
    "topTenAverageDirectors = topAverageDirectors[:10]"
   ]
  },
  {
   "cell_type": "code",
   "execution_count": 20,
   "id": "55b5bb38",
   "metadata": {},
   "outputs": [
    {
     "data": {
      "text/html": [
       "<div>\n",
       "<style scoped>\n",
       "    .dataframe tbody tr th:only-of-type {\n",
       "        vertical-align: middle;\n",
       "    }\n",
       "\n",
       "    .dataframe tbody tr th {\n",
       "        vertical-align: top;\n",
       "    }\n",
       "\n",
       "    .dataframe thead th {\n",
       "        text-align: right;\n",
       "    }\n",
       "</style>\n",
       "<table border=\"1\" class=\"dataframe\">\n",
       "  <thead>\n",
       "    <tr style=\"text-align: right;\">\n",
       "      <th></th>\n",
       "      <th>Director</th>\n",
       "      <th>Avg. Revenue</th>\n",
       "      <th>Title</th>\n",
       "    </tr>\n",
       "  </thead>\n",
       "  <tbody>\n",
       "    <tr>\n",
       "      <th>1</th>\n",
       "      <td>Joe Russo</td>\n",
       "      <td>1.342429e+09</td>\n",
       "      <td>Avengers: Endgame</td>\n",
       "    </tr>\n",
       "    <tr>\n",
       "      <th>4</th>\n",
       "      <td>Colin Trevorrow</td>\n",
       "      <td>1.336357e+09</td>\n",
       "      <td>Jurassic World</td>\n",
       "    </tr>\n",
       "    <tr>\n",
       "      <th>10</th>\n",
       "      <td>J. A. Bayona</td>\n",
       "      <td>1.310466e+09</td>\n",
       "      <td>Jurassic World: Fallen Kingdom</td>\n",
       "    </tr>\n",
       "    <tr>\n",
       "      <th>3</th>\n",
       "      <td>Jon Watts</td>\n",
       "      <td>1.309382e+09</td>\n",
       "      <td>Spider-Man: No Way Home</td>\n",
       "    </tr>\n",
       "    <tr>\n",
       "      <th>14</th>\n",
       "      <td>Anna Boden</td>\n",
       "      <td>1.128276e+09</td>\n",
       "      <td>Captain Marvel</td>\n",
       "    </tr>\n",
       "    <tr>\n",
       "      <th>21</th>\n",
       "      <td>Rob Marshall</td>\n",
       "      <td>1.045714e+09</td>\n",
       "      <td>Pirates of the Caribbean: On Stranger Tides</td>\n",
       "    </tr>\n",
       "    <tr>\n",
       "      <th>22</th>\n",
       "      <td>Pierre Coffin</td>\n",
       "      <td>1.031553e+09</td>\n",
       "      <td>Despicable Me 3</td>\n",
       "    </tr>\n",
       "    <tr>\n",
       "      <th>5</th>\n",
       "      <td>Joss Whedon</td>\n",
       "      <td>9.876962e+08</td>\n",
       "      <td>The Avengers</td>\n",
       "    </tr>\n",
       "    <tr>\n",
       "      <th>23</th>\n",
       "      <td>Jake Kasdan</td>\n",
       "      <td>9.621022e+08</td>\n",
       "      <td>Jumanji: Welcome to the Jungle</td>\n",
       "    </tr>\n",
       "    <tr>\n",
       "      <th>6</th>\n",
       "      <td>James Wan</td>\n",
       "      <td>8.935168e+08</td>\n",
       "      <td>Furious 7</td>\n",
       "    </tr>\n",
       "  </tbody>\n",
       "</table>\n",
       "</div>"
      ],
      "text/plain": [
       "           Director  Avg. Revenue                                        Title\n",
       "1         Joe Russo  1.342429e+09                            Avengers: Endgame\n",
       "4   Colin Trevorrow  1.336357e+09                               Jurassic World\n",
       "10     J. A. Bayona  1.310466e+09               Jurassic World: Fallen Kingdom\n",
       "3         Jon Watts  1.309382e+09                      Spider-Man: No Way Home\n",
       "14       Anna Boden  1.128276e+09                               Captain Marvel\n",
       "21     Rob Marshall  1.045714e+09  Pirates of the Caribbean: On Stranger Tides\n",
       "22    Pierre Coffin  1.031553e+09                              Despicable Me 3\n",
       "5       Joss Whedon  9.876962e+08                                 The Avengers\n",
       "23      Jake Kasdan  9.621022e+08               Jumanji: Welcome to the Jungle\n",
       "6         James Wan  8.935168e+08                                    Furious 7"
      ]
     },
     "execution_count": 20,
     "metadata": {},
     "output_type": "execute_result"
    }
   ],
   "source": [
    "topTenAverageDirectors"
   ]
  },
  {
   "cell_type": "code",
   "execution_count": 42,
   "id": "706a894b",
   "metadata": {},
   "outputs": [
    {
     "data": {
      "text/plain": [
       "1342428853.7927017"
      ]
     },
     "execution_count": 42,
     "metadata": {},
     "output_type": "execute_result"
    }
   ],
   "source": [
    "questionTwoDF[\"Avg. Revenue\"].quantile(0.999999999999)"
   ]
  },
  {
   "cell_type": "code",
   "execution_count": 21,
   "id": "f230380a",
   "metadata": {},
   "outputs": [
    {
     "data": {
      "text/plain": [
       "<AxesSubplot:xlabel='Avg. Revenue', ylabel='Director'>"
      ]
     },
     "execution_count": 21,
     "metadata": {},
     "output_type": "execute_result"
    },
    {
     "data": {
      "image/png": "[encoded data removed]",
      "text/plain": [
       "<Figure size 432x288 with 1 Axes>"
      ]
     },
     "metadata": {
      "needs_background": "light"
     },
     "output_type": "display_data"
    }
   ],
   "source": [
    "sns.barplot(data = topTenAverageDirectors, x = \"Avg. Revenue\", y = \"Director\")"
   ]
  },
  {
   "cell_type": "code",
   "execution_count": 22,
   "id": "e5b66fcb",
   "metadata": {},
   "outputs": [
    {
     "data": {
      "text/plain": [
       "<AxesSubplot:xlabel='Avg. Revenue', ylabel='Count'>"
      ]
     },
     "execution_count": 22,
     "metadata": {},
     "output_type": "execute_result"
    },
    {
     "data": {
      "image/png": "[encoded data removed]",
      "text/plain": [
       "<Figure size 432x288 with 1 Axes>"
      ]
     },
     "metadata": {
      "needs_background": "light"
     },
     "output_type": "display_data"
    }
   ],
   "source": [
    "sns.histplot(questionTwoDF[\"Avg. Revenue\"])"
   ]
  },
  {
   "cell_type": "code",
   "execution_count": 23,
   "id": "e7aac26b",
   "metadata": {},
   "outputs": [],
   "source": [
    "def createActorsRevenueList(movieLists):\n",
    "    listOfActorsRevenue = []\n",
    "    for movies in movieLists:\n",
    "        movieId = movies['id']        \n",
    "        findActor = 'https://api.themoviedb.org/3/movie/'+str(movieId)+'/credits?api_key=87983fbe976988a9e22330ebf030a1ae&language=en-US'\n",
    "        credits = rs.get(findActor)\n",
    "        credits = credits.json()\n",
    "        findRevenue = 'https://api.themoviedb.org/3/movie/'+str(movieId)+'?api_key=87983fbe976988a9e22330ebf030a1ae&language=en-US'\n",
    "        revenue = rs.get(findRevenue)\n",
    "        revenue = revenue.json()\n",
    "        profit = revenue['revenue']\n",
    "        for person in credits['cast']:\n",
    "            if person['known_for_department'] == 'Acting':\n",
    "                template = {'Actor':person['name'], \"Revenue\":profit}\n",
    "                listOfActorsRevenue.append(template)\n",
    "    return listOfActorsRevenue"
   ]
  },
  {
   "cell_type": "code",
   "execution_count": 24,
   "id": "b0946d04",
   "metadata": {},
   "outputs": [],
   "source": [
    "listOfActorsRevenue = createActorsRevenueList(movieLists)"
   ]
  },
  {
   "cell_type": "code",
   "execution_count": 25,
   "id": "4b37ea65",
   "metadata": {},
   "outputs": [],
   "source": [
    "def highestActorRevenue (listOfActorsRevenue):\n",
    "    checkIfRepeating = []\n",
    "    totalList = []\n",
    "    checkingIfAlreadyTotalled = []\n",
    "    finalActorList = []\n",
    "    \n",
    "    \n",
    "    for detailsForCIR in listOfActorsRevenue:\n",
    "        checkIfRepeating.append(detailsForCIR['Actor'])\n",
    "        \n",
    "        \n",
    "        \n",
    "    for actors in listOfActorsRevenue:\n",
    "        if (checkIfRepeating.count(actors['Actor']) > 1) and (actors['Actor'] not in checkingIfAlreadyTotalled):\n",
    "            checkingIfAlreadyTotalled.append(actors['Actor'])\n",
    "            for revenues in listOfActorsRevenue:\n",
    "                if revenues['Actor'] == actors['Actor']:\n",
    "                    totalList.append(revenues['Revenue'])\n",
    "            totalProfit = sum(totalList)\n",
    "            template = {'Actor':actors['Actor'], \"Total Revenue\":totalProfit}\n",
    "            totalList = []\n",
    "            finalActorList.append(template)\n",
    "        elif checkIfRepeating.count(actors['Actor']) == 1:\n",
    "            template = {'Actor':actors['Actor'], \"Total Revenue\":totalProfit}\n",
    "            finalActorList.append(template)\n",
    "    return finalActorList"
   ]
  },
  {
   "cell_type": "code",
   "execution_count": 26,
   "id": "8bab8dbe",
   "metadata": {},
   "outputs": [],
   "source": [
    "finalActorList = highestActorRevenue(listOfActorsRevenue)"
   ]
  },
  {
   "cell_type": "code",
   "execution_count": 27,
   "id": "e1068677",
   "metadata": {},
   "outputs": [],
   "source": [
    "questionThreeDF = pd.DataFrame(finalActorList)"
   ]
  },
  {
   "cell_type": "code",
   "execution_count": 28,
   "id": "98566b56",
   "metadata": {},
   "outputs": [],
   "source": [
    "topActors = questionThreeDF.sort_values(by=\"Total Revenue\", ascending = False)"
   ]
  },
  {
   "cell_type": "code",
   "execution_count": 29,
   "id": "2f9ec151",
   "metadata": {},
   "outputs": [],
   "source": [
    "topTenActors = topActors[:10]"
   ]
  },
  {
   "cell_type": "code",
   "execution_count": 30,
   "id": "ee344112",
   "metadata": {},
   "outputs": [
    {
     "data": {
      "text/html": [
       "<div>\n",
       "<style scoped>\n",
       "    .dataframe tbody tr th:only-of-type {\n",
       "        vertical-align: middle;\n",
       "    }\n",
       "\n",
       "    .dataframe tbody tr th {\n",
       "        vertical-align: top;\n",
       "    }\n",
       "\n",
       "    .dataframe thead th {\n",
       "        text-align: right;\n",
       "    }\n",
       "</style>\n",
       "<table border=\"1\" class=\"dataframe\">\n",
       "  <thead>\n",
       "    <tr style=\"text-align: right;\">\n",
       "      <th></th>\n",
       "      <th>Actor</th>\n",
       "      <th>Total Revenue</th>\n",
       "    </tr>\n",
       "  </thead>\n",
       "  <tbody>\n",
       "    <tr>\n",
       "      <th>932</th>\n",
       "      <td>Samuel L. Jackson</td>\n",
       "      <td>22929582846</td>\n",
       "    </tr>\n",
       "    <tr>\n",
       "      <th>882</th>\n",
       "      <td>Chris Evans</td>\n",
       "      <td>14378126107</td>\n",
       "    </tr>\n",
       "    <tr>\n",
       "      <th>926</th>\n",
       "      <td>Vin Diesel</td>\n",
       "      <td>14257138663</td>\n",
       "    </tr>\n",
       "    <tr>\n",
       "      <th>881</th>\n",
       "      <td>Robert Downey Jr.</td>\n",
       "      <td>13666596822</td>\n",
       "    </tr>\n",
       "    <tr>\n",
       "      <th>885</th>\n",
       "      <td>Scarlett Johansson</td>\n",
       "      <td>13459783698</td>\n",
       "    </tr>\n",
       "    <tr>\n",
       "      <th>889</th>\n",
       "      <td>Benedict Cumberbatch</td>\n",
       "      <td>13228871767</td>\n",
       "    </tr>\n",
       "    <tr>\n",
       "      <th>148</th>\n",
       "      <td>Andy Serkis</td>\n",
       "      <td>12921584880</td>\n",
       "    </tr>\n",
       "    <tr>\n",
       "      <th>884</th>\n",
       "      <td>Chris Hemsworth</td>\n",
       "      <td>12500535325</td>\n",
       "    </tr>\n",
       "    <tr>\n",
       "      <th>883</th>\n",
       "      <td>Mark Ruffalo</td>\n",
       "      <td>11990003359</td>\n",
       "    </tr>\n",
       "    <tr>\n",
       "      <th>931</th>\n",
       "      <td>Chris Pratt</td>\n",
       "      <td>11922594043</td>\n",
       "    </tr>\n",
       "  </tbody>\n",
       "</table>\n",
       "</div>"
      ],
      "text/plain": [
       "                    Actor  Total Revenue\n",
       "932     Samuel L. Jackson    22929582846\n",
       "882           Chris Evans    14378126107\n",
       "926            Vin Diesel    14257138663\n",
       "881     Robert Downey Jr.    13666596822\n",
       "885    Scarlett Johansson    13459783698\n",
       "889  Benedict Cumberbatch    13228871767\n",
       "148           Andy Serkis    12921584880\n",
       "884       Chris Hemsworth    12500535325\n",
       "883          Mark Ruffalo    11990003359\n",
       "931           Chris Pratt    11922594043"
      ]
     },
     "execution_count": 30,
     "metadata": {},
     "output_type": "execute_result"
    }
   ],
   "source": [
    "topTenActors"
   ]
  },
  {
   "cell_type": "code",
   "execution_count": 43,
   "id": "ef943528",
   "metadata": {},
   "outputs": [
    {
     "data": {
      "text/plain": [
       "22929582423.15263"
      ]
     },
     "execution_count": 43,
     "metadata": {},
     "output_type": "execute_result"
    }
   ],
   "source": [
    "questionThreeDF[\"Total Revenue\"].quantile(0.999999999999)"
   ]
  },
  {
   "cell_type": "code",
   "execution_count": 31,
   "id": "7bcf61f6",
   "metadata": {},
   "outputs": [
    {
     "data": {
      "text/plain": [
       "<AxesSubplot:xlabel='Total Revenue', ylabel='Actor'>"
      ]
     },
     "execution_count": 31,
     "metadata": {},
     "output_type": "execute_result"
    },
    {
     "data": {
      "image/png": "[encoded data removed]",
      "text/plain": [
       "<Figure size 432x288 with 1 Axes>"
      ]
     },
     "metadata": {
      "needs_background": "light"
     },
     "output_type": "display_data"
    }
   ],
   "source": [
    "sns.barplot(data = topTenActors, x = \"Total Revenue\", y = \"Actor\")"
   ]
  },
  {
   "cell_type": "code",
   "execution_count": 32,
   "id": "5a1c3fb6",
   "metadata": {},
   "outputs": [
    {
     "data": {
      "text/plain": [
       "<AxesSubplot:xlabel='Total Revenue', ylabel='Count'>"
      ]
     },
     "execution_count": 32,
     "metadata": {},
     "output_type": "execute_result"
    },
    {
     "data": {
      "image/png": "[encoded data removed]",
      "text/plain": [
       "<Figure size 432x288 with 1 Axes>"
      ]
     },
     "metadata": {
      "needs_background": "light"
     },
     "output_type": "display_data"
    }
   ],
   "source": [
    "sns.histplot(questionThreeDF[\"Total Revenue\"])"
   ]
  },
  {
   "cell_type": "code",
   "execution_count": 33,
   "id": "3b66231f",
   "metadata": {},
   "outputs": [],
   "source": [
    "def averageActorRevenue (listOfActorsRevenue):\n",
    "    checkIfRepeating = []\n",
    "    averageList = []\n",
    "    checkingIfAlreadyAveraged = []\n",
    "    finalActorListAverage = []\n",
    "    \n",
    "    for detailsForCIR in listOfActorsRevenue:\n",
    "        checkIfRepeating.append(detailsForCIR['Actor'])\n",
    "        \n",
    "    for actors in listOfActorsRevenue:\n",
    "        if (checkIfRepeating.count(actors['Actor']) > 1) and (actors['Actor'] not in checkingIfAlreadyAveraged):\n",
    "            checkingIfAlreadyAveraged.append(actors['Actor'])\n",
    "            for revenues in listOfActorsRevenue:\n",
    "                if revenues['Actor'] == actors['Actor']:\n",
    "                    averageList.append(revenues['Revenue'])\n",
    "            averageProfit = sum(averageList) / len(averageList)\n",
    "            template = {'Actor':actors['Actor'], \"Avg. Revenue\":averageProfit}\n",
    "            averageList = []\n",
    "            finalActorListAverage.append(template)\n",
    "        elif checkIfRepeating.count(actors['Actor']) == 1:\n",
    "            template = {'Actor':actors['Actor'], \"Avg. Revenue\":actors['Revenue']}\n",
    "            finalActorListAverage.append(template)\n",
    "    return finalActorListAverage"
   ]
  },
  {
   "cell_type": "code",
   "execution_count": 34,
   "id": "268d5621",
   "metadata": {},
   "outputs": [],
   "source": [
    "finalActorListAverage = averageActorRevenue(listOfActorsRevenue)"
   ]
  },
  {
   "cell_type": "code",
   "execution_count": 35,
   "id": "6c031a7a",
   "metadata": {},
   "outputs": [],
   "source": [
    "questionFourDF = pd.DataFrame(finalActorListAverage)"
   ]
  },
  {
   "cell_type": "code",
   "execution_count": 36,
   "id": "0d7a0374",
   "metadata": {},
   "outputs": [],
   "source": [
    "topAverageActors = questionFourDF.sort_values(by=\"Avg. Revenue\", ascending = False)"
   ]
  },
  {
   "cell_type": "code",
   "execution_count": 37,
   "id": "7a76f9da",
   "metadata": {},
   "outputs": [],
   "source": [
    "topTenAverageActors = topAverageActors[:10]"
   ]
  },
  {
   "cell_type": "code",
   "execution_count": 38,
   "id": "79dee781",
   "metadata": {},
   "outputs": [
    {
     "data": {
      "text/html": [
       "<div>\n",
       "<style scoped>\n",
       "    .dataframe tbody tr th:only-of-type {\n",
       "        vertical-align: middle;\n",
       "    }\n",
       "\n",
       "    .dataframe tbody tr th {\n",
       "        vertical-align: top;\n",
       "    }\n",
       "\n",
       "    .dataframe thead th {\n",
       "        text-align: right;\n",
       "    }\n",
       "</style>\n",
       "<table border=\"1\" class=\"dataframe\">\n",
       "  <thead>\n",
       "    <tr style=\"text-align: right;\">\n",
       "      <th></th>\n",
       "      <th>Actor</th>\n",
       "      <th>Avg. Revenue</th>\n",
       "    </tr>\n",
       "  </thead>\n",
       "  <tbody>\n",
       "    <tr>\n",
       "      <th>6549</th>\n",
       "      <td>David Van Horn</td>\n",
       "      <td>2.920357e+09</td>\n",
       "    </tr>\n",
       "    <tr>\n",
       "      <th>6548</th>\n",
       "      <td>Kelson Henderson</td>\n",
       "      <td>2.920357e+09</td>\n",
       "    </tr>\n",
       "    <tr>\n",
       "      <th>6558</th>\n",
       "      <td>Kyla Warren</td>\n",
       "      <td>2.920357e+09</td>\n",
       "    </tr>\n",
       "    <tr>\n",
       "      <th>6542</th>\n",
       "      <td>Sean Anthony Moran</td>\n",
       "      <td>2.920357e+09</td>\n",
       "    </tr>\n",
       "    <tr>\n",
       "      <th>6543</th>\n",
       "      <td>Jason Whyte</td>\n",
       "      <td>2.920357e+09</td>\n",
       "    </tr>\n",
       "    <tr>\n",
       "      <th>6554</th>\n",
       "      <td>Luke Hawker</td>\n",
       "      <td>2.920357e+09</td>\n",
       "    </tr>\n",
       "    <tr>\n",
       "      <th>6560</th>\n",
       "      <td>Kyle Dryberg</td>\n",
       "      <td>2.920357e+09</td>\n",
       "    </tr>\n",
       "    <tr>\n",
       "      <th>6545</th>\n",
       "      <td>James Patrick Pitt</td>\n",
       "      <td>2.920357e+09</td>\n",
       "    </tr>\n",
       "    <tr>\n",
       "      <th>6546</th>\n",
       "      <td>Sean Patrick Murphy</td>\n",
       "      <td>2.920357e+09</td>\n",
       "    </tr>\n",
       "    <tr>\n",
       "      <th>6550</th>\n",
       "      <td>Jacob Tomuri</td>\n",
       "      <td>2.920357e+09</td>\n",
       "    </tr>\n",
       "  </tbody>\n",
       "</table>\n",
       "</div>"
      ],
      "text/plain": [
       "                    Actor  Avg. Revenue\n",
       "6549       David Van Horn  2.920357e+09\n",
       "6548     Kelson Henderson  2.920357e+09\n",
       "6558          Kyla Warren  2.920357e+09\n",
       "6542   Sean Anthony Moran  2.920357e+09\n",
       "6543          Jason Whyte  2.920357e+09\n",
       "6554          Luke Hawker  2.920357e+09\n",
       "6560         Kyle Dryberg  2.920357e+09\n",
       "6545   James Patrick Pitt  2.920357e+09\n",
       "6546  Sean Patrick Murphy  2.920357e+09\n",
       "6550         Jacob Tomuri  2.920357e+09"
      ]
     },
     "execution_count": 38,
     "metadata": {},
     "output_type": "execute_result"
    }
   ],
   "source": [
    "topTenAverageActors"
   ]
  },
  {
   "cell_type": "code",
   "execution_count": 44,
   "id": "6a4cc352",
   "metadata": {},
   "outputs": [
    {
     "data": {
      "text/plain": [
       "2920357254.0"
      ]
     },
     "execution_count": 44,
     "metadata": {},
     "output_type": "execute_result"
    }
   ],
   "source": [
    "questionFourDF[\"Avg. Revenue\"].quantile(0.999999999999)"
   ]
  },
  {
   "cell_type": "code",
   "execution_count": 39,
   "id": "28f54ab8",
   "metadata": {},
   "outputs": [
    {
     "data": {
      "text/plain": [
       "<AxesSubplot:xlabel='Avg. Revenue', ylabel='Actor'>"
      ]
     },
     "execution_count": 39,
     "metadata": {},
     "output_type": "execute_result"
    },
    {
     "data": {
      "image/png": "[encoded data removed]",
      "text/plain": [
       "<Figure size 432x288 with 1 Axes>"
      ]
     },
     "metadata": {
      "needs_background": "light"
     },
     "output_type": "display_data"
    }
   ],
   "source": [
    "sns.barplot(data = topTenAverageActors, x = \"Avg. Revenue\", y = \"Actor\")"
   ]
  },
  {
   "cell_type": "code",
   "execution_count": 40,
   "id": "e3fc1bea",
   "metadata": {},
   "outputs": [
    {
     "data": {
      "text/plain": [
       "<AxesSubplot:xlabel='Avg. Revenue', ylabel='Count'>"
      ]
     },
     "execution_count": 40,
     "metadata": {},
     "output_type": "execute_result"
    },
    {
     "data": {
      "image/png": "[encoded data removed]",
      "text/plain": [
       "<Figure size 432x288 with 1 Axes>"
      ]
     },
     "metadata": {
      "needs_background": "light"
     },
     "output_type": "display_data"
    }
   ],
   "source": [
    "sns.histplot(questionFourDF[\"Avg. Revenue\"])"
   ]
  }
 ],
 "metadata": {
  "kernelspec": {
   "display_name": "Python 3 (ipykernel)",
   "language": "python",
   "name": "python3"
  },
  "language_info": {
   "codemirror_mode": {
    "name": "ipython",
    "version": 3
   },
   "file_extension": ".py",
   "mimetype": "text/x-python",
   "name": "python",
   "nbconvert_exporter": "python",
   "pygments_lexer": "ipython3",
   "version": "3.9.12"
  }
 },
 "nbformat": 4,
 "nbformat_minor": 5
}
